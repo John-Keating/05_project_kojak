{
 "cells": [
  {
   "cell_type": "markdown",
   "metadata": {},
   "source": [
    "# Download League of Nations Text\n",
    "### This is a programme to download the text files for the league of nations archive and save it to a pymongo collection"
   ]
  },
  {
   "cell_type": "code",
   "execution_count": 37,
   "metadata": {
    "collapsed": true
   },
   "outputs": [],
   "source": [
    "# libraries\n",
    "from urllib2 import *\n",
    "from pymongo import MongoClient\n",
    "import json\n",
    "\n",
    "# print nicely\n",
    "import pprint"
   ]
  },
  {
   "cell_type": "code",
   "execution_count": 4,
   "metadata": {
    "collapsed": true
   },
   "outputs": [],
   "source": [
    "test_url = 'http://search.un.org/direct.php?&tpl=lon&query=*:*&wt=python&rows=1&start=1'"
   ]
  },
  {
   "cell_type": "code",
   "execution_count": 6,
   "metadata": {
    "collapsed": false
   },
   "outputs": [],
   "source": [
    "connection = urlopen(test_url)"
   ]
  },
  {
   "cell_type": "code",
   "execution_count": 7,
   "metadata": {
    "collapsed": true
   },
   "outputs": [],
   "source": [
    "response = eval(connection.read())"
   ]
  },
  {
   "cell_type": "code",
   "execution_count": 10,
   "metadata": {
    "collapsed": false
   },
   "outputs": [
    {
     "name": "stdout",
     "output_type": "stream",
     "text": [
      "['facet_counts', 'highlighting', 'responseHeader', 'response']\n"
     ]
    }
   ],
   "source": [
    "print response.keys()"
   ]
  },
  {
   "cell_type": "code",
   "execution_count": 14,
   "metadata": {
    "collapsed": false
   },
   "outputs": [
    {
     "name": "stdout",
     "output_type": "stream",
     "text": [
      "{'facet_heatmaps': {}, 'facet_fields': {'category': ['COUNCIL DOCUMENT', 13560, 'COUNCIL MEMBER STATES', 11751], 'languageCode': ['fr', 12044, 'en', 11918, 'bi', 1348, 'es', 1], 'docType': ['council', 13604, 'member', 11707]}, 'facet_dates': {}, 'facet_intervals': {}, 'facet_ranges': {}, 'facet_queries': {}}\n"
     ]
    }
   ],
   "source": [
    "print response['facet_counts']"
   ]
  },
  {
   "cell_type": "code",
   "execution_count": 18,
   "metadata": {
    "collapsed": false
   },
   "outputs": [
    {
     "data": {
      "text/plain": [
       "{'C.132.M.84.1939.XI_fr': {}}"
      ]
     },
     "execution_count": 18,
     "metadata": {},
     "output_type": "execute_result"
    }
   ],
   "source": [
    "response['highlighting']"
   ]
  },
  {
   "cell_type": "code",
   "execution_count": 16,
   "metadata": {
    "collapsed": false
   },
   "outputs": [
    {
     "name": "stdout",
     "output_type": "stream",
     "text": [
      "{'status': 0, 'QTime': 4, 'params': {'rows': '1', 'q': '*:*', 'start': '1', 'omitHeader': 'false', 'wt': ['python', 'json'], 'json.nl': 'flat', 'fl': '*,score'}}\n"
     ]
    }
   ],
   "source": [
    "response['responseHeader']"
   ]
  },
  {
   "cell_type": "code",
   "execution_count": 19,
   "metadata": {
    "collapsed": false
   },
   "outputs": [
    {
     "data": {
      "text/plain": [
       "{'docs': [{'_version_': 1511306502982336512,\n",
       "   'body_fr': u'\\n[Communique au Conseil \\net aux Membres de la Societe.] \\n\\nC. ~ 32. 111. 84. 1939\\xb7 XL \\n[O.C. / A. R. 1937/1 22. ] \\n\\n(N\\'existe qu\\'en fran;ais.) \\n\\nGeneve, le 28 avril 1939. \\n\\nSOCIETE DES NATIONS \\n\\nTRAFIC DE L\\'OPIUM ET AUTRES DROGUES NUISIBLES \\n\\nRAPPORTS ANNUELS DES GOUVERNEMENTS POUR 1937 \\n\\nESTONIE \\n\\nS ate du Secrt!taire general. \\nConformement a !\\'article 21 de la Convention de I93I pour limiter la fabrication et \\n\\nreglementer la distributiqn des stupefi.ants, le Secretaire general a l\\'honneur de transmettre \\naux Etats parties a ladite Convention le rapport susmentionne. Le rapport est egalement \\ntransmis aux autres Etats, ainsi qu\\'a la Commission consult ative du trafic de l\\'opium et \\nau tres drogues nuisibles. \\n\\n( Pour le formulaire des rapports annuels, voir doctunent O.C.I6oo .) \\n\\nA. Rens ei gnements generaux. \\n\\nI-I V. - Aucune nouvelle mesure n\\'e t a indiquer. \\n\\\\ \". Trafic illicite. \\n\\nAucun cas de trafic illicite des stupefi.ants n \\'a ete signale au cours de l\\'annee 1937 et, \\npar consequent, aucune disposition ne peut etre pri se en ce qui concerne les prix des drogues \\ndans le trafic illicite des stupefi.ants. \\n\\n4\\xb077 S.d. N. 675. 5/ 39\\xb7- Imp. R~unies , Cbambery. \\n\\n\\n',\n",
       "   'category': 'COUNCIL MEMBER STATES',\n",
       "   'collection': 'lon',\n",
       "   'dateCreated': '2014-01-10T12:30:37Z',\n",
       "   'docType': 'member',\n",
       "   'filename': '/Users/kevinbradley/Desktop/lon/member/0676138/C-132-M-84-1939-XI_FR.xml',\n",
       "   'id': 'C.132.M.84.1939.XI_fr',\n",
       "   'languageCode': 'fr',\n",
       "   'last_update': '2015-09-03T15:29:56.111Z',\n",
       "   'outputFilename': '/Users/kevinbradley/Desktop/lon_output/C.132.M.84.1939.XI_fr',\n",
       "   'pdfContentLength': '1188',\n",
       "   'pdfContentType': 'application/pdf',\n",
       "   'pdfCreated': 'Fri Jan 10 07:30:37 EST 2014',\n",
       "   'pdfCreationDate': '2014-01-10T12:30:37Z',\n",
       "   'pdfDCTermsModified': '2014-01-10T12:31:10Z',\n",
       "   'pdfDate': '2014-01-10T12:31:10Z',\n",
       "   'pdfFilename': '/Users/kevinbradley/Desktop/lon/member/0676138/C-132-M-84-1939-XI_FR.pdf',\n",
       "   'pdfLastModified': '2014-01-10T12:31:10Z',\n",
       "   'pdfModified': '2014-01-10T12:31:10Z',\n",
       "   'publicationDate': '1939-01-01T00:00:01Z',\n",
       "   'remarks': 'O.C./A.R.1937/122\\nIssued in French only',\n",
       "   'score': 1.0,\n",
       "   'symbol': 'C.132.M.84.1939.XI',\n",
       "   'title_fr': \"TRAFIC DE L'OPIUM ET AUTRES DROGUES NUISIBLES. RAPPORTS ANNUELS DES GOUVERNEMENTS POUR 1937. ESTONIE. \",\n",
       "   'url': 'http://biblio-archive.unog.ch/Dateien/CouncilMSD/C-132-M-84-1939-XI_FR.pdf',\n",
       "   'volume_barcode': '0676138'}],\n",
       " 'maxScore': 1.0,\n",
       " 'numFound': 25311,\n",
       " 'start': 1}"
      ]
     },
     "execution_count": 19,
     "metadata": {},
     "output_type": "execute_result"
    }
   ],
   "source": [
    "response['response']"
   ]
  },
  {
   "cell_type": "code",
   "execution_count": 20,
   "metadata": {
    "collapsed": true
   },
   "outputs": [],
   "source": [
    "test2_url = 'http://search.un.org/direct.php?&tpl=lon&query=*:*&wt=python&rows=10&start=2'"
   ]
  },
  {
   "cell_type": "code",
   "execution_count": 22,
   "metadata": {
    "collapsed": false
   },
   "outputs": [],
   "source": [
    "connection2 = urlopen(test2_url)"
   ]
  },
  {
   "cell_type": "code",
   "execution_count": 23,
   "metadata": {
    "collapsed": true
   },
   "outputs": [],
   "source": [
    "response2 = eval(connection2.read())"
   ]
  },
  {
   "cell_type": "code",
   "execution_count": 24,
   "metadata": {
    "collapsed": false
   },
   "outputs": [
    {
     "data": {
      "text/plain": [
       "['start', 'maxScore', 'numFound', 'docs']"
      ]
     },
     "execution_count": 24,
     "metadata": {},
     "output_type": "execute_result"
    }
   ],
   "source": [
    "response2['response'].keys()"
   ]
  },
  {
   "cell_type": "code",
   "execution_count": 29,
   "metadata": {
    "collapsed": false
   },
   "outputs": [
    {
     "data": {
      "text/plain": [
       "{'_version_': 1511306503003308032,\n",
       " 'body_en': u'\\nLEAGUE OF NATIONS.\\nCommunicated t o  t h e  ~ C \\xbb 8 3 1 . M . 4 1 S . 1 9 3 1 . V I I .\\nC o u n c i l  and  M em bers\\no f  t h e  L e a g u e  o f  N a t i o n s .  G e n e v a ,  N o v e m b er  1 1 t h ,  1 9 3 1 .\\n\\nAPPFAL 3 7  THF CHINESE GOVFRNH^NT UNDER APTICLF 11\\n\\nOF THF COVSffANT.\\n\\nCooraianl c a t i o n  f r o m  t h e J a p a n e s e  B e l e g a _ t i o n .\\n\\n?To t e  b y  t h e  S e c r e t a r y - G e n e r a l .\\n\\nThe  S e c r e t a r y - G e n e r a l  h a s  t h e  h o n o u r  t o  c o m m u n i c a t e  t o  t h e  \\nC o u n c i l  t h e  f o l l o w i n g  t o l e g r a m  d a t e d  P a r i s , N o v em b er  1 0 t h ,  a t  6 . 5  \\np . m . , w h i c h  h e  h a s  j u s t  r e c e i v e d  f r o m  t h e  J a p a n e s e  D e l e g a t i o n .\\n\\nI  h a v e  h o n o u r  t o  c o m m u n i c a t e  t o  v o u  sum m ary  o f  t e l e g r a m s  \\nr e c e i v e d  b y  J a p a n e s e  D e l e g a t i o n  r e g a r d i n g  i n c i d e n t s  w h i c h  t o o k  p l a c e  \\na t  T i e n t s i n  t h e  d a y  b e f o r e  v a s t e r S a y  a n d  t o d a y :\\n\\nN o v e m b e r  8 t h  a t  a b o u t  10 a . m .  o u r  C o n s u l  G e n e r a l  a t  T i e n t s i n  \\nwas i n f o r m e d  t h a t  d i s t u r b a n c e s  h a d  t a k e n  p l a c e  i n  C h i n e s e  t o w n .\\nA r i o t  was  s a i d  t o  h a v e  b r o k e n  o u t  a t  t h e  i n s t i g a t i o n  o f  r e a c t i o n a r y  \\ne l e m e n t s  an d  f i g h t s  w e r e  t a k i n g  p l a c e  b e t w e e n  C h i n e s e  n o l i c e  f o r c e s \\' 7 \\nand  t h e  r i o t e r s .  O ur  G e n e r a l  C o n s u l a t e  i m m e d i a t e l y  h a d  m e a s u r e s  o f  \\ns e c u r i t y  t a k e n  b y  J a p a n e s e  p o l i c e .\\n\\nAt 1 1 . 3 0  o u r  t r o o p s  w e r e  s t a t i o n e d  a l o n g  t h e  l i n e  o f  d e m a r \\xad\\nc a t i o n  b e t w e e n  J a p a n e s e  c o n c e s s i o n  a n d  C h i n e s e  t o w n .  N e v e r t h e l e s s  \\na f u s i l l a d e  h a v i n g  b e e n  h e a r d  i n  t h e  s o u t h e r n  p a r t  o f  t h e  to w n  i n  t i e  \\nd i r e c t i o n  o f  t h e  J a p a n e s e  b a r r a c k s ,  a r u m o u r  h a d  s p r e a d  t h a t  m i l i t a r y  \\na c t i o n  was  b e i n g  t a k e n  b y  t h e  J a p a n e s e  t r o o p s . I n  o r d e r  t o  c h e c k  \\nt h e  s p r e a d  o f  t h i s  f a l s e  r e p o r t  J a p a n e s e  a u t h o r i t i e s  i m m e d i a t e l y  i n \\xad\\nf o r m e d  ^ G e n e r a l  -,fang Chu C h a n g ,  i n  command o f  t h e  s e c o n d  a rm y  c o r p s  a t  \\n\\nl e n t s i n ,  t h r o u g h  t h e  F r e n c h  C o n s u l  t h a t  t h e  r u m o u r  was a b s o l u t  e l v  \\nf a l s e  a n d  t h a t  t h e r e  h a d  e v e n  b e e n  c a s u a l t i e s  among t h e  J a p a n e s e . \"  \\n^ G ^ y ^ l s o  m ade  a v e r b a l  p r o t e s t  t o  t h e  C h i n e s e  p o l i c e  f o r c e s  a e a i n s t  \\nt h e  a s s e r t i o n  t h a t  t h e  J a p a n e s e  w e r e  r e s p o n s i b l e  f o r  t h e  e v e n t s .\\n\\nF i g h t i n g  was  t a k i n g  p l a c e  o n  t h e  b o r d e r s  o f  o u r  \\na t  a b o u t  m i d n i g h t  a J a p a n e s e  s e n t r y  was  k i l l e d  b y  s h o t s  \\np o l i c e .  The  p r o x i m i t y  o f  J a p a n e s e  and  C h i n e s e  f o r c e s ,  \\nt i m s  w e r e  o n l y  f i f t y  m e t r e s  a p a r t ,  b e i n g  l i a b l e  t o  g i v e  \\n^ o r t u n a t e  i n c i d e n t s ,  e s p e c i a l l y  d u r i n g  t h e  n i g h t ,  s t a f f  \\n\\xa7nrir .1 - 2 n  aslce3 G e n e r a l  7,ra n g  t o  w i t h d r a w  h i s  f o r c e s  t o  a \\n\\nm e t r e s  f r o m  t h e  c o n c e s s i o n  b e f o r e  3 a . m .\\n\\nc o n c e s s i o n  and  \\nf r o m  C h i n e s e  \\nw h i c h  a t  o n e  \\nr i s e  t o  u n -  \\no f  J a p a n e s e  \\nd i s t a n c e  o f\\n\\n, A t S a . m .  com m ander  o f  J a p a n e s e  t r o o p s  h e l d  a m e e t i n g  o f  t h e\\nf  ? h e  F r e n o h \\xbb B r i t i s h ,  I t a l i a n  and  A m e r i c a n  g a r r i s o n s  e n d  g a v e  \\n\\ni n f o r m a t i o n  a s  t o  m e a s u r e s  he  h a d  t a k e n ,  i n  v i t  i n g  t h e m  t o  \\nt w  j-l n e  01 P r o t e c t i o n .  Commanders  o f  f o r e i g n  g a r r i s o n s  d e c l a r e d\\no u a ^ ^ P f  + S? k 1S\\xce  1\\xee d w l t h  i n f o r m \\xe2 t  i o n  g i v e n  an d  r e t u r n e d  t o  t h e i r  h e a d -  \\n-x u_ s  \\xfcu a b o u t  4 a . m .  w i t h o u t  c a r r y i n g  o u t  t h e  p r o p o s e d  i n s p e c t i o n .\\n\\n- o w + i v ?  abo1i t T4 *30  a *m* a ? a i n  a J a p a n e s e  N . C . O .  was  h i t  b y  C h i n e s e  \\ne s  and  J a p a n e s e  command r e p e a t e d  i t s  r e q u e s t  t o  G e n e r a l  Wang.  \\n\\nf \" t h p  h a v i n g  a l s o  c o n v i n c e d  t h e  p r o v i n c i a l  a u t h o r i t i e s\\n^ a w a l  n f  i\\xef+\\xef s e Pr a t m g  t n e  J a p a n e s e  a n d  C h i n e s e  f o r c e s ,  w i t h -IIerl ?*!sr J85, d o e i d e d  f o r  7 a  n .  T h e  r i o t e r s  h a d  te o n\\nicp-.  ~ +,y h lD wuv f a r c e s ,  i iut  a  f e w  s k i r m i s h e s  w e r e  s t i l l  t e k  i n g\\nJ-ace on  t h e  b a n k s  o f  t h e  P e i h o .  \\xeb\\n\\ni r i n r *  C h i n e s e  t r o o p s  h a d  n o t  v e t  moved o f f  a n A wpt-p\\ne y o r fh s le ss  es a \\xee e S \\xee \\xee  \\u2019 o ^ u S ^  \\xee r o m ^ I t h i S h n ? S o r S i s \\xef ^\\nr a \\u2019iAqr \\u2022 result Oj f u r t h e r  u r g e n t  r e p r e s e n t a t i o n s  o f  t h e\\ni n a i l v  mSvo\\xe0 5 f \\xee  S o S t V a * ?  *\\xb0 K ? 141? *  c o n f l l ? t -  C h i n e s e  s o l d i e r s\\n;s  dvinn- d o 4 r  ,  S  8 A f t e r  9 a . m .  n o i s e  o f  f u s i l l a d e s\\n\\nh a t  J ap an es \\' \\' \"  r,?* \\xb0 :  P ^ d e n c e  o u r  G e n e r a l  C o n s u l a t e  o r d e r e d\\ni t h i n  t h e  l a t t e r  s t i l x  o u t s i a e  t h e  c o n c e s s i o n  s h o u l d  be b r o u g h t\\n\\nSAM AD A.\\n\\n\\n',\n",
       " 'category': 'COUNCIL MEMBER STATES',\n",
       " 'collection': 'lon',\n",
       " 'dateCreated': '2014-01-06T08:10:40Z',\n",
       " 'docType': 'member',\n",
       " 'filename': '/Users/kevinbradley/Desktop/lon/member/0679254/C-831-M-412-1931-VII_EN.xml',\n",
       " 'id': 'C.831.M.412.1931.VII_en',\n",
       " 'languageCode': 'en',\n",
       " 'last_update': '2015-09-03T15:29:56.122Z',\n",
       " 'outputFilename': '/Users/kevinbradley/Desktop/lon_output/C.831.M.412.1931.VII_en',\n",
       " 'pdfContentLength': '5943',\n",
       " 'pdfContentType': 'application/pdf',\n",
       " 'pdfCreated': 'Mon Jan 06 03:10:40 EST 2014',\n",
       " 'pdfCreationDate': '2014-01-06T08:10:40Z',\n",
       " 'pdfDCTermsModified': '2014-01-06T08:10:40Z',\n",
       " 'pdfDate': '2014-01-06T08:10:40Z',\n",
       " 'pdfFilename': '/Users/kevinbradley/Desktop/lon/member/0679254/C-831-M-412-1931-VII_EN.pdf',\n",
       " 'pdfLastModified': '2014-01-06T08:10:40Z',\n",
       " 'pdfModified': '2014-01-06T08:10:40Z',\n",
       " 'publicationDate': '1931-01-01T00:00:01Z',\n",
       " 'score': 1.0,\n",
       " 'symbol': 'C.831.M.412.1931.VII',\n",
       " 'title_en': 'APPEAL BY THE CHINESE GOVERNMENT UNDER ARTICLE 11 OF THE COVENANT. Communication from the Japanese Delegation. \\n',\n",
       " 'url': 'http://biblio-archive.unog.ch/Dateien/CouncilMSD/C-831-M-412-1931-VII_EN.pdf',\n",
       " 'volume_barcode': '0679254'}"
      ]
     },
     "execution_count": 29,
     "metadata": {},
     "output_type": "execute_result"
    }
   ],
   "source": [
    "response2['response']['docs'][0]"
   ]
  },
  {
   "cell_type": "code",
   "execution_count": 30,
   "metadata": {
    "collapsed": false
   },
   "outputs": [
    {
     "data": {
      "text/plain": [
       "{'_version_': 1511306503027425280,\n",
       " 'body_fr': u'\\nS0CIET3 DES NATIONS.\\n\\nCommuniqu\\xe9 au Conseil 0 , 5 2 4 .1 1 1 .5 5 5 .1 9 5 6 .XI.\\net aux Membres de la\\n\\nSoci\\xe9t\\xe9, Gen\\xe8ve, le 27 novembre 1 9 5 6,\\n\\nTRAFIC DE L1OPIUM ET AUTRES DROGUES NUISIBLES.\\n\\nNOTES ECHANGEES A TOKIO LE 30 MARS 1936 ENTRE L \\u2019AMBASSADEUR \\nDE GRANDE-BRETAGNE ST LE MINISTRE DES AFFAIRES ETRANGERES DU \\nJAPON, RELATIVEMENT A UN ACCORD ADMINISTRATIF CONCLU ENTRE \\nLES GOUVERNEMENTS DU ROYAUME-UNI ET DU JAPON POUR ETABLIR \\nUNE COLLABORATION EN VUE DE RECUEILLIR ET DE TRANSMETTRE \\nTOUS RENSEIGNEMENTS PROPRES A AMENER LA DECOUVERTE ET \\nL1ARRESTATION DE PERSONNES SE LIVRANT AU TRAFIC ILLICITE \\nDES DROGUES NUISIBLES ET LA SAISIE DE CES DROGUES.\\n\\nCommuniqu\\xe9 par le Gouvernement du Royaume-Uni.\\n\\nNote du Secr\\xe9taire g\\xe9n\\xe9ral.\\n\\nConform\\xe9ment \\xe0 l\\u2019article 21 de la Convention de \\n\\n1931 pour limiter la fabrication et r\\xe9glementer la distri\\xad\\n\\nbution des stup\\xe9fiants, le Secr\\xe9taire g\\xe9n\\xe9ral a l\\u2019honneur \\n\\nde communiquer ci-joint, aux Parties \\xe0 la Convention et \\n\\naux autres Etats copie des notes ci-dessus qui ont \\xe9t\\xe9 \\n\\n\\xe9chang\\xe9es entre les Gouvcrnnmnts du Royaum\\u2014 Uni ot du \\n\\nJapon,\\n\\nCe document est \\xe9galement communiqu\\xe9 \\xe0 la Commission \\n\\nconsultative du trafic do l\\'opium ot autres drogues \\n\\nnuisibles.\\n\\n\\n\\nI\\'. Sir R. Clive \\xe0 M, Hirota.\\n\\n(traduction) Tokio, le 30 mars 1936\\n\\nExcellence,\\n\\nEn vue de collaborer \\xe0 la r\\xe9union et \\xe0 la transmis\\xad\\nsion de renseignements pouvant amener la saisie de drogues \\nillicites ainsi que la d\\xe9couverte et l\\u2019arrestation de \\npersonnes se livrant au trafic de ces drogues, j\\u2019ai 1 \\u2019hon\\xad\\nneur d\\u2019ordre du Principal Secr\\xe9taire d\\u2019Stat de Sa Majest\\xe9 \\naux Affaires \\xe9trang\\xe8res, de porter \\xe0 la connaissance de \\nVotre Excellence que le Gouvernement de Sa Majest\\xe9 dans \\nle Royaume-Uni de Grande-Bretagne et d \\u2019Irlande du Nord \\napprouve les dispositions ci-apr\\xe8s comme constituant un \\naccord, sur la base de la r\\xe9ciprocit\\xe9, entre ledit Gou\\xad\\nvernement et le Gouvernement imp\\xe9rial du Japon:\\n\\n(1) Les agents diplomatiques et consulaires do Sa \\nMajest\\xe9 d\\xe9sign\\xe9s sur l \\u2019avis du Gouvernement de Sa Majest\\xe9 \\ndans le Royaume-Uni, et les autorit\\xe9s comp\\xe9tentes du Gou\\xad\\nvernement de Sa Majest\\xe9 dans le Royaume-Uni recevront des \\ninstructions pour collaborer avec les autorit\\xe9s japonaises \\ncomp\\xe9tentes, telles qu\\'elles sont indiqu\\xe9es dans la liste A \\nci-annex\\xe9e, ou selon les circonstances,avec l\\u2019agent diplo\\xad\\nmatique ou consulaire japonais comp\\xe9tent, par voie de oommu \\nnioation r\\xe9ciproque de renseign:;monts concernant les agisse \\nments et d\\xe9placements de personnes connues comme se livrant \\nau trafic illicite des stup\\xe9fiants.\\n\\n(2) Les agents diplomatiques et consulaires japonais \\n\\xe0 1\\u2019\\xe9tranger et les autorit\\xe9s comp\\xe9tentes du Gouvernement \\nimp\\xe9rial du Japon recevront des instructions analogues pour \\ncollaborer aveo les autorit\\xe9s comp\\xe9tentes du Gouvernement \\nde Sa Majest\\xe9 dans le Royaume-Uni, telles qu\\'elles sont \\nindiqu\\xe9es dans la liste B ci-annex\\xe9e, ou, selon las circons \\ntances aveo l\\u2019agent diplomatioue ou consulaire britannique \\ncomp\\xe9tent.\\n\\n(3 ) Les dispositions du pr\\xe9sent accord s\\u2019appliqueront \\n\\xe0 Terre-Neuve et \\xe0 toutes les colonies et protectorats \\nbritanniques, ainsi qu\\'\\xe0 tous les territoires sous mandat\\n\\xe0 l\\u2019\\xe9gard desquels le mandat est exerc\\xe9 par le Gouvernement \\nde Sa Majest\\xe9 dans le Royaume-Uni, et les autorit\\xe9s comp\\xe9\\xad\\ntentes, aux fins du pr\\xe9sent accord, \\xe0 \\'Terre-Neuve et dans \\nles colonies, protectorats et territoires sous mandat \\nmentionn\\xe9s ci-dessus seront celles qui sont indiqu\\xe9es \\ndans la liste C ci-annex\\xe9e.\\n\\n(4) Le pr\\xe9sent accord entrera en vigueur un mois \\napr\\xe8s la date de 1 \\u2019\\xe9change de la pr\\xe9sente note et de\\nla r\\xe9ponse cui y sera faite par le Gouvernement japonais, \\net prendra fin moyennant un pr\\xe9avis de six mois donn\\xe9 \\xe0 \\ncet effet par l\\'une ou l\\u2019autre des Parties.\\n\\n\\n\\n- 3 -\\n\\n3. Les Gouvernements de Sa Majest\\xe9 dans le \\nCommonwealth d \\u2019Australie et en Nouvelle-Z\\xe9lande et le Gou\\xad\\nvernement de 1 * Inde ayant exprim\\xe9 le d\\xe9sir de devenir parties \\n\\xe0 des \\u2018accords analogues avec le Gouvernement japonais, j\\'ai \\n1\\u2019honneur, \\xe0 la demande de chacun desdits Gouvernements, de \\nd\\xe9clarer qu\\u2019ils approuvent 1\\u2019application mutat is mutandis, de \\n\\u25a0dispositions, analogues aux \\u2022 dispositions \\xe9nonc\\xe9es ci-dessus, \\nqui constitueront des accords sur la base de la r\\xe9ciprocit\\xe9, \\nentre chacun desdits Gouvernements et le Gouvernement imp\\xe9\\xad\\nrial du Japon. Aux fins de ces accords, les autorit\\xe9s comp\\xe9\\xad\\ntentes de chacun desdits Gouvernements seront, respectivement, \\ncelles qui sont d\\xe9sign\\xe9es dans la liste D ci-annex\\xe9e\\u201e\\n\\n3, Si le Gouvernement japonais app^ou^e les dispo\\xad\\nsitions qui pr\\xe9c\\xe8dent, la pr\\xe9sente note v . \\' e t  votre r\\xe9ponse, \\ncon\\xe7ue en termes anabgues, seront consid\\xe9r\\xe9es comme enregis\\xad\\ntrant les divers accords intervenus, en cette mati\\xe8re, entre \\nles Gouvernements respectifs *\\n\\nJe saisis cette occasion, etc \\u201e,\\u201e\\n(sign\\xe9) R\\u201eH. CLIVE.\\n\\nLISTE A.\\n\\nJapon proprement dit: Directeur du Bureau des Trait\\xe9s et \\nConventions au Minist\\xe8re des Affaires \\xe9trang\\xe8res ; \\ndans les cas pr\\xe9sentant une urgence sp\\xe9ciale, les \\nGouverne mes- locaux et les directeurs des douanes \\n\\n, locaux\" qui sont comp\\xe9tents,\\n\\nCor\\xe9e : Gouvernement g\\xe9n\\xe9ral de Cor\\xe9e\\u201e\\n\\nFormose: Gouvernement g\\xe9n\\xe9ral de Formose\\n\\nTerritoire \\xe0 bail du Kuangtoung ; Gouvernement du territoire \\n\\xe0 bail du Kuangtoung,\\n\\nSakhaline: Gouvernement du Sakhaline \\xab\\nIles des Mers du Sud sous mandat japonais : Bureau des Mers \\n\\ndu Sud, Palao,\\n\\nLISTE B \\u201e.\\n\\nDans le Royaume-Uni de Grande-Bretagne et d\\u2019Ir\\xad\\nlande du Nord ; le Principal Secr\\xe9taire d \\u2019 Et at de Sa Majest\\xe9 \\n\\xe0 l\\u2019Int\\xe9rieur ; dans les cas* pr\\xe9sentant une urgence sp\\xe9ciale, \\nil sera \\xe9galement possible, de se mettre directement en commu\\xad\\nnication avec les autorit\\xe9s locales de police ou avec fonc\\xad\\ntionnaires locaux des douanes.\\n\\n\\n\\n- 4 -\\n\\nLISTE C, _\\n\\nTerre Neuve : Ministre des Finances et des Douanes, St.Johns,\\n\\nRhod\\xebsie m\\xe9ridionale \\xee Secr\\xe9taire du D\\xe9partement jurfiique, \\nSalisbury,\\n\\nGibraltar ; Secr\\xe9taire colonial\\u201e\\n\\nMalte : Secr\\xe9taire du Gouvernement,\\n\\nChypre \\xee Secr\\xe9taire colonial, Nicosia,\\n\\nPalestine; Secr\\xe9taire principal, J\\xe9rusalem.\\n\\nCeylani Secr\\xe9taire principal, Colombo,\\n\\nHong Kong : Secr\\xe9taire colonial,, Hong Kong,\\n\\nEtablissements des D\\xe9troits : Secr\\xe9taire colonial, Singapour.\\n\\nEtats malais f\\xe9d\\xe9r\\xe9s : Secr\\xe9taire principal, Kuala Lumpur\\n\\nEtats malais non f\\xe9d\\xe9r\\xe9s \\xee -\\n\\nJohore; Conseiller g\\xe9n\\xe9ral, Johore Bahru,\\nKedah\\xef Conseiller britannique, Alor Star.\\nP\\xe9ris \\xee Conseiller britannique, Kangar.\\nKelantanr Conseiller britannique, Kota Bahru,\\nTrengganu% Conseiller britannique, Kuala Trengganu, via \\n\\nSingapour t\\nBrunei : R\\xe9sident britannique , Brunei,\\n\\nNord-Born\\xeaot Secr\\xe9taire du Gouvernement, Jesselton.\\n\\nSarawak : Secr\\xe9taire du Gouvernement, Kuching*.\\n\\nIle Maurice \\xb0. Secr\\xe9taire colonial \\u201e\\n\\nSeychelles\\xee Gouverneur\\u201e\\n\\nSte H\\xe9l\\xe8ne \\xef Gouverneur \\xbb\\n\\nNig\\xe9rie (y compris le Cameroun sous mandat britannique): \\nSecr\\xe9taire principal, Lagos,\\n\\nC\\xf4te de 1 !Or (y compris le Togo sous mandat britannique) \\xee \\nSecr\\xe9taire colonial, Accra,\\n\\nGambie : Secr\\xe9taire colonial; Bathurst,\\n\\nSierra Leone ; Secr\\xe9taire colonial, Freetown,\\n\\nKenya : Secr\\xe9taire colonial, Nairobi,\\n\\nZanzibar: Secr\\xe9taire principal,\\n\\nOuganda, Secr\\xe9taire principal, Entebbe,\\n\\n\\n\\nNyassaland: Secr\\xe9taire principal, Zomba,\\n\\nTerritoire du Tanganykas Secr\\xe9taire principal* Dar-es-Salaam. \\n\\nSomalie: Secr\\xe9taire du Gouvernement, Sheikh, via Aden.\\n\\nRhod\\xeasie septentrionale: Secr\\xe9taire principal, Livingstone. \\n\\nBassoutoland: Commissaire r\\xe9sidant, Maseru,\\n\\nProtectorat du Betchouanaland; Commissaire r\\xe9sidant: Mafeking.\\n\\nSouaziland: Commissaire r\\xe9sidant; Mbabane.\\n\\nIles Bahama; Secr\\xe9taire colonial, Nassau,\\n\\nBermudes; Secr\\xe9taire colonial, Hamilton,\\n\\nGuyane britannique: Secr\\xe9taire colonial, Georgetown,\\n\\nHonduras britannique\\xee Secr\\xe9taire colonial, Belize.\\n\\nIles Falkland: Secr\\xe9taire colonial, Port Stanley.\\n\\nBarbade: Secr\\xe9taire colonial, Bridgetown,\\n\\nJama\\xefque : Secr\\xe9taire colonial, Kingston.\\n\\nTrinit\\xe9: Secr\\xe9taire colonial, Port of Spain,\\n\\nIles du V=nt:\\n\\nGrenade: Secr\\xe9taire colonial.\\nSte Lucie: Administrateur,\\nSte Vincent: Administrateur,\\n\\nIles sous le Vent : Secr\\xe9taire colonial. Antigua.\\nIle Fidji: Secr\\xe9taire colonial, Suva,\\nColonie des Iles Gilbert et Ellice: Commissaire r\\xe9sidant. \\n\\nProtectorat britannique des Iles Salomon: Commissaire r\\xe9sidant, \\n\\nTonga; Agent et Consul britannique.\\n\\nLISTS D.\\n\\nDans le Commonwealth d\\u2019Australie: Contr\\xf4leur g\\xe9n\\xe9ral, D\\xe9parte\\xad\\nment du Commerce et des Douanes, Canberra,\\n\\nEn Nouvelle-Z\\xe9lande: D\\xe9partement des Douanes, Wellington, \\nNouvelle-Z\\xe9lande\\u201e\\n\\nDans l\\u2019Inde (y compris la Birmanie): le Gouvernement de l*Inde \\n(D\\xe9partement des Finances, Recettes centrales) \\nou, enc as d \\u2019urgence, les receveurs des douanes \\nlocaux.,\\n\\n\\n\\n- 6 -\\n\\nII. M. Hlrota \\xe0 Sir R. Clive.\\n(Traduction) Tokio, le 50 mars 1936.\\n\\nExcellence,\\n\\nMe r\\xe9f\\xe9rant \\xe0 la note de Votre excellence en date de ce jour \\nconcernant la collaboration pour la r\\xe9union et la transmission de \\nrenseignements pouvant amener la saisie de drogues illicites ainsi \\nque la d\\xe9couverte et 1 1 arrestation de personnes se livrant au \\ntrafic de ces drogues, j\\'ai 1 \\'honneur de porter \\xe0 votre connais\\xad\\nsance que le Gouvernement imp\\xe9rial du Japon approuve les disposi\\xad\\ntions ci-apr\\xe8s comme constituant un accord, sur la base de la r\\xe9\\xad\\nciprocit\\xe9, entre ledit Gouvernement et le Gouvernement de Sa \\nMajest\\xe9 dans le Royaume-Uni de Grande-Bretagne et d\\'Irlande du \\nnord :\\n\\n(1) Les agents diplomatiques et consulaires de Sa Majest\\xe9, \\nd\\xe9sign\\xe9s sur l\\'avis du Gouvernement de Sa Majest\\xe9 dans le \\nRoyaume-Uni, et les autorit\\xe9s comp\\xe9tentes du Gouvernement de \\nSa Majest\\xe9 dans le Royaume-Uni recevront des instructions pour \\ncollaborer avec les autorit\\xe9s japonaises comp\\xe9tentes, telles \\nqu\\'elles sont indiqu\\xe9es dans la liste A ci-annex\\xe9e ou, selon \\nles circonstanfces, avec l\\'agent diplomatique ou consulaire japo\\xad\\nnais comp\\xe9tent, par voie de communication r\\xe9ciproque de rensei\\xad\\ngnements concernant les agissements et d\\xe9placements de personnes \\nconnues comme se livrant au trafic illicite des stup\\xe9fiants.\\n\\n(2) Les agents diplomatiques et consulaires japonais \\xe0 l\\'\\xe9\\xad\\ntranger et les autorit\\xe9s comp\\xe9tentes du Gouvernement imp\\xe9rial \\ndu Japon recevront des instructions analogues, pour collaborer \\navec les autorit\\xe9s comp\\xe9tentes du Gouvernement de Sa Majest\\xe9 \\ndans le Royaume-Uni, telles qu\\'elles sont indiqu\\xe9es dans la \\nliste B ci-annex\\xe9e, ou selon les circonstances, avec l\\'agent \\ndiplomatique ou consulaire britannique comp\\xe9tent.\\n\\n(3) Les dispositions du pr\\xe9sent accord s\\'appliqueront \\xe0 Terre- \\n\\xeeCeuve et \\xe0 toutes les colonies et protectorats britanniques, \\nainsi qu\\'\\xe0 tous les territoires sous mandat \\xe0 l\\'\\xe9gard desquels \\nle mandat est exerc\\xe9 par le Gouvernement de Sa Majest\\xe9 dans le \\nRoyaume-Uni, et les autorit\\xe9s comp\\xe9tentes, aux fins du pr\\xe9sent \\naccord, \\xe0 Terre-Neuve et dans les colonies, protectorats et \\nterritoires sous mandat mentionn\\xe9s ci-dessus seront celles qui \\nsont indiqu\\xe9es dans la liste C ci-annex\\xe9e.\\n\\n(4) Le pr\\xe9sent accord entrera en vigueur un mois apr\\xe8s\\nla date de 1\\'\\xe9change de la pr\\xe9sente note et de la note de Votre \\nExcellence, \\xe0 laquelle elle r\\xe9pond et prendra fin moyennant un \\npr\\xe9avis de six mois donn\\xe9, \\xe0 cet effet, par l\\'une ou l\\'autre \\ndes Parties.\\n\\n2. Le Gouvernement imp\\xe9rial du Japon a pris acte du d\\xe9sir \\nqu\\'ont exprim\\xe9 les Gouvernements de Sa Majest\\xe9 dans le Commonwealth \\nd\\'Australie et en Nouvelle-Z\\xe9lande et le Gouvernement de 1 :Inde de \\ndevenir parties \\xe0 des accords analogues avec le Gouvernement imp\\xe9\\xad\\nrial du Japon et il approuve 1 1 application, mutatis mutandis, de \\ndispositions, analogues aux dispositions \\xe9nonc\\xe9es ci-dessus, qui \\nconstitueront des accords, sur la base de la r\\xe9ciprocit\\xe9, entre le \\nGouvernement imp\\xe9rial du Japon et chacun desdits Gouvernements.\\nAux fins de ces accords, les autorit\\xe9s comp\\xe9tentes de chacun des\\xad\\ndits Gouvernements seront, respectivement, celles qui sont d\\xe9si\\xad\\ngn\\xe9es dans la liste D ci-annex\\xe9e.\\n\\n3- J\\'ai 1 \\'honneur de d\\xe9clarer que la pr\\xe9sente note e t  la note \\nde Votre Excellence, \\xe0 laquelle elle r\\xe9pond, seront consid\\xe9r\\xe9es \\ncomme enregistrant les divers accords Intervenus, en cette m a t i \\xe8 r e  \\nentre les Gouvernements respectifs -\\n\\nJe saisis cette o c c a s 1 on $ etc \\xab .. \\xab / , * \\\\ \\xab T\\u2014\\u2014 m \\xbb\\n* (signe) KOKI HIROTA,\\n\\n\\n\\nLEAGUE OF NATIONS.\\n\\nCommunicated to the C .524.M. 335.1936,XI,\\nCouncil and Members\\nof the League._____________ Geneva, November 2 7th, 1936.\\n\\nTRAFFIC IN OPIUM AND OTHER DANGEROUS DRUGS.\\n\\nNOTES EXCHANGED AT TOKYO ON MARCH 30th, 1936 \\nBETWEEN THE BRITISH AMBASSADOR AND THE JAPANESE \\nMINISTER FOR FOREIGN AFFAIRS RELATIVE TO AN \\nADMINISTRATIVE AGREEMENT BETWEEN THE GOVERNMENTS \\nOF THE UNITED KINGDOM AND JAPAN FOR CO\\xad\\nOPERATION IN THE COLLECTION AND TRANSMISSION \\nOF INFORMATION LIKELY TO LEAD TO THE DISCOVERY \\nAND ARREST OF PERSONS ENGAGED IN THE ILLICIT \\nTRAFFIC IN DANGEROUS DRUGS AND THE SEIZURE OF \\nSUCH DRUGS.\\n\\nCommunicated by the Government of the \\nUnited Kingdom.\\n\\nNote by the Secretary-General.\\n\\nIn accordance with Article 21 of the Convention \\n\\nfor limiting the manufacture and regulating the distribution \\n\\nof Narcotic Drugs in 1931, the Secretary-General has the \\n\\nhonour to communicate herewith to the Parties to the \\n\\nConvention and to the other States copies of the above- \\n\\nmentioned notes exchanged between the Governments of the \\n\\nUnited Kingdom and of Japan.\\n\\nThis document is also communicated to the \\n\\nAdvisory Committee on Traffic in Opium and other Dangerous \\n\\nDrugs.\\n\\n\\n\\n- 2 -\\n\\nI. Sir B. Clive to Mr. Hirota.\\n\\nTokyo, March 30th, 1936.\\n\\nYour Excellency,\\n\\nWith the object of co-operating in the collection \\nand transmission of information such as may lead to the seizure \\nof illicit drugs and the discovery and arrest of those engaged \\nin the traffic in them, I have the honour, under instructions \\nfrom His Majesty\\u2019s Principal Secretary of State for Foreign \\nAffairs, to inform your Excellency that His Majesty\\'s Govern\\xad\\nment in the United Kingdom of Great Britain and Northern Ireland \\nagree to the following provisions as constituting an agreement \\nupon a reciprocal basis between them and the Imperial Japanese \\nGovernment :-\\n\\n(1) His Majesty\\'s diplomatic and consular officers appointed\\non the advice of His Majesty\\u2019s Government in the United \\nKingdom and the appropriate authorities of His Majesty\\'s \\nGovernment in the United Kingdom shall be instructed to \\nco-operate with the appropriate Japanese authorities, as \\nset forth in the Schedule A annexed hereto, or, as cir\\xad\\ncumstances may require, with the appropriate Japanese \\ndiplomatic or consular officer by mutually communicating \\ninformation regarding the proceedings and movements of \\npersons known to be engaged in the illicit drug traffic.\\n\\n(2) Japanese diplomatic and consular officers abroad and the\\nappropriate authorities of the Imperial Japanese Govern\\xad\\nment shall be similarly instructed to co-operate with \\nthe appropriate authorities of His Majesty\\'s Government \\nin the United Kingdom, as set forth in the Schedule B \\nannexed hereto, or as circumstances may require, with \\nthe appropriate British diplomatic or consular officer.\\n\\n(3) The provisions of the present agreement shall apply to\\nNewfoundland and to all British Colonies and protectorates, \\nand also to all mandated territories in respect of which \\nthe mandate is exercised by His Majesty\\'s Government in \\nthe United Kingdom; and the appropriate authorities for \\nthe purpose of this agreement in Newfoundland and in the \\nabove-mentioned colonies, protectorates and mandated \\nterritories shall be those set forth in the Schedule C \\nannexed hereto.\\n\\n(4) The present agreement shall come into force one month after\\nthe date of exchange of this note and the Japanese Govern\\xad\\nment\\'s reply thereto and shall be terminable by either \\nparty^on giving six months\\' notice to that effect.\\n\\n2. His Majesty\\'s Government in the Commonwealth of \\nAustralia and New Zealand and the Government of India having ex\\xad\\npressed their desire to become parties to similar agreements with \\nthe Japanese Government, at the instance of each of the said \\nGovernments I have the honour to state that they agree that pro\\xad\\nvisions similar to the foregoing shall apply, mutatis mutandis, \\nas constituting agreements upon a reciprocal basis between e ac h  \\nof the said Governments and the Imperial Japanese Government.\\nFor the purpose of these agreements the appropriate authorities \\nof each of the said Governments shall be respectively those \\nnamed in Schedule D annexed hereto,\\n\\n3. If the Japanese Government agree to the foregoing \\nprovisions, the present note and your reply in similar terms \\nshall be regarded a s  placing o n  record the several a g r e e m e n t s  \\narrived at betweeh the respective Governments in the matter.\\n\\nI avail, c.\\n(Signed) R.H. CLIVE.\\n\\n\\n\\nSCHEDULE A\\n\\nJapan Proper: Director of the Bureau of Treaties\\nand Conventions in the Ministry for Foreign Affairs ; in \\ncases of special urgenc;\\u2019- the competent local Governors and \\nSuperintendents of Customs.\\n\\nKorea : Government-General of Korea.\\n\\nFormosa : Government-General of Formosa.\\n\\nKwantung Leased Territory : Government of the\\nKwantung Leased Territory.\\n\\nSaghalien: Government of Saghalien.\\n\\nSouth Sea Islands under Japanese Mandate :\\nSouth Seas Bureau, Palao.\\n\\nSCHEDULE B\\n\\nIn the United Kingdom of Great Britain and Northern \\nIreland: His Majesty\\'s Principal Secretary of State for\\nHome Affairs : in cases of special urgency the local police\\nauthorities or customs officials may also be communicated \\nwith direct.\\n\\nSCHEDULE C\\n\\nNewfoundland : The Minister of\\' Finance and Customs , St. Johns .\\n\\nSouthern Rhodesia : Secretary to the Law Department, Salisbury.\\n\\nGibraltar : Colonial Secretary.\\n\\nMalta : The Secretary to the Government.\\n\\nCyprus : Colonial Secretary, Nicosia.\\n\\nPalestine : Chief Secretary, Jerusalem.\\n\\nCeylon : Chief Secretary, Colombo.\\n\\nHong Kong : Colonial Secretary, Hong Kong.\\n\\nStraits Settlements : Colonial Secretary, Singapore.\\n\\nFederated Malay States: Chief Secretary, Kuala Lumpur.\\n\\nUnfederated Malay States:\\n\\nJohore : General Adviser ,, JOhore Bahru.\\nKedah: British Adviser, Alor Star.\\nPerlis: British Adviser, Kangar.\\nKelantan: British Adviser, Kota Bahru.\\nTrengganu: British Adviser, Kuala Trengganu, via Singapore.\\nBrunei : British Resident, Brunei.\\n\\nNorth Borneo : Government Secretary, Jesselton,\\n\\nSarawak: Government Secretary, Kuching.\\n\\n\\n\\nMauritius : Colonial Secretary.\\n\\nSeychelles : Governor.\\n\\nSt.Helena: Governor.\\n\\nNigeria (including the Cameroons under British mandate);\\nChief Secretary, Lagos.\\n\\nGold Coast-lAneluding Togo land under British mandate): \\nColonial Secretary, Accra.\\n\\nGambia: Colonial Secretary, Bathurst.\\n\\nSierra Leone: Colonial Secretary, Freetown.\\n\\nKenya: Colonial Secretary, Nairobi.\\n\\nZanzibar: Chief Secretary.\\n\\nUganda: Chief Secretary, Entebbe.\\n\\nNyasaland: Chief Secretary, Zomba.\\n\\nTanganyika Territory: Chief Secretary, Dar-es-Salaam.\\n\\nSomaliland: Secretary to the Government, Sheikh, via Aden.\\n\\nNorthern Rhodesia: Chief Secretary, Livingstone.\\n\\nBasutoland: Resident Commissioner, Maseru.\\n\\nBeohuanaland Protectorate: Resident Commissioner, Mafeking.\\n\\nSwaziland.: Resident Commissioner, Mbabane.\\n\\nBahamas: Colonial Secretary, Nassau.\\n\\nBermuda: Colonia1 Secretary, Hamilton.\\n\\nBritish Guiana: Colonial Secretary, Georgetown.\\n\\nBritish Honduras: Colonial Secretary, Belize.\\n\\nFalkland Islands: Colonial Secretary, Port Stanley.\\n\\nBarbados: Colonial Secretary, Bridgetown.\\n\\nJamaica: Colonial Secretary, Kingston.\\n\\nTrinidad; Colonial Secretary, Port of Spain.\\n\\nWindward Islands:\\n\\nGrenada: Colonial Secretary.\\nSt. Lucia: Administrator.\\nSt. Vincent: Administrator.\\n\\nLeeward Islands: Colonial Secretary, Antigua.\\n\\nFiji; Colonial Secretary, Suva.\\n\\nGilbert and Silice Islands Colony: Resident Commissioner.\\n\\nBritish Solomon Islands Protectorate; Resident Commissioner. \\n\\nTonga: British Agent and Consul.\\n\\n\\n\\nSCHEDULE D\\n\\nIn the Commonwealth of Australia : Comptroller-General, \\nDepartment of Trade and Customs, Canberra.\\n\\nIn Hew Zealand: Customs Department, Wellington, Hew Zealand.\\n\\nIn India (including Burma): Government of India (Finance\\nDepartment, Central Revenues), or in cases of \\nurgency the local collectors of customs.\\n\\nII. Mr. Hirota to Sir R. Clive.\\n\\n(Translation) Tokyo, March 3 0, 1936.\\n\\nYour Excellency,\\n\\nWith reference to your Excellency\\'s note of to-day\\'s \\ndate regarding co-operation in collecting and transmitting \\ninformation such as may lead to the seizure of illicit drugs \\nand the discovery and arrest of those engaged in the traffic \\nof them, I have the honour to inform you that the Imperial \\nJapanese Government agree to the following provisions as \\nconstituting an agreement upon a reciprocal basis between \\nthem and His Majesty\\'s Government in the United Kingdom of \\nGreat Britain and Northern Ireland:\\n\\n(1) His Majesty\\'s diplomatic and consular officers \\nappointed on the advice of His Majesty\\u2019s Government \\nin the United Kingdom and the appropriate \\nauthorities of His Majesty\\u2019s Government in the \\nUnited Kingdom shall be instructed to co-operate \\nwith the appropriate Japanese authorities, as set \\nforth in the Schedule A or, as circumstances may \\nrequire, with the appropriate Japanese diplomatic \\nor cons- r officer by mutually communicating \\ninformation regarding the proceedings and movements \\nof persons known to be engaged in the illicit drug \\ntraffic.\\n\\n(2) Japanese diplomatic and consular officers abroad \\nand the appropriate authorities of the Imperial \\nJapanese Government shall be similarly instructed to \\nco-operate with the appropriate authorities of His \\nMajesty\\'s Government in the United Kingdom, as set \\nforth in the Schedule B or, as circumstances may \\nrequire, with the appropriate British diplomatic or \\nconsular officer.\\n\\n(3) The provisions of the present agreement shall apply \\nto Newfoundland and to all British colonies and \\nprotectorates and also to all mandated territories \\nin respect of whi^.h the mandate is exercised by\\nHis Majesty\\u2019s Government in the United Kingdom; and \\nthe appropriate authorities for the purpose of this \\nagreement in Newfoundland and in the above-mentioned \\ncolonies, protectorates and mandated territories \\nshall be those set forth in the Schedule C.\\n\\n\\n\\n- 6 -\\n\\n(4) The present agreement shall come into force one \\nmonth after the date of exchange of this note and \\nof your ExcellencyTs note, to which it is a reply, \\nand shall te terminable by either party on giving \\nsix months\\' notice to that effect.\\n\\n2. The Imperial Japanese Government have noted the \\ndesire of each of His Majesty\\'s Governments in the Commonwealth \\nof Australia and New Zealand and of the Government of India\\nto become parties to similar agreements with the Imperial \\nJapanese Government, and they agree that provisions similar \\nto the foregoing shall apply, mutatis mutandis, as constituting \\nagreements upon a reciprocal basis between the Imperial \\nJapanese Government and each of the said Governments. For the \\npurpose of these agreements the appropriate authorities of \\neach of the said Governments shall be respectively those named \\nin Schedule D.\\n\\n3. I have the honour to state that the present note and \\nyour Excellency\\'s note under reply shall be regarded as \\nplacing on record the several agreements arrived at between \\nthe respective Governments in the matter.\\n\\nI avail, etc.\\n\\n(Signed).. KCRI HIRCTA.\\n\\n\\n',\n",
       " 'category': 'COUNCIL MEMBER STATES',\n",
       " 'collection': 'lon',\n",
       " 'dateCreated': '2013-11-07T14:24:57Z',\n",
       " 'docType': 'member',\n",
       " 'filename': '/Users/kevinbradley/Desktop/lon/member/0673010/C-524-M-335-1936-XI_FR.xml',\n",
       " 'id': 'C.524.M.335.1936.XI_fr',\n",
       " 'languageCode': 'fr',\n",
       " 'last_update': '2015-09-03T15:29:56.147Z',\n",
       " 'outputFilename': '/Users/kevinbradley/Desktop/lon_output/C.524.M.335.1936.XI_fr',\n",
       " 'pdfContentLength': '23054',\n",
       " 'pdfContentType': 'application/pdf',\n",
       " 'pdfCreated': 'Thu Nov 07 09:24:57 EST 2013',\n",
       " 'pdfCreationDate': '2013-11-07T14:24:57Z',\n",
       " 'pdfDCTermsModified': '2013-11-07T14:24:57Z',\n",
       " 'pdfDate': '2013-11-07T14:24:57Z',\n",
       " 'pdfFilename': '/Users/kevinbradley/Desktop/lon/member/0673010/C-524-M-335-1936-XI_FR.pdf',\n",
       " 'pdfLastModified': '2013-11-07T14:24:57Z',\n",
       " 'pdfModified': '2013-11-07T14:24:57Z',\n",
       " 'publicationDate': '1936-01-01T00:00:01Z',\n",
       " 'score': 1.0,\n",
       " 'symbol': 'C.524.M.335.1936.XI',\n",
       " 'title_fr': u'TRAFIC DE L 1 OPIUM ET AUTRES DROGUES NUISIBLES. NOTES ECHANGEES A TOKIO LE 30 MARS 1936 ENTRE L\\x92AMBASSADEUR DE GRANDE-BRETAGNE ST LE MINISTRE DES AFFAIRES ETRANGERES DU JAPON, RELATIVEMENT A UN ACCORD ADMINISTRATIF CONCLU ENTRE LES GOUVERNEMENTS DU ROYAUME-UNI ET DU JAPON POUR ETABLIR UNE COLLABORATION EN VUE DE RECUEILLIR ET DE TRANSMETTRE TOUS RENSEIGNEMENTS PROPRES A AMENER LA DECOUVERTE ET L1 ARRESTATION DE PERSONNES SE LIVRANT AU TRAFIC ILLICITE DES DROGUES NUISIBLES ET LA SAISIE DE CES DROGUES.\\n',\n",
       " 'url': 'http://biblio-archive.unog.ch/Dateien/CouncilMSD/C-524-M-335-1936-XI_FR.pdf',\n",
       " 'volume_barcode': '0673010'}"
      ]
     },
     "execution_count": 30,
     "metadata": {},
     "output_type": "execute_result"
    }
   ],
   "source": [
    "response2['response']['docs'][1]"
   ]
  },
  {
   "cell_type": "code",
   "execution_count": 31,
   "metadata": {
    "collapsed": false
   },
   "outputs": [
    {
     "data": {
      "text/plain": [
       "{'_version_': 1511306503044202496,\n",
       " 'body_en': u'\\nIJE OF NATIONS.\\n\\nPRELIMIlNi\\n\\nC.234.1930.II.\\n\\nGeneva,\\n\\nApril 30th, 1930,\\n\\nNFEREl\\'TCE WITH A VIE7fT TO CONCERTED\\n\\nECONONIC AC TION.\\n\\nc \\\\\\nc the Council \"by Count MOLTICE, President of the \\n\\nConference.\\n\\n;\\' f ; \\' ,. i;: Z\\n\\\\ The Conference convened in virtue of the TenthitK/\\nx ^\\\\Assembly\\u2019s resolution relating to concerted economic actio: \\n\\nmet at Geneva from February I7th to March 24th, 1930,\\n\\nHaving been invited by the Council to preside over \\n\\nthis Conference, I now have the honour to submit a report on \\n\\nthe results achieved.\\n\\nThirty Governments responded to the Assembly\\u2019s appeal, \\n\\nand sent delegations. With the exception of three overseas \\n\\ncountries (Colombia, Japan, Peru), all the countries represented \\n\\nwere European. The composition of the Conference thus answered\\n\\nto the purpose which the last Assembly had in view, namely that \\n\\nthe work of economic consolidation between States should begin \\n\\nwith closer co-operation between European countries, other \\n\\ncountries which might desire to participate being given an \\n\\nopportunity of so doing. Seven other overseas countries, \\n\\nincluding three non-members of the League (Brazil, Mexico and \\n\\nthe United States of America) sent observers.\\n\\nAn important feature of the Conference was that \\n\\nfifteen countries were represented by their competent Ministers, \\n\\nwhile the others sent their highest officials. This was the\\n\\n\\n\\n-  2 -\\n\\nfirst occasion on which those responsible for the direction \\n\\nof European Customs policy found themselves together, and \\n\\ntheir personal contact did much to facilitate the conclusicn \\n\\nof the agreement reached.\\n\\nThe Conference represented the first stage in the \\n\\nconcerted economic action recommended by the Assembly.\\n\\nDid it achieve its purpose?\\n\\nThe Assembly looked to the Conference, on the one \\n\\nhand, for the conclusion, for a period of two or three years, \\n\\nof a sort of\\' Customs Truce, and, on the other, for the \\n\\nestablishment of a programme of future negotiations.\\n\\nA preliminary draft Customs Truce framed by the \\n\\nEconomic Committee served as a basis for the first part of \\n\\nthe Agenda ; no proposal had been placed before the Conference \\n\\nfor the second part.\\n\\n1. The Economic Committee\\u2019s draft truce aid not meet \\n\\nwith the support of all the countries represented. Some\\n\\nregarded it as not very effective owing to the large number \\n\\nof exceptions requested, while others were unable to agree \\n\\nto the stabilisation, even for a short period, of a tariff \\n\\nsituation which they consider inadequate in view of their \\n\\npresent economic difficulties.\\n\\nThe Conference was thus obliged to abandon the \\n\\nscheme for a Customs Truce properly so-called and to seek \\n\\nother international guarantees which, while taking into \\n\\naccount existing difficulties, would create the atmosphere \\n\\nof security regarded by the Assembly as indispensable from \\n\\nthe standpoint of future negotiations. ^ draft submitted \\n\\nwith this object by the Trench delegation was accepted as \\n\\ne basis for discussion by the Conference and enabled the \\n\\nlatter to arrive at an agreement.\\n\\n\\n\\nn f n  T*rn \\n-1 -L ^ - -a-:- 3\\n\\nThe Comraoroial Convention concluded after five \\n\\nweeks of laborious negotiation is thus very different from \\n\\nthe Economic 0oranittee Ts prelimir \\n\\nperiod of validity, and scope.\\n\\nThe Convention divides States into two groups \\n\\naccording to whether or not they habitually employ the \\n\\ncontractual consolidation of Customs duties. For the first \\n\\ngroup (to which the majority of the Continental States \\n\\nbelong), it provides for the extension of bilateral commercial \\n\\ntreaties for a period of one year, this being equivalent to \\n\\nstabilising, for that neriod, the tariff situation established \\n\\nby those treaties.\\n\\nAs regards the non-consolidated part of the tariffs, \\n\\nthe Convention gives certain guarantees to States which con\\xad\\n\\nsider themselves injured by tariff changes which one of the \\n\\nContracting States might -orcooed to make ; the Contracting\\n\\nParties are reouired tc v one ano\\'cne-]\\n\\nbeforehand of any increase in duties, and further, any \\xa3\\n\\nuo ae:wn i c n c o n s i a ers\\n\\nnegotiations shall be opened and to denounce the multilateral \\n\\nConvention should such negotiations not result in an agreement. \\n\\nThe obligation in regard to preliminary negotiations does not \\n\\napply, however, to tariff increases which certain States might \\n\\nproce 2d to make in virtue of their existing laws (for example, \\n\\nthe \"lois de cadenas\\u201d) or in view of exceptional circumstances. \\n\\nEut even in such cases arw7 Contracting Party which considers\\n\\nitself injured would have \\n\\nConventlon.\\n\\nright to denounce tne ihe multilateral\\n\\n\\n\\nThe cour.trios belonging to the second group - \\n\\nincluding Groat Britain, Denmark, Norway, the \\n\\nNetherlands and Portugal - accepted more formal obli\\xad\\n\\ngations. They undertook not to increase their pro\\xad\\n\\ntective duties during the term of the Convention and \\n\\nrecognised the right of the other Contracting Parties, \\n\\nas regards any increase in their fiscal duties, to \\n\\ndenounce the multilateral Convention should they \\n\\nconsider themselves injured thereby.\\n\\nThe Convention, which was concluded for a \\n\\nperiod of one year from April 1st, 1950, cannot become\\n\\nlegally binding before the November of that year.\\n\\nA mooting of the Contracting States must first bo con\\xad\\n\\nvened by the Secretar* -\\'-oneral of the League during \\n\\nthe first half of November 1930 to fix the date of the \\n\\ncoming into force of the Convention and, if necessary, \\n\\nto draw up a list of the States whose accession is con\\xad\\n\\nsidered indispensable for the coming into force of that \\n\\nConvention.\\n\\nAlthough the Customs Truce which was the \\n\\noriginal object of the Conference was not achieved, the \\n\\nprorogation of the commercial treaties, the obligation \\n\\nto engage in negotiations before imposing any increase \\n\\nin non-conventional tariff items, and \"Che consolidation of\\n\\n\\n\\n- 5-\\n\\nprotective duties in countries with autonomous tariffs does, \\n\\nhowever, constitute a relative stabilisation of the present \\n\\ntariff situation. It is hardly conceivable that a Gontraoting \\n\\nState, unless driven by very serious reasons, to adopt such \\n\\na course would take the responsibility of forcing another \\n\\nContracting State to denounce the multilateral Convention \\n\\nwhich would probably be equivalent to the cancellation of the \\n\\nlatter, in view of the close economic interdependence between \\n\\nthe countries Parties to the Convention.\\n\\nAs already mentioned, the Convention has been concluded \\n\\nfor a period of one year, from April 1st, 1930 to March 31st, 1931, \\n\\nbut it may remain in force for successive periods of six months.\\n\\nIt thus contains a nucleus for further development and makes it \\n\\npossible to continue the work begun.\\n\\nIn view of the special character of the Convention, \\n\\neverything must obviously depend upon the spirit in which it is \\n\\napplied \\xab Particular importance attaches, therefore, to the pro\\xad\\n\\nvisions of Article XI, under which the Contracting States agree to \\n\\napply it in a spirit of loyal co-operation.\\n\\nThe Convention was signed on th e  day that the \\n\\nConference closed by eleven countries,(Austria, Belgium,\\n\\nGreat Britain, Estonia, Finland, France, Germany, Italy,\\n\\nLuxemburg, the Netherlands and Switzerland) and has since \\n\\nbeen signed by seven others (Denmark, Greece, Latvia, Norway,\\n\\nPoland, Roumania and Sweden), Any Member of the League of \\n\\nNations or non-member State may still aocede to the  \\n\\nConvention.\\n\\n\\n\\n-  6 -\\n\\n2 .  TjL9._fro/rraaiine of Future Kogotiationa forms th e  o u b -  \\n\\njeot of a Irot oco 1 in which the Signatory States reoomiioe \\n\\nit as ind ispenoeble \"that c one or ted action should be under\\xad\\n\\ntaken , directed to secure closer co\\u2014opsrat  ion, the improve\\xad\\n\\nn\\u2019s nt of the regime of production and trade, the on largement \\n\\nof markets, ana to facilitate the relations of the European \\n\\nmarkets between themselves and v/itb overseas markets, so as \\n\\nto consolidate economic peace between the nations\\u201d.\\n\\nThe purpose of the proposed negotiations wi11 be \\n\\nto determine the most effective means of ad just in? economic \\n\\nconditions in the c\" if f er ,-nt countries, of crsrfnisin? more \\n\\nrationally the production and circulation of wealth, and of \\n\\nremoving, as far as possible , unjust if i-ci hinarances which \\n\\ndamper the development of international trace,\\n\\nHaving thus tr v e ad the me i n 1i nes fer futuro nego\\xad\\n\\ntiations, the Protocol sketch as the procedure to be followed \\n\\nin preparing these negotiations,\\n\\nT h o 3 o ve r n m e n t s of t h e Si? n a to zy St a % e s will f o re ard \\nto the Secretariat m., mo ran da in ansv.er to a general question\\xad\\n\\nnaire included in the Protocol. ihese memorand- wi1t be \\nstudied by the Economic Organisation which will formulate pro\\xad\\n\\nposals on the concrete points with which the propcsed nogo* isti( \\n\\nshould deal. These proposals will bo submitted to Governments \\n\\nafter receiving the letter\\u2019s replies or counter-proposals, \\n\\nthe Council will draw up the subsequent procedure.\\n\\n13 o da t e h a s t c e n fixed f e r t h e f o r v; a r d i n ? o f t b e \\n\\n3 o ve r nme n t m em ora n d :,, bu t- a s t h e Pretcc ol provi d e s t h a t the \\n\\nfjvgot iat ions prop-rly so called ere to begin before the e emir y \\n\\nci\\' the Commere ial Convention, thf t is before iviarch 31st, 1931, \\n\\ntt3o memoranda will have to be submitted soon.\\n\\n\\n\\n-  7 \\xbb\\n\\n\\xfc i t h o u t  a n t i c  l o t t i n g  th u  r e s u l t s  c f  tLoso g o n o r r l  \\n\\nuagcti  a t i o n s  6 the S i g n a t o r y  S t a t e s  have docida\\xe0  tu  cD-opora to  \\n\\nps f i r  es p o s s i b l o  i n  the s o l u t i o n  of c e r t a i n  s p e c i a l  p r o b l e m s \\u201e \\n\\nso:ne c f  which a r e  c I r e  ad y \"doing i n v e s t i g a t e d .\\n\\nI t  ht.s \"boen agreed:\\n\\n(a) to  pursue  t h e  work  r e l a t i n g  to the u n i f  io a t  i on  of  \\ncustoms noneno1 av a 10. 5ho Boonomis O r g a n i s a t i o n  of the Leegue\\n\\nis re ques te d  t e  p r e p a r e  t h e  f o u n d a t i o n s  f o r  an i n t e r n a t i o n a l  \\n\\nagreement i n  the  m a t t e r ;\\n\\nf b ; t o  t  r.ke the  s t o p s  r e q u i r e d  to  c l  low a s y s t e m a t i c  \\n\\ncouroari son of  t  \\xa3 r i f f s  end to c o d i f y  c e r t  s i n  p r o v i s i o n s  o t h e r  \\n\\nthan t a r i f f  p r o v i s i o n s  embodied i n  c cn im eic i e l  t r e a t i e s  a n d , \\n\\nf u r t h e r ,  t o  s t u d y  t h e  e s t a b l i s h m e n t  of  e permanent  tori y f o r  \\n\\n\\u2022\\' r t  i  t r  at  i  c n and c o n o i l  i  a t  i  c n ;\\n\\nf o ) to  c o l l e c t ,  w i th  the  a s s i s t a n c e  cf t h e  S i g n a t o r y  S t a t e s , \\nr . l l  i n f o r m a t i o n  r e l a t i n g  to i n d i r e c t  p r o t e c t i o n i s t  p r a c t i c e s  and \\n\\nto study th e  p o s s i b i l i t y  c f  i n t e r n a t i o n a l  a c t i o n  t o  combat t h e i r  \\n\\ne f fec ts  ;\\n\\n( d ) t o  s t u d y  th o  q u e s t i o n s  c f  e x p o r t  b o u n t i e s  and s u b s i d i e s ;  \\nfe) to  omit i n  t h e  p r e s e n t  s t u d i e s  of v e t e r i n a r y  m easu res ,  \\n\\nin order  t h a t  a Conference  may be convened as soon as p o s s i b l e  \\n\\nfor t h e  c o n c l u s i o n  o f  one or  more i n t e r n a t i o n a l  v e t  or i  n a ry\\n\\ne tvn vont io n s  ;\\n\\n( f  ! to p r e s s  forward t h e  work on t r e a t m e n t  o f  f o r e i g n e r s ,  \\nunfair  c o m p e t i t i o n , customs f o r m a l i t i e s , double  t a x a t i o n ,  e t c  \\xab . , , .\\n\\nF u r t h e r ,  the  s i g n a t o r i e s  have agreed t h a t  i n  a l l  \\n\\nsubsequent w ork , r eg a rd  s h a l l  bo had to t he  recomncnd a t  ions  and \\n\\noona idora t ions  which a r e  embodied i n  the  Annerr to  t he  P r o t o c o l  \\n\\n^d  which r e l a t e  to t h o  f o l l o w i n g  q u e s t i o n s  :\\n\\n\\n\\n-  8 -\\n\\n1) the adjustment of economic relations tat7/3 ezi \\n\\ni n d u s t r i a l  and agricultural countries;\\n\\n2) t he  r e p e r c u s s i o n  o f  c o l l e c t i v e  agreements  on the\\nr s 1 at 10 ii between the States Partie oreto ana TLira  ^art les ;\\n\\n3 ) various questions connected with international economic \\n\\nr e l a t i o n .\\n\\nThis chapter covers questions which the Economic \\n\\nCommittee is already investigating, and other questions \\n\\nsuch as the recommendation concerning improvements in \\n\\nthe matter of transport, more particularly the transport \\n\\nof agricultural products, concerning which the Communica\\xad\\n\\ntions and Transit Organisation is asked jointly with \\n\\nthe Economic Organisation to undertake the necessary \\n\\ninvestigation.\\n\\nThe Protocol regarding the Programme tif Future \\n\\nNegotiations constitutes an undertaking only \"between tho Govern\\xad\\n\\nments and is thus not subject to ratification by the national \\n\\nParliaments. It has already been signed by twenty-three Govern\\xad\\n\\nments , namely: Germany, Austria, Belgium, Great Britain, Denmark, \\n\\nEstonia, Finland, France, Greece, Hungary, Italy, Latvia, \\n\\n-Lithuania , Luxemburg, Norway, The Nether land s , Poland, Portugal, \\n\\nBoumania, Sweden, Switzerland, Czechoslovakia and Yugoslavia.\\n\\nIn tho F i n a 1 ret which it adopted the Conference, \\n\\nrecognising the importance of the markets of overseas countries\\n\\n* 0 r t b e sc on on; i f E u r o o e , rocommends t h a t  the  Economic\\n\\norganisation of the League of Nations should undertake an \\n\\nObjcetivo investigation into the means of establishing close \\n\\nco-operat ion between Europe and overseas countries and should, \\n\\nla particular, ccnsider in what respect trade relations might \\n\\nCG improved with economic advantage.\\n\\n\\n',\n",
       " 'category': 'COUNCIL DOCUMENT',\n",
       " 'collection': 'lon',\n",
       " 'dateCreated': '2013-08-21T09:14:59Z',\n",
       " 'docType': 'council',\n",
       " 'filename': '/Users/kevinbradley/Desktop/lon/council/0679234/C-234-1930-II_EN.xml',\n",
       " 'id': 'C.234.1930.II_en',\n",
       " 'languageCode': 'en',\n",
       " 'last_update': '2015-09-03T15:29:56.164Z',\n",
       " 'outputFilename': '/Users/kevinbradley/Desktop/lon_output/C.234.1930.II_en',\n",
       " 'pdfContentLength': '13488',\n",
       " 'pdfContentType': 'application/pdf',\n",
       " 'pdfCreated': 'Wed Aug 21 05:14:59 EDT 2013',\n",
       " 'pdfCreationDate': '2013-08-21T09:14:59Z',\n",
       " 'pdfDCTermsModified': '2013-08-21T09:14:59Z',\n",
       " 'pdfDate': '2013-08-21T09:14:59Z',\n",
       " 'pdfFilename': '/Users/kevinbradley/Desktop/lon/council/0679234/C-234-1930-II_EN.pdf',\n",
       " 'pdfLastModified': '2013-08-21T09:14:59Z',\n",
       " 'pdfModified': '2013-08-21T09:14:59Z',\n",
       " 'publicationDate': '1930-01-01T00:00:01Z',\n",
       " 'score': 1.0,\n",
       " 'symbol': 'C.234.1930.II',\n",
       " 'title_en': 'PRELIMINARY CONFERENCE WITH A VIEW TO CONCERTED ECONOMIC ACTION. Report to the Council by Count MOLTKE, President of the Conference.\\n',\n",
       " 'url': 'http://biblio-archive.unog.ch/Dateien/CouncilDocs/C-234-1930-II_EN.pdf',\n",
       " 'volume_barcode': '0679234'}"
      ]
     },
     "execution_count": 31,
     "metadata": {},
     "output_type": "execute_result"
    }
   ],
   "source": [
    "response2['response']['docs'][2]"
   ]
  },
  {
   "cell_type": "code",
   "execution_count": 33,
   "metadata": {
    "collapsed": false
   },
   "outputs": [
    {
     "data": {
      "text/plain": [
       "['facet_counts', 'highlighting', 'responseHeader', 'response']"
      ]
     },
     "execution_count": 33,
     "metadata": {},
     "output_type": "execute_result"
    }
   ],
   "source": [
    "response2.keys()"
   ]
  },
  {
   "cell_type": "code",
   "execution_count": 34,
   "metadata": {
    "collapsed": false
   },
   "outputs": [
    {
     "data": {
      "text/plain": [
       "{'docs': [{'_version_': 1511306503003308032,\n",
       "   'body_en': u'\\nLEAGUE OF NATIONS.\\nCommunicated t o  t h e  ~ C \\xbb 8 3 1 . M . 4 1 S . 1 9 3 1 . V I I .\\nC o u n c i l  and  M em bers\\no f  t h e  L e a g u e  o f  N a t i o n s .  G e n e v a ,  N o v e m b er  1 1 t h ,  1 9 3 1 .\\n\\nAPPFAL 3 7  THF CHINESE GOVFRNH^NT UNDER APTICLF 11\\n\\nOF THF COVSffANT.\\n\\nCooraianl c a t i o n  f r o m  t h e J a p a n e s e  B e l e g a _ t i o n .\\n\\n?To t e  b y  t h e  S e c r e t a r y - G e n e r a l .\\n\\nThe  S e c r e t a r y - G e n e r a l  h a s  t h e  h o n o u r  t o  c o m m u n i c a t e  t o  t h e  \\nC o u n c i l  t h e  f o l l o w i n g  t o l e g r a m  d a t e d  P a r i s , N o v em b er  1 0 t h ,  a t  6 . 5  \\np . m . , w h i c h  h e  h a s  j u s t  r e c e i v e d  f r o m  t h e  J a p a n e s e  D e l e g a t i o n .\\n\\nI  h a v e  h o n o u r  t o  c o m m u n i c a t e  t o  v o u  sum m ary  o f  t e l e g r a m s  \\nr e c e i v e d  b y  J a p a n e s e  D e l e g a t i o n  r e g a r d i n g  i n c i d e n t s  w h i c h  t o o k  p l a c e  \\na t  T i e n t s i n  t h e  d a y  b e f o r e  v a s t e r S a y  a n d  t o d a y :\\n\\nN o v e m b e r  8 t h  a t  a b o u t  10 a . m .  o u r  C o n s u l  G e n e r a l  a t  T i e n t s i n  \\nwas i n f o r m e d  t h a t  d i s t u r b a n c e s  h a d  t a k e n  p l a c e  i n  C h i n e s e  t o w n .\\nA r i o t  was  s a i d  t o  h a v e  b r o k e n  o u t  a t  t h e  i n s t i g a t i o n  o f  r e a c t i o n a r y  \\ne l e m e n t s  an d  f i g h t s  w e r e  t a k i n g  p l a c e  b e t w e e n  C h i n e s e  n o l i c e  f o r c e s \\' 7 \\nand  t h e  r i o t e r s .  O ur  G e n e r a l  C o n s u l a t e  i m m e d i a t e l y  h a d  m e a s u r e s  o f  \\ns e c u r i t y  t a k e n  b y  J a p a n e s e  p o l i c e .\\n\\nAt 1 1 . 3 0  o u r  t r o o p s  w e r e  s t a t i o n e d  a l o n g  t h e  l i n e  o f  d e m a r \\xad\\nc a t i o n  b e t w e e n  J a p a n e s e  c o n c e s s i o n  a n d  C h i n e s e  t o w n .  N e v e r t h e l e s s  \\na f u s i l l a d e  h a v i n g  b e e n  h e a r d  i n  t h e  s o u t h e r n  p a r t  o f  t h e  to w n  i n  t i e  \\nd i r e c t i o n  o f  t h e  J a p a n e s e  b a r r a c k s ,  a r u m o u r  h a d  s p r e a d  t h a t  m i l i t a r y  \\na c t i o n  was  b e i n g  t a k e n  b y  t h e  J a p a n e s e  t r o o p s . I n  o r d e r  t o  c h e c k  \\nt h e  s p r e a d  o f  t h i s  f a l s e  r e p o r t  J a p a n e s e  a u t h o r i t i e s  i m m e d i a t e l y  i n \\xad\\nf o r m e d  ^ G e n e r a l  -,fang Chu C h a n g ,  i n  command o f  t h e  s e c o n d  a rm y  c o r p s  a t  \\n\\nl e n t s i n ,  t h r o u g h  t h e  F r e n c h  C o n s u l  t h a t  t h e  r u m o u r  was a b s o l u t  e l v  \\nf a l s e  a n d  t h a t  t h e r e  h a d  e v e n  b e e n  c a s u a l t i e s  among t h e  J a p a n e s e . \"  \\n^ G ^ y ^ l s o  m ade  a v e r b a l  p r o t e s t  t o  t h e  C h i n e s e  p o l i c e  f o r c e s  a e a i n s t  \\nt h e  a s s e r t i o n  t h a t  t h e  J a p a n e s e  w e r e  r e s p o n s i b l e  f o r  t h e  e v e n t s .\\n\\nF i g h t i n g  was  t a k i n g  p l a c e  o n  t h e  b o r d e r s  o f  o u r  \\na t  a b o u t  m i d n i g h t  a J a p a n e s e  s e n t r y  was  k i l l e d  b y  s h o t s  \\np o l i c e .  The  p r o x i m i t y  o f  J a p a n e s e  and  C h i n e s e  f o r c e s ,  \\nt i m s  w e r e  o n l y  f i f t y  m e t r e s  a p a r t ,  b e i n g  l i a b l e  t o  g i v e  \\n^ o r t u n a t e  i n c i d e n t s ,  e s p e c i a l l y  d u r i n g  t h e  n i g h t ,  s t a f f  \\n\\xa7nrir .1 - 2 n  aslce3 G e n e r a l  7,ra n g  t o  w i t h d r a w  h i s  f o r c e s  t o  a \\n\\nm e t r e s  f r o m  t h e  c o n c e s s i o n  b e f o r e  3 a . m .\\n\\nc o n c e s s i o n  and  \\nf r o m  C h i n e s e  \\nw h i c h  a t  o n e  \\nr i s e  t o  u n -  \\no f  J a p a n e s e  \\nd i s t a n c e  o f\\n\\n, A t S a . m .  com m ander  o f  J a p a n e s e  t r o o p s  h e l d  a m e e t i n g  o f  t h e\\nf  ? h e  F r e n o h \\xbb B r i t i s h ,  I t a l i a n  and  A m e r i c a n  g a r r i s o n s  e n d  g a v e  \\n\\ni n f o r m a t i o n  a s  t o  m e a s u r e s  he  h a d  t a k e n ,  i n  v i t  i n g  t h e m  t o  \\nt w  j-l n e  01 P r o t e c t i o n .  Commanders  o f  f o r e i g n  g a r r i s o n s  d e c l a r e d\\no u a ^ ^ P f  + S? k 1S\\xce  1\\xee d w l t h  i n f o r m \\xe2 t  i o n  g i v e n  an d  r e t u r n e d  t o  t h e i r  h e a d -  \\n-x u_ s  \\xfcu a b o u t  4 a . m .  w i t h o u t  c a r r y i n g  o u t  t h e  p r o p o s e d  i n s p e c t i o n .\\n\\n- o w + i v ?  abo1i t T4 *30  a *m* a ? a i n  a J a p a n e s e  N . C . O .  was  h i t  b y  C h i n e s e  \\ne s  and  J a p a n e s e  command r e p e a t e d  i t s  r e q u e s t  t o  G e n e r a l  Wang.  \\n\\nf \" t h p  h a v i n g  a l s o  c o n v i n c e d  t h e  p r o v i n c i a l  a u t h o r i t i e s\\n^ a w a l  n f  i\\xef+\\xef s e Pr a t m g  t n e  J a p a n e s e  a n d  C h i n e s e  f o r c e s ,  w i t h -IIerl ?*!sr J85, d o e i d e d  f o r  7 a  n .  T h e  r i o t e r s  h a d  te o n\\nicp-.  ~ +,y h lD wuv f a r c e s ,  i iut  a  f e w  s k i r m i s h e s  w e r e  s t i l l  t e k  i n g\\nJ-ace on  t h e  b a n k s  o f  t h e  P e i h o .  \\xeb\\n\\ni r i n r *  C h i n e s e  t r o o p s  h a d  n o t  v e t  moved o f f  a n A wpt-p\\ne y o r fh s le ss  es a \\xee e S \\xee \\xee  \\u2019 o ^ u S ^  \\xee r o m ^ I t h i S h n ? S o r S i s \\xef ^\\nr a \\u2019iAqr \\u2022 result Oj f u r t h e r  u r g e n t  r e p r e s e n t a t i o n s  o f  t h e\\ni n a i l v  mSvo\\xe0 5 f \\xee  S o S t V a * ?  *\\xb0 K ? 141? *  c o n f l l ? t -  C h i n e s e  s o l d i e r s\\n;s  dvinn- d o 4 r  ,  S  8 A f t e r  9 a . m .  n o i s e  o f  f u s i l l a d e s\\n\\nh a t  J ap an es \\' \\' \"  r,?* \\xb0 :  P ^ d e n c e  o u r  G e n e r a l  C o n s u l a t e  o r d e r e d\\ni t h i n  t h e  l a t t e r  s t i l x  o u t s i a e  t h e  c o n c e s s i o n  s h o u l d  be b r o u g h t\\n\\nSAM AD A.\\n\\n\\n',\n",
       "   'category': 'COUNCIL MEMBER STATES',\n",
       "   'collection': 'lon',\n",
       "   'dateCreated': '2014-01-06T08:10:40Z',\n",
       "   'docType': 'member',\n",
       "   'filename': '/Users/kevinbradley/Desktop/lon/member/0679254/C-831-M-412-1931-VII_EN.xml',\n",
       "   'id': 'C.831.M.412.1931.VII_en',\n",
       "   'languageCode': 'en',\n",
       "   'last_update': '2015-09-03T15:29:56.122Z',\n",
       "   'outputFilename': '/Users/kevinbradley/Desktop/lon_output/C.831.M.412.1931.VII_en',\n",
       "   'pdfContentLength': '5943',\n",
       "   'pdfContentType': 'application/pdf',\n",
       "   'pdfCreated': 'Mon Jan 06 03:10:40 EST 2014',\n",
       "   'pdfCreationDate': '2014-01-06T08:10:40Z',\n",
       "   'pdfDCTermsModified': '2014-01-06T08:10:40Z',\n",
       "   'pdfDate': '2014-01-06T08:10:40Z',\n",
       "   'pdfFilename': '/Users/kevinbradley/Desktop/lon/member/0679254/C-831-M-412-1931-VII_EN.pdf',\n",
       "   'pdfLastModified': '2014-01-06T08:10:40Z',\n",
       "   'pdfModified': '2014-01-06T08:10:40Z',\n",
       "   'publicationDate': '1931-01-01T00:00:01Z',\n",
       "   'score': 1.0,\n",
       "   'symbol': 'C.831.M.412.1931.VII',\n",
       "   'title_en': 'APPEAL BY THE CHINESE GOVERNMENT UNDER ARTICLE 11 OF THE COVENANT. Communication from the Japanese Delegation. \\n',\n",
       "   'url': 'http://biblio-archive.unog.ch/Dateien/CouncilMSD/C-831-M-412-1931-VII_EN.pdf',\n",
       "   'volume_barcode': '0679254'},\n",
       "  {'_version_': 1511306503027425280,\n",
       "   'body_fr': u'\\nS0CIET3 DES NATIONS.\\n\\nCommuniqu\\xe9 au Conseil 0 , 5 2 4 .1 1 1 .5 5 5 .1 9 5 6 .XI.\\net aux Membres de la\\n\\nSoci\\xe9t\\xe9, Gen\\xe8ve, le 27 novembre 1 9 5 6,\\n\\nTRAFIC DE L1OPIUM ET AUTRES DROGUES NUISIBLES.\\n\\nNOTES ECHANGEES A TOKIO LE 30 MARS 1936 ENTRE L \\u2019AMBASSADEUR \\nDE GRANDE-BRETAGNE ST LE MINISTRE DES AFFAIRES ETRANGERES DU \\nJAPON, RELATIVEMENT A UN ACCORD ADMINISTRATIF CONCLU ENTRE \\nLES GOUVERNEMENTS DU ROYAUME-UNI ET DU JAPON POUR ETABLIR \\nUNE COLLABORATION EN VUE DE RECUEILLIR ET DE TRANSMETTRE \\nTOUS RENSEIGNEMENTS PROPRES A AMENER LA DECOUVERTE ET \\nL1ARRESTATION DE PERSONNES SE LIVRANT AU TRAFIC ILLICITE \\nDES DROGUES NUISIBLES ET LA SAISIE DE CES DROGUES.\\n\\nCommuniqu\\xe9 par le Gouvernement du Royaume-Uni.\\n\\nNote du Secr\\xe9taire g\\xe9n\\xe9ral.\\n\\nConform\\xe9ment \\xe0 l\\u2019article 21 de la Convention de \\n\\n1931 pour limiter la fabrication et r\\xe9glementer la distri\\xad\\n\\nbution des stup\\xe9fiants, le Secr\\xe9taire g\\xe9n\\xe9ral a l\\u2019honneur \\n\\nde communiquer ci-joint, aux Parties \\xe0 la Convention et \\n\\naux autres Etats copie des notes ci-dessus qui ont \\xe9t\\xe9 \\n\\n\\xe9chang\\xe9es entre les Gouvcrnnmnts du Royaum\\u2014 Uni ot du \\n\\nJapon,\\n\\nCe document est \\xe9galement communiqu\\xe9 \\xe0 la Commission \\n\\nconsultative du trafic do l\\'opium ot autres drogues \\n\\nnuisibles.\\n\\n\\n\\nI\\'. Sir R. Clive \\xe0 M, Hirota.\\n\\n(traduction) Tokio, le 30 mars 1936\\n\\nExcellence,\\n\\nEn vue de collaborer \\xe0 la r\\xe9union et \\xe0 la transmis\\xad\\nsion de renseignements pouvant amener la saisie de drogues \\nillicites ainsi que la d\\xe9couverte et l\\u2019arrestation de \\npersonnes se livrant au trafic de ces drogues, j\\u2019ai 1 \\u2019hon\\xad\\nneur d\\u2019ordre du Principal Secr\\xe9taire d\\u2019Stat de Sa Majest\\xe9 \\naux Affaires \\xe9trang\\xe8res, de porter \\xe0 la connaissance de \\nVotre Excellence que le Gouvernement de Sa Majest\\xe9 dans \\nle Royaume-Uni de Grande-Bretagne et d \\u2019Irlande du Nord \\napprouve les dispositions ci-apr\\xe8s comme constituant un \\naccord, sur la base de la r\\xe9ciprocit\\xe9, entre ledit Gou\\xad\\nvernement et le Gouvernement imp\\xe9rial du Japon:\\n\\n(1) Les agents diplomatiques et consulaires do Sa \\nMajest\\xe9 d\\xe9sign\\xe9s sur l \\u2019avis du Gouvernement de Sa Majest\\xe9 \\ndans le Royaume-Uni, et les autorit\\xe9s comp\\xe9tentes du Gou\\xad\\nvernement de Sa Majest\\xe9 dans le Royaume-Uni recevront des \\ninstructions pour collaborer avec les autorit\\xe9s japonaises \\ncomp\\xe9tentes, telles qu\\'elles sont indiqu\\xe9es dans la liste A \\nci-annex\\xe9e, ou selon les circonstances,avec l\\u2019agent diplo\\xad\\nmatique ou consulaire japonais comp\\xe9tent, par voie de oommu \\nnioation r\\xe9ciproque de renseign:;monts concernant les agisse \\nments et d\\xe9placements de personnes connues comme se livrant \\nau trafic illicite des stup\\xe9fiants.\\n\\n(2) Les agents diplomatiques et consulaires japonais \\n\\xe0 1\\u2019\\xe9tranger et les autorit\\xe9s comp\\xe9tentes du Gouvernement \\nimp\\xe9rial du Japon recevront des instructions analogues pour \\ncollaborer aveo les autorit\\xe9s comp\\xe9tentes du Gouvernement \\nde Sa Majest\\xe9 dans le Royaume-Uni, telles qu\\'elles sont \\nindiqu\\xe9es dans la liste B ci-annex\\xe9e, ou, selon las circons \\ntances aveo l\\u2019agent diplomatioue ou consulaire britannique \\ncomp\\xe9tent.\\n\\n(3 ) Les dispositions du pr\\xe9sent accord s\\u2019appliqueront \\n\\xe0 Terre-Neuve et \\xe0 toutes les colonies et protectorats \\nbritanniques, ainsi qu\\'\\xe0 tous les territoires sous mandat\\n\\xe0 l\\u2019\\xe9gard desquels le mandat est exerc\\xe9 par le Gouvernement \\nde Sa Majest\\xe9 dans le Royaume-Uni, et les autorit\\xe9s comp\\xe9\\xad\\ntentes, aux fins du pr\\xe9sent accord, \\xe0 \\'Terre-Neuve et dans \\nles colonies, protectorats et territoires sous mandat \\nmentionn\\xe9s ci-dessus seront celles qui sont indiqu\\xe9es \\ndans la liste C ci-annex\\xe9e.\\n\\n(4) Le pr\\xe9sent accord entrera en vigueur un mois \\napr\\xe8s la date de 1 \\u2019\\xe9change de la pr\\xe9sente note et de\\nla r\\xe9ponse cui y sera faite par le Gouvernement japonais, \\net prendra fin moyennant un pr\\xe9avis de six mois donn\\xe9 \\xe0 \\ncet effet par l\\'une ou l\\u2019autre des Parties.\\n\\n\\n\\n- 3 -\\n\\n3. Les Gouvernements de Sa Majest\\xe9 dans le \\nCommonwealth d \\u2019Australie et en Nouvelle-Z\\xe9lande et le Gou\\xad\\nvernement de 1 * Inde ayant exprim\\xe9 le d\\xe9sir de devenir parties \\n\\xe0 des \\u2018accords analogues avec le Gouvernement japonais, j\\'ai \\n1\\u2019honneur, \\xe0 la demande de chacun desdits Gouvernements, de \\nd\\xe9clarer qu\\u2019ils approuvent 1\\u2019application mutat is mutandis, de \\n\\u25a0dispositions, analogues aux \\u2022 dispositions \\xe9nonc\\xe9es ci-dessus, \\nqui constitueront des accords sur la base de la r\\xe9ciprocit\\xe9, \\nentre chacun desdits Gouvernements et le Gouvernement imp\\xe9\\xad\\nrial du Japon. Aux fins de ces accords, les autorit\\xe9s comp\\xe9\\xad\\ntentes de chacun desdits Gouvernements seront, respectivement, \\ncelles qui sont d\\xe9sign\\xe9es dans la liste D ci-annex\\xe9e\\u201e\\n\\n3, Si le Gouvernement japonais app^ou^e les dispo\\xad\\nsitions qui pr\\xe9c\\xe8dent, la pr\\xe9sente note v . \\' e t  votre r\\xe9ponse, \\ncon\\xe7ue en termes anabgues, seront consid\\xe9r\\xe9es comme enregis\\xad\\ntrant les divers accords intervenus, en cette mati\\xe8re, entre \\nles Gouvernements respectifs *\\n\\nJe saisis cette occasion, etc \\u201e,\\u201e\\n(sign\\xe9) R\\u201eH. CLIVE.\\n\\nLISTE A.\\n\\nJapon proprement dit: Directeur du Bureau des Trait\\xe9s et \\nConventions au Minist\\xe8re des Affaires \\xe9trang\\xe8res ; \\ndans les cas pr\\xe9sentant une urgence sp\\xe9ciale, les \\nGouverne mes- locaux et les directeurs des douanes \\n\\n, locaux\" qui sont comp\\xe9tents,\\n\\nCor\\xe9e : Gouvernement g\\xe9n\\xe9ral de Cor\\xe9e\\u201e\\n\\nFormose: Gouvernement g\\xe9n\\xe9ral de Formose\\n\\nTerritoire \\xe0 bail du Kuangtoung ; Gouvernement du territoire \\n\\xe0 bail du Kuangtoung,\\n\\nSakhaline: Gouvernement du Sakhaline \\xab\\nIles des Mers du Sud sous mandat japonais : Bureau des Mers \\n\\ndu Sud, Palao,\\n\\nLISTE B \\u201e.\\n\\nDans le Royaume-Uni de Grande-Bretagne et d\\u2019Ir\\xad\\nlande du Nord ; le Principal Secr\\xe9taire d \\u2019 Et at de Sa Majest\\xe9 \\n\\xe0 l\\u2019Int\\xe9rieur ; dans les cas* pr\\xe9sentant une urgence sp\\xe9ciale, \\nil sera \\xe9galement possible, de se mettre directement en commu\\xad\\nnication avec les autorit\\xe9s locales de police ou avec fonc\\xad\\ntionnaires locaux des douanes.\\n\\n\\n\\n- 4 -\\n\\nLISTE C, _\\n\\nTerre Neuve : Ministre des Finances et des Douanes, St.Johns,\\n\\nRhod\\xebsie m\\xe9ridionale \\xee Secr\\xe9taire du D\\xe9partement jurfiique, \\nSalisbury,\\n\\nGibraltar ; Secr\\xe9taire colonial\\u201e\\n\\nMalte : Secr\\xe9taire du Gouvernement,\\n\\nChypre \\xee Secr\\xe9taire colonial, Nicosia,\\n\\nPalestine; Secr\\xe9taire principal, J\\xe9rusalem.\\n\\nCeylani Secr\\xe9taire principal, Colombo,\\n\\nHong Kong : Secr\\xe9taire colonial,, Hong Kong,\\n\\nEtablissements des D\\xe9troits : Secr\\xe9taire colonial, Singapour.\\n\\nEtats malais f\\xe9d\\xe9r\\xe9s : Secr\\xe9taire principal, Kuala Lumpur\\n\\nEtats malais non f\\xe9d\\xe9r\\xe9s \\xee -\\n\\nJohore; Conseiller g\\xe9n\\xe9ral, Johore Bahru,\\nKedah\\xef Conseiller britannique, Alor Star.\\nP\\xe9ris \\xee Conseiller britannique, Kangar.\\nKelantanr Conseiller britannique, Kota Bahru,\\nTrengganu% Conseiller britannique, Kuala Trengganu, via \\n\\nSingapour t\\nBrunei : R\\xe9sident britannique , Brunei,\\n\\nNord-Born\\xeaot Secr\\xe9taire du Gouvernement, Jesselton.\\n\\nSarawak : Secr\\xe9taire du Gouvernement, Kuching*.\\n\\nIle Maurice \\xb0. Secr\\xe9taire colonial \\u201e\\n\\nSeychelles\\xee Gouverneur\\u201e\\n\\nSte H\\xe9l\\xe8ne \\xef Gouverneur \\xbb\\n\\nNig\\xe9rie (y compris le Cameroun sous mandat britannique): \\nSecr\\xe9taire principal, Lagos,\\n\\nC\\xf4te de 1 !Or (y compris le Togo sous mandat britannique) \\xee \\nSecr\\xe9taire colonial, Accra,\\n\\nGambie : Secr\\xe9taire colonial; Bathurst,\\n\\nSierra Leone ; Secr\\xe9taire colonial, Freetown,\\n\\nKenya : Secr\\xe9taire colonial, Nairobi,\\n\\nZanzibar: Secr\\xe9taire principal,\\n\\nOuganda, Secr\\xe9taire principal, Entebbe,\\n\\n\\n\\nNyassaland: Secr\\xe9taire principal, Zomba,\\n\\nTerritoire du Tanganykas Secr\\xe9taire principal* Dar-es-Salaam. \\n\\nSomalie: Secr\\xe9taire du Gouvernement, Sheikh, via Aden.\\n\\nRhod\\xeasie septentrionale: Secr\\xe9taire principal, Livingstone. \\n\\nBassoutoland: Commissaire r\\xe9sidant, Maseru,\\n\\nProtectorat du Betchouanaland; Commissaire r\\xe9sidant: Mafeking.\\n\\nSouaziland: Commissaire r\\xe9sidant; Mbabane.\\n\\nIles Bahama; Secr\\xe9taire colonial, Nassau,\\n\\nBermudes; Secr\\xe9taire colonial, Hamilton,\\n\\nGuyane britannique: Secr\\xe9taire colonial, Georgetown,\\n\\nHonduras britannique\\xee Secr\\xe9taire colonial, Belize.\\n\\nIles Falkland: Secr\\xe9taire colonial, Port Stanley.\\n\\nBarbade: Secr\\xe9taire colonial, Bridgetown,\\n\\nJama\\xefque : Secr\\xe9taire colonial, Kingston.\\n\\nTrinit\\xe9: Secr\\xe9taire colonial, Port of Spain,\\n\\nIles du V=nt:\\n\\nGrenade: Secr\\xe9taire colonial.\\nSte Lucie: Administrateur,\\nSte Vincent: Administrateur,\\n\\nIles sous le Vent : Secr\\xe9taire colonial. Antigua.\\nIle Fidji: Secr\\xe9taire colonial, Suva,\\nColonie des Iles Gilbert et Ellice: Commissaire r\\xe9sidant. \\n\\nProtectorat britannique des Iles Salomon: Commissaire r\\xe9sidant, \\n\\nTonga; Agent et Consul britannique.\\n\\nLISTS D.\\n\\nDans le Commonwealth d\\u2019Australie: Contr\\xf4leur g\\xe9n\\xe9ral, D\\xe9parte\\xad\\nment du Commerce et des Douanes, Canberra,\\n\\nEn Nouvelle-Z\\xe9lande: D\\xe9partement des Douanes, Wellington, \\nNouvelle-Z\\xe9lande\\u201e\\n\\nDans l\\u2019Inde (y compris la Birmanie): le Gouvernement de l*Inde \\n(D\\xe9partement des Finances, Recettes centrales) \\nou, enc as d \\u2019urgence, les receveurs des douanes \\nlocaux.,\\n\\n\\n\\n- 6 -\\n\\nII. M. Hlrota \\xe0 Sir R. Clive.\\n(Traduction) Tokio, le 50 mars 1936.\\n\\nExcellence,\\n\\nMe r\\xe9f\\xe9rant \\xe0 la note de Votre excellence en date de ce jour \\nconcernant la collaboration pour la r\\xe9union et la transmission de \\nrenseignements pouvant amener la saisie de drogues illicites ainsi \\nque la d\\xe9couverte et 1 1 arrestation de personnes se livrant au \\ntrafic de ces drogues, j\\'ai 1 \\'honneur de porter \\xe0 votre connais\\xad\\nsance que le Gouvernement imp\\xe9rial du Japon approuve les disposi\\xad\\ntions ci-apr\\xe8s comme constituant un accord, sur la base de la r\\xe9\\xad\\nciprocit\\xe9, entre ledit Gouvernement et le Gouvernement de Sa \\nMajest\\xe9 dans le Royaume-Uni de Grande-Bretagne et d\\'Irlande du \\nnord :\\n\\n(1) Les agents diplomatiques et consulaires de Sa Majest\\xe9, \\nd\\xe9sign\\xe9s sur l\\'avis du Gouvernement de Sa Majest\\xe9 dans le \\nRoyaume-Uni, et les autorit\\xe9s comp\\xe9tentes du Gouvernement de \\nSa Majest\\xe9 dans le Royaume-Uni recevront des instructions pour \\ncollaborer avec les autorit\\xe9s japonaises comp\\xe9tentes, telles \\nqu\\'elles sont indiqu\\xe9es dans la liste A ci-annex\\xe9e ou, selon \\nles circonstanfces, avec l\\'agent diplomatique ou consulaire japo\\xad\\nnais comp\\xe9tent, par voie de communication r\\xe9ciproque de rensei\\xad\\ngnements concernant les agissements et d\\xe9placements de personnes \\nconnues comme se livrant au trafic illicite des stup\\xe9fiants.\\n\\n(2) Les agents diplomatiques et consulaires japonais \\xe0 l\\'\\xe9\\xad\\ntranger et les autorit\\xe9s comp\\xe9tentes du Gouvernement imp\\xe9rial \\ndu Japon recevront des instructions analogues, pour collaborer \\navec les autorit\\xe9s comp\\xe9tentes du Gouvernement de Sa Majest\\xe9 \\ndans le Royaume-Uni, telles qu\\'elles sont indiqu\\xe9es dans la \\nliste B ci-annex\\xe9e, ou selon les circonstances, avec l\\'agent \\ndiplomatique ou consulaire britannique comp\\xe9tent.\\n\\n(3) Les dispositions du pr\\xe9sent accord s\\'appliqueront \\xe0 Terre- \\n\\xeeCeuve et \\xe0 toutes les colonies et protectorats britanniques, \\nainsi qu\\'\\xe0 tous les territoires sous mandat \\xe0 l\\'\\xe9gard desquels \\nle mandat est exerc\\xe9 par le Gouvernement de Sa Majest\\xe9 dans le \\nRoyaume-Uni, et les autorit\\xe9s comp\\xe9tentes, aux fins du pr\\xe9sent \\naccord, \\xe0 Terre-Neuve et dans les colonies, protectorats et \\nterritoires sous mandat mentionn\\xe9s ci-dessus seront celles qui \\nsont indiqu\\xe9es dans la liste C ci-annex\\xe9e.\\n\\n(4) Le pr\\xe9sent accord entrera en vigueur un mois apr\\xe8s\\nla date de 1\\'\\xe9change de la pr\\xe9sente note et de la note de Votre \\nExcellence, \\xe0 laquelle elle r\\xe9pond et prendra fin moyennant un \\npr\\xe9avis de six mois donn\\xe9, \\xe0 cet effet, par l\\'une ou l\\'autre \\ndes Parties.\\n\\n2. Le Gouvernement imp\\xe9rial du Japon a pris acte du d\\xe9sir \\nqu\\'ont exprim\\xe9 les Gouvernements de Sa Majest\\xe9 dans le Commonwealth \\nd\\'Australie et en Nouvelle-Z\\xe9lande et le Gouvernement de 1 :Inde de \\ndevenir parties \\xe0 des accords analogues avec le Gouvernement imp\\xe9\\xad\\nrial du Japon et il approuve 1 1 application, mutatis mutandis, de \\ndispositions, analogues aux dispositions \\xe9nonc\\xe9es ci-dessus, qui \\nconstitueront des accords, sur la base de la r\\xe9ciprocit\\xe9, entre le \\nGouvernement imp\\xe9rial du Japon et chacun desdits Gouvernements.\\nAux fins de ces accords, les autorit\\xe9s comp\\xe9tentes de chacun des\\xad\\ndits Gouvernements seront, respectivement, celles qui sont d\\xe9si\\xad\\ngn\\xe9es dans la liste D ci-annex\\xe9e.\\n\\n3- J\\'ai 1 \\'honneur de d\\xe9clarer que la pr\\xe9sente note e t  la note \\nde Votre Excellence, \\xe0 laquelle elle r\\xe9pond, seront consid\\xe9r\\xe9es \\ncomme enregistrant les divers accords Intervenus, en cette m a t i \\xe8 r e  \\nentre les Gouvernements respectifs -\\n\\nJe saisis cette o c c a s 1 on $ etc \\xab .. \\xab / , * \\\\ \\xab T\\u2014\\u2014 m \\xbb\\n* (signe) KOKI HIROTA,\\n\\n\\n\\nLEAGUE OF NATIONS.\\n\\nCommunicated to the C .524.M. 335.1936,XI,\\nCouncil and Members\\nof the League._____________ Geneva, November 2 7th, 1936.\\n\\nTRAFFIC IN OPIUM AND OTHER DANGEROUS DRUGS.\\n\\nNOTES EXCHANGED AT TOKYO ON MARCH 30th, 1936 \\nBETWEEN THE BRITISH AMBASSADOR AND THE JAPANESE \\nMINISTER FOR FOREIGN AFFAIRS RELATIVE TO AN \\nADMINISTRATIVE AGREEMENT BETWEEN THE GOVERNMENTS \\nOF THE UNITED KINGDOM AND JAPAN FOR CO\\xad\\nOPERATION IN THE COLLECTION AND TRANSMISSION \\nOF INFORMATION LIKELY TO LEAD TO THE DISCOVERY \\nAND ARREST OF PERSONS ENGAGED IN THE ILLICIT \\nTRAFFIC IN DANGEROUS DRUGS AND THE SEIZURE OF \\nSUCH DRUGS.\\n\\nCommunicated by the Government of the \\nUnited Kingdom.\\n\\nNote by the Secretary-General.\\n\\nIn accordance with Article 21 of the Convention \\n\\nfor limiting the manufacture and regulating the distribution \\n\\nof Narcotic Drugs in 1931, the Secretary-General has the \\n\\nhonour to communicate herewith to the Parties to the \\n\\nConvention and to the other States copies of the above- \\n\\nmentioned notes exchanged between the Governments of the \\n\\nUnited Kingdom and of Japan.\\n\\nThis document is also communicated to the \\n\\nAdvisory Committee on Traffic in Opium and other Dangerous \\n\\nDrugs.\\n\\n\\n\\n- 2 -\\n\\nI. Sir B. Clive to Mr. Hirota.\\n\\nTokyo, March 30th, 1936.\\n\\nYour Excellency,\\n\\nWith the object of co-operating in the collection \\nand transmission of information such as may lead to the seizure \\nof illicit drugs and the discovery and arrest of those engaged \\nin the traffic in them, I have the honour, under instructions \\nfrom His Majesty\\u2019s Principal Secretary of State for Foreign \\nAffairs, to inform your Excellency that His Majesty\\'s Govern\\xad\\nment in the United Kingdom of Great Britain and Northern Ireland \\nagree to the following provisions as constituting an agreement \\nupon a reciprocal basis between them and the Imperial Japanese \\nGovernment :-\\n\\n(1) His Majesty\\'s diplomatic and consular officers appointed\\non the advice of His Majesty\\u2019s Government in the United \\nKingdom and the appropriate authorities of His Majesty\\'s \\nGovernment in the United Kingdom shall be instructed to \\nco-operate with the appropriate Japanese authorities, as \\nset forth in the Schedule A annexed hereto, or, as cir\\xad\\ncumstances may require, with the appropriate Japanese \\ndiplomatic or consular officer by mutually communicating \\ninformation regarding the proceedings and movements of \\npersons known to be engaged in the illicit drug traffic.\\n\\n(2) Japanese diplomatic and consular officers abroad and the\\nappropriate authorities of the Imperial Japanese Govern\\xad\\nment shall be similarly instructed to co-operate with \\nthe appropriate authorities of His Majesty\\'s Government \\nin the United Kingdom, as set forth in the Schedule B \\nannexed hereto, or as circumstances may require, with \\nthe appropriate British diplomatic or consular officer.\\n\\n(3) The provisions of the present agreement shall apply to\\nNewfoundland and to all British Colonies and protectorates, \\nand also to all mandated territories in respect of which \\nthe mandate is exercised by His Majesty\\'s Government in \\nthe United Kingdom; and the appropriate authorities for \\nthe purpose of this agreement in Newfoundland and in the \\nabove-mentioned colonies, protectorates and mandated \\nterritories shall be those set forth in the Schedule C \\nannexed hereto.\\n\\n(4) The present agreement shall come into force one month after\\nthe date of exchange of this note and the Japanese Govern\\xad\\nment\\'s reply thereto and shall be terminable by either \\nparty^on giving six months\\' notice to that effect.\\n\\n2. His Majesty\\'s Government in the Commonwealth of \\nAustralia and New Zealand and the Government of India having ex\\xad\\npressed their desire to become parties to similar agreements with \\nthe Japanese Government, at the instance of each of the said \\nGovernments I have the honour to state that they agree that pro\\xad\\nvisions similar to the foregoing shall apply, mutatis mutandis, \\nas constituting agreements upon a reciprocal basis between e ac h  \\nof the said Governments and the Imperial Japanese Government.\\nFor the purpose of these agreements the appropriate authorities \\nof each of the said Governments shall be respectively those \\nnamed in Schedule D annexed hereto,\\n\\n3. If the Japanese Government agree to the foregoing \\nprovisions, the present note and your reply in similar terms \\nshall be regarded a s  placing o n  record the several a g r e e m e n t s  \\narrived at betweeh the respective Governments in the matter.\\n\\nI avail, c.\\n(Signed) R.H. CLIVE.\\n\\n\\n\\nSCHEDULE A\\n\\nJapan Proper: Director of the Bureau of Treaties\\nand Conventions in the Ministry for Foreign Affairs ; in \\ncases of special urgenc;\\u2019- the competent local Governors and \\nSuperintendents of Customs.\\n\\nKorea : Government-General of Korea.\\n\\nFormosa : Government-General of Formosa.\\n\\nKwantung Leased Territory : Government of the\\nKwantung Leased Territory.\\n\\nSaghalien: Government of Saghalien.\\n\\nSouth Sea Islands under Japanese Mandate :\\nSouth Seas Bureau, Palao.\\n\\nSCHEDULE B\\n\\nIn the United Kingdom of Great Britain and Northern \\nIreland: His Majesty\\'s Principal Secretary of State for\\nHome Affairs : in cases of special urgency the local police\\nauthorities or customs officials may also be communicated \\nwith direct.\\n\\nSCHEDULE C\\n\\nNewfoundland : The Minister of\\' Finance and Customs , St. Johns .\\n\\nSouthern Rhodesia : Secretary to the Law Department, Salisbury.\\n\\nGibraltar : Colonial Secretary.\\n\\nMalta : The Secretary to the Government.\\n\\nCyprus : Colonial Secretary, Nicosia.\\n\\nPalestine : Chief Secretary, Jerusalem.\\n\\nCeylon : Chief Secretary, Colombo.\\n\\nHong Kong : Colonial Secretary, Hong Kong.\\n\\nStraits Settlements : Colonial Secretary, Singapore.\\n\\nFederated Malay States: Chief Secretary, Kuala Lumpur.\\n\\nUnfederated Malay States:\\n\\nJohore : General Adviser ,, JOhore Bahru.\\nKedah: British Adviser, Alor Star.\\nPerlis: British Adviser, Kangar.\\nKelantan: British Adviser, Kota Bahru.\\nTrengganu: British Adviser, Kuala Trengganu, via Singapore.\\nBrunei : British Resident, Brunei.\\n\\nNorth Borneo : Government Secretary, Jesselton,\\n\\nSarawak: Government Secretary, Kuching.\\n\\n\\n\\nMauritius : Colonial Secretary.\\n\\nSeychelles : Governor.\\n\\nSt.Helena: Governor.\\n\\nNigeria (including the Cameroons under British mandate);\\nChief Secretary, Lagos.\\n\\nGold Coast-lAneluding Togo land under British mandate): \\nColonial Secretary, Accra.\\n\\nGambia: Colonial Secretary, Bathurst.\\n\\nSierra Leone: Colonial Secretary, Freetown.\\n\\nKenya: Colonial Secretary, Nairobi.\\n\\nZanzibar: Chief Secretary.\\n\\nUganda: Chief Secretary, Entebbe.\\n\\nNyasaland: Chief Secretary, Zomba.\\n\\nTanganyika Territory: Chief Secretary, Dar-es-Salaam.\\n\\nSomaliland: Secretary to the Government, Sheikh, via Aden.\\n\\nNorthern Rhodesia: Chief Secretary, Livingstone.\\n\\nBasutoland: Resident Commissioner, Maseru.\\n\\nBeohuanaland Protectorate: Resident Commissioner, Mafeking.\\n\\nSwaziland.: Resident Commissioner, Mbabane.\\n\\nBahamas: Colonial Secretary, Nassau.\\n\\nBermuda: Colonia1 Secretary, Hamilton.\\n\\nBritish Guiana: Colonial Secretary, Georgetown.\\n\\nBritish Honduras: Colonial Secretary, Belize.\\n\\nFalkland Islands: Colonial Secretary, Port Stanley.\\n\\nBarbados: Colonial Secretary, Bridgetown.\\n\\nJamaica: Colonial Secretary, Kingston.\\n\\nTrinidad; Colonial Secretary, Port of Spain.\\n\\nWindward Islands:\\n\\nGrenada: Colonial Secretary.\\nSt. Lucia: Administrator.\\nSt. Vincent: Administrator.\\n\\nLeeward Islands: Colonial Secretary, Antigua.\\n\\nFiji; Colonial Secretary, Suva.\\n\\nGilbert and Silice Islands Colony: Resident Commissioner.\\n\\nBritish Solomon Islands Protectorate; Resident Commissioner. \\n\\nTonga: British Agent and Consul.\\n\\n\\n\\nSCHEDULE D\\n\\nIn the Commonwealth of Australia : Comptroller-General, \\nDepartment of Trade and Customs, Canberra.\\n\\nIn Hew Zealand: Customs Department, Wellington, Hew Zealand.\\n\\nIn India (including Burma): Government of India (Finance\\nDepartment, Central Revenues), or in cases of \\nurgency the local collectors of customs.\\n\\nII. Mr. Hirota to Sir R. Clive.\\n\\n(Translation) Tokyo, March 3 0, 1936.\\n\\nYour Excellency,\\n\\nWith reference to your Excellency\\'s note of to-day\\'s \\ndate regarding co-operation in collecting and transmitting \\ninformation such as may lead to the seizure of illicit drugs \\nand the discovery and arrest of those engaged in the traffic \\nof them, I have the honour to inform you that the Imperial \\nJapanese Government agree to the following provisions as \\nconstituting an agreement upon a reciprocal basis between \\nthem and His Majesty\\'s Government in the United Kingdom of \\nGreat Britain and Northern Ireland:\\n\\n(1) His Majesty\\'s diplomatic and consular officers \\nappointed on the advice of His Majesty\\u2019s Government \\nin the United Kingdom and the appropriate \\nauthorities of His Majesty\\u2019s Government in the \\nUnited Kingdom shall be instructed to co-operate \\nwith the appropriate Japanese authorities, as set \\nforth in the Schedule A or, as circumstances may \\nrequire, with the appropriate Japanese diplomatic \\nor cons- r officer by mutually communicating \\ninformation regarding the proceedings and movements \\nof persons known to be engaged in the illicit drug \\ntraffic.\\n\\n(2) Japanese diplomatic and consular officers abroad \\nand the appropriate authorities of the Imperial \\nJapanese Government shall be similarly instructed to \\nco-operate with the appropriate authorities of His \\nMajesty\\'s Government in the United Kingdom, as set \\nforth in the Schedule B or, as circumstances may \\nrequire, with the appropriate British diplomatic or \\nconsular officer.\\n\\n(3) The provisions of the present agreement shall apply \\nto Newfoundland and to all British colonies and \\nprotectorates and also to all mandated territories \\nin respect of whi^.h the mandate is exercised by\\nHis Majesty\\u2019s Government in the United Kingdom; and \\nthe appropriate authorities for the purpose of this \\nagreement in Newfoundland and in the above-mentioned \\ncolonies, protectorates and mandated territories \\nshall be those set forth in the Schedule C.\\n\\n\\n\\n- 6 -\\n\\n(4) The present agreement shall come into force one \\nmonth after the date of exchange of this note and \\nof your ExcellencyTs note, to which it is a reply, \\nand shall te terminable by either party on giving \\nsix months\\' notice to that effect.\\n\\n2. The Imperial Japanese Government have noted the \\ndesire of each of His Majesty\\'s Governments in the Commonwealth \\nof Australia and New Zealand and of the Government of India\\nto become parties to similar agreements with the Imperial \\nJapanese Government, and they agree that provisions similar \\nto the foregoing shall apply, mutatis mutandis, as constituting \\nagreements upon a reciprocal basis between the Imperial \\nJapanese Government and each of the said Governments. For the \\npurpose of these agreements the appropriate authorities of \\neach of the said Governments shall be respectively those named \\nin Schedule D.\\n\\n3. I have the honour to state that the present note and \\nyour Excellency\\'s note under reply shall be regarded as \\nplacing on record the several agreements arrived at between \\nthe respective Governments in the matter.\\n\\nI avail, etc.\\n\\n(Signed).. KCRI HIRCTA.\\n\\n\\n',\n",
       "   'category': 'COUNCIL MEMBER STATES',\n",
       "   'collection': 'lon',\n",
       "   'dateCreated': '2013-11-07T14:24:57Z',\n",
       "   'docType': 'member',\n",
       "   'filename': '/Users/kevinbradley/Desktop/lon/member/0673010/C-524-M-335-1936-XI_FR.xml',\n",
       "   'id': 'C.524.M.335.1936.XI_fr',\n",
       "   'languageCode': 'fr',\n",
       "   'last_update': '2015-09-03T15:29:56.147Z',\n",
       "   'outputFilename': '/Users/kevinbradley/Desktop/lon_output/C.524.M.335.1936.XI_fr',\n",
       "   'pdfContentLength': '23054',\n",
       "   'pdfContentType': 'application/pdf',\n",
       "   'pdfCreated': 'Thu Nov 07 09:24:57 EST 2013',\n",
       "   'pdfCreationDate': '2013-11-07T14:24:57Z',\n",
       "   'pdfDCTermsModified': '2013-11-07T14:24:57Z',\n",
       "   'pdfDate': '2013-11-07T14:24:57Z',\n",
       "   'pdfFilename': '/Users/kevinbradley/Desktop/lon/member/0673010/C-524-M-335-1936-XI_FR.pdf',\n",
       "   'pdfLastModified': '2013-11-07T14:24:57Z',\n",
       "   'pdfModified': '2013-11-07T14:24:57Z',\n",
       "   'publicationDate': '1936-01-01T00:00:01Z',\n",
       "   'score': 1.0,\n",
       "   'symbol': 'C.524.M.335.1936.XI',\n",
       "   'title_fr': u'TRAFIC DE L 1 OPIUM ET AUTRES DROGUES NUISIBLES. NOTES ECHANGEES A TOKIO LE 30 MARS 1936 ENTRE L\\x92AMBASSADEUR DE GRANDE-BRETAGNE ST LE MINISTRE DES AFFAIRES ETRANGERES DU JAPON, RELATIVEMENT A UN ACCORD ADMINISTRATIF CONCLU ENTRE LES GOUVERNEMENTS DU ROYAUME-UNI ET DU JAPON POUR ETABLIR UNE COLLABORATION EN VUE DE RECUEILLIR ET DE TRANSMETTRE TOUS RENSEIGNEMENTS PROPRES A AMENER LA DECOUVERTE ET L1 ARRESTATION DE PERSONNES SE LIVRANT AU TRAFIC ILLICITE DES DROGUES NUISIBLES ET LA SAISIE DE CES DROGUES.\\n',\n",
       "   'url': 'http://biblio-archive.unog.ch/Dateien/CouncilMSD/C-524-M-335-1936-XI_FR.pdf',\n",
       "   'volume_barcode': '0673010'},\n",
       "  {'_version_': 1511306503044202496,\n",
       "   'body_en': u'\\nIJE OF NATIONS.\\n\\nPRELIMIlNi\\n\\nC.234.1930.II.\\n\\nGeneva,\\n\\nApril 30th, 1930,\\n\\nNFEREl\\'TCE WITH A VIE7fT TO CONCERTED\\n\\nECONONIC AC TION.\\n\\nc \\\\\\nc the Council \"by Count MOLTICE, President of the \\n\\nConference.\\n\\n;\\' f ; \\' ,. i;: Z\\n\\\\ The Conference convened in virtue of the TenthitK/\\nx ^\\\\Assembly\\u2019s resolution relating to concerted economic actio: \\n\\nmet at Geneva from February I7th to March 24th, 1930,\\n\\nHaving been invited by the Council to preside over \\n\\nthis Conference, I now have the honour to submit a report on \\n\\nthe results achieved.\\n\\nThirty Governments responded to the Assembly\\u2019s appeal, \\n\\nand sent delegations. With the exception of three overseas \\n\\ncountries (Colombia, Japan, Peru), all the countries represented \\n\\nwere European. The composition of the Conference thus answered\\n\\nto the purpose which the last Assembly had in view, namely that \\n\\nthe work of economic consolidation between States should begin \\n\\nwith closer co-operation between European countries, other \\n\\ncountries which might desire to participate being given an \\n\\nopportunity of so doing. Seven other overseas countries, \\n\\nincluding three non-members of the League (Brazil, Mexico and \\n\\nthe United States of America) sent observers.\\n\\nAn important feature of the Conference was that \\n\\nfifteen countries were represented by their competent Ministers, \\n\\nwhile the others sent their highest officials. This was the\\n\\n\\n\\n-  2 -\\n\\nfirst occasion on which those responsible for the direction \\n\\nof European Customs policy found themselves together, and \\n\\ntheir personal contact did much to facilitate the conclusicn \\n\\nof the agreement reached.\\n\\nThe Conference represented the first stage in the \\n\\nconcerted economic action recommended by the Assembly.\\n\\nDid it achieve its purpose?\\n\\nThe Assembly looked to the Conference, on the one \\n\\nhand, for the conclusion, for a period of two or three years, \\n\\nof a sort of\\' Customs Truce, and, on the other, for the \\n\\nestablishment of a programme of future negotiations.\\n\\nA preliminary draft Customs Truce framed by the \\n\\nEconomic Committee served as a basis for the first part of \\n\\nthe Agenda ; no proposal had been placed before the Conference \\n\\nfor the second part.\\n\\n1. The Economic Committee\\u2019s draft truce aid not meet \\n\\nwith the support of all the countries represented. Some\\n\\nregarded it as not very effective owing to the large number \\n\\nof exceptions requested, while others were unable to agree \\n\\nto the stabilisation, even for a short period, of a tariff \\n\\nsituation which they consider inadequate in view of their \\n\\npresent economic difficulties.\\n\\nThe Conference was thus obliged to abandon the \\n\\nscheme for a Customs Truce properly so-called and to seek \\n\\nother international guarantees which, while taking into \\n\\naccount existing difficulties, would create the atmosphere \\n\\nof security regarded by the Assembly as indispensable from \\n\\nthe standpoint of future negotiations. ^ draft submitted \\n\\nwith this object by the Trench delegation was accepted as \\n\\ne basis for discussion by the Conference and enabled the \\n\\nlatter to arrive at an agreement.\\n\\n\\n\\nn f n  T*rn \\n-1 -L ^ - -a-:- 3\\n\\nThe Comraoroial Convention concluded after five \\n\\nweeks of laborious negotiation is thus very different from \\n\\nthe Economic 0oranittee Ts prelimir \\n\\nperiod of validity, and scope.\\n\\nThe Convention divides States into two groups \\n\\naccording to whether or not they habitually employ the \\n\\ncontractual consolidation of Customs duties. For the first \\n\\ngroup (to which the majority of the Continental States \\n\\nbelong), it provides for the extension of bilateral commercial \\n\\ntreaties for a period of one year, this being equivalent to \\n\\nstabilising, for that neriod, the tariff situation established \\n\\nby those treaties.\\n\\nAs regards the non-consolidated part of the tariffs, \\n\\nthe Convention gives certain guarantees to States which con\\xad\\n\\nsider themselves injured by tariff changes which one of the \\n\\nContracting States might -orcooed to make ; the Contracting\\n\\nParties are reouired tc v one ano\\'cne-]\\n\\nbeforehand of any increase in duties, and further, any \\xa3\\n\\nuo ae:wn i c n c o n s i a ers\\n\\nnegotiations shall be opened and to denounce the multilateral \\n\\nConvention should such negotiations not result in an agreement. \\n\\nThe obligation in regard to preliminary negotiations does not \\n\\napply, however, to tariff increases which certain States might \\n\\nproce 2d to make in virtue of their existing laws (for example, \\n\\nthe \"lois de cadenas\\u201d) or in view of exceptional circumstances. \\n\\nEut even in such cases arw7 Contracting Party which considers\\n\\nitself injured would have \\n\\nConventlon.\\n\\nright to denounce tne ihe multilateral\\n\\n\\n\\nThe cour.trios belonging to the second group - \\n\\nincluding Groat Britain, Denmark, Norway, the \\n\\nNetherlands and Portugal - accepted more formal obli\\xad\\n\\ngations. They undertook not to increase their pro\\xad\\n\\ntective duties during the term of the Convention and \\n\\nrecognised the right of the other Contracting Parties, \\n\\nas regards any increase in their fiscal duties, to \\n\\ndenounce the multilateral Convention should they \\n\\nconsider themselves injured thereby.\\n\\nThe Convention, which was concluded for a \\n\\nperiod of one year from April 1st, 1950, cannot become\\n\\nlegally binding before the November of that year.\\n\\nA mooting of the Contracting States must first bo con\\xad\\n\\nvened by the Secretar* -\\'-oneral of the League during \\n\\nthe first half of November 1930 to fix the date of the \\n\\ncoming into force of the Convention and, if necessary, \\n\\nto draw up a list of the States whose accession is con\\xad\\n\\nsidered indispensable for the coming into force of that \\n\\nConvention.\\n\\nAlthough the Customs Truce which was the \\n\\noriginal object of the Conference was not achieved, the \\n\\nprorogation of the commercial treaties, the obligation \\n\\nto engage in negotiations before imposing any increase \\n\\nin non-conventional tariff items, and \"Che consolidation of\\n\\n\\n\\n- 5-\\n\\nprotective duties in countries with autonomous tariffs does, \\n\\nhowever, constitute a relative stabilisation of the present \\n\\ntariff situation. It is hardly conceivable that a Gontraoting \\n\\nState, unless driven by very serious reasons, to adopt such \\n\\na course would take the responsibility of forcing another \\n\\nContracting State to denounce the multilateral Convention \\n\\nwhich would probably be equivalent to the cancellation of the \\n\\nlatter, in view of the close economic interdependence between \\n\\nthe countries Parties to the Convention.\\n\\nAs already mentioned, the Convention has been concluded \\n\\nfor a period of one year, from April 1st, 1930 to March 31st, 1931, \\n\\nbut it may remain in force for successive periods of six months.\\n\\nIt thus contains a nucleus for further development and makes it \\n\\npossible to continue the work begun.\\n\\nIn view of the special character of the Convention, \\n\\neverything must obviously depend upon the spirit in which it is \\n\\napplied \\xab Particular importance attaches, therefore, to the pro\\xad\\n\\nvisions of Article XI, under which the Contracting States agree to \\n\\napply it in a spirit of loyal co-operation.\\n\\nThe Convention was signed on th e  day that the \\n\\nConference closed by eleven countries,(Austria, Belgium,\\n\\nGreat Britain, Estonia, Finland, France, Germany, Italy,\\n\\nLuxemburg, the Netherlands and Switzerland) and has since \\n\\nbeen signed by seven others (Denmark, Greece, Latvia, Norway,\\n\\nPoland, Roumania and Sweden), Any Member of the League of \\n\\nNations or non-member State may still aocede to the  \\n\\nConvention.\\n\\n\\n\\n-  6 -\\n\\n2 .  TjL9._fro/rraaiine of Future Kogotiationa forms th e  o u b -  \\n\\njeot of a Irot oco 1 in which the Signatory States reoomiioe \\n\\nit as ind ispenoeble \"that c one or ted action should be under\\xad\\n\\ntaken , directed to secure closer co\\u2014opsrat  ion, the improve\\xad\\n\\nn\\u2019s nt of the regime of production and trade, the on largement \\n\\nof markets, ana to facilitate the relations of the European \\n\\nmarkets between themselves and v/itb overseas markets, so as \\n\\nto consolidate economic peace between the nations\\u201d.\\n\\nThe purpose of the proposed negotiations wi11 be \\n\\nto determine the most effective means of ad just in? economic \\n\\nconditions in the c\" if f er ,-nt countries, of crsrfnisin? more \\n\\nrationally the production and circulation of wealth, and of \\n\\nremoving, as far as possible , unjust if i-ci hinarances which \\n\\ndamper the development of international trace,\\n\\nHaving thus tr v e ad the me i n 1i nes fer futuro nego\\xad\\n\\ntiations, the Protocol sketch as the procedure to be followed \\n\\nin preparing these negotiations,\\n\\nT h o 3 o ve r n m e n t s of t h e Si? n a to zy St a % e s will f o re ard \\nto the Secretariat m., mo ran da in ansv.er to a general question\\xad\\n\\nnaire included in the Protocol. ihese memorand- wi1t be \\nstudied by the Economic Organisation which will formulate pro\\xad\\n\\nposals on the concrete points with which the propcsed nogo* isti( \\n\\nshould deal. These proposals will bo submitted to Governments \\n\\nafter receiving the letter\\u2019s replies or counter-proposals, \\n\\nthe Council will draw up the subsequent procedure.\\n\\n13 o da t e h a s t c e n fixed f e r t h e f o r v; a r d i n ? o f t b e \\n\\n3 o ve r nme n t m em ora n d :,, bu t- a s t h e Pretcc ol provi d e s t h a t the \\n\\nfjvgot iat ions prop-rly so called ere to begin before the e emir y \\n\\nci\\' the Commere ial Convention, thf t is before iviarch 31st, 1931, \\n\\ntt3o memoranda will have to be submitted soon.\\n\\n\\n\\n-  7 \\xbb\\n\\n\\xfc i t h o u t  a n t i c  l o t t i n g  th u  r e s u l t s  c f  tLoso g o n o r r l  \\n\\nuagcti  a t i o n s  6 the S i g n a t o r y  S t a t e s  have docida\\xe0  tu  cD-opora to  \\n\\nps f i r  es p o s s i b l o  i n  the s o l u t i o n  of c e r t a i n  s p e c i a l  p r o b l e m s \\u201e \\n\\nso:ne c f  which a r e  c I r e  ad y \"doing i n v e s t i g a t e d .\\n\\nI t  ht.s \"boen agreed:\\n\\n(a) to  pursue  t h e  work  r e l a t i n g  to the u n i f  io a t  i on  of  \\ncustoms noneno1 av a 10. 5ho Boonomis O r g a n i s a t i o n  of the Leegue\\n\\nis re ques te d  t e  p r e p a r e  t h e  f o u n d a t i o n s  f o r  an i n t e r n a t i o n a l  \\n\\nagreement i n  the  m a t t e r ;\\n\\nf b ; t o  t  r.ke the  s t o p s  r e q u i r e d  to  c l  low a s y s t e m a t i c  \\n\\ncouroari son of  t  \\xa3 r i f f s  end to c o d i f y  c e r t  s i n  p r o v i s i o n s  o t h e r  \\n\\nthan t a r i f f  p r o v i s i o n s  embodied i n  c cn im eic i e l  t r e a t i e s  a n d , \\n\\nf u r t h e r ,  t o  s t u d y  t h e  e s t a b l i s h m e n t  of  e permanent  tori y f o r  \\n\\n\\u2022\\' r t  i  t r  at  i  c n and c o n o i l  i  a t  i  c n ;\\n\\nf o ) to  c o l l e c t ,  w i th  the  a s s i s t a n c e  cf t h e  S i g n a t o r y  S t a t e s , \\nr . l l  i n f o r m a t i o n  r e l a t i n g  to i n d i r e c t  p r o t e c t i o n i s t  p r a c t i c e s  and \\n\\nto study th e  p o s s i b i l i t y  c f  i n t e r n a t i o n a l  a c t i o n  t o  combat t h e i r  \\n\\ne f fec ts  ;\\n\\n( d ) t o  s t u d y  th o  q u e s t i o n s  c f  e x p o r t  b o u n t i e s  and s u b s i d i e s ;  \\nfe) to  omit i n  t h e  p r e s e n t  s t u d i e s  of v e t e r i n a r y  m easu res ,  \\n\\nin order  t h a t  a Conference  may be convened as soon as p o s s i b l e  \\n\\nfor t h e  c o n c l u s i o n  o f  one or  more i n t e r n a t i o n a l  v e t  or i  n a ry\\n\\ne tvn vont io n s  ;\\n\\n( f  ! to p r e s s  forward t h e  work on t r e a t m e n t  o f  f o r e i g n e r s ,  \\nunfair  c o m p e t i t i o n , customs f o r m a l i t i e s , double  t a x a t i o n ,  e t c  \\xab . , , .\\n\\nF u r t h e r ,  the  s i g n a t o r i e s  have agreed t h a t  i n  a l l  \\n\\nsubsequent w ork , r eg a rd  s h a l l  bo had to t he  recomncnd a t  ions  and \\n\\noona idora t ions  which a r e  embodied i n  the  Annerr to  t he  P r o t o c o l  \\n\\n^d  which r e l a t e  to t h o  f o l l o w i n g  q u e s t i o n s  :\\n\\n\\n\\n-  8 -\\n\\n1) the adjustment of economic relations tat7/3 ezi \\n\\ni n d u s t r i a l  and agricultural countries;\\n\\n2) t he  r e p e r c u s s i o n  o f  c o l l e c t i v e  agreements  on the\\nr s 1 at 10 ii between the States Partie oreto ana TLira  ^art les ;\\n\\n3 ) various questions connected with international economic \\n\\nr e l a t i o n .\\n\\nThis chapter covers questions which the Economic \\n\\nCommittee is already investigating, and other questions \\n\\nsuch as the recommendation concerning improvements in \\n\\nthe matter of transport, more particularly the transport \\n\\nof agricultural products, concerning which the Communica\\xad\\n\\ntions and Transit Organisation is asked jointly with \\n\\nthe Economic Organisation to undertake the necessary \\n\\ninvestigation.\\n\\nThe Protocol regarding the Programme tif Future \\n\\nNegotiations constitutes an undertaking only \"between tho Govern\\xad\\n\\nments and is thus not subject to ratification by the national \\n\\nParliaments. It has already been signed by twenty-three Govern\\xad\\n\\nments , namely: Germany, Austria, Belgium, Great Britain, Denmark, \\n\\nEstonia, Finland, France, Greece, Hungary, Italy, Latvia, \\n\\n-Lithuania , Luxemburg, Norway, The Nether land s , Poland, Portugal, \\n\\nBoumania, Sweden, Switzerland, Czechoslovakia and Yugoslavia.\\n\\nIn tho F i n a 1 ret which it adopted the Conference, \\n\\nrecognising the importance of the markets of overseas countries\\n\\n* 0 r t b e sc on on; i f E u r o o e , rocommends t h a t  the  Economic\\n\\norganisation of the League of Nations should undertake an \\n\\nObjcetivo investigation into the means of establishing close \\n\\nco-operat ion between Europe and overseas countries and should, \\n\\nla particular, ccnsider in what respect trade relations might \\n\\nCG improved with economic advantage.\\n\\n\\n',\n",
       "   'category': 'COUNCIL DOCUMENT',\n",
       "   'collection': 'lon',\n",
       "   'dateCreated': '2013-08-21T09:14:59Z',\n",
       "   'docType': 'council',\n",
       "   'filename': '/Users/kevinbradley/Desktop/lon/council/0679234/C-234-1930-II_EN.xml',\n",
       "   'id': 'C.234.1930.II_en',\n",
       "   'languageCode': 'en',\n",
       "   'last_update': '2015-09-03T15:29:56.164Z',\n",
       "   'outputFilename': '/Users/kevinbradley/Desktop/lon_output/C.234.1930.II_en',\n",
       "   'pdfContentLength': '13488',\n",
       "   'pdfContentType': 'application/pdf',\n",
       "   'pdfCreated': 'Wed Aug 21 05:14:59 EDT 2013',\n",
       "   'pdfCreationDate': '2013-08-21T09:14:59Z',\n",
       "   'pdfDCTermsModified': '2013-08-21T09:14:59Z',\n",
       "   'pdfDate': '2013-08-21T09:14:59Z',\n",
       "   'pdfFilename': '/Users/kevinbradley/Desktop/lon/council/0679234/C-234-1930-II_EN.pdf',\n",
       "   'pdfLastModified': '2013-08-21T09:14:59Z',\n",
       "   'pdfModified': '2013-08-21T09:14:59Z',\n",
       "   'publicationDate': '1930-01-01T00:00:01Z',\n",
       "   'score': 1.0,\n",
       "   'symbol': 'C.234.1930.II',\n",
       "   'title_en': 'PRELIMINARY CONFERENCE WITH A VIEW TO CONCERTED ECONOMIC ACTION. Report to the Council by Count MOLTKE, President of the Conference.\\n',\n",
       "   'url': 'http://biblio-archive.unog.ch/Dateien/CouncilDocs/C-234-1930-II_EN.pdf',\n",
       "   'volume_barcode': '0679234'},\n",
       "  {'_version_': 1511306503052591104,\n",
       "   'body_en': u'\\nLEAGUE OF NATIONS.\\n\\nC.476.1930.X.\\n\\nGeneva, September 6th, 1930,\\n\\nCONTRIBUTIONS IN ARREARS.\\n\\nthe Cuban Representative. \\n-----------------------------\\n\\naccordance with e. decision taken by the \\n\\nits Tenth Ordinary Session, the Seoretary- \\n\\nhas submittad to us a report on the arrears \\n\\ni certain States.\\n\\nUnless my colleagues should wish to make any \\n\\nspecial comment on this report, I would venture to \\n\\npropose, in accordance with previous decisions of the \\n\\nCouncil, the adoption of the following resolution:\\n\\n\"The Council invites the Secretary-General \\n\\nto communicate to the Fourth Committee of the \\n\\nAssembly the report which he has submitted to the \\n\\nCouncil on the arrears due from certain States.\\u201d\\n\\n\\n',\n",
       "   'category': 'COUNCIL DOCUMENT',\n",
       "   'collection': 'lon',\n",
       "   'dateCreated': '2013-08-22T12:19:47Z',\n",
       "   'docType': 'council',\n",
       "   'filename': '/Users/kevinbradley/Desktop/lon/council/0679239/C-476-1930-X_EN.xml',\n",
       "   'id': 'C.476.1930.X_en',\n",
       "   'languageCode': 'en',\n",
       "   'last_update': '2015-09-03T15:29:56.177Z',\n",
       "   'outputFilename': '/Users/kevinbradley/Desktop/lon_output/C.476.1930.X_en',\n",
       "   'pdfContentLength': '708',\n",
       "   'pdfContentType': 'application/pdf',\n",
       "   'pdfCreated': 'Thu Aug 22 08:19:47 EDT 2013',\n",
       "   'pdfCreationDate': '2013-08-22T12:19:47Z',\n",
       "   'pdfDCTermsModified': '2013-08-22T12:19:47Z',\n",
       "   'pdfDate': '2013-08-22T12:19:47Z',\n",
       "   'pdfFilename': '/Users/kevinbradley/Desktop/lon/council/0679239/C-476-1930-X_EN.pdf',\n",
       "   'pdfLastModified': '2013-08-22T12:19:47Z',\n",
       "   'pdfModified': '2013-08-22T12:19:47Z',\n",
       "   'publicationDate': '1930-01-01T00:00:01Z',\n",
       "   'score': 1.0,\n",
       "   'symbol': 'C.476.1930.X',\n",
       "   'title_en': 'CONTRIBUTIONS IN ARREARS. Report by the Cuban Representative.\\n',\n",
       "   'url': 'http://biblio-archive.unog.ch/Dateien/CouncilDocs/C-476-1930-X_EN.pdf',\n",
       "   'volume_barcode': '0679239'},\n",
       "  {'_version_': 1511306503064125440,\n",
       "   'body_en': u'\\niCommimicated to  \\nthe C o u n c i l . C .1 07 . (1 )  .1925 \\xab1.\\n\\nLEAGUE OF HA\\xcfI0M3.\\n\\nGeneva, March 1 1 th ,  1985.\\n\\nr .m J C i r iE 3  ^ p p i i c a b j e  im *j?he3 c o u c lu s io h  \\nOF ..iG.iL\\xc6EE\\xefS BET/\\'/EE\\xdc DaHSIG  POLaflJ)\\n\\nReport  \"by M. \"\\'n in  ones de Leon.\\n\\nAdopted  by the  C o u n c i l .\\n\\nI .  On November 7 t h , 1924, the  High Commiss i o n e r  of th e  l e ag u e  o f  \\n\\nDations i n  Danzig- gave the fo l lo w in g  d e c i s i o n  :\\n\\nP a rag raph  1 6 .\\n\\n(1) That the  P o l i s h - D a n z ig  r e l a t i o n s  a r e  i n t e r - S t a t o  r e l a t i o n s  \\ncu.t a re  o f  so s p e c i a l  a k ind  as no t  to  admit  of th e  normal i n t e r n a t i o n \\xad\\n\\na l  p ro c e d u r e , whatever  i t  may b e ,  b e in g  n e c e s s a r i l y  of a p p l i c a t i o n\\n\\nto them.\\n\\n(2) That on accoun t  of th o se  r e l a t i o n s ,  the  number and kind of\\nagreements  o r  t r e a t i e s  which a r e  made between Poland end Danzig a r e  in\\n\\noscoss of ,  and of a d i f f e r e n t  n a t u r e  t o ,  the  ag reem en ts  which a re  \\n\\nu su a l ly  made be tween S t a t e s .\\n\\n(o) That  the  p rocedu re  xor p u t t i n g  th e s e  agreem ents  i n t o  f o r c e  \\nin Poland i s  p r i m a r i l y  the  concern  o f  the  P o l i s h  Government , p rov ided  \\n\\nthe p rocedu re  i s  such as  to  g u a ran tee  the  Free C i t y  t h a t  agreem ents\\n\\nare l e g a l l y  v a l i d  a c c o r d in g  t o  P o l i s h  law.\\n\\n(4) That Danzig i s  a S t a t e  i n  the  I n t e r n a t i o n a l  sense  of the  \\nword and i s  e n t i t l e d  to  the use of e x p re s s io n s  d e n o t in g  t h a t  f a c t .\\n\\n(5) That a d i s t i n c t  u n d e r t a k in g  t o  r a t i f y  the  agreement  under \\nnot ice hav ing  been g iv e n  t h a t  u n d e r t a k in g  must be pu t  i n t o  e f f e c t .\\n\\nPa rag raph  l v. I  c o n s e q u e n t ly  decide t h a t  i n  t h e  c o n c lu s io n  \\n\\n\\xb01 \\'agreements  between Danzig and Poland b o th  p a r t i e s  w i l l  be governed \\n\\nand a p p ly  uhe l i n e s  l a i d  down i n  the f o r e g o i n g  p a ra g r \\xa7 p h .\\n\\n\\n\\nIn  s t a t i n g  th e  grounds o f  -his d e c i s i o n  th e  High \\xfb o im is s io n e i  \\n\\nrev iew s  th e  e a r l i e r  ph ase s  o f  the  d i s p u t e  i n  d e t  i l  and s e t s  \\n\\nf o r t h  i n  f u l l  t h e  arguments  o f  both p a r t i e s .\\n\\nThe d i s p u t e  c e n t r e s  round a c o n c r e t e  case\\n\\nOn J u l y  22nd 1922 an agreement was s ig n ed  hetween Danzig  \\n\\ntn d  P o l \\'n d  r e g a r d i n g  th e  t a r i f f s  on t h e  r a i l w a y s  on Danzig \\n\\nt e r r i t o r y  a d m in i s t e r e d  uy th e  P o l i s h  S t a t e .  In  acco rdance  w i th  \\n\\np a ra g r a p h  3, t h i s  agreement was to  come i n t o  f o r c e  on t h e  \\xa3ay  \\n\\non which r a t i f i c a t i o n s  were e.::changed by the  t . \\u2019o Governments.\\n\\nThis  exchange d id  not  t a k e  p l a c e ,  as  t h e  P o l i s h  Government \\n\\nd e c l a r e d  t h a t  an agreement between P o l i nd and Danbig cou ld  n o t  \\n\\nbe r a t i f i e d  i n  t h e  te c h n ic ;  1 sense  o f  t h e  word, but  i t  in fo rm ed  \\n\\nt h e  Danzig  Government t h a t  i t  had conf i rm ed  t h e  agreem en t .\\n\\nA ccord ing  to  the  High Commissioner th e  r e a l  p o i n t  a t  issu\\xa9 \\n\\nbetween th e  two p a r t i e s  i s  w he ther  Danzig  v i s - \\xe0  v i s  Pol. nd i s  an \\n\\nindependen t  S t a t e  from the  p o in t  o f  view o f  making t r e a t i e s  o r  \\n\\na g r e e m e n t s .\\n\\nThe Ii igh Commissioner examines the  d ip lo m a t i c  i n s t r u m e n ta  \\n\\nwhich r e g u l a t e  t h e  Pree C i t y \\u2019s s t a t u s , in  ^ a i t i c u l  r  t h e  T rea ty  \\n\\no f  V e r s a i l l e s ,  t h e  T rea ty  o f  P a r i s  o f  November 9 th ,  1920, and t h s  \\n\\nC o n s t i t u t i o n  o f  t h e  P ree  C i ty .  He c o n s i d e r s  t i u t  a r e s t r i c t e d  \\n\\nindependen t  i n t e r n a t i o n a l  e x i s t e n c e  o f  t h e  Pree  C i ty  in  t h e  \\n\\nt r e a ty - m a k i n g  dome in  i s  e s t e b l i s h e d ,  b u t  t h a t  t h e s e  r e s t r i c t i o n s  \\n\\nr e  n o t  to  be found i n  th e  case  o f  D a n z ig Ts r e l a t i o n s  w i th  \\n\\nPo land .  He goes on to  say t h a t  th e  \"community o f  i n t e r e s t s  \\n\\nand t h e  p e c u l i a r  p o s i t i o n  i n  which  th e y  s t d i d  to  each  o t h e r  h a s ,  \\n\\nin  the  making o f  t r e a t i e s  or  ag reem en ts ,  /\\n\\n\\n\\nproduced a c o n d i t i o n  of  a f f a i r s  which does n o t  d i f f e r  g r e a t l y  \\n\\nfrom t h a t  o b t a i n i n g  between o t h e r  S t a t e s ,  excep t  t h a t  th e  \\n\\nr e l a t i o n s  a r e  c l o s e r  and more d e t a i l e d  t h a n  i s  pe rhaps  u su a l  \\n\\nbetween o t h e r  S t a t e s . \\u201d\\n\\nII\\xbb The P o l i s h  Government appea led  a g a i n s t  the  High Com\\xad\\n\\nm i s s i o n e r \\' s  d e c i s i o n .  In i t s  a p p e a l  i t  contended t h a t  th e  High \\n\\nCommissioner had exceeded h i s  pov/ers in  p o i n t s  1 and 4 o f  \\n\\np a ra g ra p h  18 o f  h i s  d e c i s io n  (where Danzig io  r e f e r r e d  to  a s  a \\n\" S t a t e \\u201d ),  and t h a t  c o n s e q u e n t ly  h i s  d e c i s i o n  was no t  v a l i d ,  i n  \\nthe  f i r s t  p l a c e  he gave a d e c i s i o n  on p o i n t s  n o t  r e f e r r e d  t o  \\n\\nhim by th e  S e n a te ;  i n  th e  second p l a c e  h i s  d e c i s i o n ,  which d e a l s  \\n\\nw i th  the i n t e r n a t i o n a l  s t a t u s  o f  Danzig ,  d e f i n e s ,  no t  on ly  the  \\n\\nr e l a t i o n s  between Danzig and Po land ,  bu t  a l s o  t h e  r e l a t i o n s  of  \\n\\nDanzig w i th  t h i r d  p a r t y  S t a t e s .  Ho?;, under  A r t i c l e  39 o f  the  \\n\\nP a r i s  T re a ty ,  the  High Commissi o n e r T s dec-U ions  can only  be b i n d \\xad\\n\\ning  on Danzig and Po land .  The r e c o g n i t i o n  o f  a S t a t e  i s  a q u e s t i o n  \\n\\nf o r  th e  community o f  s t a t e s ,  and th e  P o l i s h  Government c o n s id e r s  \\n\\nt h a t  a q u e s t i o n  co n c e rn in g  th e  s t a t u s  o f  Danzig as  a S t a t e  i s  no t  \\n\\na m a t t e r  which under  the  Covenant o f  the League o f  a t i o n s  , the \\n\\nLeague i s  competent to d e c id e .\\n\\nIn  the  P o l i s h  Government \\'s  view the  High Commissioner\\u2019s \\n\\nd e c i s i o n s  shou ld  be o f  a p r a c t i c a l  and n o t  a t h e o r e t i c a l  n a t u r e .\\n\\nThe High Commissioner i s  r e s p o n s i b l e  f o r  e n s u r in g  the  observance  \\n\\no f  the  t r e a t i e s ,  which a r e  m ain ly  in te n d e d  to ensu re  t h a t  Poland \\n\\np h a l l  have u n l im i t e d  a c c e s s  to the s e a ,  i n  peace  time as w e l l  as \\n\\njin war t i .ne ,  w h i le  a f f o r d i n g  the Free  : ; i t y  a g u a r a n t e e  t h a t  the \\nm a j o r i t y  o f  i t s  i n h a b i t a n t s  s h a l l  r e t a i n  a c e r t a i n  freedom in  \\nt h e i r  n a t i o n a l  e x i s t e n c e .\\n\\nf i n a l l y ,  the  P o l i s h  Government i s  o f  o p in io n  t h a t  th e  High \\nCommissioner has exceeded h i s  now\\n\\n\\n\\n4 \\xbb\\n\\ne g re c n e n t  of J u l y  \\xa32nd 1922 r e q u i r e s  r a t i f i c a t i o n ,  eg \\n\\ni n t e r n a t i o n a l  It- not/here  I v y s  0own t lu  t  an agreement s ig n e d  \\n\\n\"by : , l e n i p o t e n t i f  r i e s  should ho g o r a t i f i e d *\\n\\nI I I .  In  i l e t t e ^  d i t e c  E ov ember 29tli 1924 dev l i n g  w i th  t h e  \\n\\nP o l i s h  Government\\u2019 s c. ipec.l , t h e  Di naif;  S en a te  p u t s  f  o n  ? rd  \\n\\no e i t t i n  o b s e r v a t i o n s .  I t  p o i n t s  out  i n  p a r t i c u l a r  t h a t ,  i n  \\n\\nr e f e r r i n g  the  n a t t e r  t o  t h e  lies.ru o , t h e  P o l i s h  Go v e r m  eut has \\n\\na l r e a d y  a p p e a le d ,  n o t  only  on t h e  c u c s t i o n  o f  competence,\\n\\nbu t  a l s o  on t h a t  of t h e  m e r i t s  of t h e  a  se  i t s e l f ,  m d  t h a t  \\n\\nth e  r  ca sons  adduced by th e  P o l i s h  Government f o r  deny ing  the  \\n\\nHigh Commissioner\\u2019 s eonpe tence  r r e  i n a p p l i c a b l e .  The I  i n z ig  \\n\\nS ena te  h o ld s  t h a t  th e  p o i n t s  i n  t h e  h ig h  Co;:missioner Ls \\n\\nd e c i s i o n  to  which Poland o b j e c t s , c o n s t i t u t e  t h e  ve ry  \\nd e c i s i o n s  asked f o r  by Danzig* A ccord ing  t o  the S en a te  the  \\n\\nHigh Commissioner is.,, i n  any c t .se ,  n o t  bound t o  c o n f in e  \\n\\nh i m s e l f  t o  a  d e c i s i o n  on th e  p o i n t s  r a i s e d  and t h e  t e c t  of \\n\\nt h e  a p p e a l s  subm it ted  by t h e  c o n t e s t i n g  p a r t i e s , b u t  the t  he \\n\\ncan a l s o  d e c id e  any q u e s t i o n s  which he may t h i n k  n e s e s s a r y  \\n\\nt o  touch  upon i n  view of  a f i n a l  s e t t l e m e n t  ccl th e  d i s p u te \\xbb\\n\\nIn i t s  r e p l y  t h e  Sena te  enum era tes  th e  f i c t s  w hich ,  i n  \\n\\ni t s  o p in io n ,  show t h a t  t h e  F ree  C i ty  o f  Danzig i s  undoub ted ly  \\n\\na S t a t e .\\n\\nIV. To sun u p :  th e  Danzig: Government a c c e p t s  t h e  High Com\\xad\\n\\nm i s s i o n e r \\' s  d e c i s i o n  and a s k s  t h a t  i t  should  \"be conf i rm ed by \\n\\nt h e  C ounc i l  ; t h e  P o l i s h  Government r e q u e s t s  t h a t  i t  should be \\n\\na n n u l l e d ,  a s  i t  c o n s t i t u t e s  a g e n e r a l  r u l i n g  on th e  F ree  \\n\\nC i t y \\u2019 s i n t e r n a t i o n a l  s t a t u s ,  i n  p a r t i c u l a r  by g i v i n g  Danzig \\n\\nt h e  s t i - t u s  of a \" S t a t e \" .  In  i t s  a p p e a l  t h e  P o l i s h  Government\\n\\n\\n\\n5 .\\n\\nr e q u e s te d  t h a t  t h e  n a t t e r  should be h e ld  over  u n t i l  t h e  \\n\\np r e s e n t  Gounoll  m e e t in g ,  i n  o rd e r  t h a t  i t  n i g h t  s u b n i t  \\n\\nf u r t h e r  o b s e r v a t i o n s  i f  n e c e s s a r y ;  no such o b s e r v a t i o n s  have ,  \\n\\nhowever, b een  r e c e i v e d .\\n\\nThe q u e s t i o n  o r i g i n a l l y  l a i d  b e f o r e  t h e  High Commissioner \\n\\nf o r  d e c i s i o n  was w h e th e r  or no t h e  agreement of Ju ly  22nd, \\n\\n1922\\xbb should be  r a t i f i e d *  In t h e  a r  gun en t o  s u b n i t t e d  t o  t h e  \\n\\nHigh C o n n is s io n e r  t o  p ro v e  th i  t  such r a t i f i c a t i o n  could  n o t  \\n\\nm d  should  n o t  t a k e  p l a c e ,  Poland l a id  s t r e s s  on th e  j \\u2019r e e  \\nC i ty  o f  D an z ig \\u2019 s  s p e c i a l  p o s i t i o n  unde r  i n t e r n  t i o n a l  law e \\n\\nThe F re e  C ity*  on t h e  o th e r  hand ,  d e c l a r e d  t h a t  i t  wcs \\n\\ne n t i t l e d  to  pc. r t i c i p a t e  a s  a S t a t e  i n  i n t e m c  t i o n a l  a g re e \\xad\\n\\nments w i th  Poland and to  b e i e f e r r e d  t o  by the  e x p r e s s io n s  \\n\\no u s to n a ry  i n  i n t e r - S t a t e  agreements\\xbb The High Commissioner \\n\\nthough t  i t  d e s i r a b l e  t o  g i v e  a d e c i s i o n  n o t  m ere ly  on t h e  \\n\\nr u e s t i o n  of  r a t i f y i n g  th e  \\xa3 g r e e n ent  of J u ly  22nd, 1922, bu t  \\n\\na l s o  on t h e  g e n e ra l  q u e s t i o n  o f  t h e  p r i n c i p l e s  a p p l i c a b l e  \\n\\nt o  t h e  c o n c lu s io n  of ag reem en ts  be tween  Danzig  and P o lan d ,  \\n\\nwhich had been  r a i s e d  i n  t h e  d i s c u s s i o n s  be tw een  t h e  two \\n\\npt r t i e s *\\n\\nV. A f t e r  a c l o s e  ex am in a t io n  o f  t h e  documents^  1 have  come \\n\\nt o  t h e  f o l l o w in g  c o n c l u s io n .\\n\\nAs r e g a r d s  t h e  e x p r e s s i o n  \\u201cr a t i f i c a t i o n \" , t h e r e  i s  no \\n\\nr e a s o n  why t h i s  t e r n  should  n o t  be employed i n  t h e  r e l a t i o n s  \\n\\nbetween Po land  and D anz ig .  The im p o r ta n t  p o i n t  i s  t o  \\n\\nr e a l i s e  t  e c o n c r e t e  and l i m i t e d  c h a r a c t e r  o f  t h e  q u e s t i o n  \\n\\nsu b m i t ted  to u s . In  p a ra g r a p h  18, Eo\\xab5 of  t h e  High \\n\\nCommissioner1s o p in io  i t  i s  s t a t e d  \" t h a t  a d i s t i n c t\\n\\n\\n\\n6.\\n\\nunder ta k in g  to  r a t i f y  th e  agreement  unde r  n o t i c e  hav ing  \\n\\nbeen g iv e n ,  t h a t  undortt.2d.nr must be  p u t  i n t o  e f f e c t \\u201d . The \\n\\ni n t e r p r e t  t i o n  which I r i v e  t o  t h i s  s e n t e n c e  i s  t h a t  i f  \\n\\nPoland d e s i r e s  d e f i n i t e l y  t o  a ive  e f f e c t  t p  t h e  agreem ent  \\n\\nc o n c lu d e d , t h e  f o r m a l i t i e s  of r a t i f i e n t  ion  must be \\n\\nobse rved .  That b e in g  th e  c a s e ,  t h e  s e n te n c e  i n  q u e s t i o n  \\n\\net 11 g 1 or no comment.\\n\\nI c o n s i d e r  t h a t  t h e  High G o m i s  s i  o n e r , i n  d e c id in g  \\n\\nt h e  q u e s t i o n  of r a t i f i c a t i o n  i n  t h e  u a n n e r  i n d i c a t e d  above,  \\n\\nhas  s e t t l e d  th e  r e a l  p o i n t  a t  i s s u e  i n  t h e  d i s p u t e  which \\n\\nwas subm it ted  to  hi;.:.\\n\\nF u r t h e r ,  t h e  e x p r e s s io n  \" S t a t e \" ,  i s  used i n  such a \\n\\ng e n e r a l  s en se  ; nd i s  a p p l i e d  u n d e r  such d i f f e r e n t  cond i t ion ;  \\n\\nt h a t  t h e  C ounc i l  w i l l  n o t  c o n s i d e r  i t  nocess i  ry  t o  examine \\n\\nth e  meaning of t h i s  t e r n  and. i t s  a p p l i c a t i o n  t o  D anzig .\\n\\nThe I n t e r n a t i o n a l  s t a t u s  oi t h e  \"P ree  Git \\u201d i s  d e f i n e d  by \\n\\nt h e  T rea ty  oi  V e r s a i l l e s *\\n\\nI  have the  honour to  p ropose  t h e  f o l lo w in g  R \\xe9 s o l u t ion\\n\\nThe Council  app roves  t h e  p r e s e n t  r e p o r t , which \\n\\nw i l l  he  s u b s t i t u t e d  f o r  t h e  High Commissioner1s \\n\\nc e c i s i  on o f  l ovember 7 t h , 19 24.\\n\\n\\n',\n",
       "   'category': 'COUNCIL DOCUMENT',\n",
       "   'collection': 'lon',\n",
       "   'dateCreated': '2013-08-27T15:14:17Z',\n",
       "   'docType': 'council',\n",
       "   'filename': '/Users/kevinbradley/Desktop/lon/council/0673218/C-107-(1)-1925-I_EN.xml',\n",
       "   'id': 'C.107.(1).1925.I_en',\n",
       "   'languageCode': 'en',\n",
       "   'last_update': '2015-09-03T15:29:56.183Z',\n",
       "   'outputFilename': '/Users/kevinbradley/Desktop/lon_output/C.107.(1).1925.I_en',\n",
       "   'pdfContentLength': '13702',\n",
       "   'pdfContentType': 'application/pdf',\n",
       "   'pdfCreated': 'Tue Aug 27 11:14:17 EDT 2013',\n",
       "   'pdfCreationDate': '2013-08-27T15:14:17Z',\n",
       "   'pdfDCTermsModified': '2013-08-27T15:14:17Z',\n",
       "   'pdfDate': '2013-08-27T15:14:17Z',\n",
       "   'pdfFilename': '/Users/kevinbradley/Desktop/lon/council/0673218/C-107-(1)-1925-I_EN.pdf',\n",
       "   'pdfLastModified': '2013-08-27T15:14:17Z',\n",
       "   'pdfModified': '2013-08-27T15:14:17Z',\n",
       "   'publicationDate': '1925-01-01T00:00:01Z',\n",
       "   'score': 1.0,\n",
       "   'symbol': 'C.107.(1).1925.I',\n",
       "   'title_en': u'PRINCIPLES APPLICABLE IN THE CONCLUSION OF AGREEMENTS BETWEEN DANZIZ AND POLAND. Report by M. Quinones de L\\xe9on\\n',\n",
       "   'url': 'http://biblio-archive.unog.ch/Dateien/CouncilDocs/C-107-(1)-1925-I_EN.pdf',\n",
       "   'volume_barcode': '0673218'},\n",
       "  {'_version_': 1511306503081951232,\n",
       "   'body_fr': u'\\nG.681, 1922.\\nSOC IL g g DES laiglOKS\\n\\nGen\\xe8ve, l a  28 sep tem bre  1932.\\n\\n/\\nA R I.: E IT I E  \\n\\nH o ta d u  S e c r \\xe9 t a i r e  g \\xe9 n \\xe9 r a l .\\n\\nL*\\u201essem bl\\xe9e ,  dans s a  s\\xe9ance  du 20 septembre ,  a a d o p t \\xe9 , \\n\\nau s u j e t  de l a  quest  ion a rm \\xe9n ienne ,  l a  r \\xe9 s o l u t i o n  s u i v a n t s :\\n\\n\" L * assembl\\xe9  e prend a c t e  avec r e c o n n a i s s a n c e  \\ndes r \\xe9 s o l u t i o n s  du  C o n se i l  r e l a t i v e s  \\xe0  1 1 ..rm\\xe9nie \\ne t  \\xe9met l e  voeu que, d e rs  l e s  n \\xe9 g o c i a t i o n s  de \\np a ix  avec l a  T u rq u ie ,  on n e  pe rde  pas de vue l a  \\nn \\xe9 c e s s i t \\xe9  de c o n s t i t u e r  l e  f o y e r  n a t i o n a l  pour \\nl e s  A rm \\xe9niens ,  L 1..sa embl\\xe9e i n v i t e  l e  C o n se i l  \\xe0 \\np ren d re  t o u t e s  l e s  mesures q u 1 i l  ju g e ra  u t i l e s  \\xe0 \\nc e t  e ff  et \\xbbn\\n\\nI l  p a r  t i e n t  a u  C o n se i l  d 1 examiner q u e l l e  s u i t e  i l\\n\\nc r o i t  p o u v o i r  donner \\xe0 c e t  t a  recommandation, e t ,  en p re m ie r  \\n\\nl i e u ,  s 5i l  c o n v ia n t  d \\u2019en communiquer d\\xe8s  m a in tenan t  l e  t a x t a  \\n\\naux P r i n c i p a l e s  [Puissances A l l i \\xe9 e s .\\n\\n\\n',\n",
       "   'category': 'COUNCIL DOCUMENT',\n",
       "   'collection': 'lon',\n",
       "   'dateCreated': '2013-07-25T15:12:48Z',\n",
       "   'docType': 'council',\n",
       "   'filename': '/Users/kevinbradley/Desktop/lon/council/0673193/C-681-1922_FR.xml',\n",
       "   'id': 'C.681.1922_fr',\n",
       "   'languageCode': 'fr',\n",
       "   'last_update': '2015-09-03T15:29:56.197Z',\n",
       "   'outputFilename': '/Users/kevinbradley/Desktop/lon_output/C.681.1922_fr',\n",
       "   'pdfContentLength': '1170',\n",
       "   'pdfContentType': 'application/pdf',\n",
       "   'pdfCreated': 'Thu Jul 25 11:12:48 EDT 2013',\n",
       "   'pdfCreationDate': '2013-07-25T15:12:48Z',\n",
       "   'pdfDCTermsModified': '2013-07-25T15:12:48Z',\n",
       "   'pdfDate': '2013-07-25T15:12:48Z',\n",
       "   'pdfFilename': '/Users/kevinbradley/Desktop/lon/council/0673193/C-681-1922_FR.pdf',\n",
       "   'pdfLastModified': '2013-07-25T15:12:48Z',\n",
       "   'pdfModified': '2013-07-25T15:12:48Z',\n",
       "   'publicationDate': '1922-01-01T00:00:01Z',\n",
       "   'score': 1.0,\n",
       "   'symbol': 'C.681.1922',\n",
       "   'title_fr': 'ARMENIE\\n',\n",
       "   'url': 'http://biblio-archive.unog.ch/Dateien/CouncilDocs/C-681-1922_FR.pdf',\n",
       "   'volume_barcode': '0673193'},\n",
       "  {'_version_': 1511306503094534144,\n",
       "   'body_en': u'\\nLEAGUE OF NATIONS.\\n\\nCommunicated to C . 555.1916.XI.\\nthe Council. O.C.1668.\\n\\nGeneva, Lee ember 22nd, 1936.\\n\\nTRAFFIC IN  OPIUM AND OTHER DANGEROUS DRUGS,\\n\\nRequests from the Governments of Bulgaria and Peru to be \\n\\nrepresented ?n the Advisory Committee cn Traffic in Opium\\n\\nand Other Langorcus Drugs.\\n\\nNote by the Secretary-General.\\n\\nThe Secretary-General has the hcncur to communicate \\n\\nherewith to the Council for information the attached letters \\n\\nfrcm the Permanent Delegates cf Bulgaria and Peru tc the \\n\\nLeague cf Nations, requesting on behalf cf their Governments \\n\\nthat they be invited by the Council tc be represente I cn the \\n\\nJpium Advisory Committee.\\n\\nThe Council ni11 be asked tc consider the requests \\n\\ncontained in these letters at its next ordinary session \\n\\n(ninety-sixth session, January 1937)\\u2022\\n\\nP . T.O.\\n\\n\\n\\n-  2 -\\n\\nI. BULGARIA.\\n\\nGENEVA, October 1st  1936.\\nPermanent Delegation \\n\\nof Bulgaria \\naccredited to the \\nLeague of Nations.\\n\\n(Translation)\\n\\nTc the Secretary-General cf the \\nLeague cf Nations.\\n\\nAt its meeting cn September 26th, 1936, the Ccuncn  \\n\\nadopted the report on the organisation of committees cf the League \\n\\ncf Nations. That report mentions the question of increasing the \\n\\nnumber of Government representatives cn the Opium Advisory Commit\\xad\\n\\ntee .\\n\\nI have the hnncur tc inform you that the Bulgarian \\n\\nGovernment, which has always taken a great interest in the work \\n\\ncf this Committee, wculd be very happy to be invited to be re\\xad\\n\\npresented on it.\\n\\nThanking you in advance for vcur friendly assistance \\n\\nin this matter, I have the hcncur etc.,\\n\\n(Signed) N. LiOKTCHILOFF.\\n\\nII. PERU.\\n\\nGENEVA, July 15t*, 1936.\\nDelegation of Peru \\n\\naccredited to \\nThe League of Nations.\\n\\n(Translation )\\n\\nTc the Secretary-General \\nof the League cf Nations.\\n\\nActing on instructions from my Government and ^ith re\\xad\\n\\nference tc the agreement adopted by the Council cf the League cf \\n\\nNations at its ninetieth session concerning the constitution cf the \\n\\nJpium Advisory Committee, I have the honour to request that a seat \\n\\ncn the Committee be alloted tc Peru.\\n\\nI have the honour etc.,\\n\\n(Signed) F. TUDELA,\\nPeruvian Ambasrador.\\n\\n\\n',\n",
       "   'category': 'COUNCIL DOCUMENT',\n",
       "   'collection': 'lon',\n",
       "   'dateCreated': '2013-09-26T09:22:54Z',\n",
       "   'docType': 'council',\n",
       "   'filename': '/Users/kevinbradley/Desktop/lon/council/0673249/C-555-1936-XI_EN.xml',\n",
       "   'id': 'C.555.1936.XI_en',\n",
       "   'languageCode': 'en',\n",
       "   'last_update': '2015-09-03T15:29:56.211Z',\n",
       "   'outputFilename': '/Users/kevinbradley/Desktop/lon_output/C.555.1936.XI_en',\n",
       "   'pdfContentLength': '2139',\n",
       "   'pdfContentType': 'application/pdf',\n",
       "   'pdfCreated': 'Thu Sep 26 05:22:54 EDT 2013',\n",
       "   'pdfCreationDate': '2013-09-26T09:22:54Z',\n",
       "   'pdfDCTermsModified': '2013-09-26T09:22:54Z',\n",
       "   'pdfDate': '2013-09-26T09:22:54Z',\n",
       "   'pdfFilename': '/Users/kevinbradley/Desktop/lon/council/0673249/C-555-1936-XI_EN.pdf',\n",
       "   'pdfLastModified': '2013-09-26T09:22:54Z',\n",
       "   'pdfModified': '2013-09-26T09:22:54Z',\n",
       "   'publicationDate': '1936-01-01T00:00:01Z',\n",
       "   'score': 1.0,\n",
       "   'symbol': 'C.555.1936.XI',\n",
       "   'title_en': 'TRAFFIC IN OPIUM AND OTHER DANGEROUS DRUGS. Requests from the Governments of Bulgaria and Peru to be represented on the Advisory Committee on Traffic in Opium and Other Dangorcus Drugs.\\n',\n",
       "   'url': 'http://biblio-archive.unog.ch/Dateien/CouncilDocs/C-555-1936-XI_EN.pdf',\n",
       "   'volume_barcode': '0673249'},\n",
       "  {'_version_': 1511306503121797120,\n",
       "   'body_fr': u\"\\n[Communiqu\\xe9 au Conseil \\net aux Membres de la Soci\\xe9t\\xe9.] N\\xb0 officiel: G. 222 . !\\xa5!\\u2022 124. 1938. III. \\n\\n[C.H.1352(1).]\\n\\nGen\\xe8ve, le 2 juillet 1938.\\n\\nSOCI\\xc9T\\xc9 DES NATIONS\\n\\nORGANISATION D\\u2019HYGI\\xc8NE\\n\\nRAPPORT AU CONSEIL SUR LES TRAVAUX DE LA VINGT-HUITI\\xc8ME\\nSESSION DU COMIT\\xc9 D\\u2019HYGI\\xc8NE\\n\\n( Gen\\xe8ve, jo  juin-2 juillet ig38).\\n\\nI. \\xc9TUDES SUR L\\u2019ALIMENTATION.\\nLe Comit\\xe9 d\\u2019hygi\\xe8ne,\\nConsid\\xe9rant que le Pr\\xe9sident de la Commission technique n \\u2019envisage pas de r\\xe9unir la \\n\\nCommission enti\\xe8re en 1938;\\nConsid\\xe9rant cependant que les \\xe9tudes relatives \\xe0 diverses questions inscrites au programme\\n\\nde la Commission ont fait des progr\\xe8s suffisants :\\nInvite une sous-commission pr\\xe9sid\\xe9e par sir Edward M e l l a n b y , et comportant comme \\n\\nmembres le Dr W. R. A y k r o y d , le professeur E. J. B i g w o o d , le Dr H. C h i c k , le professeur \\nB. F r i d e r i c i a , le professeur A. M a y e r , sir John Boyd O r r  et un expert des Etats-Unis d\\u2019Am\\xe9\\xad\\nrique, \\xe0 se r\\xe9unir en ao\\xfbt 1938, pour examiner les questions suivantes :\\n\\ni\\xb0 Directives pour l\\u2019\\xe9tude des r\\xe9gimes alimentaires et de l'\\xe9tat de nutrition des\\npopulations;\\n\\n2\\xb0 Travaux en Extr\\xeame-Orient portant sur les probl\\xe8mes de l\\u2019alimentation :\\n\\xe0) Le probl\\xe8me des standards alimentaires examin\\xe9s par rapport aux standards \\n\\n\\xe9tablis par la Commission technique ;\\nb) Recherches sur l\\u2019alimentation effectu\\xe9es en Extr\\xeame-Orient dans le cadre du \\n\\nprogramme d\\u2019\\xe9tudes de la Commission technique;\\nc) Collaboration des Laboratoires de Coonoor aux travaux de la Commission \\n\\ntechnique ;\\n\\n30 Avis consultatif pour le Comit\\xe9 d \\u2019hygi\\xe8ne au sujet de l \\u2019alimentation des r\\xe9fugi\\xe9s;\\n4\\xb0 Etudes concernant les c\\xe9r\\xe9ales et le pain.\\n\\nII. ETUDES SUR L\\u2019HABITATION.\\ni. Conform \\xe9m ent a u  program m e de travail, approuv\\xe9  p a r  le Conseil en janv ier  1936, su r les principes de l'hygi\\xe8ne \\n\\nmoderne en m ati\\xe8re  d 'h ab ita tio n  urbaine  e t  rurale, le Comit\\xe9 d \\u2019hygi\\xe8ne av a it  d\\xe9cid\\xe9, en f\\xe9vrier 1938 \\\\  de r\\xe9unir un groupe \\nd\\u2019experts en  m ati\\xe8re  d \\u2019insolation  e t  d'\\xe9clairage (naturel e t  artificiel).\\n\\nCette  r\\xe9union a eu lieu du 27 au 29 ju in  1938.\\nLe Comit\\xe9 d\\u2019hygi\\xe8ne prend acte du rapport2 des experts consult\\xe9s sur l\\u2019insolation et \\n\\nl\\u2019\\xe9clairage des habitations et prie le Directeur de la Section d'hygi\\xe8ne d'assurer l\\u2019ex\\xe9cution de \\nleurs recommandations.\\n\\n1 V ingt-septi\\xe8m e session.\\n2 P a ra \\xee t ra  dans le Bulletin  de l'Organisation d'hygi\\xe8ne, vol. VII, n\\xb0 3.\\n\\n3630.  \\u2014  S . d . X .  1 0 3 0  ( F . )  9 0 0  ( A . ) .  7 / 3 8 .  I m p .  K u n d i g . S\\xe9rie de Publications de la Soci\\xe9t\\xe9 des Nations  \\n\\nIII. HYGI\\xc8NE\\n1938. III. 3.\\n\\n\\n\\n\\u2014  2 \\u2014\\n\\n2. Le Comit\\xe9 d\\u2019hygi\\xe8ne,\\nConstatant que les travaux de la Commission de l\\u2019habitation se d\\xe9roulent conform\\xe9ment au \\n\\nprogramme \\xe9labor\\xe9 par la Commission ;\\nD\\xe9sireux de mettre \\xe0 la disposition de la Conf\\xe9rence europ\\xe9enne sur la vie rurale les r\\xe9sultats \\n\\ndes \\xe9tudes de la Commission sur l\\u2019am\\xe9nagement rural:\\nEstime opportun d \\u2019organiser avant la fin de 1938 les consultations d\\u2019experts envisag\\xe9es sur \\n\\nl\\u2019am\\xe9nagement rural, 1 \\u2019approvisionnement en eau, l\\u2019\\xe9vacuation et l\\u2019\\xe9puration des eaux us\\xe9es;\\nPrie son Pr\\xe9sident de d\\xe9terminer, dans le cadre des disponibilit\\xe9s budg\\xe9taires et d\\u2019accord \\n\\navec le Secr\\xe9taire g\\xe9n\\xe9ral, la liste des experts \\xe0 inviter \\xe0 cette r\\xe9union.\\n\\nIII. \\xc9TUDES SUR LES INDICES SANITAIRES.\\n\\nEn \\xe9tablissant son plan tr ienna l de travail, le Comit\\xe9 d \\u2019hygi\\xe8ne a v a it  d\\xe9cid\\xe9 de poursuivre les \\xe9tudes entreprises \\nen 1936 pour d\\xe9term iner des \\xab Indices sanita ires \\xbb. Cette question a \\xe9t\\xe9 examin\\xe9e p a r  les directeurs d \\u2019institu ts  et \\xe9coles \\nd \\u2019hygi\\xe8ne lors de leur r\\xe9union de novem bre 1937 .\\n\\nLe Comit\\xe9 a pris connaissance de l \\u2019\\xe9 ta t  actue l des \\xe9 tudes (document C .H .1346).\\n\\nLe Comit\\xe9 d\\u2019hygi\\xe8ne,\\nConstatant l\\u2019int\\xe9r\\xeat de ces \\xe9tudes pour le d\\xe9veloppement rationnel des m\\xe9thodes de protection \\n\\nde la sant\\xe9:\\nD\\xe9cide de confier \\xe0 un groupe d\\u2019experts la pr\\xe9paration d\\u2019un rapport d \\u2019ensemble comportant \\n\\ndes recommandations fond\\xe9es sur l\\u2019exp\\xe9rience acquise. Les personnalit\\xe9s suivantes p o u r r a ie n t  \\n\\xeatre invit\\xe9es \\xe0 faire partie du groupe d\\u2019experts sous la pr\\xe9sidence du professeur P a r i s o t : le \\nDr R. M. A t w a t e r , secr\\xe9taire de l\\u2019Association am\\xe9ricaine d \\u2019hygi\\xe8ne publique; le Dr M. G r e e n \\xad\\nw o o d ,  professeur \\xe0 l\\u2019Ecole d\\u2019hygi\\xe8ne et de m\\xe9decine tropicale de Londres ; le Dr J. T o m c s ik ,  \\ndirecteur de l'Institut d\\u2019hygi\\xe8ne de l\\u2019E tat \\xe0 Budapest ; le Dr M. K a c p r z a k , chef du Service des \\nstatistiques sanitaires de l\\u2019Institut d'hygi\\xe8ne de l'E tat \\xe0  Varsovie; le Dr A . H \\xf4 j e r , d irec teu r  \\ng\\xe9n\\xe9ral des Services d \\u2019hygi\\xe8ne de Su\\xe8de.\\n\\nIV. PR\\xc9PARATION DE LA CONF\\xc9RENCE EUROP\\xc9ENNE SUR LA \\nVIE RURALE (juillet 1939).\\n\\nLe Comit\\xe9 d\\u2019hygi\\xe8ne,\\nConstatant que l\\u2019Organisation d\\u2019hygi\\xe8ne doit pr\\xe9parer les d\\xe9lib\\xe9rations de la Conf\\xe9rence sur \\n\\nles questions de la politique m\\xe9dico-sociale:\\nEstime n\\xe9cessaire d\\u2019organiser, avant la fin de 1938, une consultation de personnalit\\xe9s charg\\xe9es \\n\\nde diriger effectivement la politique m\\xe9dico-sociale dans leur propre pays;\\nPrie son Pr\\xe9sident de r\\xe9unir en m\\xeame temps la Commission des indices sanitaires et le groupe \\n\\nd'experts constitu\\xe9 par le Comit\\xe9 lors de sa vingt-septi\\xe8me session (r\\xe9solution VII D, approuv\\xe9e \\npar le Conseil le 11 mai 1938).\\n\\nV. OPIUM.\\n\\n1. T r a i t e m e n t  d e  l a  t o x i c o m a n i e .\\n\\nA la suite  d \\u2019une r\\xe9solution de la  Conf\\xe9rence in ternationale  pour la suppression de l \\u2019hab itude  de fum er l\\u2019opium \\n(Bangkok, 1931) et su r l\\u2019inv ita tion  du  Conseil, le Comit\\xe9 d \\u2019hygi\\xe8ne av a it  entrepris l\\u2019\\xe9 tude des diverses m\\xe9thodes de \\nt ra item en t des toxicom anes dans les principaux  pays d \\u2019Europe  e t  d \\u2019Am\\xe9rique du Nord. Divers rap p o rts  cliniques ont \\n\\xe9t\\xe9 r\\xe9unis sur ce sujet.\\n\\nLa Commission consultative du trafic de l \\u2019opium  et au tres  drogues nuisibles a  consta t\\xe9  que certaines m\\xe9thodes \\nde tra item en t des opiomanes sem blent donner des r\\xe9su lta ts  in t\\xe9 ressan ts e t  a  pri\\xe9 le Comit\\xe9 d \\u2019hygi\\xe8ne de les prendre en \\nconsid\\xe9ration 2.\\n\\nLe Comit\\xe9 d \\u2019hygi\\xe8ne prie le Directeur de la Section d\\u2019hygi\\xe8ne de faire \\xe9laborer un r a p p o r t  \\nrelatif au traitement des toxicomanes dans les divers pays.\\n\\n2 . U n i f i c a t i o n  d e s  m \\xe9 t h o d e s  d e  d \\xe9 t e r m i n a t i o n  d e  l a  t e n e u r  e n  m o r p h i n e  d e\\n\\nl \\u2019o p i u m  b r u t .\\n\\nPour satisfaire aux besoins du contr\\xf4le p ra tique  de la fabrication de la morphine, le Comit\\xe9 d \\u2019hygi\\xe8ne a v a i t  etc \\ninvit\\xe9, en 1930, \\xe0 faire \\xe9laborer une m \\xe9thode-type pour la d\\xe9term ination  de la teneur en m orphine de l\\u2019opium  brut. Apr\\xe8s \\ntro is ans d \\u2019\\xe9tudes, un groupe d \\u2019experts a r\\xe9ussi \\xe0  \\xe9tablir une m \\xe9thode qui e st actuellem ent connue sous le nom  de m \\xe9thod e\\n\\n1 Voir docum ent 0.21931.159.1937.111, pages g e t 24.\\n2 Vingt-troisi\\xe8me session, m ai-juin 1938.\\n\\n\\n\\n\\u2014  3 \\u2014\\n\\ninternationale. Depuis lors, les experts on t poursuivi leurs trav au x , en essayan t d '\\xe9lim iner certains d\\xe9fauts inh\\xe9rents \\xe0 \\nce proc\\xe9d\\xe9 de dosage e t  en le co m p aran t en m \\xeam e tem ps \\xe0  d \\u2019au tres. P a r  la m\\xeame occasion, ils ont effectu\\xe9 un trava il \\nanalogue en  ce qui concerne la ten eu r  en coca\\xefne des feuilles de coca.\\n\\nEn octobre  1937, ils o n t  consta t\\xe9  q u \\u2019en ce qui concerne la coca\\xefne, les m \\xe9thodes de dosage son t d\\xe8s m ain tenan t \\nfix\\xe9es, t a n t  pour les feuilles de coca que p our la coca\\xefne b ru te . Pour le dosage de la m orphine, ils o n t  conclu que la m \\xe9thode \\ninternationale, to u t  en conservan t encore certains d\\xe9fauts, pr\\xe9sente n\\xe9anmoins plus d \\u2019avan tages que les au tres m \\xe9thodes \\nconnues jusqu 'ici.\\n\\nCe groupe d \\u2019experts  a  pr\\xe9sen t\\xe9  les r\\xe9su lta ts  de  ses t r a v a u x  dans un rap p o rt qui e st  paru  au Bulletin  de l\\u2019Organisation\\nd'hygi\\xe8ne .\\n\\nCe ra p p o r t  a  \\xe9t\\xe9 exam in\\xe9 p a r  la  Commission consu lta tive  du trafic de l'opium  et au tre s  drogues nuisibles en  mai-juin \\n1938. Celle-ci a constat\\xe9  q u \\u2019il subsiste  encore des divergences d 'opinions au sujet de la m \\xe9thode de dosage de la morphine.\\n\\nLe Comit\\xe9 d \\u2019hygi\\xe8ne:\\nPrend acte du rapport du groupe d \\u2019experts;\\nConstate que les recherches effectu\\xe9es par les experts et les laboratoires nationaux des divers \\n\\npays pourraient avoir pour r\\xe9sultat une am\\xe9lioration de la m\\xe9thodologie en question qui pourrait \\nrendre utile, d \\u2019ici quelque temps, un nouvel examen de la question;\\n\\nPrie le Pr\\xe9sident du groupe d \\u2019experts d \\u2019adresser une proposition au Comit\\xe9 lorsqu\\u2019il esti\\xad\\nmera opportun d\\u2019envisager \\xe0 ce sujet une nouvelle r\\xe9union du groupe d\\u2019experts;\\n\\nPrend acte de 1a. recommandation de la Commission consultative de l\\u2019opium au Conseil \\nde communiquer officiellement le rapport du groupe d \\u2019experts aux gouvernements en invitant \\nceux-ci \\xe0 communiquer leurs observations.\\n\\nVI. UNIFICATION INTERNATIONALE DES PHARMACOP\\xc9ES.\\n\\nE n  vertu  des artic les 34 \\xe0  38 de  l 'A rrangem en t \\xe9labor\\xe9 p a r  la deuxi\\xe8me Conf\\xe9rence in te rna tiona le  pour l'unification \\nde la form ule des m \\xe9dicam ents h\\xe9ro\\xefques (Bruxelles, 1925), le Comit\\xe9 d 'hygi\\xe8ne est appel\\xe9 \\xe0  app o rte r  un  concours technique \\nau Secr\\xe9taria t in te rna tiona l p o u r  l'unification des pharm acop\\xe9es 2.\\n\\nPo u r s 'a c q u it te r  de son r\\xf4le, le Comit\\xe9 a  constitu\\xe9  une  Commission de techniciens des pharm acop\\xe9es d o n t  il a d\\xe9fini \\nle m an d a t en novem bre  1937 3. C ette  Commission a tenu  sa prem i\\xe8re session du 9 au 12 m ai 1938; elle a dress\\xe9 une liste \\ndes m \\xe9dicam ents susceptibles d \\u2019\\xea tre  examin\\xe9s, e t  ses m em bres o n t  bien voulu se charger de r\\xe9diger des p ro je ts de \\nmonographies consacr\\xe9es chacune \\xe0  l 'u n  de ces d ivers m \\xe9dicam ents (document C.H. 1335).\\n\\nLe Comit\\xe9 d\\u2019hygi\\xe8ne:\\nPrend acte du rapport de la Commission technique des pharmacop\\xe9es et constate avec \\n\\nsatisfaction que les dispositions prises par la Commission paraissent, \\xeatre de nature \\xe0 fournir des \\nr\\xe9sultats f\\xe9conds ;\\n\\nApprouve la proposition de la Commission selon laquelle il y aurait lieu de cr\\xe9er un Sous- \\nComit\\xe9 consultatif, qu\\u2019il suffirait probablement de consulter par correspondance, au sujet de \\nl\\u2019unification des m\\xe9thodes de pr\\xe9paration des m\\xe9dicaments gal\\xe9niques.\\n\\nCe Sous-Comit\\xe9, pr\\xe9sid\\xe9 par le Dr C. H .  H a m p s h i r e ,  aurait la composition suivante : \\nM. H . B e r r y ,  doyen du Coll\\xe8ge de la Soci\\xe9t\\xe9 pharmaceutique, Londres ; le professeur J. B \\xfc c h i ,  \\nInstitut de pharmacie, Polytechnicum, Zurich ; le professeur A. G o r i s ,  directeur de la Pharmacie \\ncentrale des h\\xf4pitaux et hospices civils, Paris; le Dr J. A. C. v a n  P i n x t e r e n ,  Stadhouderslaan, \\nHillersberg, Pays-Bas; le professeur S . A. S c h o u ,  Pharmaceutiske L\\xe6reanstalt, Copenhague ; le \\nprofesseur N. W a t t i e z ,  Ecole de pharmacie de l\\u2019Universit\\xe9 de Bruxelles.\\n\\nVII. CONF\\xc9RENCES SANITAIRES PANAFRICAINES.\\n\\nLe Comit\\xe9 d \\u2019hygi\\xe8ne,\\nConsid\\xe9rant qu\\u2019en mai 1936 4, il avait pri\\xe9 le Conseil de consulter les gouvernements int\\xe9ress\\xe9s \\n\\nsur le m\\xe9canisme envisag\\xe9 dans une r\\xe9solution adopt\\xe9e par la Conf\\xe9rence sanitaire panafricaine 5 \\npour assurer la collaboration entre l \\u2019Organisation d \\u2019hygi\\xe8ne et les administrations sanitaires de \\nr Afrique;\\n\\nAyant pris connaissance des observations formul\\xe9es par divers gouvernements:\\nConfie au Directeur de la Section d \\u2019hygi\\xe8ne le soin d'organiser la liaison n\\xe9cessaire en vue de \\n\\nla convocation de futures conf\\xe9rences sanitaires panafricaines.\\n\\nVIII. TRAVAUX COURANTS DE L\\u2019ORGANISATION D \\u2019HYGI\\xc8NE.\\n\\nLe Comit\\xe9 d 'hygi\\xe8ne a proc\\xe9d\\xe9 \\xe0  un  exam en des divers t rav a u x  poursuivis p a r  l\\u2019O rganisation d 'hygi\\xe8ne depuis sa \\nderni\\xe8re session (f\\xe9vrier 1938) su r la base  d 'u n  ra p p o r t  du Directeur de la Section d \\u2019hygi\\xe8ne (document C.H. 1337). Il a\\n\\n1 Volum e V II, n\\xb0 3.\\n2 Voir ra p p o r t  su r la v ingt-cinqui\\xe8m e session du Comit\\xe9 d \\u2019hygi\\xe8ne (document C.219.M.159.1937, page 25) e t  sur \\n\\nla vingt-sixi\\xe8me session (docum ent C.535.M.372.1937, page 6).\\n3 Vingt-sixi\\xe8me session.\\n4 Vingt-troisi\\xe8m e session.\\n5 Johannesburg , novem bre 1935.\\n\\n\\n\\n\\u2014  4  \\u2014\\n\\n\\xe9galem ent exam in\\xe9 une note  du  Pr\\xe9sident de la Commission du paludism e sur la deuxi\\xe8m e r\\xe9union du Comit\\xe9 rapporteur \\nde lad ite  Commission (document C .H./M alaria/260) e t  le ra p p o rt  du  Directeur du  B ureau d \\u2019Orient de l \\u2019Organisation \\nd 'hygi\\xe8ne sur l '\\u0153 uvre  poursuivie p a r  ce B ureau p endan t l \\u2019ann\\xe9e 1937.\\n\\nLe Comit\\xe9 a pris acte  de ces divers rapports .\\n\\nIX. DANGERS PROVENANT DE L'EMPLOI DE SUBSTANCES TOXIQUES POUR LA \\nD\\xc9SINSECTISATION EN AGRICULTURE ET EN HORTICULTURE.\\n\\nSur la dem ande du Comit\\xe9 de correspondance pour l \\u2019hygi\\xe8ne industrielle de l \\u2019Organisation in ternationale du  Travail, \\nle Comit\\xe9 d \\u2019hygi\\xe8ne avait d\\xe9cid\\xe9 de r\\xe9unir une docum entation  sur les dangers inh\\xe9rents \\xe0  l \\u2019emploi, en agriculture et e n  \\nhorticulture, de substances toxiques telles que les cyanures e t  leurs compos\\xe9s, les p roduits arsenicaux e t la  nicotine e n  \\nsolutions concentr\\xe9es. Le m\\xe9decin g\\xe9n\\xe9ral H. S. C u m m i n g  avait  bien voulu accepter de soum ettre  un rap p o rt fond\\xe9 sur l a  \\ndocum entation  ainsi r\\xe9unie 1.\\n\\nLe Comit\\xe9 d\\u2019hygi\\xe8ne prend acte du rapport pr\\xe9sent\\xe9 par le m\\xe9decin g\\xe9n\\xe9ral H. S. C u m m i n g  \\n(document C.H. 1343 et addendum) et prie le Directeur de la Section d\\u2019hygi\\xe8ne de communiquer \\nce rapport au Comit\\xe9 de correspondance pour l'hygi\\xe8ne industrielle de l \\u2019Organisation inter\\xad\\nnationale du Travail.\\n\\nX. LIAISON AVEC LA COMMISSION DES QUESTIONS SOCIALES.\\nLe Comit\\xe9 d \\u2019hygi\\xe8ne,\\nSur le rapport du professeur P a r i s o t , agent de liaison du Comit\\xe9 d\\u2019hygi\\xe8ne aupr\\xe8s de la  \\n\\nCommission des questions sociales:\\nPrie le Directeur de la Section d\\u2019hygi\\xe8ne de lui pr\\xe9senter un rapport du Secr\\xe9tariat comportant \\n\\ndes propositions concr\\xe8tes concernant la coordination entre les activit\\xe9s de la Commission et \\ncelles du Comit\\xe9 d\\u2019hygi\\xe8ne.\\n\\nXI. STANDARDISATION BIOLOGIQUE.\\n1 .\\n\\nPour faciliter e t rendre  plus \\xe9 tro ite  la collaboration technique en tre  les In s t i tu ts  de Copenhague e t d \\u2019Hampstead \\nd \\u2019une part,  e t d \\u2019au tre  p a r t  les centres na tionaux  officiellement constitu\\xe9s dans certains pay s  d \\u2019Europe, le Comit\\xe9 d'hygi\\xe8ne \\na v a it  d\\xe9cid\\xe9 d \\u2019organiser une visite  \\xe0 ces centres nationaux, visite  \\xe0  laquelle p rendraien t p a r t  des repr\\xe9sen tan ts des \\nIn s t i tu ts  de Copenhague e t  H am pstead  e t  le Secr\\xe9taire de la Commission perm anente  de standard isa tion  biologique.\\n\\nCes visites se sont effectu\\xe9es en tre  le 23 m ai et le 4 juin, selon un  itin\\xe9raire a llan t de Zagreb \\xe0  Belgrade, Sofia, \\nBucarest, B udapest e t  Prague. Le Pr\\xe9siden t et le Secr\\xe9taire de la Commission en  on t rendu com pte  au  Comit\\xe9.\\n\\n2 .\\nLe Comit\\xe9 d'hygi\\xe8ne,\\nInform\\xe9 de la d\\xe9cision prise par la Commission de contr\\xf4le en avril 1938, au sujet du cr\\xe9dit \\n\\n\\xe0 affecter aux travaux de l\\u2019Institut s\\xe9rologique de l\\u2019E tat danois et du National Institute fo r \\nMedical Research de Londres :\\n\\nPrie le Secr\\xe9taire g\\xe9n\\xe9ral de bien vouloir prendre les dispositions qui lui sembleraient indiqu\\xe9es \\npour que la question puisse \\xeatre d\\xe9finitivement r\\xe9gl\\xe9e d\\xe8s la prochaine Assembl\\xe9e.\\n\\nXII. CONGR\\xc8S INTERNATIONAL DE LA L\\xc8PRE.\\n(Mars 1938.)\\n\\nLe Comit\\xe9 d\\u2019hygi\\xe8ne,\\nAyant d\\xe9l\\xe9gu\\xe9 un repr\\xe9sentant au Congr\\xe8s international de la l\\xe8pre comme observateur et \\n\\nrapporteur, en vue d \\u2019\\xeatre renseign\\xe9 sur les d\\xe9lib\\xe9rations de ce Congr\\xe8s 2 ;\\nApr\\xe8s avoir pris connaissance du rapport de son repr\\xe9sentant sur les travaux et les r \\xe9 s o l u t i o n s  \\n\\ndu Congr\\xe8s international du Caire (document C.H.1342):\\nAppr\\xe9cie hautement l\\u2019\\u0153uvre accomplie par la Soci\\xe9t\\xe9 internationale de la l\\xe8pre;\\nPrend acte avec satisfaction de la r\\xe9solution adopt\\xe9e par la Soci\\xe9t\\xe9 internationale et a c c u e i l le  \\n\\nfavorablement la proposition que son Pr\\xe9sident \\xab prenne contact avec la Soci\\xe9t\\xe9 des Nations dans \\nle but d \\u2019\\xe9tudier les possibilit\\xe9s de collaboration avec la Soci\\xe9t\\xe9 des Nations \\xbb;\\n\\nConsid\\xe9rant qu\\u2019il lui incombe de tenir \\xe0 la disposition des gouvernements et administrations \\nsanitaires ses moyens d\\u2019information et d\\u2019action:\\n\\nPrie son Pr\\xe9sident et le Directeur de la Section d\\u2019hygi\\xe8ne d \\u2019entrer en contact avec le P r \\xe9 s id e n t  \\nde la Soci\\xe9t\\xe9 internationale pour \\xe9tablir et soumettre au Comit\\xe9 une formule de c o l l a b o r a t i o n  \\ns\\u2019inspirant des indications pr\\xe9sent\\xe9es au c o u r s  de la discussion du Comit\\xe9 d \\u2019hygi\\xe8ne.\\n\\n1 Vingt-cinqui\\xe8me session, avril 1937.\\n2 Vingt-sixi\\xe8me session, novem bre 1937.\\n\\n\\n\",\n",
       "   'category': 'COUNCIL MEMBER STATES',\n",
       "   'collection': 'lon',\n",
       "   'dateCreated': '2013-10-22T10:17:05Z',\n",
       "   'docType': 'member',\n",
       "   'filename': '/Users/kevinbradley/Desktop/lon/member/0660085/C-222-M-124-1938-III_FR.xml',\n",
       "   'id': 'C.222.M.124.1938.III_fr',\n",
       "   'languageCode': 'fr',\n",
       "   'last_update': '2015-09-03T15:29:56.236Z',\n",
       "   'outputFilename': '/Users/kevinbradley/Desktop/lon_output/C.222.M.124.1938.III_fr',\n",
       "   'pdfContentLength': '16238',\n",
       "   'pdfContentType': 'application/pdf',\n",
       "   'pdfCreated': 'Tue Oct 22 06:17:05 EDT 2013',\n",
       "   'pdfCreationDate': '2013-10-22T10:17:05Z',\n",
       "   'pdfDCTermsModified': '2013-10-22T10:17:05Z',\n",
       "   'pdfDate': '2013-10-22T10:17:05Z',\n",
       "   'pdfFilename': '/Users/kevinbradley/Desktop/lon/member/0660085/C-222-M-124-1938-III_FR.pdf',\n",
       "   'pdfLastModified': '2013-10-22T10:17:05Z',\n",
       "   'pdfModified': '2013-10-22T10:17:05Z',\n",
       "   'publicationDate': '1938-01-01T00:00:01Z',\n",
       "   'score': 1.0,\n",
       "   'symbol': 'C.222.M.124.1938.III',\n",
       "   'title_fr': u\"ORGANISATION D'HYGIENE. RAPPORT AU CONSEIL SUR LES TRAVAUX DE LA VINGT-HUITIEME SESSION DU COMITE D'HYGIENE (Gen\\xe8ve, 30 juin - 2 juillet 1938)\\n\",\n",
       "   'url': 'http://biblio-archive.unog.ch/Dateien/CouncilMSD/C-222-M-124-1938-III_FR.pdf',\n",
       "   'volume_barcode': '0660085'},\n",
       "  {'_version_': 1511306503137525760,\n",
       "   'body_en': u'\\nA\\n/ W\\n/ j ^ y\\n\\nsonicated to  t h e /\\nJ Council.  / / \\xa3 / / Jp\\'\\xc6\\n\\n/ tW   o x\\n\\nHA\\xcf I  OIT S\\nC . 1 0 3 . 1 9 3 3 . 7 1 1  \\n\\nG e n e v a , F e b r u a r y  3 r d ,  1^33\\n\\n1rT,v;:EN COLOMBIA AKD PE U .\\n\\ne l e g r a m  t o  th e  Government  o f  P e r u .\\n\\nThe C o u n c i l  a c k n o w l e d g e s  t h e  r e c e i p t  o f  t h e  t e l e g r a m  o f  t h e  \\n\\n--avian G o ve rn m en t . I t  h a s  a l w a y s  a p p r e c i a t e d  t h e  l o y a l  a t t i t u d e  \\n\\nv,served by P e r u  w i t h  r e g a r d  t o  i t s  o b l i g a t i o n s  u n d e r  t h e  C o ve n an t  o f  \\n\\n\\'i= League o f  N a t i o n s ,  b u t  i t  d o e s  n o t  c o n s i d e r  t h a t  t h e  o b s e r v a t i o n s  \\n\\n7i put fo rward  n e c e s s i t a t e  any  a l t e r a t i o n  i n  t h e  t e r m s  o f  i t s  \\n\\n.revious t e l e g r a m .\\n\\nThe C o u n c i l  f u l l y  u n d e r s t a n d s  t h e  p r e o c c u p a t i o n  e x i s t i n g  i n  \\n\\neru with r e g a r d  to P e r u v i a n  n a t i o n a l s  r e s i d i n g  i n  Co lom bi an  t e r r i -  \\n\\nory, but i t  c a n n o t  ad m i t  t h a t  s u c h  f e e l i n g  c o u l d  a u t h o r i s e  any  \\n\\n-cible  a c t i o n  t o  p r e v e n t  th e  C o l om bi an  Government  f rom r o - e s t a b l i s h \\xad\\n\\ning i t s  a u t h o r i t y  i n  t h e  t e r r i t o r y  which  b e l o n g s  t o  i t  by t r e a t y ,  \\n\\nirtfrer, i t  has  r e c e i v e d  f o r m a l  a s s u r a n c e s  f ro m  t h e  C o lo m oi an  Govern-  \\n\\nent that  i t  h a s  no i n t e n t i o n  t o  v i o l a t e  o r  t o  t h r e a t e n  a n y  P e r u v i a n  \\n\\nerri tory and t h a t  i t  w i l l  a c t  i n  s t r i c t  a c c o r d a n c e  w i t h  t h e  \\n\\ncunail Ts r e c o m m e n d a t i o n s  i n  r  -ga rd  t o  e x e r c i s e  o f  m o d e r a t i o n  i n  t h e  \\n\\nestorat ion o f  i t s  a u t h o r i t y  i n  the  t e r r i t o r y  w h i c h  b e l o n g s  t o  i t  by \\n\\nrsaty.\\n\\nThe C o u n c i l  b e l i e v e s  t h a t  b o t h p \\xe0 i ? M e s  a r e  a n i m a t e d  by  a\\n/  X/ /  !\\n\\ni.n.\\xfcine d e s i r e  t o  s e t t l e  the  d i s p u t e  En a c c o r d a n c e  w i t h  the  p r  n c i p l e s/ \\u25a0 /\\nthe Covenant  a n d  t h a t i f  t h i s  -at  t  i tu \\xe0 4 \\'- $ ^ \\'/ma i n  t a i  ne d t h e  s u c c e s s  tit\\n\\n-1\\' O A q  \\'\\npr op osa l s  made i n  a f r a t e r n a l  s p i r i t  -{Tajf t h e  \" B r a z i l i a n  Government\\n\\n\\xa3 J / iP j\\ni ll  be a s s u r e d .  The Counc i l  \\'w i\\u2019\\xee \\' l / be jg i^ d  to be i n f o r m e d  o i  t h e\\n\\n\\n\\n!     V // a- c ?  /esults o f  t h e s e  n r o \\' o o s a l s .\\n\\n\\u25a0 r * \\xa5 /  o\\nP r e s i d e n t  o f  t h e  C o u n c i l .\\n\\n\\n',\n",
       "   'category': 'COUNCIL DOCUMENT',\n",
       "   'collection': 'lon',\n",
       "   'dateCreated': '2013-09-11T09:01:48Z',\n",
       "   'docType': 'council',\n",
       "   'filename': '/Users/kevinbradley/Desktop/lon/council/0676064/C-108-1933-VII_EN.xml',\n",
       "   'id': 'C.108.1933.VII_en',\n",
       "   'languageCode': 'en',\n",
       "   'last_update': '2015-09-03T15:29:56.252Z',\n",
       "   'outputFilename': '/Users/kevinbradley/Desktop/lon_output/C.108.1933.VII_en',\n",
       "   'pdfContentLength': '2678',\n",
       "   'pdfContentType': 'application/pdf',\n",
       "   'pdfCreated': 'Wed Sep 11 05:01:48 EDT 2013',\n",
       "   'pdfCreationDate': '2013-09-11T09:01:48Z',\n",
       "   'pdfDCTermsModified': '2013-09-11T09:01:48Z',\n",
       "   'pdfDate': '2013-09-11T09:01:48Z',\n",
       "   'pdfFilename': '/Users/kevinbradley/Desktop/lon/council/0676064/C-108-1933-VII_EN.pdf',\n",
       "   'pdfLastModified': '2013-09-11T09:01:48Z',\n",
       "   'pdfModified': '2013-09-11T09:01:48Z',\n",
       "   'publicationDate': '1933-01-01T00:00:01Z',\n",
       "   'score': 1.0,\n",
       "   'symbol': 'C.108.1933.VII',\n",
       "   'title_en': 'DISPUTE BETWEEN COLOMBIA AND PERU. Draft Telegram to the Government of Peru.\\n',\n",
       "   'url': 'http://biblio-archive.unog.ch/Dateien/CouncilDocs/C-108-1933-VII_EN.pdf',\n",
       "   'volume_barcode': '0676064'},\n",
       "  {'_version_': 1511306503154302976,\n",
       "   'body_en': u'\\n( j o \\' T o n i o - i t e d  t o  \\' - -e\\nComic 11 -3nd r \\' .em bo is  \\n;\\xa3 \\xd9 \\' \\'\\n\\n6 C  1 .  ( 1 )\\n\\nOi* THL BULG.iRLi.iT GOVERRItiHT UIl\\n\\naR\\xcfICL.,3 10 and 11 Ox THE COVEITAI\\xcfT\\n\\nThe C o u n c i l  h a s  a p p r o v e d  th e  I n i t i a t i v e  t a k e n  by i t s  \\n\\n\\u2022 le tinf? P r e s i d e n t  i n  r e m i n d i n g  th e  B u l g a r i a n  and Gr- e k  G o v ern m en ts  \\n\\no f  the s o l e m n  o b l i g a t i o n s  u n d e r t a k e n  by them a s  members  c f  th e  \\n\\nIsafue ox N a t i o n s  u n d e r  A r t i c l e  1C o f  t h e  C o v e n a n t  n o t  to  r e s e r t  \\n\\nto vrgr an a  o f  t h e  g r a v e  c o n s  -q u en ces  w h ic h  t h e  C o v e n a n t  l a y s  do\\'-:n \\n\\nfor b r e a c h e s  t h e r e o f ,  and e x h o r t i n g  them t h e r e f o r e  to  g i v e  \\n\\ni ned, i  a  t e  i n s t r u c t i o n s  t h a t  p e n d i n g  c o n s i d e r a t i o n  o f  t h e  d i s p u t e  \\n\\nby the C o u n c i l  n o t  o n ly  no f u r t h e r  m i l i t a r y  commitmen ts  s h o u l d  be \\n\\nun ae r taken  b u t  t h a t  a l l  t r o o p s  s h o u l d  a t  once  be r / i t h d r a r a  b e h i n d  \\n\\nthe r e s p e c t i v e  1 r e n t i e r s  .\\n\\nthese two c o n d i t i o n s  h a v e  b e e n  f u l f i l l e d  a s  i t  c o n s i d e r s  them to\\n\\nsequent  a c t i o n  by th e  C o u n c i l  on any o t h e r  a s p e c t s  c f  the  d i s p u t e .\\n\\n\\' nd \"\\'i th  i n  60 h o u r s  thn  t  a l l  t r o o p s  have  b e \\xb0 n  \\' \\u2022 \\u2022r i thcravn v/i t h i n\\n\\nThe C o u n c i l  h a s  e n q u i r e d  o f  t h e  p a r t i e s  a s  to w h e t h e r\\n\\n6e of  v i t a l  i m p o r t a n c e  and a n  e s s e n t i a l  p r e l i m i n a r y  to  a n y  s u b -\\n\\nThe C o u n c i l  i s  n o t  s a t i s f i e d  t h a t  m i l i t a r y  o p e r a t i o n s\\n\\nt r o o p s  h a v e  b e e n  w i t h d r a w n  b e h i n d  thea?c c e a s e d  and t h a t  t.-J\\n\\nt i c  na 1 f r o  n  t  i  or\\n\\nI t  t h e r e f o r e  r e q u  s t s  t h e  r e p r e s e n t a t i v e\\n\\ns  h a v e  r i  v en  unco no\\n\\ni t h  d r  a\\' /: b e h i n d  t 1 e i r\\n\\n1\\u2018^ 9 a - t i o n a l  r e n t i e r s ;\\n\\n\\n\\nth\\xb0t a l l  h o s t i l i t i e s  have c e a se d  and t h a t  a l l  t r o o p s  have been  \\n\\ncorned t h a t  the  r e s u m p t i o n  o f  f i r i n g  \" d l l  be v i s i t e d  w i th  se v e re  \\n\\npunishmnnt.\\n\\nThe r e p r e s e n t a t i v e s  o f  t h e  two Governments  a r e  r e q u e s t e d  \\n\\nto a r r a n  e t h a t  i n s t r u c t i o n s  s h a l l  be im m e d ia te ly  g iv e n  to en su re  \\n\\nthe e x e c u t i o n  of  t h e s e  n e  asm.-e s  by the da,t e s  i i x e d  f o r  them.\\n\\nI n  o r d e r  to  a s s i s t  the  C o u n c i l  and the two S t a t e s  the \\n\\nCouncil r e q u e s t s  the Governments  o f  F r a n c e ,  G r e a t  B r i t a i n  and \\n\\nItaly to d i r e c t  o f f i c e r s  who a re  w i t h i n  r e a c h  to r e p a i r  immedia te ly  \\n\\nto the r e g i o n  where the  c o n ! l i c t  ha s  b ro k en  out. and r e p o r t  d i r e c t  \\n\\nto the C o u n c i l  a s  soon  a s  the t r o o p s  o f  b o t h  S t a t e s  have been  \\n\\nflithdrav/h b e h in d  t h e i r  r e s p e c t i v e  f r o n t i e r s ,  and a s  soon  as  a l l  \\n\\nh o s t i l i t i e s  have c e a s e d , and i n  any cage a t  the e x p i r a t i o n  of  \\n\\nthe t i n e  l i m i t  r e f e r r e d  to  a b o v e t Th^ two Governments  a re  \\n\\nrequested to a c c o rd  to the s a i d  o f f i c e r s  a l l  f a c i l i t i e s  t h a t  may \\n\\nbe r e q u i r e d  f o r  the  e x e c u t i o n  o f  t h i s  m i s s i o n .\\n\\n\\n',\n",
       "   'category': 'COUNCIL MEMBER STATES',\n",
       "   'collection': 'lon',\n",
       "   'dateCreated': '2014-03-19T12:03:22Z',\n",
       "   'docType': 'member',\n",
       "   'filename': '/Users/kevinbradley/Desktop/lon/member/0673300/C-661-(1)-M-220-1925-VII_EN.xml',\n",
       "   'id': 'C.661.(1).M.220.1925.VII_en',\n",
       "   'languageCode': 'en',\n",
       "   'last_update': '2015-09-03T15:29:56.265Z',\n",
       "   'outputFilename': '/Users/kevinbradley/Desktop/lon_output/C.661.(1).M.220.1925.VII_en',\n",
       "   'pdfContentLength': '3602',\n",
       "   'pdfContentType': 'application/pdf',\n",
       "   'pdfCreated': 'Wed Mar 19 08:03:22 EDT 2014',\n",
       "   'pdfCreationDate': '2014-03-19T12:03:22Z',\n",
       "   'pdfDCTermsModified': '2014-03-19T12:03:22Z',\n",
       "   'pdfDate': '2014-03-19T12:03:22Z',\n",
       "   'pdfFilename': '/Users/kevinbradley/Desktop/lon/member/0673300/C-661-(1)-M-220-1925-VII_EN.pdf',\n",
       "   'pdfLastModified': '2014-03-19T12:03:22Z',\n",
       "   'pdfModified': '2014-03-19T12:03:22Z',\n",
       "   'publicationDate': '1925-01-01T00:00:01Z',\n",
       "   'score': 1.0,\n",
       "   'symbol': 'C.661.(1).M.220.1925.VII',\n",
       "   'title_en': 'APPEAL OF THE BULGARIAN GOVERNMENT UNDER ARTICLES 10 and 11 OF THE COVENANT. RESOLUTION ADOPTED BY THE COUNCIL ON THE 25th OCTOBER, 1925.\\n',\n",
       "   'url': 'http://biblio-archive.unog.ch/Dateien/CouncilMSD/C-661-(1)-M-220-1925-VII_EN.pdf',\n",
       "   'volume_barcode': '0673300'}],\n",
       " 'maxScore': 1.0,\n",
       " 'numFound': 25311,\n",
       " 'start': 2}"
      ]
     },
     "execution_count": 34,
     "metadata": {},
     "output_type": "execute_result"
    }
   ],
   "source": [
    "response2['response']"
   ]
  },
  {
   "cell_type": "code",
   "execution_count": 35,
   "metadata": {
    "collapsed": false
   },
   "outputs": [
    {
     "data": {
      "text/plain": [
       "['languageCode',\n",
       " 'pdfCreationDate',\n",
       " 'pdfLastModified',\n",
       " 'docType',\n",
       " 'publicationDate',\n",
       " 'pdfDate',\n",
       " 'last_update',\n",
       " 'pdfModified',\n",
       " 'id',\n",
       " 'category',\n",
       " 'pdfDCTermsModified',\n",
       " 'filename',\n",
       " 'pdfFilename',\n",
       " 'score',\n",
       " '_version_',\n",
       " 'body_en',\n",
       " 'pdfContentLength',\n",
       " 'symbol',\n",
       " 'title_en',\n",
       " 'collection',\n",
       " 'dateCreated',\n",
       " 'volume_barcode',\n",
       " 'pdfCreated',\n",
       " 'url',\n",
       " 'outputFilename',\n",
       " 'pdfContentType']"
      ]
     },
     "execution_count": 35,
     "metadata": {},
     "output_type": "execute_result"
    }
   ],
   "source": [
    "response2['response']['docs'][2].keys()"
   ]
  },
  {
   "cell_type": "code",
   "execution_count": 36,
   "metadata": {
    "collapsed": false
   },
   "outputs": [
    {
     "data": {
      "text/plain": [
       "'http://biblio-archive.unog.ch/Dateien/CouncilDocs/C-234-1930-II_EN.pdf'"
      ]
     },
     "execution_count": 36,
     "metadata": {},
     "output_type": "execute_result"
    }
   ],
   "source": [
    "response2['response']['docs'][2]['url']"
   ]
  },
  {
   "cell_type": "code",
   "execution_count": 38,
   "metadata": {
    "collapsed": true
   },
   "outputs": [],
   "source": [
    "client = MongoClient()"
   ]
  },
  {
   "cell_type": "code",
   "execution_count": 45,
   "metadata": {
    "collapsed": false
   },
   "outputs": [
    {
     "data": {
      "text/plain": [
       "[u'local', u'test_un_db']"
      ]
     },
     "execution_count": 45,
     "metadata": {},
     "output_type": "execute_result"
    }
   ],
   "source": [
    "client.database_names()"
   ]
  },
  {
   "cell_type": "code",
   "execution_count": 46,
   "metadata": {
    "collapsed": false
   },
   "outputs": [],
   "source": [
    "db = client.test_un_db"
   ]
  },
  {
   "cell_type": "code",
   "execution_count": 48,
   "metadata": {
    "collapsed": false
   },
   "outputs": [
    {
     "data": {
      "text/plain": [
       "[u'docs', u'system.indexes']"
      ]
     },
     "execution_count": 48,
     "metadata": {},
     "output_type": "execute_result"
    }
   ],
   "source": [
    "db.collection_names()"
   ]
  },
  {
   "cell_type": "code",
   "execution_count": 49,
   "metadata": {
    "collapsed": true
   },
   "outputs": [],
   "source": [
    "docs = db.docs"
   ]
  },
  {
   "cell_type": "code",
   "execution_count": 55,
   "metadata": {
    "collapsed": false
   },
   "outputs": [
    {
     "data": {
      "text/plain": [
       "{u'_id': ObjectId('565b0c567832a00255e062b0'),\n",
       " u'lang': u'Language: eng',\n",
       " u'link': u'http://biblio-archive.unog.ch/Dateien/CouncilDocs/C-772-1925_EN.pdf',\n",
       " u'publication date': u'Publication Date: 1 Jan, 1925',\n",
       " u'title': u'ARBITRATION, SECURITY AND REDUCTION OF ARMAMENTS. Report by M. Benes. (Adopted by the Council)'}"
      ]
     },
     "execution_count": 55,
     "metadata": {},
     "output_type": "execute_result"
    }
   ],
   "source": [
    "docs.find_one()"
   ]
  },
  {
   "cell_type": "code",
   "execution_count": 56,
   "metadata": {
    "collapsed": false
   },
   "outputs": [
    {
     "data": {
      "text/plain": [
       "[ObjectId('565b0c567832a00255e062b0'), ObjectId('565b5a6e7832a0053b4b0cd6')]"
      ]
     },
     "execution_count": 56,
     "metadata": {},
     "output_type": "execute_result"
    }
   ],
   "source": [
    "docs.distinct(key='_id')"
   ]
  },
  {
   "cell_type": "code",
   "execution_count": 57,
   "metadata": {
    "collapsed": true
   },
   "outputs": [],
   "source": [
    "for doc in response2['response']['docs']:\n",
    "    docs.insert_one(doc)"
   ]
  },
  {
   "cell_type": "code",
   "execution_count": 58,
   "metadata": {
    "collapsed": false
   },
   "outputs": [
    {
     "data": {
      "text/plain": [
       "[ObjectId('565b0c567832a00255e062b0'),\n",
       " ObjectId('565b5a6e7832a0053b4b0cd6'),\n",
       " ObjectId('565dcadc7832a0047fc46b03'),\n",
       " ObjectId('565dcadc7832a0047fc46b04'),\n",
       " ObjectId('565dcadc7832a0047fc46b05'),\n",
       " ObjectId('565dcadc7832a0047fc46b06'),\n",
       " ObjectId('565dcadc7832a0047fc46b07'),\n",
       " ObjectId('565dcadc7832a0047fc46b08'),\n",
       " ObjectId('565dcadc7832a0047fc46b09'),\n",
       " ObjectId('565dcadc7832a0047fc46b0a'),\n",
       " ObjectId('565dcadc7832a0047fc46b0b'),\n",
       " ObjectId('565dcadc7832a0047fc46b0c')]"
      ]
     },
     "execution_count": 58,
     "metadata": {},
     "output_type": "execute_result"
    }
   ],
   "source": [
    "docs.distinct(key='_id')"
   ]
  },
  {
   "cell_type": "code",
   "execution_count": null,
   "metadata": {
    "collapsed": true
   },
   "outputs": [],
   "source": []
  }
 ],
 "metadata": {
  "kernelspec": {
   "display_name": "Python 2",
   "language": "python",
   "name": "python2"
  },
  "language_info": {
   "codemirror_mode": {
    "name": "ipython",
    "version": 2
   },
   "file_extension": ".py",
   "mimetype": "text/x-python",
   "name": "python",
   "nbconvert_exporter": "python",
   "pygments_lexer": "ipython2",
   "version": "2.7.10"
  }
 },
 "nbformat": 4,
 "nbformat_minor": 0
}
