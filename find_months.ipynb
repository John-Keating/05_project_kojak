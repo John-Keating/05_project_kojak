{
 "cells": [
  {
   "cell_type": "code",
   "execution_count": 64,
   "metadata": {
    "collapsed": true
   },
   "outputs": [],
   "source": [
    "# libraries\n",
    "import pickle\n",
    "import pandas as pd\n",
    "from string import whitespace,punctuation,digits,maketrans\n",
    "import re\n",
    "from unidecode import unidecode"
   ]
  },
  {
   "cell_type": "code",
   "execution_count": 2,
   "metadata": {
    "collapsed": true
   },
   "outputs": [],
   "source": [
    "with open('labeled_dates.pk1', 'r') as picklefile:\n",
    "    label_df = pickle.load(picklefile)"
   ]
  },
  {
   "cell_type": "code",
   "execution_count": 4,
   "metadata": {
    "collapsed": false
   },
   "outputs": [],
   "source": [
    "with open('date_predictions.pk1', 'r') as picklefile:\n",
    "    pred_label_df = pickle.load(picklefile)"
   ]
  },
  {
   "cell_type": "code",
   "execution_count": 5,
   "metadata": {
    "collapsed": false
   },
   "outputs": [
    {
     "data": {
      "text/html": [
       "<div>\n",
       "<table border=\"1\" class=\"dataframe\">\n",
       "  <thead>\n",
       "    <tr style=\"text-align: right;\">\n",
       "      <th></th>\n",
       "      <th>symbol</th>\n",
       "      <th>line</th>\n",
       "      <th>type</th>\n",
       "    </tr>\n",
       "  </thead>\n",
       "  <tbody>\n",
       "    <tr>\n",
       "      <th>0</th>\n",
       "      <td>C.476.1930.X</td>\n",
       "      <td>C.476.1930.X.</td>\n",
       "      <td>symbolline</td>\n",
       "    </tr>\n",
       "    <tr>\n",
       "      <th>1</th>\n",
       "      <td>C.476.1930.X</td>\n",
       "      <td>September6th,1930,</td>\n",
       "      <td>dateline</td>\n",
       "    </tr>\n",
       "    <tr>\n",
       "      <th>2</th>\n",
       "      <td>C.476.1930.X</td>\n",
       "      <td>LEAGUEOFNATIONS.</td>\n",
       "      <td>other</td>\n",
       "    </tr>\n",
       "    <tr>\n",
       "      <th>3</th>\n",
       "      <td>C.476.1930.X</td>\n",
       "      <td>CONTRIBUTIONSINARREARS.</td>\n",
       "      <td>other</td>\n",
       "    </tr>\n",
       "    <tr>\n",
       "      <th>4</th>\n",
       "      <td>C.476.1930.X</td>\n",
       "      <td>theCubanRepresentative.</td>\n",
       "      <td>other</td>\n",
       "    </tr>\n",
       "  </tbody>\n",
       "</table>\n",
       "</div>"
      ],
      "text/plain": [
       "         symbol                     line        type\n",
       "0  C.476.1930.X            C.476.1930.X.  symbolline\n",
       "1  C.476.1930.X       September6th,1930,    dateline\n",
       "2  C.476.1930.X         LEAGUEOFNATIONS.       other\n",
       "3  C.476.1930.X  CONTRIBUTIONSINARREARS.       other\n",
       "4  C.476.1930.X  theCubanRepresentative.       other"
      ]
     },
     "execution_count": 5,
     "metadata": {},
     "output_type": "execute_result"
    }
   ],
   "source": [
    "label_df.head()"
   ]
  },
  {
   "cell_type": "code",
   "execution_count": 17,
   "metadata": {
    "collapsed": false
   },
   "outputs": [
    {
     "data": {
      "text/html": [
       "<div>\n",
       "<table border=\"1\" class=\"dataframe\">\n",
       "  <thead>\n",
       "    <tr style=\"text-align: right;\">\n",
       "      <th></th>\n",
       "      <th>symbol</th>\n",
       "      <th>line</th>\n",
       "      <th>predictions</th>\n",
       "    </tr>\n",
       "  </thead>\n",
       "  <tbody>\n",
       "    <tr>\n",
       "      <th>0</th>\n",
       "      <td>C.234.1930.II</td>\n",
       "      <td>IJEOFNATIONS.</td>\n",
       "      <td>other</td>\n",
       "    </tr>\n",
       "    <tr>\n",
       "      <th>1</th>\n",
       "      <td>C.234.1930.II</td>\n",
       "      <td>PRELIMIlNi</td>\n",
       "      <td>other</td>\n",
       "    </tr>\n",
       "    <tr>\n",
       "      <th>2</th>\n",
       "      <td>C.234.1930.II</td>\n",
       "      <td>C.234.1930.II.</td>\n",
       "      <td>symbolline</td>\n",
       "    </tr>\n",
       "    <tr>\n",
       "      <th>3</th>\n",
       "      <td>C.234.1930.II</td>\n",
       "      <td>Geneva,</td>\n",
       "      <td>dateline</td>\n",
       "    </tr>\n",
       "    <tr>\n",
       "      <th>4</th>\n",
       "      <td>C.234.1930.II</td>\n",
       "      <td>April30th,1930,</td>\n",
       "      <td>dateline</td>\n",
       "    </tr>\n",
       "  </tbody>\n",
       "</table>\n",
       "</div>"
      ],
      "text/plain": [
       "          symbol             line predictions\n",
       "0  C.234.1930.II    IJEOFNATIONS.       other\n",
       "1  C.234.1930.II       PRELIMIlNi       other\n",
       "2  C.234.1930.II   C.234.1930.II.  symbolline\n",
       "3  C.234.1930.II          Geneva,    dateline\n",
       "4  C.234.1930.II  April30th,1930,    dateline"
      ]
     },
     "execution_count": 17,
     "metadata": {},
     "output_type": "execute_result"
    }
   ],
   "source": [
    "pred_label_df.head()"
   ]
  },
  {
   "cell_type": "code",
   "execution_count": 20,
   "metadata": {
    "collapsed": true
   },
   "outputs": [],
   "source": [
    "pred_label_df.columns=['symbol','line','type']"
   ]
  },
  {
   "cell_type": "code",
   "execution_count": 21,
   "metadata": {
    "collapsed": false
   },
   "outputs": [],
   "source": [
    "label_dateline_df = label_df[label_df['type'] == 'dateline']\n",
    "pred_dateline_df = pred_label_df[pred_label_df['type'] == 'dateline']"
   ]
  },
  {
   "cell_type": "code",
   "execution_count": 22,
   "metadata": {
    "collapsed": false
   },
   "outputs": [],
   "source": [
    "datelabels_df = label_dateline_df.append(pred_dateline_df, ignore_index=True)"
   ]
  },
  {
   "cell_type": "code",
   "execution_count": 80,
   "metadata": {
    "collapsed": false
   },
   "outputs": [
    {
     "name": "stderr",
     "output_type": "stream",
     "text": [
      "/Users/johnkeating/anaconda/lib/python2.7/site-packages/ipykernel/__main__.py:1: FutureWarning: sort(columns=....) is deprecated, use sort_values(by=.....)\n",
      "  if __name__ == '__main__':\n"
     ]
    },
    {
     "data": {
      "text/html": [
       "<div>\n",
       "<table border=\"1\" class=\"dataframe\">\n",
       "  <thead>\n",
       "    <tr style=\"text-align: right;\">\n",
       "      <th></th>\n",
       "      <th>symbol</th>\n",
       "      <th>line</th>\n",
       "      <th>type</th>\n",
       "    </tr>\n",
       "  </thead>\n",
       "  <tbody>\n",
       "    <tr>\n",
       "      <th>7820</th>\n",
       "      <td>C-258.1927.III</td>\n",
       "      <td>Hay25th,1927;</td>\n",
       "      <td>dateline</td>\n",
       "    </tr>\n",
       "    <tr>\n",
       "      <th>596</th>\n",
       "      <td>C-3-M-3-1945-XI</td>\n",
       "      <td>0ftheleague.Geneva.January16th,1945,</td>\n",
       "      <td>dateline</td>\n",
       "    </tr>\n",
       "    <tr>\n",
       "      <th>4811</th>\n",
       "      <td>C-44-1927-IV_EN</td>\n",
       "      <td>Feb-10th,19270</td>\n",
       "      <td>dateline</td>\n",
       "    </tr>\n",
       "    <tr>\n",
       "      <th>6071</th>\n",
       "      <td>C.1.1925.II</td>\n",
       "      <td>January15th,1925.</td>\n",
       "      <td>dateline</td>\n",
       "    </tr>\n",
       "    <tr>\n",
       "      <th>1518</th>\n",
       "      <td>C.1.1926</td>\n",
       "      <td>January4th,1926.</td>\n",
       "      <td>dateline</td>\n",
       "    </tr>\n",
       "    <tr>\n",
       "      <th>10141</th>\n",
       "      <td>C.1.1930.XI</td>\n",
       "      <td>GENEVA.Leoember50th,1959,</td>\n",
       "      <td>dateline</td>\n",
       "    </tr>\n",
       "    <tr>\n",
       "      <th>1985</th>\n",
       "      <td>C.1.1933.I</td>\n",
       "      <td>January3rd,1933'</td>\n",
       "      <td>dateline</td>\n",
       "    </tr>\n",
       "    <tr>\n",
       "      <th>27</th>\n",
       "      <td>C.1.1935</td>\n",
       "      <td>January5th,1935</td>\n",
       "      <td>dateline</td>\n",
       "    </tr>\n",
       "    <tr>\n",
       "      <th>45</th>\n",
       "      <td>C.1.M.1.1926</td>\n",
       "      <td>January4th,1926.</td>\n",
       "      <td>dateline</td>\n",
       "    </tr>\n",
       "    <tr>\n",
       "      <th>10145</th>\n",
       "      <td>C.1.M.1.1932.VII</td>\n",
       "      <td>January2nd,1932.</td>\n",
       "      <td>dateline</td>\n",
       "    </tr>\n",
       "    <tr>\n",
       "      <th>10144</th>\n",
       "      <td>C.1.M.1.1932.VII</td>\n",
       "      <td>Geneva,</td>\n",
       "      <td>dateline</td>\n",
       "    </tr>\n",
       "    <tr>\n",
       "      <th>6737</th>\n",
       "      <td>C.1.M.1.1934.IV</td>\n",
       "      <td>Februarylst,193-J..</td>\n",
       "      <td>dateline</td>\n",
       "    </tr>\n",
       "    <tr>\n",
       "      <th>7008</th>\n",
       "      <td>C.1.M.1.1936.XI</td>\n",
       "      <td>partiestothe1925and1931</td>\n",
       "      <td>dateline</td>\n",
       "    </tr>\n",
       "    <tr>\n",
       "      <th>3719</th>\n",
       "      <td>C.1.M.1.1938.XI</td>\n",
       "      <td>January8th,1938.</td>\n",
       "      <td>dateline</td>\n",
       "    </tr>\n",
       "    <tr>\n",
       "      <th>1301</th>\n",
       "      <td>C.1.M.1.1941.XI</td>\n",
       "      <td>January8th,1941,</td>\n",
       "      <td>dateline</td>\n",
       "    </tr>\n",
       "    <tr>\n",
       "      <th>2594</th>\n",
       "      <td>C.1.M.1.1943.XI</td>\n",
       "      <td>January27th,1943.</td>\n",
       "      <td>dateline</td>\n",
       "    </tr>\n",
       "    <tr>\n",
       "      <th>10184</th>\n",
       "      <td>C.1.M.1.1944.II.A</td>\n",
       "      <td>TPIE1943</td>\n",
       "      <td>dateline</td>\n",
       "    </tr>\n",
       "    <tr>\n",
       "      <th>2615</th>\n",
       "      <td>C.1.M.1.1946</td>\n",
       "      <td>January4th,1946,</td>\n",
       "      <td>dateline</td>\n",
       "    </tr>\n",
       "    <tr>\n",
       "      <th>1197</th>\n",
       "      <td>C.1.M.1.1947</td>\n",
       "      <td>January2nd,1947.</td>\n",
       "      <td>dateline</td>\n",
       "    </tr>\n",
       "    <tr>\n",
       "      <th>7470</th>\n",
       "      <td>C.1.M.8.1922.VII</td>\n",
       "      <td>January11th,19223</td>\n",
       "      <td>dateline</td>\n",
       "    </tr>\n",
       "    <tr>\n",
       "      <th>7469</th>\n",
       "      <td>C.1.M.8.1922.VII</td>\n",
       "      <td>Geneva,</td>\n",
       "      <td>dateline</td>\n",
       "    </tr>\n",
       "    <tr>\n",
       "      <th>307</th>\n",
       "      <td>C.10.(a).1938.II.A</td>\n",
       "      <td>January26th,1938.</td>\n",
       "      <td>dateline</td>\n",
       "    </tr>\n",
       "    <tr>\n",
       "      <th>9169</th>\n",
       "      <td>C.10.(a).M.7.(a).1929.XI</td>\n",
       "      <td>Geneva,,</td>\n",
       "      <td>dateline</td>\n",
       "    </tr>\n",
       "    <tr>\n",
       "      <th>2922</th>\n",
       "      <td>C.10.1923.II</td>\n",
       "      <td>*\"*Geneva.JanuarylOt.h.1923.</td>\n",
       "      <td>dateline</td>\n",
       "    </tr>\n",
       "    <tr>\n",
       "      <th>8858</th>\n",
       "      <td>C.10.1926</td>\n",
       "      <td>Gureve,January13th1986,</td>\n",
       "      <td>dateline</td>\n",
       "    </tr>\n",
       "    <tr>\n",
       "      <th>6119</th>\n",
       "      <td>C.10.1930.II</td>\n",
       "      <td>January7th,19</td>\n",
       "      <td>dateline</td>\n",
       "    </tr>\n",
       "    <tr>\n",
       "      <th>2308</th>\n",
       "      <td>C.10.1935.I</td>\n",
       "      <td>January7th,1535.</td>\n",
       "      <td>dateline</td>\n",
       "    </tr>\n",
       "    <tr>\n",
       "      <th>1400</th>\n",
       "      <td>C.10.1938.II.A</td>\n",
       "      <td>January4th,1938.</td>\n",
       "      <td>dateline</td>\n",
       "    </tr>\n",
       "    <tr>\n",
       "      <th>4541</th>\n",
       "      <td>C.10.1939.X</td>\n",
       "      <td>January5th,1939.</td>\n",
       "      <td>dateline</td>\n",
       "    </tr>\n",
       "    <tr>\n",
       "      <th>5271</th>\n",
       "      <td>C.10.M.10.1946.X</td>\n",
       "      <td>March27th,1946.</td>\n",
       "      <td>dateline</td>\n",
       "    </tr>\n",
       "    <tr>\n",
       "      <th>...</th>\n",
       "      <td>...</td>\n",
       "      <td>...</td>\n",
       "      <td>...</td>\n",
       "    </tr>\n",
       "    <tr>\n",
       "      <th>2982</th>\n",
       "      <td>C.986.M.548.1931.VII</td>\n",
       "      <td>December17th,1931.</td>\n",
       "      <td>dateline</td>\n",
       "    </tr>\n",
       "    <tr>\n",
       "      <th>1450</th>\n",
       "      <td>C.988.1931.I</td>\n",
       "      <td>December2ord1951&gt;&gt;</td>\n",
       "      <td>dateline</td>\n",
       "    </tr>\n",
       "    <tr>\n",
       "      <th>1834</th>\n",
       "      <td>C.99.1924.VII</td>\n",
       "      <td>March6th,1924.</td>\n",
       "      <td>dateline</td>\n",
       "    </tr>\n",
       "    <tr>\n",
       "      <th>8531</th>\n",
       "      <td>C.99.1926.VIII</td>\n",
       "      <td>C/enove,le1ermars1926.</td>\n",
       "      <td>dateline</td>\n",
       "    </tr>\n",
       "    <tr>\n",
       "      <th>8404</th>\n",
       "      <td>C.99.1929.VIII</td>\n",
       "      <td>March4th,1929.</td>\n",
       "      <td>dateline</td>\n",
       "    </tr>\n",
       "    <tr>\n",
       "      <th>8403</th>\n",
       "      <td>C.99.1929.VIII</td>\n",
       "      <td>Geneva,</td>\n",
       "      <td>dateline</td>\n",
       "    </tr>\n",
       "    <tr>\n",
       "      <th>5336</th>\n",
       "      <td>C.99.1931.II</td>\n",
       "      <td>January20th,1931.</td>\n",
       "      <td>dateline</td>\n",
       "    </tr>\n",
       "    <tr>\n",
       "      <th>6628</th>\n",
       "      <td>C.99.1933.X</td>\n",
       "      <td>February2nd,1933</td>\n",
       "      <td>dateline</td>\n",
       "    </tr>\n",
       "    <tr>\n",
       "      <th>243</th>\n",
       "      <td>C.99.1935.I</td>\n",
       "      <td>February15th1935</td>\n",
       "      <td>dateline</td>\n",
       "    </tr>\n",
       "    <tr>\n",
       "      <th>5751</th>\n",
       "      <td>C.99.1938.VII</td>\n",
       "      <td>March31st,1938.</td>\n",
       "      <td>dateline</td>\n",
       "    </tr>\n",
       "    <tr>\n",
       "      <th>3367</th>\n",
       "      <td>C.99.M.34.1934.VIII</td>\n",
       "      <td>January16th,1934.</td>\n",
       "      <td>dateline</td>\n",
       "    </tr>\n",
       "    <tr>\n",
       "      <th>6467</th>\n",
       "      <td>C.99.M.40.1936.II.A</td>\n",
       "      <td>March17th,1936.</td>\n",
       "      <td>dateline</td>\n",
       "    </tr>\n",
       "    <tr>\n",
       "      <th>4138</th>\n",
       "      <td>C.99.M.51.1937.XI</td>\n",
       "      <td>March9th,1937.</td>\n",
       "      <td>dateline</td>\n",
       "    </tr>\n",
       "    <tr>\n",
       "      <th>7001</th>\n",
       "      <td>C.99.M.99.1945.V</td>\n",
       "      <td>GENEVA</td>\n",
       "      <td>dateline</td>\n",
       "    </tr>\n",
       "    <tr>\n",
       "      <th>6209</th>\n",
       "      <td>C.991.1931.I</td>\n",
       "      <td>Genera,December23rd,193</td>\n",
       "      <td>dateline</td>\n",
       "    </tr>\n",
       "    <tr>\n",
       "      <th>1537</th>\n",
       "      <td>C.992.1931.I</td>\n",
       "      <td>December23rd,1931</td>\n",
       "      <td>dateline</td>\n",
       "    </tr>\n",
       "    <tr>\n",
       "      <th>1864</th>\n",
       "      <td>C.993.1931.I</td>\n",
       "      <td>December23rd,1931,,</td>\n",
       "      <td>dateline</td>\n",
       "    </tr>\n",
       "    <tr>\n",
       "      <th>5742</th>\n",
       "      <td>C.994.1931.IX</td>\n",
       "      <td>December23rd,1931.</td>\n",
       "      <td>dateline</td>\n",
       "    </tr>\n",
       "    <tr>\n",
       "      <th>768</th>\n",
       "      <td>C.994.M.562.1931.IX</td>\n",
       "      <td>December31st,1931.</td>\n",
       "      <td>dateline</td>\n",
       "    </tr>\n",
       "    <tr>\n",
       "      <th>5206</th>\n",
       "      <td>C.995.M.552.1931.II.A</td>\n",
       "      <td>December18th,1931.</td>\n",
       "      <td>dateline</td>\n",
       "    </tr>\n",
       "    <tr>\n",
       "      <th>2759</th>\n",
       "      <td>C.996.1931.I</td>\n",
       "      <td>December21st,1531,</td>\n",
       "      <td>dateline</td>\n",
       "    </tr>\n",
       "    <tr>\n",
       "      <th>10091</th>\n",
       "      <td>C.998.M.554.1931.VII</td>\n",
       "      <td>December31st,1931&lt;&lt;</td>\n",
       "      <td>dateline</td>\n",
       "    </tr>\n",
       "    <tr>\n",
       "      <th>7927</th>\n",
       "      <td>C.999.M.555.1931.V</td>\n",
       "      <td>W'December21st,1931.</td>\n",
       "      <td>dateline</td>\n",
       "    </tr>\n",
       "    <tr>\n",
       "      <th>2538</th>\n",
       "      <td>C.II.M.6.1925.VIII</td>\n",
       "      <td>December20th,1924.</td>\n",
       "      <td>dateline</td>\n",
       "    </tr>\n",
       "    <tr>\n",
       "      <th>9115</th>\n",
       "      <td>C.III.1923</td>\n",
       "      <td>January26th,1923,</td>\n",
       "      <td>dateline</td>\n",
       "    </tr>\n",
       "    <tr>\n",
       "      <th>6210</th>\n",
       "      <td>C371.M.157.1930.XI</td>\n",
       "      <td>July8th,1930.</td>\n",
       "      <td>dateline</td>\n",
       "    </tr>\n",
       "    <tr>\n",
       "      <th>9610</th>\n",
       "      <td>C436.1926.IX</td>\n",
       "      <td>G-eneva,August3rd1926.</td>\n",
       "      <td>dateline</td>\n",
       "    </tr>\n",
       "    <tr>\n",
       "      <th>8192</th>\n",
       "      <td>C647.1921.VI</td>\n",
       "      <td>GrEiiuVA,September14th.1922</td>\n",
       "      <td>dateline</td>\n",
       "    </tr>\n",
       "    <tr>\n",
       "      <th>6973</th>\n",
       "      <td>C679.1922.VII</td>\n",
       "      <td>Geneva,</td>\n",
       "      <td>dateline</td>\n",
       "    </tr>\n",
       "    <tr>\n",
       "      <th>6974</th>\n",
       "      <td>C679.1922.VII</td>\n",
       "      <td>September28th1922.</td>\n",
       "      <td>dateline</td>\n",
       "    </tr>\n",
       "  </tbody>\n",
       "</table>\n",
       "<p>10271 rows × 3 columns</p>\n",
       "</div>"
      ],
      "text/plain": [
       "                         symbol                                  line  \\\n",
       "7820             C-258.1927.III                         Hay25th,1927;   \n",
       "596             C-3-M-3-1945-XI  0ftheleague.Geneva.January16th,1945,   \n",
       "4811            C-44-1927-IV_EN                        Feb-10th,19270   \n",
       "6071                C.1.1925.II                     January15th,1925.   \n",
       "1518                   C.1.1926                      January4th,1926.   \n",
       "10141               C.1.1930.XI             GENEVA.Leoember50th,1959,   \n",
       "1985                 C.1.1933.I                      January3rd,1933'   \n",
       "27                     C.1.1935                       January5th,1935   \n",
       "45                 C.1.M.1.1926                      January4th,1926.   \n",
       "10145          C.1.M.1.1932.VII                      January2nd,1932.   \n",
       "10144          C.1.M.1.1932.VII                               Geneva,   \n",
       "6737            C.1.M.1.1934.IV                   Februarylst,193-J..   \n",
       "7008            C.1.M.1.1936.XI               partiestothe1925and1931   \n",
       "3719            C.1.M.1.1938.XI                      January8th,1938.   \n",
       "1301            C.1.M.1.1941.XI                      January8th,1941,   \n",
       "2594            C.1.M.1.1943.XI                     January27th,1943.   \n",
       "10184         C.1.M.1.1944.II.A                              TPIE1943   \n",
       "2615               C.1.M.1.1946                      January4th,1946,   \n",
       "1197               C.1.M.1.1947                      January2nd,1947.   \n",
       "7470           C.1.M.8.1922.VII                     January11th,19223   \n",
       "7469           C.1.M.8.1922.VII                               Geneva,   \n",
       "307          C.10.(a).1938.II.A                     January26th,1938.   \n",
       "9169   C.10.(a).M.7.(a).1929.XI                              Geneva,,   \n",
       "2922               C.10.1923.II          *\"*Geneva.JanuarylOt.h.1923.   \n",
       "8858                  C.10.1926               Gureve,January13th1986,   \n",
       "6119               C.10.1930.II                         January7th,19   \n",
       "2308                C.10.1935.I                      January7th,1535.   \n",
       "1400             C.10.1938.II.A                      January4th,1938.   \n",
       "4541                C.10.1939.X                      January5th,1939.   \n",
       "5271           C.10.M.10.1946.X                       March27th,1946.   \n",
       "...                         ...                                   ...   \n",
       "2982       C.986.M.548.1931.VII                    December17th,1931.   \n",
       "1450               C.988.1931.I                    December2ord1951>>   \n",
       "1834              C.99.1924.VII                        March6th,1924.   \n",
       "8531             C.99.1926.VIII                C/enove,le1ermars1926.   \n",
       "8404             C.99.1929.VIII                        March4th,1929.   \n",
       "8403             C.99.1929.VIII                               Geneva,   \n",
       "5336               C.99.1931.II                     January20th,1931.   \n",
       "6628                C.99.1933.X                      February2nd,1933   \n",
       "243                 C.99.1935.I                      February15th1935   \n",
       "5751              C.99.1938.VII                       March31st,1938.   \n",
       "3367        C.99.M.34.1934.VIII                     January16th,1934.   \n",
       "6467        C.99.M.40.1936.II.A                       March17th,1936.   \n",
       "4138          C.99.M.51.1937.XI                        March9th,1937.   \n",
       "7001           C.99.M.99.1945.V                                GENEVA   \n",
       "6209               C.991.1931.I               Genera,December23rd,193   \n",
       "1537               C.992.1931.I                     December23rd,1931   \n",
       "1864               C.993.1931.I                   December23rd,1931,,   \n",
       "5742              C.994.1931.IX                    December23rd,1931.   \n",
       "768         C.994.M.562.1931.IX                    December31st,1931.   \n",
       "5206      C.995.M.552.1931.II.A                    December18th,1931.   \n",
       "2759               C.996.1931.I                    December21st,1531,   \n",
       "10091      C.998.M.554.1931.VII                   December31st,1931<<   \n",
       "7927         C.999.M.555.1931.V                  W'December21st,1931.   \n",
       "2538         C.II.M.6.1925.VIII                    December20th,1924.   \n",
       "9115                 C.III.1923                     January26th,1923,   \n",
       "6210         C371.M.157.1930.XI                         July8th,1930.   \n",
       "9610               C436.1926.IX                G-eneva,August3rd1926.   \n",
       "8192               C647.1921.VI           GrEiiuVA,September14th.1922   \n",
       "6973              C679.1922.VII                               Geneva,   \n",
       "6974              C679.1922.VII                    September28th1922.   \n",
       "\n",
       "           type  \n",
       "7820   dateline  \n",
       "596    dateline  \n",
       "4811   dateline  \n",
       "6071   dateline  \n",
       "1518   dateline  \n",
       "10141  dateline  \n",
       "1985   dateline  \n",
       "27     dateline  \n",
       "45     dateline  \n",
       "10145  dateline  \n",
       "10144  dateline  \n",
       "6737   dateline  \n",
       "7008   dateline  \n",
       "3719   dateline  \n",
       "1301   dateline  \n",
       "2594   dateline  \n",
       "10184  dateline  \n",
       "2615   dateline  \n",
       "1197   dateline  \n",
       "7470   dateline  \n",
       "7469   dateline  \n",
       "307    dateline  \n",
       "9169   dateline  \n",
       "2922   dateline  \n",
       "8858   dateline  \n",
       "6119   dateline  \n",
       "2308   dateline  \n",
       "1400   dateline  \n",
       "4541   dateline  \n",
       "5271   dateline  \n",
       "...         ...  \n",
       "2982   dateline  \n",
       "1450   dateline  \n",
       "1834   dateline  \n",
       "8531   dateline  \n",
       "8404   dateline  \n",
       "8403   dateline  \n",
       "5336   dateline  \n",
       "6628   dateline  \n",
       "243    dateline  \n",
       "5751   dateline  \n",
       "3367   dateline  \n",
       "6467   dateline  \n",
       "4138   dateline  \n",
       "7001   dateline  \n",
       "6209   dateline  \n",
       "1537   dateline  \n",
       "1864   dateline  \n",
       "5742   dateline  \n",
       "768    dateline  \n",
       "5206   dateline  \n",
       "2759   dateline  \n",
       "10091  dateline  \n",
       "7927   dateline  \n",
       "2538   dateline  \n",
       "9115   dateline  \n",
       "6210   dateline  \n",
       "9610   dateline  \n",
       "8192   dateline  \n",
       "6973   dateline  \n",
       "6974   dateline  \n",
       "\n",
       "[10271 rows x 3 columns]"
      ]
     },
     "execution_count": 80,
     "metadata": {},
     "output_type": "execute_result"
    }
   ],
   "source": [
    "datelabels_df.sort('symbol')"
   ]
  },
  {
   "cell_type": "code",
   "execution_count": 24,
   "metadata": {
    "collapsed": true
   },
   "outputs": [],
   "source": [
    "test_month_1 = 'December7th1925.'"
   ]
  },
  {
   "cell_type": "code",
   "execution_count": 36,
   "metadata": {
    "collapsed": false
   },
   "outputs": [
    {
     "data": {
      "text/plain": [
       "['December7th1925.']"
      ]
     },
     "execution_count": 36,
     "metadata": {},
     "output_type": "execute_result"
    }
   ],
   "source": [
    "test_month_1.split(',')"
   ]
  },
  {
   "cell_type": "code",
   "execution_count": 27,
   "metadata": {
    "collapsed": true
   },
   "outputs": [],
   "source": [
    "test_month_2 = 'Geneva.September2nd,1935.'"
   ]
  },
  {
   "cell_type": "code",
   "execution_count": 35,
   "metadata": {
    "collapsed": false
   },
   "outputs": [
    {
     "data": {
      "text/plain": [
       "['Geneva.September2nd', '1935.']"
      ]
     },
     "execution_count": 35,
     "metadata": {},
     "output_type": "execute_result"
    }
   ],
   "source": [
    "test_month_2.split(',')"
   ]
  },
  {
   "cell_type": "code",
   "execution_count": 32,
   "metadata": {
    "collapsed": false
   },
   "outputs": [
    {
     "data": {
      "text/plain": [
       "'!\"#$%&\\'()*+,-./:;<=>?@[\\\\]^_`{|}~'"
      ]
     },
     "execution_count": 32,
     "metadata": {},
     "output_type": "execute_result"
    }
   ],
   "source": [
    "punctuation"
   ]
  },
  {
   "cell_type": "code",
   "execution_count": 38,
   "metadata": {
    "collapsed": false
   },
   "outputs": [
    {
     "data": {
      "text/plain": [
       "re.compile(r'\\d')"
      ]
     },
     "execution_count": 38,
     "metadata": {},
     "output_type": "execute_result"
    }
   ],
   "source": [
    "re.compile('\\d')"
   ]
  },
  {
   "cell_type": "code",
   "execution_count": 39,
   "metadata": {
    "collapsed": false
   },
   "outputs": [
    {
     "data": {
      "text/plain": [
       "['December', 'th1925.']"
      ]
     },
     "execution_count": 39,
     "metadata": {},
     "output_type": "execute_result"
    }
   ],
   "source": [
    "re.split('\\d', test_month_1, maxsplit=1)"
   ]
  },
  {
   "cell_type": "code",
   "execution_count": 40,
   "metadata": {
    "collapsed": false
   },
   "outputs": [
    {
     "data": {
      "text/plain": [
       "['Geneva.September', 'nd,1935.']"
      ]
     },
     "execution_count": 40,
     "metadata": {},
     "output_type": "execute_result"
    }
   ],
   "source": [
    "re.split('\\d', test_month_2, maxsplit=1)"
   ]
  },
  {
   "cell_type": "code",
   "execution_count": 42,
   "metadata": {
    "collapsed": false
   },
   "outputs": [
    {
     "data": {
      "text/plain": [
       "True"
      ]
     },
     "execution_count": 42,
     "metadata": {},
     "output_type": "execute_result"
    }
   ],
   "source": [
    "'.' in test_month_1"
   ]
  },
  {
   "cell_type": "code",
   "execution_count": 49,
   "metadata": {
    "collapsed": false
   },
   "outputs": [
    {
     "name": "stderr",
     "output_type": "stream",
     "text": [
      "/Users/johnkeating/anaconda/lib/python2.7/site-packages/ipykernel/__main__.py:1: RuntimeWarning: Argument <type 'str'> is not an unicode object. Passing an encoded string will likely have unexpected results.\n",
      "  if __name__ == '__main__':\n"
     ]
    }
   ],
   "source": [
    "test_month_1 = unidecode(test_month_1)"
   ]
  },
  {
   "cell_type": "code",
   "execution_count": 55,
   "metadata": {
    "collapsed": false
   },
   "outputs": [
    {
     "ename": "TypeError",
     "evalue": "expected a character buffer object",
     "output_type": "error",
     "traceback": [
      "\u001b[0;31m---------------------------------------------------------------------------\u001b[0m",
      "\u001b[0;31mTypeError\u001b[0m                                 Traceback (most recent call last)",
      "\u001b[0;32m<ipython-input-55-b1daaf6eafa8>\u001b[0m in \u001b[0;36m<module>\u001b[0;34m()\u001b[0m\n\u001b[0;32m----> 1\u001b[0;31m \u001b[0mtest_month_1\u001b[0m\u001b[0;34m.\u001b[0m\u001b[0mreplace\u001b[0m\u001b[0;34m(\u001b[0m\u001b[0mre\u001b[0m\u001b[0;34m.\u001b[0m\u001b[0mcompile\u001b[0m\u001b[0;34m(\u001b[0m\u001b[0;34m'\\d'\u001b[0m\u001b[0;34m)\u001b[0m\u001b[0;34m,\u001b[0m\u001b[0;34m' '\u001b[0m\u001b[0;34m)\u001b[0m\u001b[0;34m\u001b[0m\u001b[0m\n\u001b[0m",
      "\u001b[0;31mTypeError\u001b[0m: expected a character buffer object"
     ]
    }
   ],
   "source": []
  },
  {
   "cell_type": "code",
   "execution_count": 57,
   "metadata": {
    "collapsed": false
   },
   "outputs": [
    {
     "data": {
      "text/plain": [
       "'December th    .'"
      ]
     },
     "execution_count": 57,
     "metadata": {},
     "output_type": "execute_result"
    }
   ],
   "source": [
    "re.sub('\\d', ' ', test_month_1)"
   ]
  },
  {
   "cell_type": "code",
   "execution_count": 70,
   "metadata": {
    "collapsed": false
   },
   "outputs": [
    {
     "data": {
      "text/plain": [
       "'Geneva September2nd,1935 '"
      ]
     },
     "execution_count": 70,
     "metadata": {},
     "output_type": "execute_result"
    }
   ],
   "source": [
    "re.sub('\\.', ' ', test_month_2)"
   ]
  },
  {
   "cell_type": "code",
   "execution_count": 74,
   "metadata": {
    "collapsed": false
   },
   "outputs": [
    {
     "data": {
      "text/plain": [
       "'Geneva.September2nd 1935.'"
      ]
     },
     "execution_count": 74,
     "metadata": {},
     "output_type": "execute_result"
    }
   ],
   "source": [
    "re.sub('\\,', ' ', test_month_2)"
   ]
  },
  {
   "cell_type": "code",
   "execution_count": 67,
   "metadata": {
    "collapsed": false
   },
   "outputs": [
    {
     "ename": "ValueError",
     "evalue": "maketrans arguments must have same length",
     "output_type": "error",
     "traceback": [
      "\u001b[0;31m---------------------------------------------------------------------------\u001b[0m",
      "\u001b[0;31mValueError\u001b[0m                                Traceback (most recent call last)",
      "\u001b[0;32m<ipython-input-67-17744ce62ec2>\u001b[0m in \u001b[0;36m<module>\u001b[0;34m()\u001b[0m\n\u001b[0;32m----> 1\u001b[0;31m \u001b[0mtbl\u001b[0m \u001b[0;34m=\u001b[0m \u001b[0mmaketrans\u001b[0m\u001b[0;34m(\u001b[0m\u001b[0mpunctuation\u001b[0m\u001b[0;34m,\u001b[0m \u001b[0mwhitespace\u001b[0m\u001b[0;34m)\u001b[0m\u001b[0;34m\u001b[0m\u001b[0m\n\u001b[0m",
      "\u001b[0;31mValueError\u001b[0m: maketrans arguments must have same length"
     ]
    }
   ],
   "source": []
  },
  {
   "cell_type": "code",
   "execution_count": 75,
   "metadata": {
    "collapsed": true
   },
   "outputs": [],
   "source": [
    "def get_only_words(string):\n",
    "    string = re.sub('\\d', ' ', string)\n",
    "    string = re.sub('\\.', ' ', string)\n",
    "    string = re.sub('\\,', ' ', string)\n",
    "    return string.split()"
   ]
  },
  {
   "cell_type": "code",
   "execution_count": 76,
   "metadata": {
    "collapsed": false
   },
   "outputs": [
    {
     "data": {
      "text/plain": [
       "['December', 'th']"
      ]
     },
     "execution_count": 76,
     "metadata": {},
     "output_type": "execute_result"
    }
   ],
   "source": [
    "get_only_words(test_month_1)"
   ]
  },
  {
   "cell_type": "code",
   "execution_count": 77,
   "metadata": {
    "collapsed": false
   },
   "outputs": [
    {
     "data": {
      "text/plain": [
       "['Geneva', 'September', 'nd']"
      ]
     },
     "execution_count": 77,
     "metadata": {},
     "output_type": "execute_result"
    }
   ],
   "source": [
    "get_only_words(test_month_2)"
   ]
  },
  {
   "cell_type": "code",
   "execution_count": 78,
   "metadata": {
    "collapsed": false
   },
   "outputs": [
    {
     "data": {
      "text/plain": [
       "['Leeember', 'nd']"
      ]
     },
     "execution_count": 78,
     "metadata": {},
     "output_type": "execute_result"
    }
   ],
   "source": [
    "get_only_words('Leeember22nd,1936.')"
   ]
  },
  {
   "cell_type": "code",
   "execution_count": 82,
   "metadata": {
    "collapsed": false
   },
   "outputs": [],
   "source": [
    "def remove_punc_digits(text):\n",
    "    '''\n",
    "    this will be replaced with the function below\n",
    "    '''\n",
    "    replace_punctuation = maketrans(punctuation, ' '*len(punctuation))\n",
    "    replace_digits = maketrans(digits, ' '*len(digits))\n",
    "    text = text.translate(replace_punctuation).translate(replace_digits)\n",
    "    return text"
   ]
  },
  {
   "cell_type": "code",
   "execution_count": 83,
   "metadata": {
    "collapsed": false
   },
   "outputs": [
    {
     "data": {
      "text/plain": [
       "'December th     '"
      ]
     },
     "execution_count": 83,
     "metadata": {},
     "output_type": "execute_result"
    }
   ],
   "source": [
    "remove_punc_digits(test_month_1)"
   ]
  },
  {
   "cell_type": "code",
   "execution_count": 84,
   "metadata": {
    "collapsed": false
   },
   "outputs": [
    {
     "data": {
      "text/plain": [
       "'Geneva September nd      '"
      ]
     },
     "execution_count": 84,
     "metadata": {},
     "output_type": "execute_result"
    }
   ],
   "source": [
    "remove_punc_digits(test_month_2)"
   ]
  },
  {
   "cell_type": "code",
   "execution_count": 86,
   "metadata": {
    "collapsed": true
   },
   "outputs": [],
   "source": [
    "months_list = ['january','february','march','april','may','june',\n",
    "               'july','august','september','october','november','december']"
   ]
  },
  {
   "cell_type": "code",
   "execution_count": 87,
   "metadata": {
    "collapsed": true
   },
   "outputs": [],
   "source": [
    "from fuzzywuzzy import process"
   ]
  },
  {
   "cell_type": "code",
   "execution_count": 90,
   "metadata": {
    "collapsed": false
   },
   "outputs": [
    {
     "data": {
      "text/plain": [
       "('december', 75)"
      ]
     },
     "execution_count": 90,
     "metadata": {},
     "output_type": "execute_result"
    }
   ],
   "source": [
    "process.extractOne('Leeember', months_list)"
   ]
  },
  {
   "cell_type": "code",
   "execution_count": 91,
   "metadata": {
    "collapsed": false
   },
   "outputs": [
    {
     "data": {
      "text/plain": [
       "('december', 90)"
      ]
     },
     "execution_count": 91,
     "metadata": {},
     "output_type": "execute_result"
    }
   ],
   "source": [
    "process.extractOne(\"'W'December21st,1931.\t\", months_list)"
   ]
  },
  {
   "cell_type": "code",
   "execution_count": 93,
   "metadata": {
    "collapsed": false
   },
   "outputs": [
    {
     "data": {
      "text/plain": [
       "('june', 45)"
      ]
     },
     "execution_count": 93,
     "metadata": {},
     "output_type": "execute_result"
    }
   ],
   "source": [
    "process.extractOne(\"Geneva\", months_list)"
   ]
  },
  {
   "cell_type": "code",
   "execution_count": 94,
   "metadata": {
    "collapsed": false
   },
   "outputs": [
    {
     "data": {
      "text/plain": [
       "('march', 45)"
      ]
     },
     "execution_count": 94,
     "metadata": {},
     "output_type": "execute_result"
    }
   ],
   "source": [
    "process.extractOne(\"th\", months_list)"
   ]
  },
  {
   "cell_type": "code",
   "execution_count": 95,
   "metadata": {
    "collapsed": false
   },
   "outputs": [
    {
     "data": {
      "text/plain": [
       "('august', 90)"
      ]
     },
     "execution_count": 95,
     "metadata": {},
     "output_type": "execute_result"
    }
   ],
   "source": [
    "process.extractOne(\"st\", months_list)"
   ]
  },
  {
   "cell_type": "code",
   "execution_count": 107,
   "metadata": {
    "collapsed": true
   },
   "outputs": [],
   "source": [
    "list_of_ts = [('december', 75),('december', 90),('june', 45),('march', 45),('august', 90)]"
   ]
  },
  {
   "cell_type": "code",
   "execution_count": 109,
   "metadata": {
    "collapsed": false
   },
   "outputs": [
    {
     "name": "stdout",
     "output_type": "stream",
     "text": [
      "[('december', 90), ('august', 90), ('december', 75), ('june', 45), ('march', 45)]\n"
     ]
    }
   ],
   "source": [
    "list_of_ts.sort(key=lambda x: x[1], reverse=True)\n",
    "print list_of_ts"
   ]
  },
  {
   "cell_type": "code",
   "execution_count": 159,
   "metadata": {
    "collapsed": true
   },
   "outputs": [],
   "source": [
    "def find_months(line_list):\n",
    "    '''\n",
    "    perhaps I could make this a a function for a single string but that\n",
    "    seems wasteful because I will be calling the lists and replaces again\n",
    "    '''\n",
    "    replace_punctuation = maketrans(punctuation, ' '*len(punctuation))\n",
    "    replace_digits = maketrans(digits, ' '*len(digits))\n",
    "    \n",
    "    months_list = ['january','february','march','april','may','june',\n",
    "                   'july','august','september','october',\n",
    "                   'november','december']\n",
    "    \n",
    "    main_list = []\n",
    "    \n",
    "    for line in line_list:\n",
    "        \n",
    "        potential_months = []\n",
    "        \n",
    "        line = line.translate(replace_punctuation).translate(replace_digits)\n",
    "        \n",
    "        potentials = [ i for i in line.split() if len(i) > 2]\n",
    "        \n",
    "        for potential in potentials:\n",
    "            potential_months.append(process.extractOne(potential, months_list))\n",
    "        \n",
    "        if len(potential_months) == 0:\n",
    "            main_list.append('unknown')\n",
    "        \n",
    "        else:\n",
    "            best = sorted(potential_months, key=lambda x: x[1], reverse=True)[0]\n",
    "            if best[1] < 50:\n",
    "                main_list.append('low_probability')\n",
    "            else:\n",
    "                main_list.append(best[0])\n",
    "            \n",
    "    return main_list"
   ]
  },
  {
   "cell_type": "code",
   "execution_count": 160,
   "metadata": {
    "collapsed": false
   },
   "outputs": [],
   "source": [
    "months_probably =  find_months(datelabels_df['line'])"
   ]
  },
  {
   "cell_type": "code",
   "execution_count": 161,
   "metadata": {
    "collapsed": false
   },
   "outputs": [
    {
     "data": {
      "text/plain": [
       "10271"
      ]
     },
     "execution_count": 161,
     "metadata": {},
     "output_type": "execute_result"
    }
   ],
   "source": [
    "len(months_probably)"
   ]
  },
  {
   "cell_type": "code",
   "execution_count": 162,
   "metadata": {
    "collapsed": false
   },
   "outputs": [
    {
     "data": {
      "text/plain": [
       "10271"
      ]
     },
     "execution_count": 162,
     "metadata": {},
     "output_type": "execute_result"
    }
   ],
   "source": [
    "len(datelabels_df)"
   ]
  },
  {
   "cell_type": "code",
   "execution_count": 163,
   "metadata": {
    "collapsed": true
   },
   "outputs": [],
   "source": [
    "datelabels_df['months_probably'] = months_probably"
   ]
  },
  {
   "cell_type": "code",
   "execution_count": 164,
   "metadata": {
    "collapsed": false
   },
   "outputs": [
    {
     "data": {
      "text/html": [
       "<div>\n",
       "<table border=\"1\" class=\"dataframe\">\n",
       "  <thead>\n",
       "    <tr style=\"text-align: right;\">\n",
       "      <th></th>\n",
       "      <th>symbol</th>\n",
       "      <th>line</th>\n",
       "      <th>type</th>\n",
       "      <th>months_probably</th>\n",
       "    </tr>\n",
       "  </thead>\n",
       "  <tbody>\n",
       "    <tr>\n",
       "      <th>0</th>\n",
       "      <td>C.476.1930.X</td>\n",
       "      <td>September6th,1930,</td>\n",
       "      <td>dateline</td>\n",
       "      <td>september</td>\n",
       "    </tr>\n",
       "    <tr>\n",
       "      <th>1</th>\n",
       "      <td>C.381.M.125.1925</td>\n",
       "      <td>June27th,1985</td>\n",
       "      <td>dateline</td>\n",
       "      <td>june</td>\n",
       "    </tr>\n",
       "    <tr>\n",
       "      <th>2</th>\n",
       "      <td>C.831.M.412.1931.VII</td>\n",
       "      <td>November11th,1931.</td>\n",
       "      <td>dateline</td>\n",
       "      <td>november</td>\n",
       "    </tr>\n",
       "    <tr>\n",
       "      <th>3</th>\n",
       "      <td>C.107.(1).1925.I</td>\n",
       "      <td>March11th,1985.</td>\n",
       "      <td>dateline</td>\n",
       "      <td>march</td>\n",
       "    </tr>\n",
       "    <tr>\n",
       "      <th>4</th>\n",
       "      <td>C.555.1936.XI</td>\n",
       "      <td>Leeember22nd,1936.</td>\n",
       "      <td>dateline</td>\n",
       "      <td>december</td>\n",
       "    </tr>\n",
       "    <tr>\n",
       "      <th>5</th>\n",
       "      <td>C.429.(1).1934.VII</td>\n",
       "      <td>September2'/th,1934*</td>\n",
       "      <td>dateline</td>\n",
       "      <td>september</td>\n",
       "    </tr>\n",
       "    <tr>\n",
       "      <th>6</th>\n",
       "      <td>C.458.M.174.1924.I</td>\n",
       "      <td>September4th,1324</td>\n",
       "      <td>dateline</td>\n",
       "      <td>september</td>\n",
       "    </tr>\n",
       "    <tr>\n",
       "      <th>7</th>\n",
       "      <td>C.78.M.75.1941.XI</td>\n",
       "      <td>December3rd,1941.</td>\n",
       "      <td>dateline</td>\n",
       "      <td>december</td>\n",
       "    </tr>\n",
       "    <tr>\n",
       "      <th>8</th>\n",
       "      <td>C.74.1930.I</td>\n",
       "      <td>January15tb,1930,.</td>\n",
       "      <td>dateline</td>\n",
       "      <td>january</td>\n",
       "    </tr>\n",
       "    <tr>\n",
       "      <th>9</th>\n",
       "      <td>C.326.1935.II.A</td>\n",
       "      <td>Geneva.September2nd,1935.</td>\n",
       "      <td>dateline</td>\n",
       "      <td>september</td>\n",
       "    </tr>\n",
       "    <tr>\n",
       "      <th>10</th>\n",
       "      <td>C.772.1925</td>\n",
       "      <td>December7th1925.</td>\n",
       "      <td>dateline</td>\n",
       "      <td>december</td>\n",
       "    </tr>\n",
       "    <tr>\n",
       "      <th>11</th>\n",
       "      <td>C.330.1926.VI</td>\n",
       "      <td>June5ths1926,,</td>\n",
       "      <td>dateline</td>\n",
       "      <td>june</td>\n",
       "    </tr>\n",
       "    <tr>\n",
       "      <th>12</th>\n",
       "      <td>C.667.M.275.1931.IX</td>\n",
       "      <td>October5th,1931.</td>\n",
       "      <td>dateline</td>\n",
       "      <td>october</td>\n",
       "    </tr>\n",
       "    <tr>\n",
       "      <th>13</th>\n",
       "      <td>C.374.1931.V</td>\n",
       "      <td>September13th</td>\n",
       "      <td>dateline</td>\n",
       "      <td>september</td>\n",
       "    </tr>\n",
       "    <tr>\n",
       "      <th>14</th>\n",
       "      <td>C.827.M.409.1931.VII</td>\n",
       "      <td>November10th,1931.MgUlD6Tbvj.</td>\n",
       "      <td>dateline</td>\n",
       "      <td>november</td>\n",
       "    </tr>\n",
       "    <tr>\n",
       "      <th>15</th>\n",
       "      <td>C.250.1926.VI</td>\n",
       "      <td>Geneve,April?3311926.</td>\n",
       "      <td>dateline</td>\n",
       "      <td>april</td>\n",
       "    </tr>\n",
       "    <tr>\n",
       "      <th>16</th>\n",
       "      <td>C.15.1941.X</td>\n",
       "      <td>Mrch5th,1941.</td>\n",
       "      <td>dateline</td>\n",
       "      <td>march</td>\n",
       "    </tr>\n",
       "    <tr>\n",
       "      <th>17</th>\n",
       "      <td>C.722.1923.I</td>\n",
       "      <td>November28th,1923,</td>\n",
       "      <td>dateline</td>\n",
       "      <td>november</td>\n",
       "    </tr>\n",
       "    <tr>\n",
       "      <th>18</th>\n",
       "      <td>C.224.1928.II</td>\n",
       "      <td>May23rd,1928-</td>\n",
       "      <td>dateline</td>\n",
       "      <td>may</td>\n",
       "    </tr>\n",
       "    <tr>\n",
       "      <th>19</th>\n",
       "      <td>C.51.M.21.1936.VII</td>\n",
       "      <td>January20th,1936.</td>\n",
       "      <td>dateline</td>\n",
       "      <td>january</td>\n",
       "    </tr>\n",
       "    <tr>\n",
       "      <th>20</th>\n",
       "      <td>C.534.1932</td>\n",
       "      <td>July5th,1932.</td>\n",
       "      <td>dateline</td>\n",
       "      <td>july</td>\n",
       "    </tr>\n",
       "    <tr>\n",
       "      <th>21</th>\n",
       "      <td>C.168.M.115.1937.VII</td>\n",
       "      <td>March3rd,1937</td>\n",
       "      <td>dateline</td>\n",
       "      <td>march</td>\n",
       "    </tr>\n",
       "    <tr>\n",
       "      <th>22</th>\n",
       "      <td>C.598.1928.XI</td>\n",
       "      <td>December7th,192PS</td>\n",
       "      <td>dateline</td>\n",
       "      <td>december</td>\n",
       "    </tr>\n",
       "    <tr>\n",
       "      <th>23</th>\n",
       "      <td>C.141.1933.I</td>\n",
       "      <td>February18thl933.</td>\n",
       "      <td>dateline</td>\n",
       "      <td>february</td>\n",
       "    </tr>\n",
       "    <tr>\n",
       "      <th>24</th>\n",
       "      <td>C.419.M.283.1937.XI</td>\n",
       "      <td>September23rd,1937.</td>\n",
       "      <td>dateline</td>\n",
       "      <td>september</td>\n",
       "    </tr>\n",
       "    <tr>\n",
       "      <th>25</th>\n",
       "      <td>C.723.M.266.1926.II</td>\n",
       "      <td>December13th,1926.</td>\n",
       "      <td>dateline</td>\n",
       "      <td>december</td>\n",
       "    </tr>\n",
       "    <tr>\n",
       "      <th>26</th>\n",
       "      <td>C.260.M.116.1931.VIII</td>\n",
       "      <td>April24th,1931.</td>\n",
       "      <td>dateline</td>\n",
       "      <td>april</td>\n",
       "    </tr>\n",
       "    <tr>\n",
       "      <th>27</th>\n",
       "      <td>C.1.1935</td>\n",
       "      <td>January5th,1935</td>\n",
       "      <td>dateline</td>\n",
       "      <td>january</td>\n",
       "    </tr>\n",
       "    <tr>\n",
       "      <th>28</th>\n",
       "      <td>C.20.M.20.1944.V</td>\n",
       "      <td>August2nd,1944.</td>\n",
       "      <td>dateline</td>\n",
       "      <td>august</td>\n",
       "    </tr>\n",
       "    <tr>\n",
       "      <th>29</th>\n",
       "      <td>C.630.1926</td>\n",
       "      <td>Ilovember23rd,1926.</td>\n",
       "      <td>dateline</td>\n",
       "      <td>november</td>\n",
       "    </tr>\n",
       "    <tr>\n",
       "      <th>...</th>\n",
       "      <td>...</td>\n",
       "      <td>...</td>\n",
       "      <td>...</td>\n",
       "      <td>...</td>\n",
       "    </tr>\n",
       "    <tr>\n",
       "      <th>10241</th>\n",
       "      <td>C.453(1).M.178.1924.II</td>\n",
       "      <td>Septembergth,1924.</td>\n",
       "      <td>dateline</td>\n",
       "      <td>september</td>\n",
       "    </tr>\n",
       "    <tr>\n",
       "      <th>10242</th>\n",
       "      <td>C.626.M.206.1925</td>\n",
       "      <td>Geneva,</td>\n",
       "      <td>dateline</td>\n",
       "      <td>low_probability</td>\n",
       "    </tr>\n",
       "    <tr>\n",
       "      <th>10243</th>\n",
       "      <td>C.626.M.206.1925</td>\n",
       "      <td>October22nd,1925&gt;&gt;</td>\n",
       "      <td>dateline</td>\n",
       "      <td>october</td>\n",
       "    </tr>\n",
       "    <tr>\n",
       "      <th>10244</th>\n",
       "      <td>C.603(1).1928.XII</td>\n",
       "      <td>Lugano,December10th,1928.</td>\n",
       "      <td>dateline</td>\n",
       "      <td>december</td>\n",
       "    </tr>\n",
       "    <tr>\n",
       "      <th>10245</th>\n",
       "      <td>C.452.1931.I</td>\n",
       "      <td>Geneva,</td>\n",
       "      <td>dateline</td>\n",
       "      <td>low_probability</td>\n",
       "    </tr>\n",
       "    <tr>\n",
       "      <th>10246</th>\n",
       "      <td>C.452.1931.I</td>\n",
       "      <td>July23rd,1931.</td>\n",
       "      <td>dateline</td>\n",
       "      <td>july</td>\n",
       "    </tr>\n",
       "    <tr>\n",
       "      <th>10247</th>\n",
       "      <td>C.180.M.82.1930.XI</td>\n",
       "      <td>1p,0yA9,,ic.w.njj</td>\n",
       "      <td>dateline</td>\n",
       "      <td>low_probability</td>\n",
       "    </tr>\n",
       "    <tr>\n",
       "      <th>10248</th>\n",
       "      <td>C.180.M.82.1930.XI</td>\n",
       "      <td>Geneva,</td>\n",
       "      <td>dateline</td>\n",
       "      <td>low_probability</td>\n",
       "    </tr>\n",
       "    <tr>\n",
       "      <th>10249</th>\n",
       "      <td>C.106.1927.VII</td>\n",
       "      <td>Geneva</td>\n",
       "      <td>dateline</td>\n",
       "      <td>low_probability</td>\n",
       "    </tr>\n",
       "    <tr>\n",
       "      <th>10250</th>\n",
       "      <td>C.645.1924.VII</td>\n",
       "      <td>y1vPS3&gt;&gt;</td>\n",
       "      <td>dateline</td>\n",
       "      <td>low_probability</td>\n",
       "    </tr>\n",
       "    <tr>\n",
       "      <th>10251</th>\n",
       "      <td>C.664.1928.VII_ADD</td>\n",
       "      <td>Lugano,December13th,1928.</td>\n",
       "      <td>dateline</td>\n",
       "      <td>december</td>\n",
       "    </tr>\n",
       "    <tr>\n",
       "      <th>10252</th>\n",
       "      <td>C.658.1928.VI</td>\n",
       "      <td>December12th,1928.</td>\n",
       "      <td>dateline</td>\n",
       "      <td>december</td>\n",
       "    </tr>\n",
       "    <tr>\n",
       "      <th>10253</th>\n",
       "      <td>C.9.M.6.1929.XI</td>\n",
       "      <td>OcGo922o</td>\n",
       "      <td>dateline</td>\n",
       "      <td>october</td>\n",
       "    </tr>\n",
       "    <tr>\n",
       "      <th>10254</th>\n",
       "      <td>C.9.M.6.1929.XI</td>\n",
       "      <td>Geneva,,</td>\n",
       "      <td>dateline</td>\n",
       "      <td>low_probability</td>\n",
       "    </tr>\n",
       "    <tr>\n",
       "      <th>10255</th>\n",
       "      <td>C.9.M.6.1929.XI</td>\n",
       "      <td>January16th,19290</td>\n",
       "      <td>dateline</td>\n",
       "      <td>january</td>\n",
       "    </tr>\n",
       "    <tr>\n",
       "      <th>10256</th>\n",
       "      <td>C.115.1928.I</td>\n",
       "      <td>Genevaj</td>\n",
       "      <td>dateline</td>\n",
       "      <td>low_probability</td>\n",
       "    </tr>\n",
       "    <tr>\n",
       "      <th>10257</th>\n",
       "      <td>C.115.1928.I</td>\n",
       "      <td>March7th,1928.</td>\n",
       "      <td>dateline</td>\n",
       "      <td>march</td>\n",
       "    </tr>\n",
       "    <tr>\n",
       "      <th>10258</th>\n",
       "      <td>C.382.1927.I</td>\n",
       "      <td>*|August9th,1927.</td>\n",
       "      <td>dateline</td>\n",
       "      <td>august</td>\n",
       "    </tr>\n",
       "    <tr>\n",
       "      <th>10259</th>\n",
       "      <td>C.451.1927.V</td>\n",
       "      <td>Geneva,</td>\n",
       "      <td>dateline</td>\n",
       "      <td>low_probability</td>\n",
       "    </tr>\n",
       "    <tr>\n",
       "      <th>10260</th>\n",
       "      <td>C.451.1927.V</td>\n",
       "      <td>September2nd,1927.</td>\n",
       "      <td>dateline</td>\n",
       "      <td>september</td>\n",
       "    </tr>\n",
       "    <tr>\n",
       "      <th>10261</th>\n",
       "      <td>C.507.1926</td>\n",
       "      <td>GENEVA,September4th,1926.</td>\n",
       "      <td>dateline</td>\n",
       "      <td>september</td>\n",
       "    </tr>\n",
       "    <tr>\n",
       "      <th>10262</th>\n",
       "      <td>C.95.1927.I</td>\n",
       "      <td>March4th,1927.</td>\n",
       "      <td>dateline</td>\n",
       "      <td>march</td>\n",
       "    </tr>\n",
       "    <tr>\n",
       "      <th>10263</th>\n",
       "      <td>C.735.1924.V</td>\n",
       "      <td>cBHiSVA,December31924,</td>\n",
       "      <td>dateline</td>\n",
       "      <td>december</td>\n",
       "    </tr>\n",
       "    <tr>\n",
       "      <th>10264</th>\n",
       "      <td>C.92.1928.II</td>\n",
       "      <td>GENEVA,March5th,1928'.</td>\n",
       "      <td>dateline</td>\n",
       "      <td>march</td>\n",
       "    </tr>\n",
       "    <tr>\n",
       "      <th>10265</th>\n",
       "      <td>C.263.1929.X</td>\n",
       "      <td>June8th,1929.</td>\n",
       "      <td>dateline</td>\n",
       "      <td>june</td>\n",
       "    </tr>\n",
       "    <tr>\n",
       "      <th>10266</th>\n",
       "      <td>C.180.1924.II</td>\n",
       "      <td>Geneva,</td>\n",
       "      <td>dateline</td>\n",
       "      <td>low_probability</td>\n",
       "    </tr>\n",
       "    <tr>\n",
       "      <th>10267</th>\n",
       "      <td>C.180.1924.II</td>\n",
       "      <td>April22nd,1924.</td>\n",
       "      <td>dateline</td>\n",
       "      <td>april</td>\n",
       "    </tr>\n",
       "    <tr>\n",
       "      <th>10268</th>\n",
       "      <td>C.472.1924</td>\n",
       "      <td>G&lt;&lt;472.1924.</td>\n",
       "      <td>dateline</td>\n",
       "      <td>unknown</td>\n",
       "    </tr>\n",
       "    <tr>\n",
       "      <th>10269</th>\n",
       "      <td>C.838.M.416.1931.VII</td>\n",
       "      <td>Geneva,</td>\n",
       "      <td>dateline</td>\n",
       "      <td>low_probability</td>\n",
       "    </tr>\n",
       "    <tr>\n",
       "      <th>10270</th>\n",
       "      <td>C.838.M.416.1931.VII</td>\n",
       "      <td>November11th,1931.</td>\n",
       "      <td>dateline</td>\n",
       "      <td>november</td>\n",
       "    </tr>\n",
       "  </tbody>\n",
       "</table>\n",
       "<p>10271 rows × 4 columns</p>\n",
       "</div>"
      ],
      "text/plain": [
       "                       symbol                           line      type  \\\n",
       "0                C.476.1930.X             September6th,1930,  dateline   \n",
       "1            C.381.M.125.1925                  June27th,1985  dateline   \n",
       "2        C.831.M.412.1931.VII             November11th,1931.  dateline   \n",
       "3            C.107.(1).1925.I                March11th,1985.  dateline   \n",
       "4               C.555.1936.XI             Leeember22nd,1936.  dateline   \n",
       "5          C.429.(1).1934.VII           September2'/th,1934*  dateline   \n",
       "6          C.458.M.174.1924.I              September4th,1324  dateline   \n",
       "7           C.78.M.75.1941.XI              December3rd,1941.  dateline   \n",
       "8                 C.74.1930.I             January15tb,1930,.  dateline   \n",
       "9             C.326.1935.II.A      Geneva.September2nd,1935.  dateline   \n",
       "10                 C.772.1925               December7th1925.  dateline   \n",
       "11              C.330.1926.VI                 June5ths1926,,  dateline   \n",
       "12        C.667.M.275.1931.IX               October5th,1931.  dateline   \n",
       "13               C.374.1931.V                  September13th  dateline   \n",
       "14       C.827.M.409.1931.VII  November10th,1931.MgUlD6Tbvj.  dateline   \n",
       "15              C.250.1926.VI          Geneve,April?3311926.  dateline   \n",
       "16                C.15.1941.X                  Mrch5th,1941.  dateline   \n",
       "17               C.722.1923.I             November28th,1923,  dateline   \n",
       "18              C.224.1928.II                  May23rd,1928-  dateline   \n",
       "19         C.51.M.21.1936.VII              January20th,1936.  dateline   \n",
       "20                 C.534.1932                  July5th,1932.  dateline   \n",
       "21       C.168.M.115.1937.VII                  March3rd,1937  dateline   \n",
       "22              C.598.1928.XI              December7th,192PS  dateline   \n",
       "23               C.141.1933.I              February18thl933.  dateline   \n",
       "24        C.419.M.283.1937.XI            September23rd,1937.  dateline   \n",
       "25        C.723.M.266.1926.II             December13th,1926.  dateline   \n",
       "26      C.260.M.116.1931.VIII                April24th,1931.  dateline   \n",
       "27                   C.1.1935                January5th,1935  dateline   \n",
       "28           C.20.M.20.1944.V                August2nd,1944.  dateline   \n",
       "29                 C.630.1926            Ilovember23rd,1926.  dateline   \n",
       "...                       ...                            ...       ...   \n",
       "10241  C.453(1).M.178.1924.II             Septembergth,1924.  dateline   \n",
       "10242        C.626.M.206.1925                        Geneva,  dateline   \n",
       "10243        C.626.M.206.1925             October22nd,1925>>  dateline   \n",
       "10244       C.603(1).1928.XII      Lugano,December10th,1928.  dateline   \n",
       "10245            C.452.1931.I                        Geneva,  dateline   \n",
       "10246            C.452.1931.I                 July23rd,1931.  dateline   \n",
       "10247      C.180.M.82.1930.XI              1p,0yA9,,ic.w.njj  dateline   \n",
       "10248      C.180.M.82.1930.XI                        Geneva,  dateline   \n",
       "10249          C.106.1927.VII                         Geneva  dateline   \n",
       "10250          C.645.1924.VII                       y1vPS3>>  dateline   \n",
       "10251      C.664.1928.VII_ADD      Lugano,December13th,1928.  dateline   \n",
       "10252           C.658.1928.VI             December12th,1928.  dateline   \n",
       "10253         C.9.M.6.1929.XI                       OcGo922o  dateline   \n",
       "10254         C.9.M.6.1929.XI                       Geneva,,  dateline   \n",
       "10255         C.9.M.6.1929.XI              January16th,19290  dateline   \n",
       "10256            C.115.1928.I                        Genevaj  dateline   \n",
       "10257            C.115.1928.I                 March7th,1928.  dateline   \n",
       "10258            C.382.1927.I              *|August9th,1927.  dateline   \n",
       "10259            C.451.1927.V                        Geneva,  dateline   \n",
       "10260            C.451.1927.V             September2nd,1927.  dateline   \n",
       "10261              C.507.1926      GENEVA,September4th,1926.  dateline   \n",
       "10262             C.95.1927.I                 March4th,1927.  dateline   \n",
       "10263            C.735.1924.V         cBHiSVA,December31924,  dateline   \n",
       "10264            C.92.1928.II         GENEVA,March5th,1928'.  dateline   \n",
       "10265            C.263.1929.X                  June8th,1929.  dateline   \n",
       "10266           C.180.1924.II                        Geneva,  dateline   \n",
       "10267           C.180.1924.II                April22nd,1924.  dateline   \n",
       "10268              C.472.1924                   G<<472.1924.  dateline   \n",
       "10269    C.838.M.416.1931.VII                        Geneva,  dateline   \n",
       "10270    C.838.M.416.1931.VII             November11th,1931.  dateline   \n",
       "\n",
       "       months_probably  \n",
       "0            september  \n",
       "1                 june  \n",
       "2             november  \n",
       "3                march  \n",
       "4             december  \n",
       "5            september  \n",
       "6            september  \n",
       "7             december  \n",
       "8              january  \n",
       "9            september  \n",
       "10            december  \n",
       "11                june  \n",
       "12             october  \n",
       "13           september  \n",
       "14            november  \n",
       "15               april  \n",
       "16               march  \n",
       "17            november  \n",
       "18                 may  \n",
       "19             january  \n",
       "20                july  \n",
       "21               march  \n",
       "22            december  \n",
       "23            february  \n",
       "24           september  \n",
       "25            december  \n",
       "26               april  \n",
       "27             january  \n",
       "28              august  \n",
       "29            november  \n",
       "...                ...  \n",
       "10241        september  \n",
       "10242  low_probability  \n",
       "10243          october  \n",
       "10244         december  \n",
       "10245  low_probability  \n",
       "10246             july  \n",
       "10247  low_probability  \n",
       "10248  low_probability  \n",
       "10249  low_probability  \n",
       "10250  low_probability  \n",
       "10251         december  \n",
       "10252         december  \n",
       "10253          october  \n",
       "10254  low_probability  \n",
       "10255          january  \n",
       "10256  low_probability  \n",
       "10257            march  \n",
       "10258           august  \n",
       "10259  low_probability  \n",
       "10260        september  \n",
       "10261        september  \n",
       "10262            march  \n",
       "10263         december  \n",
       "10264            march  \n",
       "10265             june  \n",
       "10266  low_probability  \n",
       "10267            april  \n",
       "10268          unknown  \n",
       "10269  low_probability  \n",
       "10270         november  \n",
       "\n",
       "[10271 rows x 4 columns]"
      ]
     },
     "execution_count": 164,
     "metadata": {},
     "output_type": "execute_result"
    }
   ],
   "source": [
    "datelabels_df"
   ]
  },
  {
   "cell_type": "code",
   "execution_count": 165,
   "metadata": {
    "collapsed": false
   },
   "outputs": [
    {
     "data": {
      "text/plain": [
       "126"
      ]
     },
     "execution_count": 165,
     "metadata": {},
     "output_type": "execute_result"
    }
   ],
   "source": [
    "sum(datelabels_df['months_probably']=='unknown')"
   ]
  },
  {
   "cell_type": "code",
   "execution_count": 166,
   "metadata": {
    "collapsed": false
   },
   "outputs": [
    {
     "data": {
      "text/plain": [
       "1230"
      ]
     },
     "execution_count": 166,
     "metadata": {},
     "output_type": "execute_result"
    }
   ],
   "source": [
    "sum(datelabels_df['months_probably']=='low_probability')"
   ]
  },
  {
   "cell_type": "code",
   "execution_count": null,
   "metadata": {
    "collapsed": true
   },
   "outputs": [],
   "source": []
  }
 ],
 "metadata": {
  "kernelspec": {
   "display_name": "Python 2",
   "language": "python",
   "name": "python2"
  },
  "language_info": {
   "codemirror_mode": {
    "name": "ipython",
    "version": 2
   },
   "file_extension": ".py",
   "mimetype": "text/x-python",
   "name": "python",
   "nbconvert_exporter": "python",
   "pygments_lexer": "ipython2",
   "version": "2.7.10"
  }
 },
 "nbformat": 4,
 "nbformat_minor": 0
}
