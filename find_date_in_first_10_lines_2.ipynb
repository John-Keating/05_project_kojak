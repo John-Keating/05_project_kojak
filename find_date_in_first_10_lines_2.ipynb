{
 "cells": [
  {
   "cell_type": "code",
   "execution_count": 51,
   "metadata": {
    "collapsed": true
   },
   "outputs": [],
   "source": [
    "# libraries\n",
    "from pymongo import MongoClient\n",
    "import pandas as pd\n",
    "import pickle\n",
    "import re\n",
    "from unidecode import unidecode\n",
    "from string import whitespace, punctuation\n",
    "from fuzzywuzzy import process"
   ]
  },
  {
   "cell_type": "code",
   "execution_count": 2,
   "metadata": {
    "collapsed": true
   },
   "outputs": [],
   "source": [
    "# open the client\n",
    "client = MongoClient()\n",
    "db = client.lon_db\n",
    "db.collection_names()\n",
    "collection = db.lon_docs"
   ]
  },
  {
   "cell_type": "code",
   "execution_count": 3,
   "metadata": {
    "collapsed": true
   },
   "outputs": [],
   "source": [
    "# get the first ten lines of each textbody so I can find the date\n",
    "doc_list = []\n",
    "\n",
    "for doc in collection.find({'languageCode':'en'},\n",
    "                          {'_id':0,\n",
    "                           'publicationDate':1,'symbol':1,'body_en':1}):\n",
    "        text = doc['body_en']\n",
    "        lines_10 = text.split('\\n')[:10]\n",
    "        doc['body_en'] = lines_10\n",
    "        doc_list.append(doc)"
   ]
  },
  {
   "cell_type": "raw",
   "metadata": {},
   "source": [
    "# let's pickle the doclist\n",
    "\n",
    "with open('english_doc_list.pk1', 'w') as picklefile:\n",
    "    pickle.dump(doc_list, picklefile)"
   ]
  },
  {
   "cell_type": "code",
   "execution_count": 6,
   "metadata": {
    "collapsed": false
   },
   "outputs": [
    {
     "data": {
      "text/plain": [
       "{u'body_en': [u'',\n",
       "  u'LEAGUE OF NATIONS.',\n",
       "  u'',\n",
       "  u'C.476.1930.X.',\n",
       "  u'',\n",
       "  u'Geneva, September 6th, 1930,',\n",
       "  u'',\n",
       "  u'CONTRIBUTIONS IN ARREARS.',\n",
       "  u'',\n",
       "  u'the Cuban Representative. '],\n",
       " u'publicationDate': u'1930-01-01T00:00:01Z',\n",
       " u'symbol': u'C.476.1930.X'}"
      ]
     },
     "execution_count": 6,
     "metadata": {},
     "output_type": "execute_result"
    }
   ],
   "source": [
    "# let's take a look at the data.\n",
    "doc_list[0]"
   ]
  },
  {
   "cell_type": "code",
   "execution_count": 36,
   "metadata": {
    "collapsed": true
   },
   "outputs": [],
   "source": [
    "# let's find ecerything in the lines that has a number\n",
    "\n",
    "def get_number_lines(line_list):\n",
    "    '''\n",
    "    \n",
    "    '''\n",
    "    has_number_list = []\n",
    "    \n",
    "    has_number = re.compile('\\d')\n",
    "    \n",
    "    for i in range(len(line_list)):\n",
    "        line = unidecode(line_list[i])\n",
    "        no_space = line.translate(None, whitespace)\n",
    "        if re.search(has_number, line) != None:\n",
    "            has_number_list.append((i, no_space))\n",
    "        \n",
    "    return has_number_list"
   ]
  },
  {
   "cell_type": "code",
   "execution_count": 24,
   "metadata": {
    "collapsed": false
   },
   "outputs": [
    {
     "name": "stdout",
     "output_type": "stream",
     "text": [
      "\n",
      "LEAGUEOFNATIONS.\n",
      "\n",
      "C.476.1930.X.\n",
      "\n",
      "Geneva,September6th,1930,\n",
      "\n",
      "CONTRIBUTIONSINARREARS.\n",
      "\n",
      "theCubanRepresentative.\n",
      "[(3, 'C.476.1930.X.'), (5, 'Geneva,September6th,1930,')]\n",
      "-----------------\n",
      "\n",
      "LEAGUEOFNATIONS\n",
      "\n",
      "0.86.1935.VII.\n",
      "Communicatedto\n",
      "\n",
      "theCouncil.Geneva,February1st,1935.\n",
      "\n",
      "FREECITYOFDANZIG\n",
      "\n",
      "[(3, '0.86.1935.VII.'), (6, 'theCouncil.Geneva,February1st,1935.')]\n",
      "-----------------\n",
      "\n",
      "LEAGUE0?NATIONS.\n",
      "\n",
      "GcmnunlcatedtotheC.623.M.295.1933.VII.\n",
      "Councilandthe\n",
      "MembersoftheLeague.Geneva,October31st,1933.\n",
      "\n",
      "SAARBASIN.\n",
      "\n",
      "PetitionfromtheUnionofGermanNewspaperPubIishers,\n",
      "[(3, 'GcmnunlcatedtotheC.623.M.295.1933.VII.'), (5, 'MembersoftheLeague.Geneva,October31st,1933.')]\n",
      "-----------------\n"
     ]
    }
   ],
   "source": [
    "# let's test this function out\n",
    "\n",
    "test_1 = doc_list[0]['body_en']\n",
    "test_2 = doc_list[300]['body_en']\n",
    "test_3 = doc_list[2000]['body_en']\n",
    "\n",
    "print get_number_lines(test_1)\n",
    "print '-----------------'\n",
    "print get_number_lines(test_2)\n",
    "print '-----------------'\n",
    "print get_number_lines(test_3)\n",
    "print '-----------------'"
   ]
  },
  {
   "cell_type": "code",
   "execution_count": 29,
   "metadata": {
    "collapsed": true
   },
   "outputs": [],
   "source": [
    "def find_geneva(line_list):\n",
    "    '''\n",
    "    '''\n",
    "    has_number = get_number_lines(line_list) #remember returns tuples\n",
    "        \n",
    "    start_Ge = re.compile('Ge')\n",
    "    \n",
    "    has_geneva = []\n",
    "    \n",
    "    for line in has_number:\n",
    "        if re.search(start_Ge, line[1]) != None:\n",
    "            has_geneva.append(line)\n",
    "    \n",
    "    if len(has_geneva) == 1:\n",
    "        has_geneva_text = has_geneva[0][1]\n",
    "        if start_Ge.match(has_geneva_text) == None:\n",
    "            \n",
    "    \n",
    "    return has_geneva"
   ]
  },
  {
   "cell_type": "code",
   "execution_count": 30,
   "metadata": {
    "collapsed": false
   },
   "outputs": [
    {
     "name": "stdout",
     "output_type": "stream",
     "text": [
      "\n",
      "LEAGUEOFNATIONS.\n",
      "\n",
      "C.476.1930.X.\n",
      "\n",
      "Geneva,September6th,1930,\n",
      "\n",
      "CONTRIBUTIONSINARREARS.\n",
      "\n",
      "theCubanRepresentative.\n",
      "[(5, 'Geneva,September6th,1930,')]\n",
      "-----------------\n",
      "\n",
      "LEAGUEOFNATIONS\n",
      "\n",
      "0.86.1935.VII.\n",
      "Communicatedto\n",
      "\n",
      "theCouncil.Geneva,February1st,1935.\n",
      "\n",
      "FREECITYOFDANZIG\n",
      "\n",
      "[(6, 'theCouncil.Geneva,February1st,1935.')]\n",
      "-----------------\n",
      "\n",
      "LEAGUE0?NATIONS.\n",
      "\n",
      "GcmnunlcatedtotheC.623.M.295.1933.VII.\n",
      "Councilandthe\n",
      "MembersoftheLeague.Geneva,October31st,1933.\n",
      "\n",
      "SAARBASIN.\n",
      "\n",
      "PetitionfromtheUnionofGermanNewspaperPubIishers,\n",
      "[(5, 'MembersoftheLeague.Geneva,October31st,1933.')]\n"
     ]
    }
   ],
   "source": [
    "# let's test this function out\n",
    "\n",
    "test_1 = doc_list[0]['body_en']\n",
    "test_2 = doc_list[300]['body_en']\n",
    "test_3 = doc_list[2000]['body_en']\n",
    "\n",
    "print find_geneva(test_1)\n",
    "print '-----------------'\n",
    "print find_geneva(test_2)\n",
    "print '-----------------'\n",
    "print find_geneva(test_3)"
   ]
  },
  {
   "cell_type": "raw",
   "metadata": {},
   "source": [
    "# test of how the re.split function works.\n",
    "# leave this out of the model for now\n",
    "\n",
    "long_line = 'MembersoftheLeague.Geneva,October31st,1933.'\n",
    "\n",
    "start_Ge = re.compile('(Ge)')\n",
    "\n",
    "re.split(start_Ge, long_line)"
   ]
  },
  {
   "cell_type": "code",
   "execution_count": 43,
   "metadata": {
    "collapsed": true
   },
   "outputs": [],
   "source": [
    "def add_dateline_to_docs(doc_list):\n",
    "    '''\n",
    "    \n",
    "    '''\n",
    "    for doc in doc_list:\n",
    "        dateline = find_geneva(doc['body_en'])\n",
    "        doc['dateline'] = dateline\n",
    "    return doc_list"
   ]
  },
  {
   "cell_type": "code",
   "execution_count": 35,
   "metadata": {
    "collapsed": false
   },
   "outputs": [
    {
     "name": "stdout",
     "output_type": "stream",
     "text": [
      "\n",
      "LEAGUEOFNATIONS.\n",
      "\n",
      "C.476.1930.X.\n",
      "\n",
      "Geneva,September6th,1930,\n",
      "\n",
      "CONTRIBUTIONSINARREARS.\n",
      "\n",
      "theCubanRepresentative.\n"
     ]
    },
    {
     "name": "stderr",
     "output_type": "stream",
     "text": [
      "/Users/johnkeating/anaconda/lib/python2.7/site-packages/ipykernel/__main__.py:12: RuntimeWarning: Argument <type 'tuple'> is not an unicode object. Passing an encoded string will likely have unexpected results.\n"
     ]
    },
    {
     "ename": "TypeError",
     "evalue": "ord() expected string of length 1, but int found",
     "output_type": "error",
     "traceback": [
      "\u001b[0;31m---------------------------------------------------------------------------\u001b[0m",
      "\u001b[0;31mTypeError\u001b[0m                                 Traceback (most recent call last)",
      "\u001b[0;32m<ipython-input-35-02003f92d1aa>\u001b[0m in \u001b[0;36m<module>\u001b[0;34m()\u001b[0m\n\u001b[1;32m      5\u001b[0m \u001b[0mtest_3\u001b[0m \u001b[0;34m=\u001b[0m \u001b[0mdoc_list\u001b[0m\u001b[0;34m[\u001b[0m\u001b[0;36m2000\u001b[0m\u001b[0;34m]\u001b[0m\u001b[0;34m[\u001b[0m\u001b[0;34m'body_en'\u001b[0m\u001b[0;34m]\u001b[0m\u001b[0;34m\u001b[0m\u001b[0m\n\u001b[1;32m      6\u001b[0m \u001b[0;34m\u001b[0m\u001b[0m\n\u001b[0;32m----> 7\u001b[0;31m \u001b[0;32mprint\u001b[0m \u001b[0mfind_dateline\u001b[0m\u001b[0;34m(\u001b[0m\u001b[0mtest_1\u001b[0m\u001b[0;34m)\u001b[0m\u001b[0;34m\u001b[0m\u001b[0m\n\u001b[0m\u001b[1;32m      8\u001b[0m \u001b[0;32mprint\u001b[0m \u001b[0;34m'-----------------'\u001b[0m\u001b[0;34m\u001b[0m\u001b[0m\n\u001b[1;32m      9\u001b[0m \u001b[0;32mprint\u001b[0m \u001b[0mfind_dateline\u001b[0m\u001b[0;34m(\u001b[0m\u001b[0mtest_2\u001b[0m\u001b[0;34m)\u001b[0m\u001b[0;34m\u001b[0m\u001b[0m\n",
      "\u001b[0;32m<ipython-input-34-064359743cb7>\u001b[0m in \u001b[0;36mfind_dateline\u001b[0;34m(line_list)\u001b[0m\n\u001b[1;32m      2\u001b[0m     \u001b[0mhas_number\u001b[0m \u001b[0;34m=\u001b[0m \u001b[0mget_number_lines\u001b[0m\u001b[0;34m(\u001b[0m\u001b[0mline_list\u001b[0m\u001b[0;34m)\u001b[0m \u001b[0;31m#remember returns tuples\u001b[0m\u001b[0;34m\u001b[0m\u001b[0m\n\u001b[1;32m      3\u001b[0m \u001b[0;34m\u001b[0m\u001b[0m\n\u001b[0;32m----> 4\u001b[0;31m     \u001b[0mdateline\u001b[0m \u001b[0;34m=\u001b[0m \u001b[0mfind_geneva\u001b[0m\u001b[0;34m(\u001b[0m\u001b[0mhas_number\u001b[0m\u001b[0;34m)\u001b[0m\u001b[0;34m\u001b[0m\u001b[0m\n\u001b[0m\u001b[1;32m      5\u001b[0m \u001b[0;34m\u001b[0m\u001b[0m\n\u001b[1;32m      6\u001b[0m     \u001b[0;32mreturn\u001b[0m \u001b[0mdateline\u001b[0m\u001b[0;34m\u001b[0m\u001b[0m\n",
      "\u001b[0;32m<ipython-input-29-6f275b9af321>\u001b[0m in \u001b[0;36mfind_geneva\u001b[0;34m(line_list)\u001b[0m\n\u001b[1;32m      2\u001b[0m     '''\n\u001b[1;32m      3\u001b[0m     '''\n\u001b[0;32m----> 4\u001b[0;31m     \u001b[0mhas_number\u001b[0m \u001b[0;34m=\u001b[0m \u001b[0mget_number_lines\u001b[0m\u001b[0;34m(\u001b[0m\u001b[0mline_list\u001b[0m\u001b[0;34m)\u001b[0m \u001b[0;31m#remember returns tuples\u001b[0m\u001b[0;34m\u001b[0m\u001b[0m\n\u001b[0m\u001b[1;32m      5\u001b[0m \u001b[0;34m\u001b[0m\u001b[0m\n\u001b[1;32m      6\u001b[0m     \u001b[0mpotential_datelines\u001b[0m \u001b[0;34m=\u001b[0m\u001b[0;34m[\u001b[0m\u001b[0;34m]\u001b[0m\u001b[0;34m\u001b[0m\u001b[0m\n",
      "\u001b[0;32m<ipython-input-23-26ba43e78d4c>\u001b[0m in \u001b[0;36mget_number_lines\u001b[0;34m(line_list)\u001b[0m\n\u001b[1;32m     10\u001b[0m \u001b[0;34m\u001b[0m\u001b[0m\n\u001b[1;32m     11\u001b[0m     \u001b[0;32mfor\u001b[0m \u001b[0mi\u001b[0m \u001b[0;32min\u001b[0m \u001b[0mrange\u001b[0m\u001b[0;34m(\u001b[0m\u001b[0mlen\u001b[0m\u001b[0;34m(\u001b[0m\u001b[0mline_list\u001b[0m\u001b[0;34m)\u001b[0m\u001b[0;34m)\u001b[0m\u001b[0;34m:\u001b[0m\u001b[0;34m\u001b[0m\u001b[0m\n\u001b[0;32m---> 12\u001b[0;31m         \u001b[0mline\u001b[0m \u001b[0;34m=\u001b[0m \u001b[0munidecode\u001b[0m\u001b[0;34m(\u001b[0m\u001b[0mline_list\u001b[0m\u001b[0;34m[\u001b[0m\u001b[0mi\u001b[0m\u001b[0;34m]\u001b[0m\u001b[0;34m)\u001b[0m\u001b[0;34m\u001b[0m\u001b[0m\n\u001b[0m\u001b[1;32m     13\u001b[0m         \u001b[0mno_space\u001b[0m \u001b[0;34m=\u001b[0m \u001b[0mline\u001b[0m\u001b[0;34m.\u001b[0m\u001b[0mtranslate\u001b[0m\u001b[0;34m(\u001b[0m\u001b[0mNone\u001b[0m\u001b[0;34m,\u001b[0m \u001b[0mwhitespace\u001b[0m\u001b[0;34m)\u001b[0m\u001b[0;34m\u001b[0m\u001b[0m\n\u001b[1;32m     14\u001b[0m         \u001b[0;32mprint\u001b[0m \u001b[0mno_space\u001b[0m\u001b[0;34m\u001b[0m\u001b[0m\n",
      "\u001b[0;32m/Users/johnkeating/anaconda/lib/python2.7/site-packages/unidecode/__init__.pyc\u001b[0m in \u001b[0;36munidecode\u001b[0;34m(string)\u001b[0m\n\u001b[1;32m     36\u001b[0m \u001b[0;34m\u001b[0m\u001b[0m\n\u001b[1;32m     37\u001b[0m     \u001b[0;32mfor\u001b[0m \u001b[0mchar\u001b[0m \u001b[0;32min\u001b[0m \u001b[0mstring\u001b[0m\u001b[0;34m:\u001b[0m\u001b[0;34m\u001b[0m\u001b[0m\n\u001b[0;32m---> 38\u001b[0;31m         \u001b[0mcodepoint\u001b[0m \u001b[0;34m=\u001b[0m \u001b[0mord\u001b[0m\u001b[0;34m(\u001b[0m\u001b[0mchar\u001b[0m\u001b[0;34m)\u001b[0m\u001b[0;34m\u001b[0m\u001b[0m\n\u001b[0m\u001b[1;32m     39\u001b[0m \u001b[0;34m\u001b[0m\u001b[0m\n\u001b[1;32m     40\u001b[0m         \u001b[0;32mif\u001b[0m \u001b[0mcodepoint\u001b[0m \u001b[0;34m<\u001b[0m \u001b[0;36m0x80\u001b[0m\u001b[0;34m:\u001b[0m \u001b[0;31m# Basic ASCII\u001b[0m\u001b[0;34m\u001b[0m\u001b[0m\n",
      "\u001b[0;31mTypeError\u001b[0m: ord() expected string of length 1, but int found"
     ]
    }
   ],
   "source": [
    "# let's test this function out\n",
    "\n",
    "test_1 = doc_list[0]['body_en']\n",
    "test_2 = doc_list[300]['body_en']\n",
    "test_3 = doc_list[2000]['body_en']\n",
    "\n",
    "print find_dateline(test_1)\n",
    "print '-----------------'\n",
    "print find_dateline(test_2)\n",
    "print '-----------------'\n",
    "print find_dateline(test_3)"
   ]
  },
  {
   "cell_type": "code",
   "execution_count": 44,
   "metadata": {
    "collapsed": false
   },
   "outputs": [],
   "source": [
    "doc_list_dateline = add_dateline_to_docs(doc_list)"
   ]
  },
  {
   "cell_type": "code",
   "execution_count": 50,
   "metadata": {
    "collapsed": false
   },
   "outputs": [
    {
     "data": {
      "text/plain": [
       "[(7, \"Geneva,September2'/th,1934*\")]"
      ]
     },
     "execution_count": 50,
     "metadata": {},
     "output_type": "execute_result"
    }
   ],
   "source": [
    "doc_list_dateline[9]['dateline']"
   ]
  },
  {
   "cell_type": "code",
   "execution_count": 48,
   "metadata": {
    "collapsed": false
   },
   "outputs": [
    {
     "name": "stdout",
     "output_type": "stream",
     "text": [
      "6884\n",
      "49\n",
      "4985\n"
     ]
    }
   ],
   "source": [
    "# let's see how well I did\n",
    "one_dateline = 0\n",
    "multi_dateline = 0\n",
    "no_datelike = 0\n",
    "\n",
    "for doc in doc_list_dateline:\n",
    "    if len(doc['dateline']) == 1:\n",
    "        one_dateline += 1\n",
    "    elif len(doc['dateline']) > 1:\n",
    "        multi_dateline += 1\n",
    "    else:\n",
    "        no_datelike += 1\n",
    "\n",
    "print one_dateline\n",
    "print multi_dateline\n",
    "print no_datelike"
   ]
  },
  {
   "cell_type": "markdown",
   "metadata": {},
   "source": [
    "Now the thing I want to do is to label each line as dateline or non-dateline or other thing"
   ]
  },
  {
   "cell_type": "code",
   "execution_count": 52,
   "metadata": {
    "collapsed": false
   },
   "outputs": [
    {
     "name": "stdout",
     "output_type": "stream",
     "text": [
      "[u'', u'LEAGUE OF NATIONS.', u'', u'C.476.1930.X.', u'', u'Geneva, September 6th, 1930,', u'', u'CONTRIBUTIONS IN ARREARS.', u'', u'the Cuban Representative. ']\n"
     ]
    }
   ],
   "source": [
    "print test_1"
   ]
  },
  {
   "cell_type": "code",
   "execution_count": 53,
   "metadata": {
    "collapsed": false
   },
   "outputs": [
    {
     "data": {
      "text/plain": [
       "['LEAGUE OF NATIONS.',\n",
       " 'C.476.1930.X.',\n",
       " 'Geneva, September 6th, 1930,',\n",
       " 'CONTRIBUTIONS IN ARREARS.',\n",
       " 'the Cuban Representative. ']"
      ]
     },
     "execution_count": 53,
     "metadata": {},
     "output_type": "execute_result"
    }
   ],
   "source": [
    "[unidecode(i) for i in test_1 if i != '']"
   ]
  },
  {
   "cell_type": "code",
   "execution_count": 54,
   "metadata": {
    "collapsed": false
   },
   "outputs": [
    {
     "data": {
      "text/plain": [
       "['LEAGUE OF NATIONS',\n",
       " '0.86.1935.VII.',\n",
       " 'Communicated to',\n",
       " 'the Council. Geneva, February 1st, 1935.',\n",
       " 'FREE CITY OF DANZIG ']"
      ]
     },
     "execution_count": 54,
     "metadata": {},
     "output_type": "execute_result"
    }
   ],
   "source": [
    "[unidecode(i) for i in test_2 if i != '']"
   ]
  },
  {
   "cell_type": "code",
   "execution_count": 55,
   "metadata": {
    "collapsed": false
   },
   "outputs": [
    {
     "data": {
      "text/plain": [
       "['LEAGUE 0? NATIONS .',\n",
       " 'Gcmnunlcated to the C. 623. M. 295.1933. VII.',\n",
       " 'Council and the',\n",
       " 'Members of the League. Geneva, October 31st, 1933.',\n",
       " 'SAAR BASIN.',\n",
       " 'Petition from the Union of German Newspaper Pub I ishers,']"
      ]
     },
     "execution_count": 55,
     "metadata": {},
     "output_type": "execute_result"
    }
   ],
   "source": [
    "[unidecode(i) for i in test_3 if i != '']"
   ]
  },
  {
   "cell_type": "code",
   "execution_count": 102,
   "metadata": {
    "collapsed": true
   },
   "outputs": [],
   "source": [
    "# find the symbol line\n",
    "# I think that this might be going too far because I have the symbol anyway\n",
    "# it might be nice to see it in the wild\n",
    "\n",
    "def find_symbol_line(line_list, symbol):\n",
    "    '''\n",
    "    \n",
    "    '''\n",
    "    #no_empty_line_list = [unidecode(i) for i in line_list if i != '']\n",
    "    \n",
    "    #no_space_line_list = [i.translate(None,whitespace) for i in no_empty_line_list]\n",
    "    \n",
    "    symbol_line = process.extractOne(unidecode(symbol), no_empty_line_list)\n",
    "    \n",
    "    line_line = process.extractOne(unidecode(symbol), )\n",
    "    \n",
    "    line_number = line_list.ind\n",
    "    return symbol_line\n",
    "        "
   ]
  },
  {
   "cell_type": "code",
   "execution_count": 99,
   "metadata": {
    "collapsed": false
   },
   "outputs": [
    {
     "name": "stdout",
     "output_type": "stream",
     "text": [
      "('C.476.1930.X.', 100)\n",
      "-----------------\n",
      "('0.86.1935.VII.', 86)\n",
      "-----------------\n",
      "('Gcmnunlcated to the C. 623. M. 295.1933. VII.', 86)\n"
     ]
    },
    {
     "name": "stderr",
     "output_type": "stream",
     "text": [
      "/Users/johnkeating/anaconda/lib/python2.7/site-packages/ipykernel/__main__.py:13: RuntimeWarning: Argument <type 'str'> is not an unicode object. Passing an encoded string will likely have unexpected results.\n"
     ]
    }
   ],
   "source": [
    "# let's test this function out\n",
    "\n",
    "test_1 = doc_list[0]['body_en']\n",
    "symbol_1 = unidecode(doc_list[0]['symbol'])\n",
    "test_2 = doc_list[300]['body_en']\n",
    "symbol_2 = unidecode(doc_list[300]['symbol'])\n",
    "test_3 = doc_list[2000]['body_en']\n",
    "symbol_3 = symbol_2 = unidecode(doc_list[2000]['symbol'])\n",
    "\n",
    "print find_symbol_line(test_1, symbol_1)\n",
    "print '-----------------'\n",
    "print find_symbol_line(test_2, symbol_2)\n",
    "print '-----------------'\n",
    "print find_symbol_line(test_3, symbol_3)"
   ]
  },
  {
   "cell_type": "code",
   "execution_count": 100,
   "metadata": {
    "collapsed": false
   },
   "outputs": [],
   "source": [
    "def add_symbolline_to_docs(doc_list):\n",
    "    '''\n",
    "    \n",
    "    '''\n",
    "    for doc in doc_list:\n",
    "        line_list = doc['body_en']\n",
    "        symbol = doc['symbol']\n",
    "        \n",
    "        symbolline = find_symbol_line(line_list, symbol)\n",
    "        \n",
    "        if symbolline == None:\n",
    "            pass\n",
    "            \n",
    "        line_line = process.extractOne(symbolline[0], line_list) \n",
    "\n",
    "        line_number = line_list.index(line_line[0]) #remember this is tuple\n",
    "        \n",
    "        \n",
    "        if len(symbolline[0]) < 3:\n",
    "            pass\n",
    "        else:\n",
    "            doc['symbolline'] = (line_number, symbolline[0])\n",
    "    \n",
    "    return doc_list"
   ]
  },
  {
   "cell_type": "code",
   "execution_count": 101,
   "metadata": {
    "collapsed": false
   },
   "outputs": [
    {
     "ename": "TypeError",
     "evalue": "'NoneType' object has no attribute '__getitem__'",
     "output_type": "error",
     "traceback": [
      "\u001b[0;31m---------------------------------------------------------------------------\u001b[0m",
      "\u001b[0;31mTypeError\u001b[0m                                 Traceback (most recent call last)",
      "\u001b[0;32m<ipython-input-101-96b955436876>\u001b[0m in \u001b[0;36m<module>\u001b[0;34m()\u001b[0m\n\u001b[0;32m----> 1\u001b[0;31m \u001b[0mdoc_list_symbolline\u001b[0m \u001b[0;34m=\u001b[0m \u001b[0madd_symbolline_to_docs\u001b[0m\u001b[0;34m(\u001b[0m\u001b[0mdoc_list_dateline\u001b[0m\u001b[0;34m)\u001b[0m\u001b[0;34m\u001b[0m\u001b[0m\n\u001b[0m",
      "\u001b[0;32m<ipython-input-100-627fc36438d7>\u001b[0m in \u001b[0;36madd_symbolline_to_docs\u001b[0;34m(doc_list)\u001b[0m\n\u001b[1;32m     12\u001b[0m             \u001b[0;32mpass\u001b[0m\u001b[0;34m\u001b[0m\u001b[0m\n\u001b[1;32m     13\u001b[0m \u001b[0;34m\u001b[0m\u001b[0m\n\u001b[0;32m---> 14\u001b[0;31m         \u001b[0mline_line\u001b[0m \u001b[0;34m=\u001b[0m \u001b[0mprocess\u001b[0m\u001b[0;34m.\u001b[0m\u001b[0mextractOne\u001b[0m\u001b[0;34m(\u001b[0m\u001b[0msymbolline\u001b[0m\u001b[0;34m[\u001b[0m\u001b[0;36m0\u001b[0m\u001b[0;34m]\u001b[0m\u001b[0;34m,\u001b[0m \u001b[0mline_list\u001b[0m\u001b[0;34m)\u001b[0m\u001b[0;34m\u001b[0m\u001b[0m\n\u001b[0m\u001b[1;32m     15\u001b[0m \u001b[0;34m\u001b[0m\u001b[0m\n\u001b[1;32m     16\u001b[0m         \u001b[0mline_number\u001b[0m \u001b[0;34m=\u001b[0m \u001b[0mline_list\u001b[0m\u001b[0;34m.\u001b[0m\u001b[0mindex\u001b[0m\u001b[0;34m(\u001b[0m\u001b[0mline_line\u001b[0m\u001b[0;34m[\u001b[0m\u001b[0;36m0\u001b[0m\u001b[0;34m]\u001b[0m\u001b[0;34m)\u001b[0m \u001b[0;31m#remember this is tuple\u001b[0m\u001b[0;34m\u001b[0m\u001b[0m\n",
      "\u001b[0;31mTypeError\u001b[0m: 'NoneType' object has no attribute '__getitem__'"
     ]
    }
   ],
   "source": [
    "doc_list_symbolline = add_symbolline_to_docs(doc_list_dateline)"
   ]
  },
  {
   "cell_type": "code",
   "execution_count": null,
   "metadata": {
    "collapsed": false
   },
   "outputs": [],
   "source": [
    "print doc_list_symbolline[0]['symbolline']\n",
    "print doc_list_symbolline[3333]['symbolline']\n",
    "print doc_list_symbolline[360]['symbolline']\n",
    "print doc_list_symbolline[450]['symbolline']"
   ]
  },
  {
   "cell_type": "code",
   "execution_count": 70,
   "metadata": {
    "collapsed": false
   },
   "outputs": [
    {
     "name": "stdout",
     "output_type": "stream",
     "text": [
      "11910\n",
      "8\n",
      "11918\n"
     ]
    }
   ],
   "source": [
    "no_symbolline = 0\n",
    "has_symbolline = 0\n",
    "\n",
    "for doc in doc_list_symbolline:\n",
    "    if 'symbolline' in doc.keys():\n",
    "        has_symbolline += 1\n",
    "    else:\n",
    "        no_symbolline += 1\n",
    "\n",
    "print has_symbolline\n",
    "print no_symbolline\n",
    "print has_symbolline + no_symbolline"
   ]
  },
  {
   "cell_type": "code",
   "execution_count": 71,
   "metadata": {
    "collapsed": false
   },
   "outputs": [
    {
     "data": {
      "text/plain": [
       "{u'body_en': [u'',\n",
       "  u'LEAGUE OF NATIONS.',\n",
       "  u'',\n",
       "  u'C.476.1930.X.',\n",
       "  u'',\n",
       "  u'Geneva, September 6th, 1930,',\n",
       "  u'',\n",
       "  u'CONTRIBUTIONS IN ARREARS.',\n",
       "  u'',\n",
       "  u'the Cuban Representative. '],\n",
       " 'dateline': [(5, 'Geneva,September6th,1930,')],\n",
       " u'publicationDate': u'1930-01-01T00:00:01Z',\n",
       " u'symbol': u'C.476.1930.X',\n",
       " 'symbolline': 'C.476.1930.X.'}"
      ]
     },
     "execution_count": 71,
     "metadata": {},
     "output_type": "execute_result"
    }
   ],
   "source": [
    "doc_list_symbolline[0]"
   ]
  },
  {
   "cell_type": "code",
   "execution_count": null,
   "metadata": {
    "collapsed": true
   },
   "outputs": [],
   "source": [
    "tagged_datline = pd.DataFrame(columns=['symbol','line','category'])"
   ]
  }
 ],
 "metadata": {
  "kernelspec": {
   "display_name": "Python 2",
   "language": "python",
   "name": "python2"
  },
  "language_info": {
   "codemirror_mode": {
    "name": "ipython",
    "version": 2
   },
   "file_extension": ".py",
   "mimetype": "text/x-python",
   "name": "python",
   "nbconvert_exporter": "python",
   "pygments_lexer": "ipython2",
   "version": "2.7.10"
  }
 },
 "nbformat": 4,
 "nbformat_minor": 0
}
