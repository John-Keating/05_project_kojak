{
 "cells": [
  {
   "cell_type": "code",
   "execution_count": 3,
   "metadata": {
    "collapsed": true
   },
   "outputs": [],
   "source": [
    "# libraries\n",
    "from pymongo import MongoClient\n",
    "import pandas as pd\n",
    "import pickle\n",
    "import re\n",
    "from unidecode import unidecode\n",
    "from string import whitespace, punctuation\n",
    "from fuzzywuzzy import process"
   ]
  },
  {
   "cell_type": "code",
   "execution_count": 4,
   "metadata": {
    "collapsed": true
   },
   "outputs": [],
   "source": [
    "# open the client\n",
    "client = MongoClient()\n",
    "db = client.lon_db\n",
    "db.collection_names()\n",
    "collection = db.lon_docs"
   ]
  },
  {
   "cell_type": "code",
   "execution_count": 5,
   "metadata": {
    "collapsed": true
   },
   "outputs": [],
   "source": [
    "# get the first ten lines of each textbody so I can find the date\n",
    "doc_list = []\n",
    "\n",
    "for doc in collection.find({'languageCode':'en'},\n",
    "                          {'_id':0,\n",
    "                           'publicationDate':1,'symbol':1,'body_en':1}):\n",
    "        text = doc['body_en']\n",
    "        lines_10 = text.split('\\n')[:10]\n",
    "        doc['body_en'] = lines_10\n",
    "        doc_list.append(doc)"
   ]
  },
  {
   "cell_type": "raw",
   "metadata": {},
   "source": [
    "# let's pickle the doclist\n",
    "\n",
    "with open('english_doc_list.pk1', 'w') as picklefile:\n",
    "    pickle.dump(doc_list, picklefile)"
   ]
  },
  {
   "cell_type": "code",
   "execution_count": 6,
   "metadata": {
    "collapsed": false
   },
   "outputs": [
    {
     "data": {
      "text/plain": [
       "{u'body_en': [u'',\n",
       "  u'LEAGUE OF NATIONS.',\n",
       "  u'',\n",
       "  u'C.476.1930.X.',\n",
       "  u'',\n",
       "  u'Geneva, September 6th, 1930,',\n",
       "  u'',\n",
       "  u'CONTRIBUTIONS IN ARREARS.',\n",
       "  u'',\n",
       "  u'the Cuban Representative. '],\n",
       " u'publicationDate': u'1930-01-01T00:00:01Z',\n",
       " u'symbol': u'C.476.1930.X'}"
      ]
     },
     "execution_count": 6,
     "metadata": {},
     "output_type": "execute_result"
    }
   ],
   "source": [
    "# let's take a look at the data.\n",
    "doc_list[0]"
   ]
  },
  {
   "cell_type": "code",
   "execution_count": 7,
   "metadata": {
    "collapsed": true
   },
   "outputs": [],
   "source": [
    "# let's find ecerything in the lines that has a number\n",
    "\n",
    "def get_number_lines(line_list):\n",
    "    '''\n",
    "    \n",
    "    '''\n",
    "    has_number_list = []\n",
    "    \n",
    "    has_number = re.compile('\\d')\n",
    "    \n",
    "    for i in range(len(line_list)):\n",
    "        line = unidecode(line_list[i])\n",
    "        no_space = line.translate(None, whitespace)\n",
    "        if re.search(has_number, line) != None:\n",
    "            has_number_list.append((i, no_space))\n",
    "        \n",
    "    return has_number_list"
   ]
  },
  {
   "cell_type": "code",
   "execution_count": 50,
   "metadata": {
    "collapsed": false
   },
   "outputs": [
    {
     "name": "stdout",
     "output_type": "stream",
     "text": [
      "[(4, 'Geneva,September6th,1930,')]\n",
      "-----------------\n",
      "[(3, '0.86.1935.VII.'), (6, 'theCouncil.Geneva,February1st,1935.')]\n",
      "-----------------\n",
      "[(1, 'LEAGUE0?NATIONS.'), (3, 'GcmnunlcatedtotheC.623.M.295.1933.VII.'), (5, 'MembersoftheLeague.Geneva,October31st,1933.')]\n",
      "-----------------\n"
     ]
    }
   ],
   "source": [
    "# let's test this function out\n",
    "\n",
    "test_1 = doc_list[0]['body_en']\n",
    "test_2 = doc_list[300]['body_en']\n",
    "test_3 = doc_list[2000]['body_en']\n",
    "\n",
    "print get_number_lines(test_1)\n",
    "print '-----------------'\n",
    "print get_number_lines(test_2)\n",
    "print '-----------------'\n",
    "print get_number_lines(test_3)\n",
    "print '-----------------'"
   ]
  },
  {
   "cell_type": "code",
   "execution_count": 13,
   "metadata": {
    "collapsed": false
   },
   "outputs": [],
   "source": [
    "def find_geneva(line_list):\n",
    "    '''\n",
    "    '''\n",
    "    has_number = get_number_lines(line_list) #remember returns tuples\n",
    "        \n",
    "    start_Ge = re.compile('Ge')\n",
    "    \n",
    "    has_geneva = []\n",
    "    \n",
    "    for line in has_number:\n",
    "        if re.search(start_Ge, line[1]) != None:\n",
    "            has_geneva.append(line)\n",
    "    \n",
    "    if len(has_geneva) == 1:\n",
    "        has_geneva_text = has_geneva[0][1]\n",
    "        if start_Ge.match(has_geneva_text) == None:\n",
    "            pass\n",
    "    \n",
    "    \n",
    "    return has_geneva"
   ]
  },
  {
   "cell_type": "code",
   "execution_count": 14,
   "metadata": {
    "collapsed": false
   },
   "outputs": [
    {
     "name": "stdout",
     "output_type": "stream",
     "text": [
      "[(5, 'Geneva,September6th,1930,')]\n",
      "-----------------\n",
      "[(6, 'theCouncil.Geneva,February1st,1935.')]\n",
      "-----------------\n",
      "[(5, 'MembersoftheLeague.Geneva,October31st,1933.')]\n"
     ]
    }
   ],
   "source": [
    "# let's test this function out\n",
    "\n",
    "test_1 = doc_list[0]['body_en']\n",
    "test_2 = doc_list[300]['body_en']\n",
    "test_3 = doc_list[2000]['body_en']\n",
    "\n",
    "print find_geneva(test_1)\n",
    "print '-----------------'\n",
    "print find_geneva(test_2)\n",
    "print '-----------------'\n",
    "print find_geneva(test_3)"
   ]
  },
  {
   "cell_type": "raw",
   "metadata": {},
   "source": [
    "# test of how the re.split function works.\n",
    "# leave this out of the model for now\n",
    "\n",
    "long_line = 'MembersoftheLeague.Geneva,October31st,1933.'\n",
    "\n",
    "start_Ge = re.compile('(Ge)')\n",
    "\n",
    "re.split(start_Ge, long_line)"
   ]
  },
  {
   "cell_type": "code",
   "execution_count": 18,
   "metadata": {
    "collapsed": true
   },
   "outputs": [],
   "source": [
    "def add_dateline_to_docs(doc_list):\n",
    "    '''\n",
    "    \n",
    "    '''\n",
    "    for doc in doc_list:\n",
    "        dateline = find_geneva(doc['body_en'])\n",
    "        doc['dateline'] = dateline\n",
    "    return doc_list"
   ]
  },
  {
   "cell_type": "code",
   "execution_count": 66,
   "metadata": {
    "collapsed": false
   },
   "outputs": [
    {
     "ename": "TypeError",
     "evalue": "string indices must be integers",
     "output_type": "error",
     "traceback": [
      "\u001b[0;31m---------------------------------------------------------------------------\u001b[0m",
      "\u001b[0;31mTypeError\u001b[0m                                 Traceback (most recent call last)",
      "\u001b[0;32m<ipython-input-66-3f393152630f>\u001b[0m in \u001b[0;36m<module>\u001b[0;34m()\u001b[0m\n\u001b[1;32m      5\u001b[0m \u001b[0mtest_3\u001b[0m \u001b[0;34m=\u001b[0m \u001b[0mdoc_list\u001b[0m\u001b[0;34m[\u001b[0m\u001b[0;36m2000\u001b[0m\u001b[0;34m]\u001b[0m\u001b[0;34m[\u001b[0m\u001b[0;34m'body_en'\u001b[0m\u001b[0;34m]\u001b[0m\u001b[0;34m\u001b[0m\u001b[0m\n\u001b[1;32m      6\u001b[0m \u001b[0;34m\u001b[0m\u001b[0m\n\u001b[0;32m----> 7\u001b[0;31m \u001b[0;32mprint\u001b[0m \u001b[0madd_dateline_to_docs\u001b[0m\u001b[0;34m(\u001b[0m\u001b[0mtest_1\u001b[0m\u001b[0;34m)\u001b[0m\u001b[0;34m\u001b[0m\u001b[0m\n\u001b[0m\u001b[1;32m      8\u001b[0m \u001b[0;32mprint\u001b[0m \u001b[0;34m'-----------------'\u001b[0m\u001b[0;34m\u001b[0m\u001b[0m\n\u001b[1;32m      9\u001b[0m \u001b[0;32mprint\u001b[0m \u001b[0madd_dateline_to_docs\u001b[0m\u001b[0;34m(\u001b[0m\u001b[0mtest_2\u001b[0m\u001b[0;34m)\u001b[0m\u001b[0;34m\u001b[0m\u001b[0m\n",
      "\u001b[0;32m<ipython-input-18-87a744b0f9ac>\u001b[0m in \u001b[0;36madd_dateline_to_docs\u001b[0;34m(doc_list)\u001b[0m\n\u001b[1;32m      4\u001b[0m     '''\n\u001b[1;32m      5\u001b[0m     \u001b[0;32mfor\u001b[0m \u001b[0mdoc\u001b[0m \u001b[0;32min\u001b[0m \u001b[0mdoc_list\u001b[0m\u001b[0;34m:\u001b[0m\u001b[0;34m\u001b[0m\u001b[0m\n\u001b[0;32m----> 6\u001b[0;31m         \u001b[0mdateline\u001b[0m \u001b[0;34m=\u001b[0m \u001b[0mfind_geneva\u001b[0m\u001b[0;34m(\u001b[0m\u001b[0mdoc\u001b[0m\u001b[0;34m[\u001b[0m\u001b[0;34m'body_en'\u001b[0m\u001b[0;34m]\u001b[0m\u001b[0;34m)\u001b[0m\u001b[0;34m\u001b[0m\u001b[0m\n\u001b[0m\u001b[1;32m      7\u001b[0m         \u001b[0mdoc\u001b[0m\u001b[0;34m[\u001b[0m\u001b[0;34m'dateline'\u001b[0m\u001b[0;34m]\u001b[0m \u001b[0;34m=\u001b[0m \u001b[0mdateline\u001b[0m\u001b[0;34m\u001b[0m\u001b[0m\n\u001b[1;32m      8\u001b[0m     \u001b[0;32mreturn\u001b[0m \u001b[0mdoc_list\u001b[0m\u001b[0;34m\u001b[0m\u001b[0m\n",
      "\u001b[0;31mTypeError\u001b[0m: string indices must be integers"
     ]
    }
   ],
   "source": [
    "# let's test this function out\n",
    "\n",
    "test_1 = doc_list[0]['body_en']\n",
    "test_2 = doc_list[300]['body_en']\n",
    "test_3 = doc_list[2000]['body_en']\n",
    "\n",
    "print add_dateline_to_docs(test_1)\n",
    "print '-----------------'\n",
    "print add_dateline_to_docs(test_2)\n",
    "print '-----------------'\n",
    "print add_dateline_to_docs(test_3)"
   ]
  },
  {
   "cell_type": "code",
   "execution_count": null,
   "metadata": {
    "collapsed": true
   },
   "outputs": [],
   "source": []
  },
  {
   "cell_type": "code",
   "execution_count": 20,
   "metadata": {
    "collapsed": false
   },
   "outputs": [],
   "source": [
    "doc_list_dateline = add_dateline_to_docs(doc_list)"
   ]
  },
  {
   "cell_type": "code",
   "execution_count": 21,
   "metadata": {
    "collapsed": false
   },
   "outputs": [
    {
     "data": {
      "text/plain": [
       "[(7, \"Geneva,September2'/th,1934*\")]"
      ]
     },
     "execution_count": 21,
     "metadata": {},
     "output_type": "execute_result"
    }
   ],
   "source": [
    "doc_list_dateline[9]['dateline']"
   ]
  },
  {
   "cell_type": "code",
   "execution_count": 22,
   "metadata": {
    "collapsed": false
   },
   "outputs": [
    {
     "name": "stdout",
     "output_type": "stream",
     "text": [
      "6884\n",
      "49\n",
      "4985\n"
     ]
    }
   ],
   "source": [
    "# let's see how well I did\n",
    "one_dateline = 0\n",
    "multi_dateline = 0\n",
    "no_datelike = 0\n",
    "\n",
    "for doc in doc_list_dateline:\n",
    "    if len(doc['dateline']) == 1:\n",
    "        one_dateline += 1\n",
    "    elif len(doc['dateline']) > 1:\n",
    "        multi_dateline += 1\n",
    "    else:\n",
    "        no_datelike += 1\n",
    "\n",
    "print one_dateline\n",
    "print multi_dateline\n",
    "print no_datelike"
   ]
  },
  {
   "cell_type": "markdown",
   "metadata": {},
   "source": [
    "Now the thing I want to do is to label each line as dateline or non-dateline or other thing"
   ]
  },
  {
   "cell_type": "code",
   "execution_count": 23,
   "metadata": {
    "collapsed": false
   },
   "outputs": [
    {
     "name": "stdout",
     "output_type": "stream",
     "text": [
      "[u'', u'LEAGUE OF NATIONS.', u'', u'C.476.1930.X.', u'', u'Geneva, September 6th, 1930,', u'', u'CONTRIBUTIONS IN ARREARS.', u'', u'the Cuban Representative. ']\n"
     ]
    }
   ],
   "source": [
    "print test_1"
   ]
  },
  {
   "cell_type": "code",
   "execution_count": 24,
   "metadata": {
    "collapsed": false
   },
   "outputs": [
    {
     "data": {
      "text/plain": [
       "['LEAGUE OF NATIONS.',\n",
       " 'C.476.1930.X.',\n",
       " 'Geneva, September 6th, 1930,',\n",
       " 'CONTRIBUTIONS IN ARREARS.',\n",
       " 'the Cuban Representative. ']"
      ]
     },
     "execution_count": 24,
     "metadata": {},
     "output_type": "execute_result"
    }
   ],
   "source": [
    "[unidecode(i) for i in test_1 if i != '']"
   ]
  },
  {
   "cell_type": "code",
   "execution_count": 25,
   "metadata": {
    "collapsed": false
   },
   "outputs": [
    {
     "data": {
      "text/plain": [
       "['LEAGUE OF NATIONS',\n",
       " '0.86.1935.VII.',\n",
       " 'Communicated to',\n",
       " 'the Council. Geneva, February 1st, 1935.',\n",
       " 'FREE CITY OF DANZIG ']"
      ]
     },
     "execution_count": 25,
     "metadata": {},
     "output_type": "execute_result"
    }
   ],
   "source": [
    "[unidecode(i) for i in test_2 if i != '']"
   ]
  },
  {
   "cell_type": "code",
   "execution_count": 26,
   "metadata": {
    "collapsed": false
   },
   "outputs": [
    {
     "data": {
      "text/plain": [
       "['LEAGUE 0? NATIONS .',\n",
       " 'Gcmnunlcated to the C. 623. M. 295.1933. VII.',\n",
       " 'Council and the',\n",
       " 'Members of the League. Geneva, October 31st, 1933.',\n",
       " 'SAAR BASIN.',\n",
       " 'Petition from the Union of German Newspaper Pub I ishers,']"
      ]
     },
     "execution_count": 26,
     "metadata": {},
     "output_type": "execute_result"
    }
   ],
   "source": [
    "[unidecode(i) for i in test_3 if i != '']"
   ]
  },
  {
   "cell_type": "code",
   "execution_count": 34,
   "metadata": {
    "collapsed": true
   },
   "outputs": [],
   "source": [
    "# find the symbol line\n",
    "# I think that this might be going too far because I have the symbol anyway\n",
    "# it might be nice to see it in the wild\n",
    "\n",
    "def find_symbol_line(line_list, symbol):\n",
    "    '''\n",
    "    \n",
    "    '''\n",
    "    line_list = [unidecode(i) for i in line_list]\n",
    "    \n",
    "    #no_space_line_list = [i.translate(None,whitespace) for i in no_empty_line_list]\n",
    "    \n",
    "    symbolline = process.extractOne(unidecode(symbol), line_list)\n",
    "    \n",
    "    if symbolline != None:\n",
    "        line_number = line_list.index(symbolline[0])\n",
    "        return (line_number, unidecode(symbolline[0]))\n",
    "        "
   ]
  },
  {
   "cell_type": "code",
   "execution_count": 35,
   "metadata": {
    "collapsed": false
   },
   "outputs": [
    {
     "data": {
      "text/plain": [
       "[u'',\n",
       " u'LEAGUE OF NATIONS.',\n",
       " u'',\n",
       " u'C.476.1930.X.',\n",
       " u'',\n",
       " u'Geneva, September 6th, 1930,',\n",
       " u'',\n",
       " u'CONTRIBUTIONS IN ARREARS.',\n",
       " u'',\n",
       " u'the Cuban Representative. ']"
      ]
     },
     "execution_count": 35,
     "metadata": {},
     "output_type": "execute_result"
    }
   ],
   "source": [
    "test_1"
   ]
  },
  {
   "cell_type": "code",
   "execution_count": null,
   "metadata": {
    "collapsed": true
   },
   "outputs": [],
   "source": [
    "test_1.index()"
   ]
  },
  {
   "cell_type": "code",
   "execution_count": 36,
   "metadata": {
    "collapsed": false
   },
   "outputs": [
    {
     "name": "stdout",
     "output_type": "stream",
     "text": [
      "(3, 'C.476.1930.X.')\n",
      "-----------------\n",
      "(3, '0.86.1935.VII.')\n",
      "-----------------\n",
      "(3, 'Gcmnunlcated to the C. 623. M. 295.1933. VII.')\n"
     ]
    },
    {
     "name": "stderr",
     "output_type": "stream",
     "text": [
      "/Users/johnkeating/anaconda/lib/python2.7/site-packages/ipykernel/__main__.py:13: RuntimeWarning: Argument <type 'str'> is not an unicode object. Passing an encoded string will likely have unexpected results.\n",
      "/Users/johnkeating/anaconda/lib/python2.7/site-packages/ipykernel/__main__.py:17: RuntimeWarning: Argument <type 'str'> is not an unicode object. Passing an encoded string will likely have unexpected results.\n"
     ]
    }
   ],
   "source": [
    "# let's test this function out\n",
    "\n",
    "test_1 = doc_list[0]['body_en']\n",
    "symbol_1 = unidecode(doc_list[0]['symbol'])\n",
    "test_2 = doc_list[300]['body_en']\n",
    "symbol_2 = unidecode(doc_list[300]['symbol'])\n",
    "test_3 = doc_list[2000]['body_en']\n",
    "symbol_3 = symbol_2 = unidecode(doc_list[2000]['symbol'])\n",
    "\n",
    "print find_symbol_line(test_1, symbol_1)\n",
    "print '-----------------'\n",
    "print find_symbol_line(test_2, symbol_2)\n",
    "print '-----------------'\n",
    "print find_symbol_line(test_3, symbol_3)"
   ]
  },
  {
   "cell_type": "code",
   "execution_count": 39,
   "metadata": {
    "collapsed": false
   },
   "outputs": [],
   "source": [
    "def add_symbolline_to_docs(doc_list):\n",
    "    '''\n",
    "    \n",
    "    '''\n",
    "    for doc in doc_list:\n",
    "        line_list = doc['body_en']\n",
    "        symbol = doc['symbol']\n",
    "        \n",
    "        symbolline = find_symbol_line(line_list, symbol)\n",
    "        \n",
    "        if symbolline == None:\n",
    "            pass\n",
    "            \n",
    "        elif len(symbolline[1]) < 3:\n",
    "            pass\n",
    "        \n",
    "        else:\n",
    "            doc['symbolline'] = symbolline\n",
    "    \n",
    "    return doc_list"
   ]
  },
  {
   "cell_type": "code",
   "execution_count": 40,
   "metadata": {
    "collapsed": false
   },
   "outputs": [
    {
     "name": "stderr",
     "output_type": "stream",
     "text": [
      "/Users/johnkeating/anaconda/lib/python2.7/site-packages/ipykernel/__main__.py:17: RuntimeWarning: Argument <type 'str'> is not an unicode object. Passing an encoded string will likely have unexpected results.\n"
     ]
    }
   ],
   "source": [
    "doc_list_symbolline = add_symbolline_to_docs(doc_list_dateline)"
   ]
  },
  {
   "cell_type": "code",
   "execution_count": 42,
   "metadata": {
    "collapsed": false
   },
   "outputs": [
    {
     "name": "stdout",
     "output_type": "stream",
     "text": [
      "(3, 'C.476.1930.X.')\n",
      "(5, 'Official No. : C. S55. M. 226. 1931. IX. ')\n"
     ]
    },
    {
     "ename": "KeyError",
     "evalue": "'symbolline'",
     "output_type": "error",
     "traceback": [
      "\u001b[0;31m---------------------------------------------------------------------------\u001b[0m",
      "\u001b[0;31mKeyError\u001b[0m                                  Traceback (most recent call last)",
      "\u001b[0;32m<ipython-input-42-25eeff3aa57a>\u001b[0m in \u001b[0;36m<module>\u001b[0;34m()\u001b[0m\n\u001b[1;32m      1\u001b[0m \u001b[0;32mprint\u001b[0m \u001b[0mdoc_list_symbolline\u001b[0m\u001b[0;34m[\u001b[0m\u001b[0;36m0\u001b[0m\u001b[0;34m]\u001b[0m\u001b[0;34m[\u001b[0m\u001b[0;34m'symbolline'\u001b[0m\u001b[0;34m]\u001b[0m\u001b[0;34m\u001b[0m\u001b[0m\n\u001b[1;32m      2\u001b[0m \u001b[0;32mprint\u001b[0m \u001b[0mdoc_list_symbolline\u001b[0m\u001b[0;34m[\u001b[0m\u001b[0;36m3333\u001b[0m\u001b[0;34m]\u001b[0m\u001b[0;34m[\u001b[0m\u001b[0;34m'symbolline'\u001b[0m\u001b[0;34m]\u001b[0m\u001b[0;34m\u001b[0m\u001b[0m\n\u001b[0;32m----> 3\u001b[0;31m \u001b[0;32mprint\u001b[0m \u001b[0mdoc_list_symbolline\u001b[0m\u001b[0;34m[\u001b[0m\u001b[0;36m360\u001b[0m\u001b[0;34m]\u001b[0m\u001b[0;34m[\u001b[0m\u001b[0;34m'symbolline'\u001b[0m\u001b[0;34m]\u001b[0m\u001b[0;34m\u001b[0m\u001b[0m\n\u001b[0m\u001b[1;32m      4\u001b[0m \u001b[0;32mprint\u001b[0m \u001b[0mdoc_list_symbolline\u001b[0m\u001b[0;34m[\u001b[0m\u001b[0;36m450\u001b[0m\u001b[0;34m]\u001b[0m\u001b[0;34m[\u001b[0m\u001b[0;34m'symbolline'\u001b[0m\u001b[0;34m]\u001b[0m\u001b[0;34m\u001b[0m\u001b[0m\n",
      "\u001b[0;31mKeyError\u001b[0m: 'symbolline'"
     ]
    }
   ],
   "source": [
    "print doc_list_symbolline[0]['symbolline']\n",
    "print doc_list_symbolline[3333]['symbolline']\n",
    "print doc_list_symbolline[360]['symbolline']\n",
    "print doc_list_symbolline[450]['symbolline']"
   ]
  },
  {
   "cell_type": "code",
   "execution_count": 43,
   "metadata": {
    "collapsed": false
   },
   "outputs": [
    {
     "name": "stdout",
     "output_type": "stream",
     "text": [
      "11868\n",
      "50\n",
      "11918\n"
     ]
    }
   ],
   "source": [
    "no_symbolline = 0\n",
    "has_symbolline = 0\n",
    "\n",
    "for doc in doc_list_symbolline:\n",
    "    if 'symbolline' in doc.keys():\n",
    "        has_symbolline += 1\n",
    "    else:\n",
    "        no_symbolline += 1\n",
    "\n",
    "print has_symbolline\n",
    "print no_symbolline\n",
    "print has_symbolline + no_symbolline"
   ]
  },
  {
   "cell_type": "code",
   "execution_count": 44,
   "metadata": {
    "collapsed": false
   },
   "outputs": [
    {
     "data": {
      "text/plain": [
       "{u'body_en': [u'',\n",
       "  u'LEAGUE OF NATIONS.',\n",
       "  u'',\n",
       "  u'C.476.1930.X.',\n",
       "  u'',\n",
       "  u'Geneva, September 6th, 1930,',\n",
       "  u'',\n",
       "  u'CONTRIBUTIONS IN ARREARS.',\n",
       "  u'',\n",
       "  u'the Cuban Representative. '],\n",
       " 'dateline': [(5, 'Geneva,September6th,1930,')],\n",
       " u'publicationDate': u'1930-01-01T00:00:01Z',\n",
       " u'symbol': u'C.476.1930.X',\n",
       " 'symbolline': (3, 'C.476.1930.X.')}"
      ]
     },
     "execution_count": 44,
     "metadata": {},
     "output_type": "execute_result"
    }
   ],
   "source": [
    "doc_list_symbolline[0]"
   ]
  },
  {
   "cell_type": "raw",
   "metadata": {},
   "source": [
    "indices = 0, 2\n",
    "somelist = [i for j, i in enumerate(somelist) if j not in indices]"
   ]
  },
  {
   "cell_type": "code",
   "execution_count": 51,
   "metadata": {
    "collapsed": false
   },
   "outputs": [
    {
     "data": {
      "text/plain": [
       "[u'',\n",
       " u'LEAGUE OF NATIONS.',\n",
       " u'',\n",
       " u'',\n",
       " u'CONTRIBUTIONS IN ARREARS.',\n",
       " u'',\n",
       " u'the Cuban Representative. ']"
      ]
     },
     "execution_count": 51,
     "metadata": {},
     "output_type": "execute_result"
    }
   ],
   "source": [
    "indices = 3,4\n",
    "[i for j, i in enumerate(test_1) if j not in indices]"
   ]
  },
  {
   "cell_type": "code",
   "execution_count": 54,
   "metadata": {
    "collapsed": false
   },
   "outputs": [
    {
     "data": {
      "text/plain": [
       "[[u'', 'other'],\n",
       " [u'LEAGUE OF NATIONS.', 'other'],\n",
       " [u'', 'other'],\n",
       " [u'', 'other'],\n",
       " [u'Geneva, September 6th, 1930,', 'other'],\n",
       " [u'', 'other'],\n",
       " [u'CONTRIBUTIONS IN ARREARS.', 'other'],\n",
       " [u'', 'other'],\n",
       " [u'the Cuban Representative. ', 'other']]"
      ]
     },
     "execution_count": 54,
     "metadata": {},
     "output_type": "execute_result"
    }
   ],
   "source": [
    "test_list = []\n",
    "for i in test_1:\n",
    "    test_list.append([i,'other'])\n",
    "\n",
    "test_list"
   ]
  },
  {
   "cell_type": "code",
   "execution_count": 64,
   "metadata": {
    "collapsed": false
   },
   "outputs": [
    {
     "data": {
      "text/plain": [
       "[u'',\n",
       " u'LEAGUE OF NATIONS.',\n",
       " u'',\n",
       " u'',\n",
       " u'Geneva, September 6th, 1930,',\n",
       " u'',\n",
       " u'CONTRIBUTIONS IN ARREARS.',\n",
       " u'',\n",
       " u'the Cuban Representative. ']"
      ]
     },
     "execution_count": 64,
     "metadata": {},
     "output_type": "execute_result"
    }
   ],
   "source": [
    "test_1"
   ]
  },
  {
   "cell_type": "code",
   "execution_count": 62,
   "metadata": {
    "collapsed": false
   },
   "outputs": [],
   "source": [
    "def label_lines(line_list, symbol, symbolline, dateline):\n",
    "    \n",
    "    #note that the datline is a list of tuples\n",
    "    \n",
    "    dateline = dateline[0] # this will create a single tuple\n",
    "    \n",
    "    symbol = unidecode(symbol)\n",
    "    \n",
    "    label_list = []\n",
    "    \n",
    "    rm_lines = symbolline[0], dateline[0]\n",
    "    \n",
    "    other_lines = [i for j, i in enumerate(line_list) if j not in rm_lines]\n",
    "    \n",
    "    no_empties = [i for i in other_lines if i != '']\n",
    "    \n",
    "    label_list.append([symbol, symbolline[1], 'symbolline'])\n",
    "    \n",
    "    label_list.append([symbol, dateline[1], 'dateline'])\n",
    "    \n",
    "    for line in no_empties:\n",
    "        label_list.append([symbol, unidecode(line),'other'])\n",
    "    \n",
    "    return label_list"
   ]
  },
  {
   "cell_type": "code",
   "execution_count": 69,
   "metadata": {
    "collapsed": false
   },
   "outputs": [
    {
     "data": {
      "text/plain": [
       "[u'',\n",
       " u'LEAGUE OF NATIONS.',\n",
       " u'',\n",
       " u'',\n",
       " u'Geneva, September 6th, 1930,',\n",
       " u'',\n",
       " u'CONTRIBUTIONS IN ARREARS.',\n",
       " u'',\n",
       " u'the Cuban Representative. ']"
      ]
     },
     "execution_count": 69,
     "metadata": {},
     "output_type": "execute_result"
    }
   ],
   "source": [
    "test_1 = doc_list[0]['body_en']\n",
    "test_1"
   ]
  },
  {
   "cell_type": "code",
   "execution_count": 70,
   "metadata": {
    "collapsed": false
   },
   "outputs": [
    {
     "name": "stderr",
     "output_type": "stream",
     "text": [
      "/Users/johnkeating/anaconda/lib/python2.7/site-packages/ipykernel/__main__.py:7: RuntimeWarning: Argument <type 'str'> is not an unicode object. Passing an encoded string will likely have unexpected results.\n"
     ]
    },
    {
     "data": {
      "text/plain": [
       "[['C.476.1930.X.', 'C.476.1930.X.', 'symbolline'],\n",
       " ['C.476.1930.X.', 'Geneva,September6th,1930,', 'dateline'],\n",
       " ['C.476.1930.X.', 'LEAGUE OF NATIONS.', 'other'],\n",
       " ['C.476.1930.X.', 'CONTRIBUTIONS IN ARREARS.', 'other'],\n",
       " ['C.476.1930.X.', 'the Cuban Representative. ', 'other']]"
      ]
     },
     "execution_count": 70,
     "metadata": {},
     "output_type": "execute_result"
    }
   ],
   "source": [
    "label_lines(test_1, 'C.476.1930.X.',(3, 'C.476.1930.X.'),[(4, 'Geneva,September6th,1930,')])"
   ]
  },
  {
   "cell_type": "code",
   "execution_count": null,
   "metadata": {
    "collapsed": true
   },
   "outputs": [],
   "source": [
    "test_2 = doc_list[300]['body_en']"
   ]
  },
  {
   "cell_type": "code",
   "execution_count": null,
   "metadata": {
    "collapsed": true
   },
   "outputs": [],
   "source": [
    "label_lines(test_2)"
   ]
  },
  {
   "cell_type": "code",
   "execution_count": null,
   "metadata": {
    "collapsed": true
   },
   "outputs": [],
   "source": [
    "tagged_datline = pd.DataFrame(columns=['symbol','line','category'])"
   ]
  }
 ],
 "metadata": {
  "kernelspec": {
   "display_name": "Python 2",
   "language": "python",
   "name": "python2"
  },
  "language_info": {
   "codemirror_mode": {
    "name": "ipython",
    "version": 2
   },
   "file_extension": ".py",
   "mimetype": "text/x-python",
   "name": "python",
   "nbconvert_exporter": "python",
   "pygments_lexer": "ipython2",
   "version": "2.7.10"
  }
 },
 "nbformat": 4,
 "nbformat_minor": 0
}
