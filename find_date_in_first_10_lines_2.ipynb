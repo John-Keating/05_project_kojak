{
 "cells": [
  {
   "cell_type": "code",
   "execution_count": 3,
   "metadata": {
    "collapsed": true
   },
   "outputs": [],
   "source": [
    "# libraries\n",
    "from pymongo import MongoClient\n",
    "import pandas as pd\n",
    "import pickle\n",
    "import re\n",
    "from unidecode import unidecode\n",
    "from string import whitespace, punctuation\n",
    "from fuzzywuzzy import process"
   ]
  },
  {
   "cell_type": "code",
   "execution_count": 4,
   "metadata": {
    "collapsed": true
   },
   "outputs": [],
   "source": [
    "# open the client\n",
    "client = MongoClient()\n",
    "db = client.lon_db\n",
    "db.collection_names()\n",
    "collection = db.lon_docs"
   ]
  },
  {
   "cell_type": "code",
   "execution_count": 5,
   "metadata": {
    "collapsed": true
   },
   "outputs": [],
   "source": [
    "# get the first ten lines of each textbody so I can find the date\n",
    "doc_list = []\n",
    "\n",
    "for doc in collection.find({'languageCode':'en'},\n",
    "                          {'_id':0,\n",
    "                           'publicationDate':1,'symbol':1,'body_en':1}):\n",
    "        text = doc['body_en']\n",
    "        lines_10 = text.split('\\n')[:10]\n",
    "        doc['body_en'] = lines_10\n",
    "        doc_list.append(doc)"
   ]
  },
  {
   "cell_type": "raw",
   "metadata": {},
   "source": [
    "# let's pickle the doclist\n",
    "\n",
    "with open('english_doc_list.pk1', 'w') as picklefile:\n",
    "    pickle.dump(doc_list, picklefile)"
   ]
  },
  {
   "cell_type": "code",
   "execution_count": 6,
   "metadata": {
    "collapsed": false
   },
   "outputs": [
    {
     "data": {
      "text/plain": [
       "{u'body_en': [u'',\n",
       "  u'LEAGUE OF NATIONS.',\n",
       "  u'',\n",
       "  u'C.476.1930.X.',\n",
       "  u'',\n",
       "  u'Geneva, September 6th, 1930,',\n",
       "  u'',\n",
       "  u'CONTRIBUTIONS IN ARREARS.',\n",
       "  u'',\n",
       "  u'the Cuban Representative. '],\n",
       " u'publicationDate': u'1930-01-01T00:00:01Z',\n",
       " u'symbol': u'C.476.1930.X'}"
      ]
     },
     "execution_count": 6,
     "metadata": {},
     "output_type": "execute_result"
    }
   ],
   "source": [
    "# let's take a look at the data.\n",
    "doc_list[0]"
   ]
  },
  {
   "cell_type": "code",
   "execution_count": 7,
   "metadata": {
    "collapsed": true
   },
   "outputs": [],
   "source": [
    "# let's find ecerything in the lines that has a number\n",
    "\n",
    "def get_number_lines(line_list):\n",
    "    '''\n",
    "    \n",
    "    '''\n",
    "    has_number_list = []\n",
    "    \n",
    "    has_number = re.compile('\\d')\n",
    "    \n",
    "    for i in range(len(line_list)):\n",
    "        line = unidecode(line_list[i])\n",
    "        no_space = line.translate(None, whitespace)\n",
    "        if re.search(has_number, line) != None:\n",
    "            has_number_list.append((i, no_space))\n",
    "        \n",
    "    return has_number_list"
   ]
  },
  {
   "cell_type": "code",
   "execution_count": 50,
   "metadata": {
    "collapsed": false
   },
   "outputs": [
    {
     "name": "stdout",
     "output_type": "stream",
     "text": [
      "[(4, 'Geneva,September6th,1930,')]\n",
      "-----------------\n",
      "[(3, '0.86.1935.VII.'), (6, 'theCouncil.Geneva,February1st,1935.')]\n",
      "-----------------\n",
      "[(1, 'LEAGUE0?NATIONS.'), (3, 'GcmnunlcatedtotheC.623.M.295.1933.VII.'), (5, 'MembersoftheLeague.Geneva,October31st,1933.')]\n",
      "-----------------\n"
     ]
    }
   ],
   "source": [
    "# let's test this function out\n",
    "\n",
    "test_1 = doc_list[0]['body_en']\n",
    "test_2 = doc_list[300]['body_en']\n",
    "test_3 = doc_list[2000]['body_en']\n",
    "\n",
    "print get_number_lines(test_1)\n",
    "print '-----------------'\n",
    "print get_number_lines(test_2)\n",
    "print '-----------------'\n",
    "print get_number_lines(test_3)\n",
    "print '-----------------'"
   ]
  },
  {
   "cell_type": "code",
   "execution_count": 13,
   "metadata": {
    "collapsed": false
   },
   "outputs": [],
   "source": [
    "def find_geneva(line_list):\n",
    "    '''\n",
    "    '''\n",
    "    has_number = get_number_lines(line_list) #remember returns tuples\n",
    "        \n",
    "    start_Ge = re.compile('Ge')\n",
    "    \n",
    "    has_geneva = []\n",
    "    \n",
    "    for line in has_number:\n",
    "        if re.search(start_Ge, line[1]) != None:\n",
    "            has_geneva.append(line)\n",
    "    \n",
    "    if len(has_geneva) == 1:\n",
    "        has_geneva_text = has_geneva[0][1]\n",
    "        if start_Ge.match(has_geneva_text) == None:\n",
    "            pass\n",
    "    \n",
    "    \n",
    "    return has_geneva"
   ]
  },
  {
   "cell_type": "code",
   "execution_count": 14,
   "metadata": {
    "collapsed": false
   },
   "outputs": [
    {
     "name": "stdout",
     "output_type": "stream",
     "text": [
      "[(5, 'Geneva,September6th,1930,')]\n",
      "-----------------\n",
      "[(6, 'theCouncil.Geneva,February1st,1935.')]\n",
      "-----------------\n",
      "[(5, 'MembersoftheLeague.Geneva,October31st,1933.')]\n"
     ]
    }
   ],
   "source": [
    "# let's test this function out\n",
    "\n",
    "test_1 = doc_list[0]['body_en']\n",
    "test_2 = doc_list[300]['body_en']\n",
    "test_3 = doc_list[2000]['body_en']\n",
    "\n",
    "print find_geneva(test_1)\n",
    "print '-----------------'\n",
    "print find_geneva(test_2)\n",
    "print '-----------------'\n",
    "print find_geneva(test_3)"
   ]
  },
  {
   "cell_type": "raw",
   "metadata": {},
   "source": [
    "# test of how the re.split function works.\n",
    "# leave this out of the model for now\n",
    "\n",
    "long_line = 'MembersoftheLeague.Geneva,October31st,1933.'\n",
    "\n",
    "start_Ge = re.compile('(Ge)')\n",
    "\n",
    "re.split(start_Ge, long_line)"
   ]
  },
  {
   "cell_type": "code",
   "execution_count": 18,
   "metadata": {
    "collapsed": true
   },
   "outputs": [],
   "source": [
    "def add_dateline_to_docs(doc_list):\n",
    "    '''\n",
    "    \n",
    "    '''\n",
    "    for doc in doc_list:\n",
    "        dateline = find_geneva(doc['body_en'])\n",
    "        doc['dateline'] = dateline\n",
    "    return doc_list"
   ]
  },
  {
   "cell_type": "code",
   "execution_count": 66,
   "metadata": {
    "collapsed": false
   },
   "outputs": [
    {
     "ename": "TypeError",
     "evalue": "string indices must be integers",
     "output_type": "error",
     "traceback": [
      "\u001b[0;31m---------------------------------------------------------------------------\u001b[0m",
      "\u001b[0;31mTypeError\u001b[0m                                 Traceback (most recent call last)",
      "\u001b[0;32m<ipython-input-66-3f393152630f>\u001b[0m in \u001b[0;36m<module>\u001b[0;34m()\u001b[0m\n\u001b[1;32m      5\u001b[0m \u001b[0mtest_3\u001b[0m \u001b[0;34m=\u001b[0m \u001b[0mdoc_list\u001b[0m\u001b[0;34m[\u001b[0m\u001b[0;36m2000\u001b[0m\u001b[0;34m]\u001b[0m\u001b[0;34m[\u001b[0m\u001b[0;34m'body_en'\u001b[0m\u001b[0;34m]\u001b[0m\u001b[0;34m\u001b[0m\u001b[0m\n\u001b[1;32m      6\u001b[0m \u001b[0;34m\u001b[0m\u001b[0m\n\u001b[0;32m----> 7\u001b[0;31m \u001b[0;32mprint\u001b[0m \u001b[0madd_dateline_to_docs\u001b[0m\u001b[0;34m(\u001b[0m\u001b[0mtest_1\u001b[0m\u001b[0;34m)\u001b[0m\u001b[0;34m\u001b[0m\u001b[0m\n\u001b[0m\u001b[1;32m      8\u001b[0m \u001b[0;32mprint\u001b[0m \u001b[0;34m'-----------------'\u001b[0m\u001b[0;34m\u001b[0m\u001b[0m\n\u001b[1;32m      9\u001b[0m \u001b[0;32mprint\u001b[0m \u001b[0madd_dateline_to_docs\u001b[0m\u001b[0;34m(\u001b[0m\u001b[0mtest_2\u001b[0m\u001b[0;34m)\u001b[0m\u001b[0;34m\u001b[0m\u001b[0m\n",
      "\u001b[0;32m<ipython-input-18-87a744b0f9ac>\u001b[0m in \u001b[0;36madd_dateline_to_docs\u001b[0;34m(doc_list)\u001b[0m\n\u001b[1;32m      4\u001b[0m     '''\n\u001b[1;32m      5\u001b[0m     \u001b[0;32mfor\u001b[0m \u001b[0mdoc\u001b[0m \u001b[0;32min\u001b[0m \u001b[0mdoc_list\u001b[0m\u001b[0;34m:\u001b[0m\u001b[0;34m\u001b[0m\u001b[0m\n\u001b[0;32m----> 6\u001b[0;31m         \u001b[0mdateline\u001b[0m \u001b[0;34m=\u001b[0m \u001b[0mfind_geneva\u001b[0m\u001b[0;34m(\u001b[0m\u001b[0mdoc\u001b[0m\u001b[0;34m[\u001b[0m\u001b[0;34m'body_en'\u001b[0m\u001b[0;34m]\u001b[0m\u001b[0;34m)\u001b[0m\u001b[0;34m\u001b[0m\u001b[0m\n\u001b[0m\u001b[1;32m      7\u001b[0m         \u001b[0mdoc\u001b[0m\u001b[0;34m[\u001b[0m\u001b[0;34m'dateline'\u001b[0m\u001b[0;34m]\u001b[0m \u001b[0;34m=\u001b[0m \u001b[0mdateline\u001b[0m\u001b[0;34m\u001b[0m\u001b[0m\n\u001b[1;32m      8\u001b[0m     \u001b[0;32mreturn\u001b[0m \u001b[0mdoc_list\u001b[0m\u001b[0;34m\u001b[0m\u001b[0m\n",
      "\u001b[0;31mTypeError\u001b[0m: string indices must be integers"
     ]
    }
   ],
   "source": [
    "# let's test this function out\n",
    "\n",
    "test_1 = doc_list[0]['body_en']\n",
    "test_2 = doc_list[300]['body_en']\n",
    "test_3 = doc_list[2000]['body_en']\n",
    "\n",
    "print add_dateline_to_docs(test_1)\n",
    "print '-----------------'\n",
    "print add_dateline_to_docs(test_2)\n",
    "print '-----------------'\n",
    "print add_dateline_to_docs(test_3)"
   ]
  },
  {
   "cell_type": "code",
   "execution_count": null,
   "metadata": {
    "collapsed": true
   },
   "outputs": [],
   "source": []
  },
  {
   "cell_type": "code",
   "execution_count": 20,
   "metadata": {
    "collapsed": false
   },
   "outputs": [],
   "source": [
    "doc_list_dateline = add_dateline_to_docs(doc_list)"
   ]
  },
  {
   "cell_type": "code",
   "execution_count": 21,
   "metadata": {
    "collapsed": false
   },
   "outputs": [
    {
     "data": {
      "text/plain": [
       "[(7, \"Geneva,September2'/th,1934*\")]"
      ]
     },
     "execution_count": 21,
     "metadata": {},
     "output_type": "execute_result"
    }
   ],
   "source": [
    "doc_list_dateline[9]['dateline']"
   ]
  },
  {
   "cell_type": "code",
   "execution_count": 22,
   "metadata": {
    "collapsed": false
   },
   "outputs": [
    {
     "name": "stdout",
     "output_type": "stream",
     "text": [
      "6884\n",
      "49\n",
      "4985\n"
     ]
    }
   ],
   "source": [
    "# let's see how well I did\n",
    "one_dateline = 0\n",
    "multi_dateline = 0\n",
    "no_datelike = 0\n",
    "\n",
    "for doc in doc_list_dateline:\n",
    "    if len(doc['dateline']) == 1:\n",
    "        one_dateline += 1\n",
    "    elif len(doc['dateline']) > 1:\n",
    "        multi_dateline += 1\n",
    "    else:\n",
    "        no_datelike += 1\n",
    "\n",
    "print one_dateline\n",
    "print multi_dateline\n",
    "print no_datelike"
   ]
  },
  {
   "cell_type": "markdown",
   "metadata": {},
   "source": [
    "Now the thing I want to do is to label each line as dateline or non-dateline or other thing"
   ]
  },
  {
   "cell_type": "code",
   "execution_count": 23,
   "metadata": {
    "collapsed": false
   },
   "outputs": [
    {
     "name": "stdout",
     "output_type": "stream",
     "text": [
      "[u'', u'LEAGUE OF NATIONS.', u'', u'C.476.1930.X.', u'', u'Geneva, September 6th, 1930,', u'', u'CONTRIBUTIONS IN ARREARS.', u'', u'the Cuban Representative. ']\n"
     ]
    }
   ],
   "source": [
    "print test_1"
   ]
  },
  {
   "cell_type": "code",
   "execution_count": 24,
   "metadata": {
    "collapsed": false
   },
   "outputs": [
    {
     "data": {
      "text/plain": [
       "['LEAGUE OF NATIONS.',\n",
       " 'C.476.1930.X.',\n",
       " 'Geneva, September 6th, 1930,',\n",
       " 'CONTRIBUTIONS IN ARREARS.',\n",
       " 'the Cuban Representative. ']"
      ]
     },
     "execution_count": 24,
     "metadata": {},
     "output_type": "execute_result"
    }
   ],
   "source": [
    "[unidecode(i) for i in test_1 if i != '']"
   ]
  },
  {
   "cell_type": "code",
   "execution_count": 25,
   "metadata": {
    "collapsed": false
   },
   "outputs": [
    {
     "data": {
      "text/plain": [
       "['LEAGUE OF NATIONS',\n",
       " '0.86.1935.VII.',\n",
       " 'Communicated to',\n",
       " 'the Council. Geneva, February 1st, 1935.',\n",
       " 'FREE CITY OF DANZIG ']"
      ]
     },
     "execution_count": 25,
     "metadata": {},
     "output_type": "execute_result"
    }
   ],
   "source": [
    "[unidecode(i) for i in test_2 if i != '']"
   ]
  },
  {
   "cell_type": "code",
   "execution_count": 26,
   "metadata": {
    "collapsed": false
   },
   "outputs": [
    {
     "data": {
      "text/plain": [
       "['LEAGUE 0? NATIONS .',\n",
       " 'Gcmnunlcated to the C. 623. M. 295.1933. VII.',\n",
       " 'Council and the',\n",
       " 'Members of the League. Geneva, October 31st, 1933.',\n",
       " 'SAAR BASIN.',\n",
       " 'Petition from the Union of German Newspaper Pub I ishers,']"
      ]
     },
     "execution_count": 26,
     "metadata": {},
     "output_type": "execute_result"
    }
   ],
   "source": [
    "[unidecode(i) for i in test_3 if i != '']"
   ]
  },
  {
   "cell_type": "code",
   "execution_count": 34,
   "metadata": {
    "collapsed": true
   },
   "outputs": [],
   "source": [
    "# find the symbol line\n",
    "# I think that this might be going too far because I have the symbol anyway\n",
    "# it might be nice to see it in the wild\n",
    "\n",
    "def find_symbol_line(line_list, symbol):\n",
    "    '''\n",
    "    \n",
    "    '''\n",
    "    line_list = [unidecode(i) for i in line_list]\n",
    "    \n",
    "    #no_space_line_list = [i.translate(None,whitespace) for i in no_empty_line_list]\n",
    "    \n",
    "    symbolline = process.extractOne(unidecode(symbol), line_list)\n",
    "    \n",
    "    if symbolline != None:\n",
    "        line_number = line_list.index(symbolline[0])\n",
    "        return (line_number, unidecode(symbolline[0]))\n",
    "        "
   ]
  },
  {
   "cell_type": "code",
   "execution_count": 35,
   "metadata": {
    "collapsed": false
   },
   "outputs": [
    {
     "data": {
      "text/plain": [
       "[u'',\n",
       " u'LEAGUE OF NATIONS.',\n",
       " u'',\n",
       " u'C.476.1930.X.',\n",
       " u'',\n",
       " u'Geneva, September 6th, 1930,',\n",
       " u'',\n",
       " u'CONTRIBUTIONS IN ARREARS.',\n",
       " u'',\n",
       " u'the Cuban Representative. ']"
      ]
     },
     "execution_count": 35,
     "metadata": {},
     "output_type": "execute_result"
    }
   ],
   "source": [
    "test_1"
   ]
  },
  {
   "cell_type": "code",
   "execution_count": null,
   "metadata": {
    "collapsed": true
   },
   "outputs": [],
   "source": [
    "test_1.index()"
   ]
  },
  {
   "cell_type": "code",
   "execution_count": 36,
   "metadata": {
    "collapsed": false
   },
   "outputs": [
    {
     "name": "stdout",
     "output_type": "stream",
     "text": [
      "(3, 'C.476.1930.X.')\n",
      "-----------------\n",
      "(3, '0.86.1935.VII.')\n",
      "-----------------\n",
      "(3, 'Gcmnunlcated to the C. 623. M. 295.1933. VII.')\n"
     ]
    },
    {
     "name": "stderr",
     "output_type": "stream",
     "text": [
      "/Users/johnkeating/anaconda/lib/python2.7/site-packages/ipykernel/__main__.py:13: RuntimeWarning: Argument <type 'str'> is not an unicode object. Passing an encoded string will likely have unexpected results.\n",
      "/Users/johnkeating/anaconda/lib/python2.7/site-packages/ipykernel/__main__.py:17: RuntimeWarning: Argument <type 'str'> is not an unicode object. Passing an encoded string will likely have unexpected results.\n"
     ]
    }
   ],
   "source": [
    "# let's test this function out\n",
    "\n",
    "test_1 = doc_list[0]['body_en']\n",
    "symbol_1 = unidecode(doc_list[0]['symbol'])\n",
    "test_2 = doc_list[300]['body_en']\n",
    "symbol_2 = unidecode(doc_list[300]['symbol'])\n",
    "test_3 = doc_list[2000]['body_en']\n",
    "symbol_3 = symbol_2 = unidecode(doc_list[2000]['symbol'])\n",
    "\n",
    "print find_symbol_line(test_1, symbol_1)\n",
    "print '-----------------'\n",
    "print find_symbol_line(test_2, symbol_2)\n",
    "print '-----------------'\n",
    "print find_symbol_line(test_3, symbol_3)"
   ]
  },
  {
   "cell_type": "code",
   "execution_count": 39,
   "metadata": {
    "collapsed": false
   },
   "outputs": [],
   "source": [
    "def add_symbolline_to_docs(doc_list):\n",
    "    '''\n",
    "    \n",
    "    '''\n",
    "    for doc in doc_list:\n",
    "        line_list = doc['body_en']\n",
    "        symbol = doc['symbol']\n",
    "        \n",
    "        symbolline = find_symbol_line(line_list, symbol)\n",
    "        \n",
    "        if symbolline == None:\n",
    "            pass\n",
    "            \n",
    "        elif len(symbolline[1]) < 3:\n",
    "            pass\n",
    "        \n",
    "        else:\n",
    "            doc['symbolline'] = symbolline\n",
    "    \n",
    "    return doc_list"
   ]
  },
  {
   "cell_type": "code",
   "execution_count": 40,
   "metadata": {
    "collapsed": false
   },
   "outputs": [
    {
     "name": "stderr",
     "output_type": "stream",
     "text": [
      "/Users/johnkeating/anaconda/lib/python2.7/site-packages/ipykernel/__main__.py:17: RuntimeWarning: Argument <type 'str'> is not an unicode object. Passing an encoded string will likely have unexpected results.\n"
     ]
    }
   ],
   "source": [
    "doc_list_symbolline = add_symbolline_to_docs(doc_list_dateline)"
   ]
  },
  {
   "cell_type": "code",
   "execution_count": 42,
   "metadata": {
    "collapsed": false
   },
   "outputs": [
    {
     "name": "stdout",
     "output_type": "stream",
     "text": [
      "(3, 'C.476.1930.X.')\n",
      "(5, 'Official No. : C. S55. M. 226. 1931. IX. ')\n"
     ]
    },
    {
     "ename": "KeyError",
     "evalue": "'symbolline'",
     "output_type": "error",
     "traceback": [
      "\u001b[0;31m---------------------------------------------------------------------------\u001b[0m",
      "\u001b[0;31mKeyError\u001b[0m                                  Traceback (most recent call last)",
      "\u001b[0;32m<ipython-input-42-25eeff3aa57a>\u001b[0m in \u001b[0;36m<module>\u001b[0;34m()\u001b[0m\n\u001b[1;32m      1\u001b[0m \u001b[0;32mprint\u001b[0m \u001b[0mdoc_list_symbolline\u001b[0m\u001b[0;34m[\u001b[0m\u001b[0;36m0\u001b[0m\u001b[0;34m]\u001b[0m\u001b[0;34m[\u001b[0m\u001b[0;34m'symbolline'\u001b[0m\u001b[0;34m]\u001b[0m\u001b[0;34m\u001b[0m\u001b[0m\n\u001b[1;32m      2\u001b[0m \u001b[0;32mprint\u001b[0m \u001b[0mdoc_list_symbolline\u001b[0m\u001b[0;34m[\u001b[0m\u001b[0;36m3333\u001b[0m\u001b[0;34m]\u001b[0m\u001b[0;34m[\u001b[0m\u001b[0;34m'symbolline'\u001b[0m\u001b[0;34m]\u001b[0m\u001b[0;34m\u001b[0m\u001b[0m\n\u001b[0;32m----> 3\u001b[0;31m \u001b[0;32mprint\u001b[0m \u001b[0mdoc_list_symbolline\u001b[0m\u001b[0;34m[\u001b[0m\u001b[0;36m360\u001b[0m\u001b[0;34m]\u001b[0m\u001b[0;34m[\u001b[0m\u001b[0;34m'symbolline'\u001b[0m\u001b[0;34m]\u001b[0m\u001b[0;34m\u001b[0m\u001b[0m\n\u001b[0m\u001b[1;32m      4\u001b[0m \u001b[0;32mprint\u001b[0m \u001b[0mdoc_list_symbolline\u001b[0m\u001b[0;34m[\u001b[0m\u001b[0;36m450\u001b[0m\u001b[0;34m]\u001b[0m\u001b[0;34m[\u001b[0m\u001b[0;34m'symbolline'\u001b[0m\u001b[0;34m]\u001b[0m\u001b[0;34m\u001b[0m\u001b[0m\n",
      "\u001b[0;31mKeyError\u001b[0m: 'symbolline'"
     ]
    }
   ],
   "source": [
    "print doc_list_symbolline[0]['symbolline']\n",
    "print doc_list_symbolline[3333]['symbolline']\n",
    "print doc_list_symbolline[360]['symbolline']\n",
    "print doc_list_symbolline[450]['symbolline']"
   ]
  },
  {
   "cell_type": "code",
   "execution_count": 43,
   "metadata": {
    "collapsed": false
   },
   "outputs": [
    {
     "name": "stdout",
     "output_type": "stream",
     "text": [
      "11868\n",
      "50\n",
      "11918\n"
     ]
    }
   ],
   "source": [
    "no_symbolline = 0\n",
    "has_symbolline = 0\n",
    "\n",
    "for doc in doc_list_symbolline:\n",
    "    if 'symbolline' in doc.keys():\n",
    "        has_symbolline += 1\n",
    "    else:\n",
    "        no_symbolline += 1\n",
    "\n",
    "print has_symbolline\n",
    "print no_symbolline\n",
    "print has_symbolline + no_symbolline"
   ]
  },
  {
   "cell_type": "code",
   "execution_count": null,
   "metadata": {
    "collapsed": true
   },
   "outputs": [],
   "source": []
  },
  {
   "cell_type": "code",
   "execution_count": 44,
   "metadata": {
    "collapsed": false
   },
   "outputs": [
    {
     "data": {
      "text/plain": [
       "{u'body_en': [u'',\n",
       "  u'LEAGUE OF NATIONS.',\n",
       "  u'',\n",
       "  u'C.476.1930.X.',\n",
       "  u'',\n",
       "  u'Geneva, September 6th, 1930,',\n",
       "  u'',\n",
       "  u'CONTRIBUTIONS IN ARREARS.',\n",
       "  u'',\n",
       "  u'the Cuban Representative. '],\n",
       " 'dateline': [(5, 'Geneva,September6th,1930,')],\n",
       " u'publicationDate': u'1930-01-01T00:00:01Z',\n",
       " u'symbol': u'C.476.1930.X',\n",
       " 'symbolline': (3, 'C.476.1930.X.')}"
      ]
     },
     "execution_count": 44,
     "metadata": {},
     "output_type": "execute_result"
    }
   ],
   "source": [
    "doc_list_symbolline[0]"
   ]
  },
  {
   "cell_type": "raw",
   "metadata": {},
   "source": [
    "indices = 0, 2\n",
    "somelist = [i for j, i in enumerate(somelist) if j not in indices]"
   ]
  },
  {
   "cell_type": "code",
   "execution_count": 51,
   "metadata": {
    "collapsed": false
   },
   "outputs": [
    {
     "data": {
      "text/plain": [
       "[u'',\n",
       " u'LEAGUE OF NATIONS.',\n",
       " u'',\n",
       " u'',\n",
       " u'CONTRIBUTIONS IN ARREARS.',\n",
       " u'',\n",
       " u'the Cuban Representative. ']"
      ]
     },
     "execution_count": 51,
     "metadata": {},
     "output_type": "execute_result"
    }
   ],
   "source": [
    "indices = 3,4\n",
    "[i for j, i in enumerate(test_1) if j not in indices]"
   ]
  },
  {
   "cell_type": "code",
   "execution_count": 54,
   "metadata": {
    "collapsed": false
   },
   "outputs": [
    {
     "data": {
      "text/plain": [
       "[[u'', 'other'],\n",
       " [u'LEAGUE OF NATIONS.', 'other'],\n",
       " [u'', 'other'],\n",
       " [u'', 'other'],\n",
       " [u'Geneva, September 6th, 1930,', 'other'],\n",
       " [u'', 'other'],\n",
       " [u'CONTRIBUTIONS IN ARREARS.', 'other'],\n",
       " [u'', 'other'],\n",
       " [u'the Cuban Representative. ', 'other']]"
      ]
     },
     "execution_count": 54,
     "metadata": {},
     "output_type": "execute_result"
    }
   ],
   "source": [
    "test_list = []\n",
    "for i in test_1:\n",
    "    test_list.append([i,'other'])\n",
    "\n",
    "test_list"
   ]
  },
  {
   "cell_type": "code",
   "execution_count": 64,
   "metadata": {
    "collapsed": false
   },
   "outputs": [
    {
     "data": {
      "text/plain": [
       "[u'',\n",
       " u'LEAGUE OF NATIONS.',\n",
       " u'',\n",
       " u'',\n",
       " u'Geneva, September 6th, 1930,',\n",
       " u'',\n",
       " u'CONTRIBUTIONS IN ARREARS.',\n",
       " u'',\n",
       " u'the Cuban Representative. ']"
      ]
     },
     "execution_count": 64,
     "metadata": {},
     "output_type": "execute_result"
    }
   ],
   "source": [
    "test_1"
   ]
  },
  {
   "cell_type": "code",
   "execution_count": 77,
   "metadata": {
    "collapsed": false
   },
   "outputs": [],
   "source": [
    "def label_lines(line_list, symbol, symbolline, dateline):\n",
    "    \n",
    "    symbol = unidecode(symbol)\n",
    "    \n",
    "    label_list = []\n",
    "    \n",
    "    rm_lines = [symbolline[0], dateline[0]]\n",
    "    \n",
    "    other_lines = [i for j, i in enumerate(line_list) if j not in rm_lines]\n",
    "    \n",
    "    no_empties = [i for i in other_lines if i != '']\n",
    "    \n",
    "    label_list.append([symbol, symbolline[1], 'symbolline'])\n",
    "    \n",
    "    label_list.append([symbol, dateline[1], 'dateline'])\n",
    "    \n",
    "    for line in no_empties:\n",
    "        label_list.append([symbol, unidecode(line),'other'])\n",
    "    \n",
    "    return label_list"
   ]
  },
  {
   "cell_type": "code",
   "execution_count": 69,
   "metadata": {
    "collapsed": false
   },
   "outputs": [
    {
     "data": {
      "text/plain": [
       "[u'',\n",
       " u'LEAGUE OF NATIONS.',\n",
       " u'',\n",
       " u'',\n",
       " u'Geneva, September 6th, 1930,',\n",
       " u'',\n",
       " u'CONTRIBUTIONS IN ARREARS.',\n",
       " u'',\n",
       " u'the Cuban Representative. ']"
      ]
     },
     "execution_count": 69,
     "metadata": {},
     "output_type": "execute_result"
    }
   ],
   "source": [
    "test_1 = doc_list[0]['body_en']\n",
    "test_1"
   ]
  },
  {
   "cell_type": "code",
   "execution_count": 70,
   "metadata": {
    "collapsed": false
   },
   "outputs": [
    {
     "name": "stderr",
     "output_type": "stream",
     "text": [
      "/Users/johnkeating/anaconda/lib/python2.7/site-packages/ipykernel/__main__.py:7: RuntimeWarning: Argument <type 'str'> is not an unicode object. Passing an encoded string will likely have unexpected results.\n"
     ]
    },
    {
     "data": {
      "text/plain": [
       "[['C.476.1930.X.', 'C.476.1930.X.', 'symbolline'],\n",
       " ['C.476.1930.X.', 'Geneva,September6th,1930,', 'dateline'],\n",
       " ['C.476.1930.X.', 'LEAGUE OF NATIONS.', 'other'],\n",
       " ['C.476.1930.X.', 'CONTRIBUTIONS IN ARREARS.', 'other'],\n",
       " ['C.476.1930.X.', 'the Cuban Representative. ', 'other']]"
      ]
     },
     "execution_count": 70,
     "metadata": {},
     "output_type": "execute_result"
    }
   ],
   "source": [
    "label_lines(test_1, 'C.476.1930.X.',(3, 'C.476.1930.X.'),[(4, 'Geneva,September6th,1930,')])"
   ]
  },
  {
   "cell_type": "code",
   "execution_count": null,
   "metadata": {
    "collapsed": true
   },
   "outputs": [],
   "source": [
    "test_2 = doc_list[300]['body_en']"
   ]
  },
  {
   "cell_type": "code",
   "execution_count": 73,
   "metadata": {
    "collapsed": false
   },
   "outputs": [],
   "source": [
    "test_label_list = label_lines(doc_list[300]['body_en'], doc_list[300]['symbol'], doc_list[300]['symbolline'],doc_list[300]['dateline'])"
   ]
  },
  {
   "cell_type": "code",
   "execution_count": 74,
   "metadata": {
    "collapsed": false
   },
   "outputs": [
    {
     "data": {
      "text/html": [
       "<div>\n",
       "<table border=\"1\" class=\"dataframe\">\n",
       "  <thead>\n",
       "    <tr style=\"text-align: right;\">\n",
       "      <th></th>\n",
       "      <th>symbol</th>\n",
       "      <th>line</th>\n",
       "      <th>category</th>\n",
       "    </tr>\n",
       "  </thead>\n",
       "  <tbody>\n",
       "    <tr>\n",
       "      <th>0</th>\n",
       "      <td>C.86.1935.VII</td>\n",
       "      <td>0.86.1935.VII.</td>\n",
       "      <td>symbolline</td>\n",
       "    </tr>\n",
       "    <tr>\n",
       "      <th>1</th>\n",
       "      <td>C.86.1935.VII</td>\n",
       "      <td>theCouncil.Geneva,February1st,1935.</td>\n",
       "      <td>dateline</td>\n",
       "    </tr>\n",
       "    <tr>\n",
       "      <th>2</th>\n",
       "      <td>C.86.1935.VII</td>\n",
       "      <td>LEAGUE OF NATIONS</td>\n",
       "      <td>other</td>\n",
       "    </tr>\n",
       "    <tr>\n",
       "      <th>3</th>\n",
       "      <td>C.86.1935.VII</td>\n",
       "      <td>Communicated to</td>\n",
       "      <td>other</td>\n",
       "    </tr>\n",
       "    <tr>\n",
       "      <th>4</th>\n",
       "      <td>C.86.1935.VII</td>\n",
       "      <td>FREE CITY OF DANZIG</td>\n",
       "      <td>other</td>\n",
       "    </tr>\n",
       "  </tbody>\n",
       "</table>\n",
       "</div>"
      ],
      "text/plain": [
       "          symbol                                 line    category\n",
       "0  C.86.1935.VII                       0.86.1935.VII.  symbolline\n",
       "1  C.86.1935.VII  theCouncil.Geneva,February1st,1935.    dateline\n",
       "2  C.86.1935.VII                    LEAGUE OF NATIONS       other\n",
       "3  C.86.1935.VII                      Communicated to       other\n",
       "4  C.86.1935.VII                 FREE CITY OF DANZIG        other"
      ]
     },
     "execution_count": 74,
     "metadata": {},
     "output_type": "execute_result"
    }
   ],
   "source": [
    "pd.DataFrame(test_label_list, columns=['symbol', 'line', 'category'])"
   ]
  },
  {
   "cell_type": "code",
   "execution_count": 85,
   "metadata": {
    "collapsed": true
   },
   "outputs": [],
   "source": [
    "def create_labeled_data(doc_list):\n",
    "    '''\n",
    "    '''\n",
    "    \n",
    "    main_list = []\n",
    "    \n",
    "    for doc in doc_list:\n",
    "        if 'symbolline' in doc.keys() and 'dateline' in doc.keys():\n",
    "            if len(doc['dateline']) == 1:\n",
    "                \n",
    "                line_list = doc['body_en']\n",
    "                symbol = doc['symbol']\n",
    "                symbolline = doc['symbolline']\n",
    "                dateline = doc['dateline'][0]\n",
    "                \n",
    "                label_list = label_lines(line_list, symbol, symbolline, dateline)\n",
    "                \n",
    "                for i in label_list:\n",
    "                    main_list.append(i)\n",
    "    \n",
    "    return pd.DataFrame(main_list, columns=['symbol', 'line', 'type'])\n",
    "    "
   ]
  },
  {
   "cell_type": "code",
   "execution_count": null,
   "metadata": {
    "collapsed": true
   },
   "outputs": [],
   "source": []
  },
  {
   "cell_type": "code",
   "execution_count": 87,
   "metadata": {
    "collapsed": false
   },
   "outputs": [],
   "source": [
    "label_df = create_labeled_data(doc_list_symbolline)"
   ]
  },
  {
   "cell_type": "code",
   "execution_count": 89,
   "metadata": {
    "collapsed": false
   },
   "outputs": [],
   "source": [
    "label_df['line'] = label_df['line'].apply(lambda x: x.translate(None, whitespace))"
   ]
  },
  {
   "cell_type": "code",
   "execution_count": 90,
   "metadata": {
    "collapsed": false
   },
   "outputs": [
    {
     "data": {
      "text/html": [
       "<div>\n",
       "<table border=\"1\" class=\"dataframe\">\n",
       "  <thead>\n",
       "    <tr style=\"text-align: right;\">\n",
       "      <th></th>\n",
       "      <th>symbol</th>\n",
       "      <th>line</th>\n",
       "      <th>type</th>\n",
       "    </tr>\n",
       "  </thead>\n",
       "  <tbody>\n",
       "    <tr>\n",
       "      <th>0</th>\n",
       "      <td>C.476.1930.X</td>\n",
       "      <td>C.476.1930.X.</td>\n",
       "      <td>symbolline</td>\n",
       "    </tr>\n",
       "    <tr>\n",
       "      <th>1</th>\n",
       "      <td>C.476.1930.X</td>\n",
       "      <td>Geneva,September6th,1930,</td>\n",
       "      <td>dateline</td>\n",
       "    </tr>\n",
       "    <tr>\n",
       "      <th>2</th>\n",
       "      <td>C.476.1930.X</td>\n",
       "      <td>LEAGUEOFNATIONS.</td>\n",
       "      <td>other</td>\n",
       "    </tr>\n",
       "    <tr>\n",
       "      <th>3</th>\n",
       "      <td>C.476.1930.X</td>\n",
       "      <td>Geneva,September6th,1930,</td>\n",
       "      <td>other</td>\n",
       "    </tr>\n",
       "    <tr>\n",
       "      <th>4</th>\n",
       "      <td>C.476.1930.X</td>\n",
       "      <td>CONTRIBUTIONSINARREARS.</td>\n",
       "      <td>other</td>\n",
       "    </tr>\n",
       "  </tbody>\n",
       "</table>\n",
       "</div>"
      ],
      "text/plain": [
       "         symbol                       line        type\n",
       "0  C.476.1930.X              C.476.1930.X.  symbolline\n",
       "1  C.476.1930.X  Geneva,September6th,1930,    dateline\n",
       "2  C.476.1930.X           LEAGUEOFNATIONS.       other\n",
       "3  C.476.1930.X  Geneva,September6th,1930,       other\n",
       "4  C.476.1930.X    CONTRIBUTIONSINARREARS.       other"
      ]
     },
     "execution_count": 90,
     "metadata": {},
     "output_type": "execute_result"
    }
   ],
   "source": [
    "label_df.head()"
   ]
  },
  {
   "cell_type": "code",
   "execution_count": 98,
   "metadata": {
    "collapsed": true
   },
   "outputs": [],
   "source": [
    "label_df['line'] = label_df['line'].apply(lambda x: x.encode('utf-8'))"
   ]
  },
  {
   "cell_type": "code",
   "execution_count": 112,
   "metadata": {
    "collapsed": true
   },
   "outputs": [],
   "source": [
    "from sklearn.feature_extraction.text import TfidfVectorizer\n",
    "from sklearn.neighbors import KNeighborsClassifier\n",
    "from sklearn.cross_validation import train_test_split\n",
    "from sklearn.metrics import accuracy_score"
   ]
  },
  {
   "cell_type": "code",
   "execution_count": 110,
   "metadata": {
    "collapsed": true
   },
   "outputs": [],
   "source": [
    "%matplotlib inline\n",
    "import matplotlib as mlt\n",
    "import matplotlib.pyplot as plt"
   ]
  },
  {
   "cell_type": "code",
   "execution_count": 102,
   "metadata": {
    "collapsed": false
   },
   "outputs": [],
   "source": [
    "# turn each line into a vector\n",
    "\n",
    "vectorizer = TfidfVectorizer()\n",
    "\n",
    "text_list = list(label_df['line'])\n",
    "\n",
    "\n",
    "X = vectorizer.fit_transform(text_list)"
   ]
  },
  {
   "cell_type": "code",
   "execution_count": 105,
   "metadata": {
    "collapsed": false
   },
   "outputs": [],
   "source": [
    "type_dictionary = {'symbolline':2,\n",
    "                  'dateline':1,\n",
    "                  'other':0}"
   ]
  },
  {
   "cell_type": "code",
   "execution_count": 106,
   "metadata": {
    "collapsed": true
   },
   "outputs": [],
   "source": [
    "label_df['type_code'] = label_df['type'].map(type_dictionary)"
   ]
  },
  {
   "cell_type": "code",
   "execution_count": 107,
   "metadata": {
    "collapsed": false
   },
   "outputs": [
    {
     "data": {
      "text/html": [
       "<div>\n",
       "<table border=\"1\" class=\"dataframe\">\n",
       "  <thead>\n",
       "    <tr style=\"text-align: right;\">\n",
       "      <th></th>\n",
       "      <th>symbol</th>\n",
       "      <th>line</th>\n",
       "      <th>type</th>\n",
       "      <th>type_code</th>\n",
       "    </tr>\n",
       "  </thead>\n",
       "  <tbody>\n",
       "    <tr>\n",
       "      <th>0</th>\n",
       "      <td>C.476.1930.X</td>\n",
       "      <td>C.476.1930.X.</td>\n",
       "      <td>symbolline</td>\n",
       "      <td>2</td>\n",
       "    </tr>\n",
       "    <tr>\n",
       "      <th>1</th>\n",
       "      <td>C.476.1930.X</td>\n",
       "      <td>Geneva,September6th,1930,</td>\n",
       "      <td>dateline</td>\n",
       "      <td>1</td>\n",
       "    </tr>\n",
       "    <tr>\n",
       "      <th>2</th>\n",
       "      <td>C.476.1930.X</td>\n",
       "      <td>LEAGUEOFNATIONS.</td>\n",
       "      <td>other</td>\n",
       "      <td>0</td>\n",
       "    </tr>\n",
       "    <tr>\n",
       "      <th>3</th>\n",
       "      <td>C.476.1930.X</td>\n",
       "      <td>Geneva,September6th,1930,</td>\n",
       "      <td>other</td>\n",
       "      <td>0</td>\n",
       "    </tr>\n",
       "    <tr>\n",
       "      <th>4</th>\n",
       "      <td>C.476.1930.X</td>\n",
       "      <td>CONTRIBUTIONSINARREARS.</td>\n",
       "      <td>other</td>\n",
       "      <td>0</td>\n",
       "    </tr>\n",
       "  </tbody>\n",
       "</table>\n",
       "</div>"
      ],
      "text/plain": [
       "         symbol                       line        type  type_code\n",
       "0  C.476.1930.X              C.476.1930.X.  symbolline          2\n",
       "1  C.476.1930.X  Geneva,September6th,1930,    dateline          1\n",
       "2  C.476.1930.X           LEAGUEOFNATIONS.       other          0\n",
       "3  C.476.1930.X  Geneva,September6th,1930,       other          0\n",
       "4  C.476.1930.X    CONTRIBUTIONSINARREARS.       other          0"
      ]
     },
     "execution_count": 107,
     "metadata": {},
     "output_type": "execute_result"
    }
   ],
   "source": [
    "label_df.head()"
   ]
  },
  {
   "cell_type": "code",
   "execution_count": 108,
   "metadata": {
    "collapsed": true
   },
   "outputs": [],
   "source": [
    "Y = label_df['type']"
   ]
  },
  {
   "cell_type": "code",
   "execution_count": 131,
   "metadata": {
    "collapsed": true
   },
   "outputs": [],
   "source": [
    "X_train, X_test, Y_train, Y_test = train_test_split(X,Y, test_size=.30, random_state=4444)"
   ]
  },
  {
   "cell_type": "code",
   "execution_count": 119,
   "metadata": {
    "collapsed": false,
    "scrolled": false
   },
   "outputs": [
    {
     "name": "stdout",
     "output_type": "stream",
     "text": [
      "KNN (n=1) accuracy: 0.6302\n",
      "KNN (n=2) accuracy: 0.8425\n",
      "KNN (n=3) accuracy: 0.8709\n",
      "KNN (n=4) accuracy: 0.6285\n",
      "KNN (n=5) accuracy: 0.6506\n",
      "KNN (n=6) accuracy: 0.6268\n",
      "KNN (n=7) accuracy: 0.6445\n",
      "KNN (n=8) accuracy: 0.6311\n",
      "KNN (n=9) accuracy: 0.6513\n",
      "KNN (n=10) accuracy: 0.6398\n",
      "KNN (n=11) accuracy: 0.6667\n",
      "KNN (n=12) accuracy: 0.6472\n",
      "KNN (n=13) accuracy: 0.8788\n",
      "KNN (n=14) accuracy: 0.8811\n",
      "KNN (n=15) accuracy: 0.8827\n",
      "KNN (n=16) accuracy: 0.8836\n",
      "KNN (n=17) accuracy: 0.8853\n",
      "KNN (n=18) accuracy: 0.8849\n",
      "KNN (n=19) accuracy: 0.8853\n",
      "-----------------------\n",
      "KNN max accuracy: 0.8853\n"
     ]
    },
    {
     "data": {
      "text/plain": [
       "<matplotlib.text.Text at 0x10d03b390>"
      ]
     },
     "execution_count": 119,
     "metadata": {},
     "output_type": "execute_result"
    },
    {
     "data": {
      "image/png": "[encoded data removed]",
      "text/plain": [
       "<matplotlib.figure.Figure at 0x10a6d2190>"
      ]
     },
     "metadata": {},
     "output_type": "display_data"
    }
   ],
   "source": [
    "accs = []\n",
    "for n in range(1,20):\n",
    "    model = KNeighborsClassifier(n_neighbors=n, metric='cosine', algorithm='brute').fit(X_train,Y_train)\n",
    "    y_test_pred = model.predict(X_test)\n",
    "    accuracy = accuracy_score(Y_test, y_test_pred)\n",
    "    accs.append(accuracy)\n",
    "    print 'KNN (n=%i) accuracy: %.4f' % (n,accuracy)\n",
    "\n",
    "print '-----------------------'\n",
    "print 'KNN max accuracy: %.4f' % max(accs)\n",
    "plt.plot(range(1,20), accs)\n",
    "plt.xlabel('k neighbors')\n",
    "plt.ylabel('Accuracy')\n"
   ]
  },
  {
   "cell_type": "code",
   "execution_count": 120,
   "metadata": {
    "collapsed": false
   },
   "outputs": [
    {
     "name": "stdout",
     "output_type": "stream",
     "text": [
      "Decision Tree accuracy: 0.8969\n"
     ]
    }
   ],
   "source": [
    "from sklearn.tree import DecisionTreeClassifier\n",
    "model = DecisionTreeClassifier().fit(X_train, Y_train)\n",
    "Y_test_pred = model.predict(X_test)\n",
    "print 'Decision Tree accuracy: %.4f' % accuracy_score(Y_test, Y_test_pred)"
   ]
  },
  {
   "cell_type": "code",
   "execution_count": 121,
   "metadata": {
    "collapsed": false
   },
   "outputs": [
    {
     "name": "stdout",
     "output_type": "stream",
     "text": [
      "SVM Classifier accuracy: 0.6416\n"
     ]
    }
   ],
   "source": [
    "from sklearn.svm import SVC\n",
    "model = SVC().fit(X_train, Y_train)\n",
    "Y_test_pred = model.predict(X_test)\n",
    "print 'SVM Classifier accuracy: %.4f' % accuracy_score(Y_test, Y_test_pred)"
   ]
  },
  {
   "cell_type": "code",
   "execution_count": 122,
   "metadata": {
    "collapsed": false
   },
   "outputs": [
    {
     "name": "stdout",
     "output_type": "stream",
     "text": [
      "Random Forest accuracy: 0.8997\n"
     ]
    }
   ],
   "source": [
    "from sklearn.ensemble import RandomForestClassifier\n",
    "model = RandomForestClassifier().fit(X_train, Y_train)\n",
    "Y_test_pred = model.predict(X_test)\n",
    "print 'Random Forest accuracy: %.4f' % accuracy_score(Y_test, Y_test_pred)"
   ]
  },
  {
   "cell_type": "code",
   "execution_count": 123,
   "metadata": {
    "collapsed": true
   },
   "outputs": [],
   "source": [
    "binary_code_dict = {'symbolline':0,\n",
    "                  'dateline':1,\n",
    "                  'other':0}"
   ]
  },
  {
   "cell_type": "code",
   "execution_count": 124,
   "metadata": {
    "collapsed": true
   },
   "outputs": [],
   "source": [
    "label_df['binary_code'] = label_df['type'].map(binary_code_dict)"
   ]
  },
  {
   "cell_type": "code",
   "execution_count": 125,
   "metadata": {
    "collapsed": false
   },
   "outputs": [
    {
     "data": {
      "text/html": [
       "<div>\n",
       "<table border=\"1\" class=\"dataframe\">\n",
       "  <thead>\n",
       "    <tr style=\"text-align: right;\">\n",
       "      <th></th>\n",
       "      <th>symbol</th>\n",
       "      <th>line</th>\n",
       "      <th>type</th>\n",
       "      <th>type_code</th>\n",
       "      <th>binary_code</th>\n",
       "    </tr>\n",
       "  </thead>\n",
       "  <tbody>\n",
       "    <tr>\n",
       "      <th>0</th>\n",
       "      <td>C.476.1930.X</td>\n",
       "      <td>C.476.1930.X.</td>\n",
       "      <td>symbolline</td>\n",
       "      <td>2</td>\n",
       "      <td>0</td>\n",
       "    </tr>\n",
       "    <tr>\n",
       "      <th>1</th>\n",
       "      <td>C.476.1930.X</td>\n",
       "      <td>Geneva,September6th,1930,</td>\n",
       "      <td>dateline</td>\n",
       "      <td>1</td>\n",
       "      <td>1</td>\n",
       "    </tr>\n",
       "    <tr>\n",
       "      <th>2</th>\n",
       "      <td>C.476.1930.X</td>\n",
       "      <td>LEAGUEOFNATIONS.</td>\n",
       "      <td>other</td>\n",
       "      <td>0</td>\n",
       "      <td>0</td>\n",
       "    </tr>\n",
       "    <tr>\n",
       "      <th>3</th>\n",
       "      <td>C.476.1930.X</td>\n",
       "      <td>Geneva,September6th,1930,</td>\n",
       "      <td>other</td>\n",
       "      <td>0</td>\n",
       "      <td>0</td>\n",
       "    </tr>\n",
       "    <tr>\n",
       "      <th>4</th>\n",
       "      <td>C.476.1930.X</td>\n",
       "      <td>CONTRIBUTIONSINARREARS.</td>\n",
       "      <td>other</td>\n",
       "      <td>0</td>\n",
       "      <td>0</td>\n",
       "    </tr>\n",
       "  </tbody>\n",
       "</table>\n",
       "</div>"
      ],
      "text/plain": [
       "         symbol                       line        type  type_code  binary_code\n",
       "0  C.476.1930.X              C.476.1930.X.  symbolline          2            0\n",
       "1  C.476.1930.X  Geneva,September6th,1930,    dateline          1            1\n",
       "2  C.476.1930.X           LEAGUEOFNATIONS.       other          0            0\n",
       "3  C.476.1930.X  Geneva,September6th,1930,       other          0            0\n",
       "4  C.476.1930.X    CONTRIBUTIONSINARREARS.       other          0            0"
      ]
     },
     "execution_count": 125,
     "metadata": {},
     "output_type": "execute_result"
    }
   ],
   "source": [
    "label_df.head()"
   ]
  },
  {
   "cell_type": "code",
   "execution_count": 126,
   "metadata": {
    "collapsed": true
   },
   "outputs": [],
   "source": [
    "y_2 = label_df['binary_code']"
   ]
  },
  {
   "cell_type": "code",
   "execution_count": 133,
   "metadata": {
    "collapsed": true
   },
   "outputs": [],
   "source": [
    "X_train, X_test, Y_train, Y_test = train_test_split(X,y_2, test_size=.30, random_state=4444)"
   ]
  },
  {
   "cell_type": "code",
   "execution_count": 138,
   "metadata": {
    "collapsed": false,
    "scrolled": true
   },
   "outputs": [
    {
     "name": "stderr",
     "output_type": "stream",
     "text": [
      "/Users/johnkeating/anaconda/lib/python2.7/site-packages/ipykernel/__main__.py:3: DeprecationWarning: Passing additional arguments to the metric function as **kwargs is deprecated and will no longer be supported in 0.18. Use metric_params instead.\n",
      "  app.launch_new_instance()\n"
     ]
    },
    {
     "ename": "TypeError",
     "evalue": "cosine_distances() got an unexpected keyword argument 'analyzer'",
     "output_type": "error",
     "traceback": [
      "\u001b[0;31m---------------------------------------------------------------------------\u001b[0m",
      "\u001b[0;31mTypeError\u001b[0m                                 Traceback (most recent call last)",
      "\u001b[0;32m<ipython-input-138-20a00d7e1447>\u001b[0m in \u001b[0;36m<module>\u001b[0;34m()\u001b[0m\n\u001b[1;32m      2\u001b[0m \u001b[0;32mfor\u001b[0m \u001b[0mn\u001b[0m \u001b[0;32min\u001b[0m \u001b[0mrange\u001b[0m\u001b[0;34m(\u001b[0m\u001b[0;36m1\u001b[0m\u001b[0;34m,\u001b[0m\u001b[0;36m20\u001b[0m\u001b[0;34m)\u001b[0m\u001b[0;34m:\u001b[0m\u001b[0;34m\u001b[0m\u001b[0m\n\u001b[1;32m      3\u001b[0m     \u001b[0mmodel\u001b[0m \u001b[0;34m=\u001b[0m \u001b[0mKNeighborsClassifier\u001b[0m\u001b[0;34m(\u001b[0m\u001b[0mn_neighbors\u001b[0m\u001b[0;34m=\u001b[0m\u001b[0mn\u001b[0m\u001b[0;34m,\u001b[0m \u001b[0mmetric\u001b[0m\u001b[0;34m=\u001b[0m\u001b[0;34m'cosine'\u001b[0m\u001b[0;34m,\u001b[0m\u001b[0manalyzer\u001b[0m\u001b[0;34m=\u001b[0m\u001b[0;34m'char'\u001b[0m\u001b[0;34m,\u001b[0m \u001b[0malgorithm\u001b[0m\u001b[0;34m=\u001b[0m\u001b[0;34m'brute'\u001b[0m\u001b[0;34m)\u001b[0m\u001b[0;34m.\u001b[0m\u001b[0mfit\u001b[0m\u001b[0;34m(\u001b[0m\u001b[0mX_train\u001b[0m\u001b[0;34m,\u001b[0m\u001b[0mY_train\u001b[0m\u001b[0;34m)\u001b[0m\u001b[0;34m\u001b[0m\u001b[0m\n\u001b[0;32m----> 4\u001b[0;31m     \u001b[0my_test_pred\u001b[0m \u001b[0;34m=\u001b[0m \u001b[0mmodel\u001b[0m\u001b[0;34m.\u001b[0m\u001b[0mpredict\u001b[0m\u001b[0;34m(\u001b[0m\u001b[0mX_test\u001b[0m\u001b[0;34m)\u001b[0m\u001b[0;34m\u001b[0m\u001b[0m\n\u001b[0m\u001b[1;32m      5\u001b[0m     \u001b[0maccuracy\u001b[0m \u001b[0;34m=\u001b[0m \u001b[0maccuracy_score\u001b[0m\u001b[0;34m(\u001b[0m\u001b[0mY_test\u001b[0m\u001b[0;34m,\u001b[0m \u001b[0my_test_pred\u001b[0m\u001b[0;34m)\u001b[0m\u001b[0;34m\u001b[0m\u001b[0m\n\u001b[1;32m      6\u001b[0m     \u001b[0maccs\u001b[0m\u001b[0;34m.\u001b[0m\u001b[0mappend\u001b[0m\u001b[0;34m(\u001b[0m\u001b[0maccuracy\u001b[0m\u001b[0;34m)\u001b[0m\u001b[0;34m\u001b[0m\u001b[0m\n",
      "\u001b[0;32m/Users/johnkeating/anaconda/lib/python2.7/site-packages/sklearn/neighbors/classification.pyc\u001b[0m in \u001b[0;36mpredict\u001b[0;34m(self, X)\u001b[0m\n\u001b[1;32m    136\u001b[0m         \u001b[0mX\u001b[0m \u001b[0;34m=\u001b[0m \u001b[0mcheck_array\u001b[0m\u001b[0;34m(\u001b[0m\u001b[0mX\u001b[0m\u001b[0;34m,\u001b[0m \u001b[0maccept_sparse\u001b[0m\u001b[0;34m=\u001b[0m\u001b[0;34m'csr'\u001b[0m\u001b[0;34m)\u001b[0m\u001b[0;34m\u001b[0m\u001b[0m\n\u001b[1;32m    137\u001b[0m \u001b[0;34m\u001b[0m\u001b[0m\n\u001b[0;32m--> 138\u001b[0;31m         \u001b[0mneigh_dist\u001b[0m\u001b[0;34m,\u001b[0m \u001b[0mneigh_ind\u001b[0m \u001b[0;34m=\u001b[0m \u001b[0mself\u001b[0m\u001b[0;34m.\u001b[0m\u001b[0mkneighbors\u001b[0m\u001b[0;34m(\u001b[0m\u001b[0mX\u001b[0m\u001b[0;34m)\u001b[0m\u001b[0;34m\u001b[0m\u001b[0m\n\u001b[0m\u001b[1;32m    139\u001b[0m \u001b[0;34m\u001b[0m\u001b[0m\n\u001b[1;32m    140\u001b[0m         \u001b[0mclasses_\u001b[0m \u001b[0;34m=\u001b[0m \u001b[0mself\u001b[0m\u001b[0;34m.\u001b[0m\u001b[0mclasses_\u001b[0m\u001b[0;34m\u001b[0m\u001b[0m\n",
      "\u001b[0;32m/Users/johnkeating/anaconda/lib/python2.7/site-packages/sklearn/neighbors/base.pyc\u001b[0m in \u001b[0;36mkneighbors\u001b[0;34m(self, X, n_neighbors, return_distance)\u001b[0m\n\u001b[1;32m    350\u001b[0m                 dist = pairwise_distances(X, self._fit_X,\n\u001b[1;32m    351\u001b[0m                                           \u001b[0mself\u001b[0m\u001b[0;34m.\u001b[0m\u001b[0meffective_metric_\u001b[0m\u001b[0;34m,\u001b[0m\u001b[0;34m\u001b[0m\u001b[0m\n\u001b[0;32m--> 352\u001b[0;31m                                           **self.effective_metric_params_)\n\u001b[0m\u001b[1;32m    353\u001b[0m \u001b[0;34m\u001b[0m\u001b[0m\n\u001b[1;32m    354\u001b[0m             \u001b[0mneigh_ind\u001b[0m \u001b[0;34m=\u001b[0m \u001b[0margpartition\u001b[0m\u001b[0;34m(\u001b[0m\u001b[0mdist\u001b[0m\u001b[0;34m,\u001b[0m \u001b[0mn_neighbors\u001b[0m \u001b[0;34m-\u001b[0m \u001b[0;36m1\u001b[0m\u001b[0;34m,\u001b[0m \u001b[0maxis\u001b[0m\u001b[0;34m=\u001b[0m\u001b[0;36m1\u001b[0m\u001b[0;34m)\u001b[0m\u001b[0;34m\u001b[0m\u001b[0m\n",
      "\u001b[0;32m/Users/johnkeating/anaconda/lib/python2.7/site-packages/sklearn/metrics/pairwise.pyc\u001b[0m in \u001b[0;36mpairwise_distances\u001b[0;34m(X, Y, metric, n_jobs, **kwds)\u001b[0m\n\u001b[1;32m   1108\u001b[0m         \u001b[0mfunc\u001b[0m \u001b[0;34m=\u001b[0m \u001b[0mpartial\u001b[0m\u001b[0;34m(\u001b[0m\u001b[0mdistance\u001b[0m\u001b[0;34m.\u001b[0m\u001b[0mcdist\u001b[0m\u001b[0;34m,\u001b[0m \u001b[0mmetric\u001b[0m\u001b[0;34m=\u001b[0m\u001b[0mmetric\u001b[0m\u001b[0;34m,\u001b[0m \u001b[0;34m**\u001b[0m\u001b[0mkwds\u001b[0m\u001b[0;34m)\u001b[0m\u001b[0;34m\u001b[0m\u001b[0m\n\u001b[1;32m   1109\u001b[0m \u001b[0;34m\u001b[0m\u001b[0m\n\u001b[0;32m-> 1110\u001b[0;31m     \u001b[0;32mreturn\u001b[0m \u001b[0m_parallel_pairwise\u001b[0m\u001b[0;34m(\u001b[0m\u001b[0mX\u001b[0m\u001b[0;34m,\u001b[0m \u001b[0mY\u001b[0m\u001b[0;34m,\u001b[0m \u001b[0mfunc\u001b[0m\u001b[0;34m,\u001b[0m \u001b[0mn_jobs\u001b[0m\u001b[0;34m,\u001b[0m \u001b[0;34m**\u001b[0m\u001b[0mkwds\u001b[0m\u001b[0;34m)\u001b[0m\u001b[0;34m\u001b[0m\u001b[0m\n\u001b[0m\u001b[1;32m   1111\u001b[0m \u001b[0;34m\u001b[0m\u001b[0m\n\u001b[1;32m   1112\u001b[0m \u001b[0;34m\u001b[0m\u001b[0m\n",
      "\u001b[0;32m/Users/johnkeating/anaconda/lib/python2.7/site-packages/sklearn/metrics/pairwise.pyc\u001b[0m in \u001b[0;36m_parallel_pairwise\u001b[0;34m(X, Y, func, n_jobs, **kwds)\u001b[0m\n\u001b[1;32m    958\u001b[0m     \u001b[0;32mif\u001b[0m \u001b[0mn_jobs\u001b[0m \u001b[0;34m==\u001b[0m \u001b[0;36m1\u001b[0m\u001b[0;34m:\u001b[0m\u001b[0;34m\u001b[0m\u001b[0m\n\u001b[1;32m    959\u001b[0m         \u001b[0;31m# Special case to avoid picklability checks in delayed\u001b[0m\u001b[0;34m\u001b[0m\u001b[0;34m\u001b[0m\u001b[0m\n\u001b[0;32m--> 960\u001b[0;31m         \u001b[0;32mreturn\u001b[0m \u001b[0mfunc\u001b[0m\u001b[0;34m(\u001b[0m\u001b[0mX\u001b[0m\u001b[0;34m,\u001b[0m \u001b[0mY\u001b[0m\u001b[0;34m,\u001b[0m \u001b[0;34m**\u001b[0m\u001b[0mkwds\u001b[0m\u001b[0;34m)\u001b[0m\u001b[0;34m\u001b[0m\u001b[0m\n\u001b[0m\u001b[1;32m    961\u001b[0m \u001b[0;34m\u001b[0m\u001b[0m\n\u001b[1;32m    962\u001b[0m     \u001b[0;31m# TODO: in some cases, backend='threading' may be appropriate\u001b[0m\u001b[0;34m\u001b[0m\u001b[0;34m\u001b[0m\u001b[0m\n",
      "\u001b[0;31mTypeError\u001b[0m: cosine_distances() got an unexpected keyword argument 'analyzer'"
     ]
    }
   ],
   "source": [
    " "
   ]
  },
  {
   "cell_type": "code",
   "execution_count": 130,
   "metadata": {
    "collapsed": false
   },
   "outputs": [
    {
     "name": "stdout",
     "output_type": "stream",
     "text": [
      "Naive Bayes (Gaussian) accuracy: 0.5539\n"
     ]
    }
   ],
   "source": [
    "\n",
    "from sklearn.naive_bayes import GaussianNB\n",
    "\n",
    "model = GaussianNB().fit(X_train.toarray(), Y_train)\n",
    "Y_test_pred = model.predict(X_test.toarray())\n",
    "print 'Naive Bayes (Gaussian) accuracy: %.4f' % accuracy_score(Y_test, Y_test_pred)"
   ]
  },
  {
   "cell_type": "code",
   "execution_count": 132,
   "metadata": {
    "collapsed": false
   },
   "outputs": [
    {
     "name": "stdout",
     "output_type": "stream",
     "text": [
      "Naive Bayes (Gaussian) accuracy: 0.4555\n"
     ]
    }
   ],
   "source": [
    "# this is with the three categories\n",
    "from sklearn.naive_bayes import GaussianNB\n",
    "\n",
    "model = GaussianNB().fit(X_train.toarray(), Y_train)\n",
    "Y_test_pred = model.predict(X_test.toarray())\n",
    "print 'Naive Bayes (Gaussian) accuracy: %.4f' % accuracy_score(Y_test, Y_test_pred)"
   ]
  },
  {
   "cell_type": "code",
   "execution_count": 134,
   "metadata": {
    "collapsed": false
   },
   "outputs": [
    {
     "name": "stdout",
     "output_type": "stream",
     "text": [
      "Decision Tree accuracy: 0.9614\n"
     ]
    }
   ],
   "source": [
    "# based on 2 way split\n",
    "from sklearn.tree import DecisionTreeClassifier\n",
    "model = DecisionTreeClassifier().fit(X_train, Y_train)\n",
    "Y_test_pred = model.predict(X_test)\n",
    "print 'Decision Tree accuracy: %.4f' % accuracy_score(Y_test, Y_test_pred)"
   ]
  },
  {
   "cell_type": "code",
   "execution_count": 135,
   "metadata": {
    "collapsed": false
   },
   "outputs": [
    {
     "name": "stdout",
     "output_type": "stream",
     "text": [
      "SVM Classifier accuracy: 0.8205\n"
     ]
    }
   ],
   "source": [
    "from sklearn.svm import SVC\n",
    "model = SVC().fit(X_train, Y_train)\n",
    "Y_test_pred = model.predict(X_test)\n",
    "print 'SVM Classifier accuracy: %.4f' % accuracy_score(Y_test, Y_test_pred)"
   ]
  },
  {
   "cell_type": "code",
   "execution_count": 136,
   "metadata": {
    "collapsed": false
   },
   "outputs": [
    {
     "name": "stdout",
     "output_type": "stream",
     "text": [
      "Random Forest accuracy: 0.9640\n"
     ]
    }
   ],
   "source": [
    "from sklearn.ensemble import RandomForestClassifier\n",
    "model = RandomForestClassifier().fit(X_train, Y_train)\n",
    "Y_test_pred = model.predict(X_test)\n",
    "print 'Random Forest accuracy: %.4f' % accuracy_score(Y_test, Y_test_pred)"
   ]
  },
  {
   "cell_type": "markdown",
   "metadata": {},
   "source": [
    "I just realized that the results might be biased towards Geneva because of I was searching based on words, which was the default. I changed it to characters below and see just how much the accuracy shot up. This was based on a binary search."
   ]
  },
  {
   "cell_type": "code",
   "execution_count": 139,
   "metadata": {
    "collapsed": true
   },
   "outputs": [],
   "source": [
    "vectorizer = TfidfVectorizer(analyzer='char')\n",
    "\n",
    "text_list = list(label_df['line'])\n",
    "\n",
    "\n",
    "X = vectorizer.fit_transform(text_list)"
   ]
  },
  {
   "cell_type": "code",
   "execution_count": 140,
   "metadata": {
    "collapsed": true
   },
   "outputs": [],
   "source": [
    "X_train, X_test, Y_train, Y_test = train_test_split(X,y_2, test_size=.30, random_state=4444)"
   ]
  },
  {
   "cell_type": "code",
   "execution_count": 141,
   "metadata": {
    "collapsed": false
   },
   "outputs": [
    {
     "name": "stdout",
     "output_type": "stream",
     "text": [
      "KNN (n=1) accuracy: 0.9606\n",
      "KNN (n=2) accuracy: 0.9526\n",
      "KNN (n=3) accuracy: 0.9751\n",
      "KNN (n=4) accuracy: 0.9729\n",
      "KNN (n=5) accuracy: 0.9775\n",
      "KNN (n=6) accuracy: 0.9770\n",
      "KNN (n=7) accuracy: 0.9769\n",
      "KNN (n=8) accuracy: 0.9770\n",
      "KNN (n=9) accuracy: 0.9770\n",
      "KNN (n=10) accuracy: 0.9768\n",
      "KNN (n=11) accuracy: 0.9765\n",
      "KNN (n=12) accuracy: 0.9763\n",
      "KNN (n=13) accuracy: 0.9763\n",
      "KNN (n=14) accuracy: 0.9764\n",
      "KNN (n=15) accuracy: 0.9759\n",
      "KNN (n=16) accuracy: 0.9761\n",
      "KNN (n=17) accuracy: 0.9762\n",
      "KNN (n=18) accuracy: 0.9758\n",
      "KNN (n=19) accuracy: 0.9758\n",
      "-----------------------\n",
      "KNN max accuracy: 0.9775\n"
     ]
    },
    {
     "data": {
      "text/plain": [
       "<matplotlib.text.Text at 0x10c541690>"
      ]
     },
     "execution_count": 141,
     "metadata": {},
     "output_type": "execute_result"
    },
    {
     "data": {
      "image/png": "[encoded data removed]",
      "text/plain": [
       "<matplotlib.figure.Figure at 0x10a6ca550>"
      ]
     },
     "metadata": {},
     "output_type": "display_data"
    }
   ],
   "source": [
    "accs = []\n",
    "for n in range(1,20):\n",
    "    model = KNeighborsClassifier(n_neighbors=n, metric='cosine', algorithm='brute').fit(X_train,Y_train)\n",
    "    y_test_pred = model.predict(X_test)\n",
    "    accuracy = accuracy_score(Y_test, y_test_pred)\n",
    "    accs.append(accuracy)\n",
    "    print 'KNN (n=%i) accuracy: %.4f' % (n,accuracy)\n",
    "\n",
    "print '-----------------------'\n",
    "print 'KNN max accuracy: %.4f' % max(accs)\n",
    "plt.plot(range(1,20), accs)\n",
    "plt.xlabel('k neighbors')\n",
    "plt.ylabel('Accuracy')"
   ]
  },
  {
   "cell_type": "code",
   "execution_count": 142,
   "metadata": {
    "collapsed": false
   },
   "outputs": [
    {
     "name": "stdout",
     "output_type": "stream",
     "text": [
      "Naive Bayes (Gaussian) accuracy: 0.8279\n"
     ]
    }
   ],
   "source": [
    "model = GaussianNB().fit(X_train.toarray(), Y_train)\n",
    "Y_test_pred = model.predict(X_test.toarray())\n",
    "print 'Naive Bayes (Gaussian) accuracy: %.4f' % accuracy_score(Y_test, Y_test_pred)"
   ]
  },
  {
   "cell_type": "markdown",
   "metadata": {},
   "source": [
    "The Bayes is much more accurate and it is nearly instantaneous. "
   ]
  },
  {
   "cell_type": "code",
   "execution_count": 145,
   "metadata": {
    "collapsed": false
   },
   "outputs": [
    {
     "data": {
      "text/plain": [
       "[]"
      ]
     },
     "execution_count": 145,
     "metadata": {},
     "output_type": "execute_result"
    }
   ],
   "source": [
    "doc_list[3]['dateline']"
   ]
  },
  {
   "cell_type": "code",
   "execution_count": 150,
   "metadata": {
    "collapsed": true
   },
   "outputs": [],
   "source": [
    "# create a dataframe with all the lines that have not been tagged\n",
    "\n",
    "def get_non_tagged_lines(doc_list):\n",
    "    '''\n",
    "    I suppose I could make this into one function that spits out one df\n",
    "    I could then take bits from it.\n",
    "    '''\n",
    "    untagged_line_list = []\n",
    "    for doc in doc_list:\n",
    "        if doc['dateline'] == []:\n",
    "            symbol = doc['symbol']\n",
    "            for line in doc['body_en']:\n",
    "                if line != '' and len(line) > 4:\n",
    "                    untagged_line_list.append([symbol,line])\n",
    "    \n",
    "    return pd.DataFrame(untagged_line_list, columns=['symbol', 'line'])"
   ]
  },
  {
   "cell_type": "code",
   "execution_count": 151,
   "metadata": {
    "collapsed": true
   },
   "outputs": [],
   "source": [
    "untagged_df = get_non_tagged_lines(doc_list)"
   ]
  },
  {
   "cell_type": "code",
   "execution_count": 153,
   "metadata": {
    "collapsed": false
   },
   "outputs": [
    {
     "data": {
      "text/html": [
       "<div>\n",
       "<table border=\"1\" class=\"dataframe\">\n",
       "  <thead>\n",
       "    <tr style=\"text-align: right;\">\n",
       "      <th></th>\n",
       "      <th>symbol</th>\n",
       "      <th>line</th>\n",
       "    </tr>\n",
       "  </thead>\n",
       "  <tbody>\n",
       "    <tr>\n",
       "      <th>0</th>\n",
       "      <td>C.234.1930.II</td>\n",
       "      <td>IJE OF NATIONS.</td>\n",
       "    </tr>\n",
       "    <tr>\n",
       "      <th>1</th>\n",
       "      <td>C.234.1930.II</td>\n",
       "      <td>PRELIMIlNi</td>\n",
       "    </tr>\n",
       "    <tr>\n",
       "      <th>2</th>\n",
       "      <td>C.234.1930.II</td>\n",
       "      <td>C.234.1930.II.</td>\n",
       "    </tr>\n",
       "    <tr>\n",
       "      <th>3</th>\n",
       "      <td>C.234.1930.II</td>\n",
       "      <td>Geneva,</td>\n",
       "    </tr>\n",
       "    <tr>\n",
       "      <th>4</th>\n",
       "      <td>C.234.1930.II</td>\n",
       "      <td>April 30th, 1930,</td>\n",
       "    </tr>\n",
       "  </tbody>\n",
       "</table>\n",
       "</div>"
      ],
      "text/plain": [
       "          symbol               line\n",
       "0  C.234.1930.II    IJE OF NATIONS.\n",
       "1  C.234.1930.II         PRELIMIlNi\n",
       "2  C.234.1930.II     C.234.1930.II.\n",
       "3  C.234.1930.II            Geneva,\n",
       "4  C.234.1930.II  April 30th, 1930,"
      ]
     },
     "execution_count": 153,
     "metadata": {},
     "output_type": "execute_result"
    }
   ],
   "source": [
    "untagged_df.head()"
   ]
  },
  {
   "cell_type": "code",
   "execution_count": 160,
   "metadata": {
    "collapsed": false
   },
   "outputs": [],
   "source": [
    "model = KNeighborsClassifier(n_neighbors=5,\n",
    "                             metric='cosine',\n",
    "                             algorithm='brute').fit(X, y_2)\n",
    "\n"
   ]
  },
  {
   "cell_type": "code",
   "execution_count": 165,
   "metadata": {
    "collapsed": false
   },
   "outputs": [],
   "source": [
    "untagged_df['line'] = untagged_df['line'].apply(lambda x: unidecode(x).translate(None, whitespace))"
   ]
  },
  {
   "cell_type": "code",
   "execution_count": 168,
   "metadata": {
    "collapsed": false
   },
   "outputs": [
    {
     "data": {
      "text/html": [
       "<div>\n",
       "<table border=\"1\" class=\"dataframe\">\n",
       "  <thead>\n",
       "    <tr style=\"text-align: right;\">\n",
       "      <th></th>\n",
       "      <th>symbol</th>\n",
       "      <th>line</th>\n",
       "    </tr>\n",
       "  </thead>\n",
       "  <tbody>\n",
       "    <tr>\n",
       "      <th>3</th>\n",
       "      <td>C.234.1930.II</td>\n",
       "      <td>Geneva,</td>\n",
       "    </tr>\n",
       "    <tr>\n",
       "      <th>52</th>\n",
       "      <td>C.584.M.356.1922.I</td>\n",
       "      <td>Geneva,</td>\n",
       "    </tr>\n",
       "    <tr>\n",
       "      <th>57</th>\n",
       "      <td>C.204.1924</td>\n",
       "      <td>Geneva,</td>\n",
       "    </tr>\n",
       "    <tr>\n",
       "      <th>189</th>\n",
       "      <td>C.503.1935.II.B</td>\n",
       "      <td>Geneva,</td>\n",
       "    </tr>\n",
       "    <tr>\n",
       "      <th>201</th>\n",
       "      <td>C.540.1931.I</td>\n",
       "      <td>Geneva,</td>\n",
       "    </tr>\n",
       "    <tr>\n",
       "      <th>207</th>\n",
       "      <td>C.659.M.262.1923.IX</td>\n",
       "      <td>Geneva,</td>\n",
       "    </tr>\n",
       "    <tr>\n",
       "      <th>211</th>\n",
       "      <td>C.370.1931</td>\n",
       "      <td>Geneva,</td>\n",
       "    </tr>\n",
       "    <tr>\n",
       "      <th>233</th>\n",
       "      <td>C.202.1926.VII</td>\n",
       "      <td>Geneva,</td>\n",
       "    </tr>\n",
       "    <tr>\n",
       "      <th>244</th>\n",
       "      <td>C.555.1930.III</td>\n",
       "      <td>Geneva,</td>\n",
       "    </tr>\n",
       "    <tr>\n",
       "      <th>271</th>\n",
       "      <td>C.402.1924.X</td>\n",
       "      <td>Geneva,</td>\n",
       "    </tr>\n",
       "    <tr>\n",
       "      <th>305</th>\n",
       "      <td>C.564.M.180.1928.I</td>\n",
       "      <td>Geneva,</td>\n",
       "    </tr>\n",
       "    <tr>\n",
       "      <th>308</th>\n",
       "      <td>C.795.1925.XI</td>\n",
       "      <td>Geneva,</td>\n",
       "    </tr>\n",
       "    <tr>\n",
       "      <th>329</th>\n",
       "      <td>C.478.1927.I</td>\n",
       "      <td>Geneva,</td>\n",
       "    </tr>\n",
       "    <tr>\n",
       "      <th>450</th>\n",
       "      <td>C.730.M.442.1922</td>\n",
       "      <td>Geneva,</td>\n",
       "    </tr>\n",
       "    <tr>\n",
       "      <th>561</th>\n",
       "      <td>C.145.1927.II</td>\n",
       "      <td>Geneva,</td>\n",
       "    </tr>\n",
       "    <tr>\n",
       "      <th>645</th>\n",
       "      <td>C.83.1923.VII</td>\n",
       "      <td>Geneva,</td>\n",
       "    </tr>\n",
       "    <tr>\n",
       "      <th>682</th>\n",
       "      <td>C.126.1930.I</td>\n",
       "      <td>Geneva,</td>\n",
       "    </tr>\n",
       "    <tr>\n",
       "      <th>715</th>\n",
       "      <td>C.107.1924.IX</td>\n",
       "      <td>Geneva,</td>\n",
       "    </tr>\n",
       "    <tr>\n",
       "      <th>732</th>\n",
       "      <td>C.709.1924.VI</td>\n",
       "      <td>Geneva,</td>\n",
       "    </tr>\n",
       "    <tr>\n",
       "      <th>744</th>\n",
       "      <td>C.510.M.364.1921.I</td>\n",
       "      <td>Geneva,</td>\n",
       "    </tr>\n",
       "    <tr>\n",
       "      <th>772</th>\n",
       "      <td>C.317.1931.I</td>\n",
       "      <td>Geneva,</td>\n",
       "    </tr>\n",
       "    <tr>\n",
       "      <th>802</th>\n",
       "      <td>C679.1922.VII</td>\n",
       "      <td>Geneva,</td>\n",
       "    </tr>\n",
       "    <tr>\n",
       "      <th>820</th>\n",
       "      <td>C.718.1926.IX</td>\n",
       "      <td>Geneva,</td>\n",
       "    </tr>\n",
       "    <tr>\n",
       "      <th>822</th>\n",
       "      <td>C.242.1922</td>\n",
       "      <td>Geneva,</td>\n",
       "    </tr>\n",
       "    <tr>\n",
       "      <th>898</th>\n",
       "      <td>C.449.1922.V</td>\n",
       "      <td>Geneva,</td>\n",
       "    </tr>\n",
       "    <tr>\n",
       "      <th>969</th>\n",
       "      <td>C.396.1923.II</td>\n",
       "      <td>Geneva,</td>\n",
       "    </tr>\n",
       "    <tr>\n",
       "      <th>975</th>\n",
       "      <td>C.430.M.309.1921.VII</td>\n",
       "      <td>Geneva,</td>\n",
       "    </tr>\n",
       "    <tr>\n",
       "      <th>1021</th>\n",
       "      <td>C.326.M.235.1921.I</td>\n",
       "      <td>Geneva,</td>\n",
       "    </tr>\n",
       "    <tr>\n",
       "      <th>1053</th>\n",
       "      <td>C.598.1922.IX</td>\n",
       "      <td>Geneva,</td>\n",
       "    </tr>\n",
       "    <tr>\n",
       "      <th>1089</th>\n",
       "      <td>C.515.M.365.1921</td>\n",
       "      <td>Geneva,</td>\n",
       "    </tr>\n",
       "    <tr>\n",
       "      <th>...</th>\n",
       "      <td>...</td>\n",
       "      <td>...</td>\n",
       "    </tr>\n",
       "    <tr>\n",
       "      <th>25156</th>\n",
       "      <td>C.692.1926.I</td>\n",
       "      <td>Geneva,</td>\n",
       "    </tr>\n",
       "    <tr>\n",
       "      <th>25178</th>\n",
       "      <td>C.219.M.78.1926.XI</td>\n",
       "      <td>Geneva,</td>\n",
       "    </tr>\n",
       "    <tr>\n",
       "      <th>25232</th>\n",
       "      <td>C.1.M.1.1932.VII</td>\n",
       "      <td>Geneva,</td>\n",
       "    </tr>\n",
       "    <tr>\n",
       "      <th>25252</th>\n",
       "      <td>C.59(a).M.22.1922.II</td>\n",
       "      <td>Geneva,</td>\n",
       "    </tr>\n",
       "    <tr>\n",
       "      <th>25280</th>\n",
       "      <td>C.623.M.198.1928.XI</td>\n",
       "      <td>Geneva,</td>\n",
       "    </tr>\n",
       "    <tr>\n",
       "      <th>25312</th>\n",
       "      <td>C.361.1930.I</td>\n",
       "      <td>Geneva,</td>\n",
       "    </tr>\n",
       "    <tr>\n",
       "      <th>25322</th>\n",
       "      <td>C.415.1922.VII</td>\n",
       "      <td>Geneva,</td>\n",
       "    </tr>\n",
       "    <tr>\n",
       "      <th>25456</th>\n",
       "      <td>C.213.1927.IX</td>\n",
       "      <td>Geneva,</td>\n",
       "    </tr>\n",
       "    <tr>\n",
       "      <th>25483</th>\n",
       "      <td>C.215.M.76.1926.XI</td>\n",
       "      <td>Geneva,</td>\n",
       "    </tr>\n",
       "    <tr>\n",
       "      <th>25489</th>\n",
       "      <td>C.488.M.204.1923.VIII</td>\n",
       "      <td>Geneva,</td>\n",
       "    </tr>\n",
       "    <tr>\n",
       "      <th>25628</th>\n",
       "      <td>C.244.1922.VII</td>\n",
       "      <td>Geneva,</td>\n",
       "    </tr>\n",
       "    <tr>\n",
       "      <th>25672</th>\n",
       "      <td>C.535.M.382.1921.VII</td>\n",
       "      <td>Geneva,</td>\n",
       "    </tr>\n",
       "    <tr>\n",
       "      <th>25676</th>\n",
       "      <td>C.75.1927.IX</td>\n",
       "      <td>Geneva,</td>\n",
       "    </tr>\n",
       "    <tr>\n",
       "      <th>25717</th>\n",
       "      <td>C.93.M.19.1930.XI</td>\n",
       "      <td>Geneva,</td>\n",
       "    </tr>\n",
       "    <tr>\n",
       "      <th>25732</th>\n",
       "      <td>C.90.1927.IX</td>\n",
       "      <td>Geneva,</td>\n",
       "    </tr>\n",
       "    <tr>\n",
       "      <th>25797</th>\n",
       "      <td>C.399.1923.XI</td>\n",
       "      <td>Geneva,</td>\n",
       "    </tr>\n",
       "    <tr>\n",
       "      <th>25820</th>\n",
       "      <td>C.392.1931.I</td>\n",
       "      <td>Geneva,</td>\n",
       "    </tr>\n",
       "    <tr>\n",
       "      <th>25834</th>\n",
       "      <td>C.260.1923</td>\n",
       "      <td>Geneva,</td>\n",
       "    </tr>\n",
       "    <tr>\n",
       "      <th>25851</th>\n",
       "      <td>C.702.1923.II</td>\n",
       "      <td>Geneva,</td>\n",
       "    </tr>\n",
       "    <tr>\n",
       "      <th>25889</th>\n",
       "      <td>C.42.M.21.1931.XI</td>\n",
       "      <td>Geneva,</td>\n",
       "    </tr>\n",
       "    <tr>\n",
       "      <th>25900</th>\n",
       "      <td>C.36.M.18.1931.VII</td>\n",
       "      <td>Geneva,</td>\n",
       "    </tr>\n",
       "    <tr>\n",
       "      <th>25903</th>\n",
       "      <td>C.452.M.269.1922.I</td>\n",
       "      <td>Geneva,</td>\n",
       "    </tr>\n",
       "    <tr>\n",
       "      <th>25913</th>\n",
       "      <td>C.373.1931.I</td>\n",
       "      <td>Geneva,</td>\n",
       "    </tr>\n",
       "    <tr>\n",
       "      <th>25952</th>\n",
       "      <td>C.453(1).M.178.1924.II</td>\n",
       "      <td>Geneva,</td>\n",
       "    </tr>\n",
       "    <tr>\n",
       "      <th>25958</th>\n",
       "      <td>C.626.M.206.1925</td>\n",
       "      <td>Geneva,</td>\n",
       "    </tr>\n",
       "    <tr>\n",
       "      <th>25997</th>\n",
       "      <td>C.452.1931.I</td>\n",
       "      <td>Geneva,</td>\n",
       "    </tr>\n",
       "    <tr>\n",
       "      <th>26009</th>\n",
       "      <td>C.180.M.82.1930.XI</td>\n",
       "      <td>Geneva,</td>\n",
       "    </tr>\n",
       "    <tr>\n",
       "      <th>26080</th>\n",
       "      <td>C.451.1927.V</td>\n",
       "      <td>Geneva,</td>\n",
       "    </tr>\n",
       "    <tr>\n",
       "      <th>26166</th>\n",
       "      <td>C.180.1924.II</td>\n",
       "      <td>Geneva,</td>\n",
       "    </tr>\n",
       "    <tr>\n",
       "      <th>26179</th>\n",
       "      <td>C.838.M.416.1931.VII</td>\n",
       "      <td>Geneva,</td>\n",
       "    </tr>\n",
       "  </tbody>\n",
       "</table>\n",
       "<p>774 rows × 2 columns</p>\n",
       "</div>"
      ],
      "text/plain": [
       "                       symbol     line\n",
       "3               C.234.1930.II  Geneva,\n",
       "52         C.584.M.356.1922.I  Geneva,\n",
       "57                 C.204.1924  Geneva,\n",
       "189           C.503.1935.II.B  Geneva,\n",
       "201              C.540.1931.I  Geneva,\n",
       "207       C.659.M.262.1923.IX  Geneva,\n",
       "211                C.370.1931  Geneva,\n",
       "233            C.202.1926.VII  Geneva,\n",
       "244            C.555.1930.III  Geneva,\n",
       "271              C.402.1924.X  Geneva,\n",
       "305        C.564.M.180.1928.I  Geneva,\n",
       "308             C.795.1925.XI  Geneva,\n",
       "329              C.478.1927.I  Geneva,\n",
       "450          C.730.M.442.1922  Geneva,\n",
       "561             C.145.1927.II  Geneva,\n",
       "645             C.83.1923.VII  Geneva,\n",
       "682              C.126.1930.I  Geneva,\n",
       "715             C.107.1924.IX  Geneva,\n",
       "732             C.709.1924.VI  Geneva,\n",
       "744        C.510.M.364.1921.I  Geneva,\n",
       "772              C.317.1931.I  Geneva,\n",
       "802             C679.1922.VII  Geneva,\n",
       "820             C.718.1926.IX  Geneva,\n",
       "822                C.242.1922  Geneva,\n",
       "898              C.449.1922.V  Geneva,\n",
       "969             C.396.1923.II  Geneva,\n",
       "975      C.430.M.309.1921.VII  Geneva,\n",
       "1021       C.326.M.235.1921.I  Geneva,\n",
       "1053            C.598.1922.IX  Geneva,\n",
       "1089         C.515.M.365.1921  Geneva,\n",
       "...                       ...      ...\n",
       "25156            C.692.1926.I  Geneva,\n",
       "25178      C.219.M.78.1926.XI  Geneva,\n",
       "25232        C.1.M.1.1932.VII  Geneva,\n",
       "25252    C.59(a).M.22.1922.II  Geneva,\n",
       "25280     C.623.M.198.1928.XI  Geneva,\n",
       "25312            C.361.1930.I  Geneva,\n",
       "25322          C.415.1922.VII  Geneva,\n",
       "25456           C.213.1927.IX  Geneva,\n",
       "25483      C.215.M.76.1926.XI  Geneva,\n",
       "25489   C.488.M.204.1923.VIII  Geneva,\n",
       "25628          C.244.1922.VII  Geneva,\n",
       "25672    C.535.M.382.1921.VII  Geneva,\n",
       "25676            C.75.1927.IX  Geneva,\n",
       "25717       C.93.M.19.1930.XI  Geneva,\n",
       "25732            C.90.1927.IX  Geneva,\n",
       "25797           C.399.1923.XI  Geneva,\n",
       "25820            C.392.1931.I  Geneva,\n",
       "25834              C.260.1923  Geneva,\n",
       "25851           C.702.1923.II  Geneva,\n",
       "25889       C.42.M.21.1931.XI  Geneva,\n",
       "25900      C.36.M.18.1931.VII  Geneva,\n",
       "25903      C.452.M.269.1922.I  Geneva,\n",
       "25913            C.373.1931.I  Geneva,\n",
       "25952  C.453(1).M.178.1924.II  Geneva,\n",
       "25958        C.626.M.206.1925  Geneva,\n",
       "25997            C.452.1931.I  Geneva,\n",
       "26009      C.180.M.82.1930.XI  Geneva,\n",
       "26080            C.451.1927.V  Geneva,\n",
       "26166           C.180.1924.II  Geneva,\n",
       "26179    C.838.M.416.1931.VII  Geneva,\n",
       "\n",
       "[774 rows x 2 columns]"
      ]
     },
     "execution_count": 168,
     "metadata": {},
     "output_type": "execute_result"
    }
   ],
   "source": [
    "untagged_df[untagged_df['line'] == 'Geneva,']"
   ]
  },
  {
   "cell_type": "code",
   "execution_count": null,
   "metadata": {
    "collapsed": true
   },
   "outputs": [],
   "source": []
  },
  {
   "cell_type": "code",
   "execution_count": 162,
   "metadata": {
    "collapsed": false
   },
   "outputs": [],
   "source": [
    "untag = vectorizer.fit_transform(untagged_df['line'])"
   ]
  },
  {
   "cell_type": "code",
   "execution_count": 163,
   "metadata": {
    "collapsed": false
   },
   "outputs": [
    {
     "ename": "ValueError",
     "evalue": "Incompatible dimension for X and Y matrices: X.shape[1] == 106 while Y.shape[1] == 66",
     "output_type": "error",
     "traceback": [
      "\u001b[0;31m---------------------------------------------------------------------------\u001b[0m",
      "\u001b[0;31mValueError\u001b[0m                                Traceback (most recent call last)",
      "\u001b[0;32m<ipython-input-163-efe9334f4a23>\u001b[0m in \u001b[0;36m<module>\u001b[0;34m()\u001b[0m\n\u001b[0;32m----> 1\u001b[0;31m \u001b[0mmodel\u001b[0m\u001b[0;34m.\u001b[0m\u001b[0mpredict\u001b[0m\u001b[0;34m(\u001b[0m\u001b[0muntag\u001b[0m\u001b[0;34m)\u001b[0m\u001b[0;34m\u001b[0m\u001b[0m\n\u001b[0m",
      "\u001b[0;32m/Users/johnkeating/anaconda/lib/python2.7/site-packages/sklearn/neighbors/classification.pyc\u001b[0m in \u001b[0;36mpredict\u001b[0;34m(self, X)\u001b[0m\n\u001b[1;32m    136\u001b[0m         \u001b[0mX\u001b[0m \u001b[0;34m=\u001b[0m \u001b[0mcheck_array\u001b[0m\u001b[0;34m(\u001b[0m\u001b[0mX\u001b[0m\u001b[0;34m,\u001b[0m \u001b[0maccept_sparse\u001b[0m\u001b[0;34m=\u001b[0m\u001b[0;34m'csr'\u001b[0m\u001b[0;34m)\u001b[0m\u001b[0;34m\u001b[0m\u001b[0m\n\u001b[1;32m    137\u001b[0m \u001b[0;34m\u001b[0m\u001b[0m\n\u001b[0;32m--> 138\u001b[0;31m         \u001b[0mneigh_dist\u001b[0m\u001b[0;34m,\u001b[0m \u001b[0mneigh_ind\u001b[0m \u001b[0;34m=\u001b[0m \u001b[0mself\u001b[0m\u001b[0;34m.\u001b[0m\u001b[0mkneighbors\u001b[0m\u001b[0;34m(\u001b[0m\u001b[0mX\u001b[0m\u001b[0;34m)\u001b[0m\u001b[0;34m\u001b[0m\u001b[0m\n\u001b[0m\u001b[1;32m    139\u001b[0m \u001b[0;34m\u001b[0m\u001b[0m\n\u001b[1;32m    140\u001b[0m         \u001b[0mclasses_\u001b[0m \u001b[0;34m=\u001b[0m \u001b[0mself\u001b[0m\u001b[0;34m.\u001b[0m\u001b[0mclasses_\u001b[0m\u001b[0;34m\u001b[0m\u001b[0m\n",
      "\u001b[0;32m/Users/johnkeating/anaconda/lib/python2.7/site-packages/sklearn/neighbors/base.pyc\u001b[0m in \u001b[0;36mkneighbors\u001b[0;34m(self, X, n_neighbors, return_distance)\u001b[0m\n\u001b[1;32m    350\u001b[0m                 dist = pairwise_distances(X, self._fit_X,\n\u001b[1;32m    351\u001b[0m                                           \u001b[0mself\u001b[0m\u001b[0;34m.\u001b[0m\u001b[0meffective_metric_\u001b[0m\u001b[0;34m,\u001b[0m\u001b[0;34m\u001b[0m\u001b[0m\n\u001b[0;32m--> 352\u001b[0;31m                                           **self.effective_metric_params_)\n\u001b[0m\u001b[1;32m    353\u001b[0m \u001b[0;34m\u001b[0m\u001b[0m\n\u001b[1;32m    354\u001b[0m             \u001b[0mneigh_ind\u001b[0m \u001b[0;34m=\u001b[0m \u001b[0margpartition\u001b[0m\u001b[0;34m(\u001b[0m\u001b[0mdist\u001b[0m\u001b[0;34m,\u001b[0m \u001b[0mn_neighbors\u001b[0m \u001b[0;34m-\u001b[0m \u001b[0;36m1\u001b[0m\u001b[0;34m,\u001b[0m \u001b[0maxis\u001b[0m\u001b[0;34m=\u001b[0m\u001b[0;36m1\u001b[0m\u001b[0;34m)\u001b[0m\u001b[0;34m\u001b[0m\u001b[0m\n",
      "\u001b[0;32m/Users/johnkeating/anaconda/lib/python2.7/site-packages/sklearn/metrics/pairwise.pyc\u001b[0m in \u001b[0;36mpairwise_distances\u001b[0;34m(X, Y, metric, n_jobs, **kwds)\u001b[0m\n\u001b[1;32m   1108\u001b[0m         \u001b[0mfunc\u001b[0m \u001b[0;34m=\u001b[0m \u001b[0mpartial\u001b[0m\u001b[0;34m(\u001b[0m\u001b[0mdistance\u001b[0m\u001b[0;34m.\u001b[0m\u001b[0mcdist\u001b[0m\u001b[0;34m,\u001b[0m \u001b[0mmetric\u001b[0m\u001b[0;34m=\u001b[0m\u001b[0mmetric\u001b[0m\u001b[0;34m,\u001b[0m \u001b[0;34m**\u001b[0m\u001b[0mkwds\u001b[0m\u001b[0;34m)\u001b[0m\u001b[0;34m\u001b[0m\u001b[0m\n\u001b[1;32m   1109\u001b[0m \u001b[0;34m\u001b[0m\u001b[0m\n\u001b[0;32m-> 1110\u001b[0;31m     \u001b[0;32mreturn\u001b[0m \u001b[0m_parallel_pairwise\u001b[0m\u001b[0;34m(\u001b[0m\u001b[0mX\u001b[0m\u001b[0;34m,\u001b[0m \u001b[0mY\u001b[0m\u001b[0;34m,\u001b[0m \u001b[0mfunc\u001b[0m\u001b[0;34m,\u001b[0m \u001b[0mn_jobs\u001b[0m\u001b[0;34m,\u001b[0m \u001b[0;34m**\u001b[0m\u001b[0mkwds\u001b[0m\u001b[0;34m)\u001b[0m\u001b[0;34m\u001b[0m\u001b[0m\n\u001b[0m\u001b[1;32m   1111\u001b[0m \u001b[0;34m\u001b[0m\u001b[0m\n\u001b[1;32m   1112\u001b[0m \u001b[0;34m\u001b[0m\u001b[0m\n",
      "\u001b[0;32m/Users/johnkeating/anaconda/lib/python2.7/site-packages/sklearn/metrics/pairwise.pyc\u001b[0m in \u001b[0;36m_parallel_pairwise\u001b[0;34m(X, Y, func, n_jobs, **kwds)\u001b[0m\n\u001b[1;32m    958\u001b[0m     \u001b[0;32mif\u001b[0m \u001b[0mn_jobs\u001b[0m \u001b[0;34m==\u001b[0m \u001b[0;36m1\u001b[0m\u001b[0;34m:\u001b[0m\u001b[0;34m\u001b[0m\u001b[0m\n\u001b[1;32m    959\u001b[0m         \u001b[0;31m# Special case to avoid picklability checks in delayed\u001b[0m\u001b[0;34m\u001b[0m\u001b[0;34m\u001b[0m\u001b[0m\n\u001b[0;32m--> 960\u001b[0;31m         \u001b[0;32mreturn\u001b[0m \u001b[0mfunc\u001b[0m\u001b[0;34m(\u001b[0m\u001b[0mX\u001b[0m\u001b[0;34m,\u001b[0m \u001b[0mY\u001b[0m\u001b[0;34m,\u001b[0m \u001b[0;34m**\u001b[0m\u001b[0mkwds\u001b[0m\u001b[0;34m)\u001b[0m\u001b[0;34m\u001b[0m\u001b[0m\n\u001b[0m\u001b[1;32m    961\u001b[0m \u001b[0;34m\u001b[0m\u001b[0m\n\u001b[1;32m    962\u001b[0m     \u001b[0;31m# TODO: in some cases, backend='threading' may be appropriate\u001b[0m\u001b[0;34m\u001b[0m\u001b[0;34m\u001b[0m\u001b[0m\n",
      "\u001b[0;32m/Users/johnkeating/anaconda/lib/python2.7/site-packages/sklearn/metrics/pairwise.pyc\u001b[0m in \u001b[0;36mcosine_distances\u001b[0;34m(X, Y)\u001b[0m\n\u001b[1;32m    524\u001b[0m     \"\"\"\n\u001b[1;32m    525\u001b[0m     \u001b[0;31m# 1.0 - cosine_similarity(X, Y) without copy\u001b[0m\u001b[0;34m\u001b[0m\u001b[0;34m\u001b[0m\u001b[0m\n\u001b[0;32m--> 526\u001b[0;31m     \u001b[0mS\u001b[0m \u001b[0;34m=\u001b[0m \u001b[0mcosine_similarity\u001b[0m\u001b[0;34m(\u001b[0m\u001b[0mX\u001b[0m\u001b[0;34m,\u001b[0m \u001b[0mY\u001b[0m\u001b[0;34m)\u001b[0m\u001b[0;34m\u001b[0m\u001b[0m\n\u001b[0m\u001b[1;32m    527\u001b[0m     \u001b[0mS\u001b[0m \u001b[0;34m*=\u001b[0m \u001b[0;34m-\u001b[0m\u001b[0;36m1\u001b[0m\u001b[0;34m\u001b[0m\u001b[0m\n\u001b[1;32m    528\u001b[0m     \u001b[0mS\u001b[0m \u001b[0;34m+=\u001b[0m \u001b[0;36m1\u001b[0m\u001b[0;34m\u001b[0m\u001b[0m\n",
      "\u001b[0;32m/Users/johnkeating/anaconda/lib/python2.7/site-packages/sklearn/metrics/pairwise.pyc\u001b[0m in \u001b[0;36mcosine_similarity\u001b[0;34m(X, Y)\u001b[0m\n\u001b[1;32m    793\u001b[0m     \u001b[0;31m# to avoid recursive import\u001b[0m\u001b[0;34m\u001b[0m\u001b[0;34m\u001b[0m\u001b[0m\n\u001b[1;32m    794\u001b[0m \u001b[0;34m\u001b[0m\u001b[0m\n\u001b[0;32m--> 795\u001b[0;31m     \u001b[0mX\u001b[0m\u001b[0;34m,\u001b[0m \u001b[0mY\u001b[0m \u001b[0;34m=\u001b[0m \u001b[0mcheck_pairwise_arrays\u001b[0m\u001b[0;34m(\u001b[0m\u001b[0mX\u001b[0m\u001b[0;34m,\u001b[0m \u001b[0mY\u001b[0m\u001b[0;34m)\u001b[0m\u001b[0;34m\u001b[0m\u001b[0m\n\u001b[0m\u001b[1;32m    796\u001b[0m \u001b[0;34m\u001b[0m\u001b[0m\n\u001b[1;32m    797\u001b[0m     \u001b[0mX_normalized\u001b[0m \u001b[0;34m=\u001b[0m \u001b[0mnormalize\u001b[0m\u001b[0;34m(\u001b[0m\u001b[0mX\u001b[0m\u001b[0;34m,\u001b[0m \u001b[0mcopy\u001b[0m\u001b[0;34m=\u001b[0m\u001b[0mTrue\u001b[0m\u001b[0;34m)\u001b[0m\u001b[0;34m\u001b[0m\u001b[0m\n",
      "\u001b[0;32m/Users/johnkeating/anaconda/lib/python2.7/site-packages/sklearn/metrics/pairwise.pyc\u001b[0m in \u001b[0;36mcheck_pairwise_arrays\u001b[0;34m(X, Y)\u001b[0m\n\u001b[1;32m     94\u001b[0m         raise ValueError(\"Incompatible dimension for X and Y matrices: \"\n\u001b[1;32m     95\u001b[0m                          \"X.shape[1] == %d while Y.shape[1] == %d\" % (\n\u001b[0;32m---> 96\u001b[0;31m                              X.shape[1], Y.shape[1]))\n\u001b[0m\u001b[1;32m     97\u001b[0m \u001b[0;34m\u001b[0m\u001b[0m\n\u001b[1;32m     98\u001b[0m     \u001b[0;32mreturn\u001b[0m \u001b[0mX\u001b[0m\u001b[0;34m,\u001b[0m \u001b[0mY\u001b[0m\u001b[0;34m\u001b[0m\u001b[0m\n",
      "\u001b[0;31mValueError\u001b[0m: Incompatible dimension for X and Y matrices: X.shape[1] == 106 while Y.shape[1] == 66"
     ]
    }
   ],
   "source": [
    "model.predict(untag)"
   ]
  },
  {
   "cell_type": "code",
   "execution_count": null,
   "metadata": {
    "collapsed": true
   },
   "outputs": [],
   "source": []
  }
 ],
 "metadata": {
  "kernelspec": {
   "display_name": "Python 2",
   "language": "python",
   "name": "python2"
  },
  "language_info": {
   "codemirror_mode": {
    "name": "ipython",
    "version": 2
   },
   "file_extension": ".py",
   "mimetype": "text/x-python",
   "name": "python",
   "nbconvert_exporter": "python",
   "pygments_lexer": "ipython2",
   "version": "2.7.10"
  }
 },
 "nbformat": 4,
 "nbformat_minor": 0
}
