{
 "cells": [
  {
   "cell_type": "code",
   "execution_count": 34,
   "metadata": {
    "collapsed": true
   },
   "outputs": [],
   "source": [
    "from random import randint\n",
    "from string import whitespace, punctuation, digits"
   ]
  },
  {
   "cell_type": "code",
   "execution_count": 11,
   "metadata": {
    "collapsed": false
   },
   "outputs": [],
   "source": [
    "def segment(text, segs): \n",
    "    words = [] # empty list for the words\n",
    "    last = 0 #the last item that was counted\n",
    "    for i in range(len(segs)):\n",
    "        if segs[i] == '1': \n",
    "            words.append(text[last:i+1]) \n",
    "            last = i+1\n",
    "        words.append(text[last:]) \n",
    "    return words\n",
    "\n",
    "def flip(segs, pos):\n",
    "    return segs[:pos] + str(1-int(segs[pos])) + segs[pos+1:]\n",
    "\n",
    "def flip_n(segs, n): \n",
    "    for i in range(n):\n",
    "        segs = flip(segs, randint(0,len(segs)-1)) \n",
    "        return segs\n",
    "\n",
    "def evaluate(text, segs):\n",
    "    words = segment(text, segs)\n",
    "    text_size = len(words)\n",
    "    lexicon_size = len(' '.join(list(set(words)))) \n",
    "    return text_size + lexicon_size\n",
    "\n",
    "def anneal(text, segs, iterations, cooling_rate): \n",
    "    temperature = float(len(segs))\n",
    "    while temperature > 0.5:\n",
    "        best_segs, best = segs, evaluate(text, segs) \n",
    "        for i in range(iterations):\n",
    "            guess = flip_n(segs, int(round(temperature))) \n",
    "            score = evaluate(text, guess)\n",
    "            if score < best:\n",
    "                best, best_segs = score, guess \n",
    "    score, segs = best, best_segs\n",
    "    temperature = temperature / cooling_rate\n",
    "    print evaluate(text, segs), segment(text, segs)\n",
    "    return seg"
   ]
  },
  {
   "cell_type": "code",
   "execution_count": 15,
   "metadata": {
    "collapsed": true
   },
   "outputs": [],
   "source": [
    "text = 'contrary t o  t h e  p r o v i s i o n s  o f  t h e  C h i n e s e  C r i m i n a l  Code w h ich  d e a l'"
   ]
  },
  {
   "cell_type": "code",
   "execution_count": 16,
   "metadata": {
    "collapsed": false
   },
   "outputs": [
    {
     "data": {
      "text/plain": [
       "12"
      ]
     },
     "execution_count": 16,
     "metadata": {},
     "output_type": "execute_result"
    }
   ],
   "source": [
    "text.find('  ')"
   ]
  },
  {
   "cell_type": "code",
   "execution_count": 17,
   "metadata": {
    "collapsed": false
   },
   "outputs": [
    {
     "data": {
      "text/plain": [
       "'contrary t o'"
      ]
     },
     "execution_count": 17,
     "metadata": {},
     "output_type": "execute_result"
    }
   ],
   "source": [
    "text[:12]"
   ]
  },
  {
   "cell_type": "code",
   "execution_count": 18,
   "metadata": {
    "collapsed": true
   },
   "outputs": [],
   "source": [
    "with open('text_clean_example.txt', 'r') as text_file:\n",
    "    doc = text_file.read()"
   ]
  },
  {
   "cell_type": "code",
   "execution_count": 20,
   "metadata": {
    "collapsed": false
   },
   "outputs": [],
   "source": [
    "lines = doc.split('\\n')"
   ]
  },
  {
   "cell_type": "code",
   "execution_count": 21,
   "metadata": {
    "collapsed": true
   },
   "outputs": [],
   "source": [
    "lines_2spaces = []\n",
    "for line in lines:\n",
    "    lines_2spaces.append(line.split('  '))"
   ]
  },
  {
   "cell_type": "code",
   "execution_count": 24,
   "metadata": {
    "collapsed": false
   },
   "outputs": [],
   "source": [
    "cleaner_lines =[]\n",
    "\n",
    "for line in lines_2spaces:\n",
    "    clean_words = []\n",
    "    if line == '':\n",
    "        pass\n",
    "    else:\n",
    "        for word in line:\n",
    "            clean_words.append(word.translate(None, whitespace))\n",
    "    cleaner_lines.append(clean_words)"
   ]
  },
  {
   "cell_type": "code",
   "execution_count": 25,
   "metadata": {
    "collapsed": false
   },
   "outputs": [
    {
     "data": {
      "text/plain": [
       "[['LEAGUEOFNATIONS.'],\n",
       " ['Communicatedto', 'the', '~C\\xc2\\xbb831.M.41S.1931.VII.'],\n",
       " ['Council', 'and', 'Members'],\n",
       " ['of',\n",
       "  'the',\n",
       "  'League',\n",
       "  'of',\n",
       "  'Nations.',\n",
       "  'Geneva,',\n",
       "  'November',\n",
       "  '11th,',\n",
       "  '1931.'],\n",
       " [''],\n",
       " ['APPFAL37', 'THFCHINESEGOVFRNH^NTUNDERAPTICLF11'],\n",
       " [''],\n",
       " ['OFTHFCOVSffANT.'],\n",
       " [''],\n",
       " ['Cooraianlcation', 'from', 'theJapanese', 'Belega_tion.'],\n",
       " [''],\n",
       " ['?Tote', 'by', 'the', 'Secretary-General.'],\n",
       " [''],\n",
       " ['The',\n",
       "  'Secretary-General',\n",
       "  'has',\n",
       "  'the',\n",
       "  'honour',\n",
       "  'to',\n",
       "  'communicate',\n",
       "  'to',\n",
       "  'the',\n",
       "  ''],\n",
       " ['Council',\n",
       "  'the',\n",
       "  'following',\n",
       "  'tolegram',\n",
       "  'dated',\n",
       "  'Paris,November',\n",
       "  '10th,',\n",
       "  'at',\n",
       "  '6.5',\n",
       "  ''],\n",
       " ['p.m.,which',\n",
       "  'he',\n",
       "  'has',\n",
       "  'just',\n",
       "  'received',\n",
       "  'from',\n",
       "  'the',\n",
       "  'Japanese',\n",
       "  'Delegation.'],\n",
       " [''],\n",
       " ['I',\n",
       "  'have',\n",
       "  'honour',\n",
       "  'to',\n",
       "  'communicate',\n",
       "  'to',\n",
       "  'vou',\n",
       "  'summary',\n",
       "  'of',\n",
       "  'telegrams',\n",
       "  ''],\n",
       " ['received',\n",
       "  'by',\n",
       "  'Japanese',\n",
       "  'Delegation',\n",
       "  'regarding',\n",
       "  'incidents',\n",
       "  'which',\n",
       "  'took',\n",
       "  'place',\n",
       "  ''],\n",
       " ['at', 'Tientsin', 'the', 'day', 'before', 'vasterSay', 'and', 'today:'],\n",
       " [''],\n",
       " ['November',\n",
       "  '8th',\n",
       "  'at',\n",
       "  'about',\n",
       "  '10a.m.',\n",
       "  'our',\n",
       "  'Consul',\n",
       "  'General',\n",
       "  'at',\n",
       "  'Tientsin',\n",
       "  ''],\n",
       " ['wasinformed',\n",
       "  'that',\n",
       "  'disturbances',\n",
       "  'had',\n",
       "  'taken',\n",
       "  'place',\n",
       "  'in',\n",
       "  'Chinese',\n",
       "  'town.'],\n",
       " ['Ariot',\n",
       "  'was',\n",
       "  'said',\n",
       "  'to',\n",
       "  'have',\n",
       "  'broken',\n",
       "  'out',\n",
       "  'at',\n",
       "  'the',\n",
       "  'instigation',\n",
       "  'of',\n",
       "  'reactionary',\n",
       "  ''],\n",
       " ['elements',\n",
       "  'and',\n",
       "  'fights',\n",
       "  'were',\n",
       "  'taking',\n",
       "  'place',\n",
       "  'between',\n",
       "  'Chinese',\n",
       "  'nolice',\n",
       "  \"forces'7\"],\n",
       " ['and',\n",
       "  'the',\n",
       "  'rioters.',\n",
       "  'Our',\n",
       "  'General',\n",
       "  'Consulate',\n",
       "  'immediately',\n",
       "  'had',\n",
       "  'measures',\n",
       "  'of',\n",
       "  ''],\n",
       " ['security', 'taken', 'by', 'Japanese', 'police.'],\n",
       " [''],\n",
       " ['At11.30',\n",
       "  'our',\n",
       "  'troops',\n",
       "  'were',\n",
       "  'stationed',\n",
       "  'along',\n",
       "  'the',\n",
       "  'line',\n",
       "  'of',\n",
       "  'demar\\xc2\\xad'],\n",
       " ['cation',\n",
       "  'between',\n",
       "  'Japanese',\n",
       "  'concession',\n",
       "  'and',\n",
       "  'Chinese',\n",
       "  'town.',\n",
       "  'Nevertheless',\n",
       "  ''],\n",
       " ['afusillade',\n",
       "  'having',\n",
       "  'been',\n",
       "  'heard',\n",
       "  'in',\n",
       "  'the',\n",
       "  'southern',\n",
       "  'part',\n",
       "  'of',\n",
       "  'the',\n",
       "  'town',\n",
       "  'in',\n",
       "  'tie',\n",
       "  ''],\n",
       " ['direction',\n",
       "  'of',\n",
       "  'the',\n",
       "  'Japanese',\n",
       "  'barracks,',\n",
       "  'arumour',\n",
       "  'had',\n",
       "  'spread',\n",
       "  'that',\n",
       "  'military',\n",
       "  ''],\n",
       " ['action',\n",
       "  'was',\n",
       "  'being',\n",
       "  'taken',\n",
       "  'by',\n",
       "  'the',\n",
       "  'Japanese',\n",
       "  'troops.In',\n",
       "  'order',\n",
       "  'to',\n",
       "  'check',\n",
       "  ''],\n",
       " ['the',\n",
       "  'spread',\n",
       "  'of',\n",
       "  'this',\n",
       "  'false',\n",
       "  'report',\n",
       "  'Japanese',\n",
       "  'authorities',\n",
       "  'immediately',\n",
       "  'in\\xc2\\xad'],\n",
       " ['formed',\n",
       "  '^General',\n",
       "  '-,fangChuChang,',\n",
       "  'in',\n",
       "  'commandof',\n",
       "  'the',\n",
       "  'second',\n",
       "  'army',\n",
       "  'corps',\n",
       "  'at',\n",
       "  ''],\n",
       " [''],\n",
       " ['lentsin,',\n",
       "  'through',\n",
       "  'the',\n",
       "  'French',\n",
       "  'Consul',\n",
       "  'that',\n",
       "  'the',\n",
       "  'rumour',\n",
       "  'wasabsolut',\n",
       "  'elv',\n",
       "  ''],\n",
       " ['false',\n",
       "  'and',\n",
       "  'that',\n",
       "  'there',\n",
       "  'had',\n",
       "  'even',\n",
       "  'been',\n",
       "  'casualties',\n",
       "  'amongthe',\n",
       "  'Japanese.\"',\n",
       "  ''],\n",
       " ['^G^y^lso',\n",
       "  'made',\n",
       "  'averbal',\n",
       "  'protest',\n",
       "  'to',\n",
       "  'the',\n",
       "  'Chinese',\n",
       "  'police',\n",
       "  'forces',\n",
       "  'aeainst',\n",
       "  ''],\n",
       " ['the',\n",
       "  'assertion',\n",
       "  'that',\n",
       "  'the',\n",
       "  'Japanese',\n",
       "  'were',\n",
       "  'responsible',\n",
       "  'for',\n",
       "  'the',\n",
       "  'events.'],\n",
       " [''],\n",
       " ['Fighting',\n",
       "  'was',\n",
       "  'taking',\n",
       "  'place',\n",
       "  'on',\n",
       "  'the',\n",
       "  'borders',\n",
       "  'of',\n",
       "  'our',\n",
       "  ''],\n",
       " ['at',\n",
       "  'about',\n",
       "  'midnight',\n",
       "  'aJapanese',\n",
       "  'sentry',\n",
       "  'was',\n",
       "  'killed',\n",
       "  'by',\n",
       "  'shots',\n",
       "  ''],\n",
       " ['police.',\n",
       "  'The',\n",
       "  'proximity',\n",
       "  'of',\n",
       "  'Japanese',\n",
       "  'and',\n",
       "  'Chinese',\n",
       "  'forces,',\n",
       "  ''],\n",
       " ['tims',\n",
       "  'were',\n",
       "  'only',\n",
       "  'fifty',\n",
       "  'metres',\n",
       "  'apart,',\n",
       "  'being',\n",
       "  'liable',\n",
       "  'to',\n",
       "  'give',\n",
       "  ''],\n",
       " ['^ortunate',\n",
       "  'incidents,',\n",
       "  'especially',\n",
       "  'during',\n",
       "  'the',\n",
       "  'night,',\n",
       "  'staff',\n",
       "  ''],\n",
       " ['\\xc2\\xa7nrir.1-2n',\n",
       "  'aslce3General',\n",
       "  '7,rang',\n",
       "  'to',\n",
       "  'withdraw',\n",
       "  'his',\n",
       "  'forces',\n",
       "  'to',\n",
       "  'a'],\n",
       " [''],\n",
       " ['metres', 'from', 'the', 'concession', 'before', '3a.m.'],\n",
       " [''],\n",
       " ['concession', 'and', ''],\n",
       " ['from', 'Chinese', ''],\n",
       " ['which', 'at', 'one', ''],\n",
       " ['rise', 'to', 'un-', ''],\n",
       " ['of', 'Japanese', ''],\n",
       " ['distance', 'of'],\n",
       " [''],\n",
       " [',AtSa.m.',\n",
       "  'commander',\n",
       "  'of',\n",
       "  'Japanese',\n",
       "  'troops',\n",
       "  'held',\n",
       "  'ameeting',\n",
       "  'of',\n",
       "  'the'],\n",
       " ['f',\n",
       "  '?he',\n",
       "  'Frenoh\\xc2\\xbbBritish,',\n",
       "  'Italian',\n",
       "  'and',\n",
       "  'American',\n",
       "  'garrisons',\n",
       "  'end',\n",
       "  'gave',\n",
       "  ''],\n",
       " [''],\n",
       " ['information',\n",
       "  'as',\n",
       "  'to',\n",
       "  'measures',\n",
       "  'he',\n",
       "  'had',\n",
       "  'taken,',\n",
       "  'in',\n",
       "  'vit',\n",
       "  'ing',\n",
       "  'them',\n",
       "  'to',\n",
       "  ''],\n",
       " ['tw',\n",
       "  'j-lne',\n",
       "  '01Protection.',\n",
       "  'Commanders',\n",
       "  'of',\n",
       "  'foreign',\n",
       "  'garrisons',\n",
       "  'declared'],\n",
       " ['oua^^Pf',\n",
       "  '+S?k1S\\xc3\\x8e',\n",
       "  '1\\xc3\\xaedwlth',\n",
       "  'inform\\xc3\\xa2t',\n",
       "  'ion',\n",
       "  'given',\n",
       "  'and',\n",
       "  'returned',\n",
       "  'to',\n",
       "  'their',\n",
       "  'head-',\n",
       "  ''],\n",
       " ['-xu_s',\n",
       "  '\\xc3\\xbcuabout',\n",
       "  '4a.m.',\n",
       "  'without',\n",
       "  'carrying',\n",
       "  'out',\n",
       "  'the',\n",
       "  'proposed',\n",
       "  'inspection.'],\n",
       " [''],\n",
       " ['-ow+iv?',\n",
       "  'abo1itT4*30',\n",
       "  'a*m*a?ain',\n",
       "  'aJapanese',\n",
       "  'N.C.O.',\n",
       "  'was',\n",
       "  'hit',\n",
       "  'by',\n",
       "  'Chinese',\n",
       "  ''],\n",
       " ['es',\n",
       "  'and',\n",
       "  'Japanese',\n",
       "  'commandrepeated',\n",
       "  'its',\n",
       "  'request',\n",
       "  'to',\n",
       "  'General',\n",
       "  'Wang.',\n",
       "  ''],\n",
       " [''],\n",
       " ['f\"thp', 'having', 'also', 'convinced', 'the', 'provincial', 'authorities'],\n",
       " ['^awal',\n",
       "  'nf',\n",
       "  'i\\xc3\\xaf+\\xc3\\xafsePratmg',\n",
       "  'tne',\n",
       "  'Japanese',\n",
       "  'and',\n",
       "  'Chinese',\n",
       "  'forces,',\n",
       "  'with-IIerl?*!srJ85,doeided',\n",
       "  'for',\n",
       "  '7a',\n",
       "  'n.',\n",
       "  'The',\n",
       "  'rioters',\n",
       "  'had',\n",
       "  'teon'],\n",
       " ['icp-.',\n",
       "  '~+,yhlDwuvfarces,',\n",
       "  'iiut',\n",
       "  'a',\n",
       "  'few',\n",
       "  'skirmishes',\n",
       "  'were',\n",
       "  'still',\n",
       "  'tek',\n",
       "  'ing'],\n",
       " ['J-aceon', 'the', 'banks', 'of', 'the', 'Peiho.', '\\xc3\\xab'],\n",
       " [''],\n",
       " ['irinr*', 'Chinese', 'troops', 'had', 'not', 'vet', 'movedoff', 'anAwpt-p'],\n",
       " ['eyorfhsless',\n",
       "  'esa\\xc3\\xaeeS\\xc3\\xae\\xc3\\xae',\n",
       "  '\\xe2\\x80\\x99o^uS^',\n",
       "  '\\xc3\\xaerom^IthiShn?SorSis\\xc3\\xaf^'],\n",
       " ['ra\\xe2\\x80\\x99iAqr\\xe2\\x80\\xa2resultOjfurther',\n",
       "  'urgent',\n",
       "  'representations',\n",
       "  'of',\n",
       "  'the'],\n",
       " ['inailv',\n",
       "  'mSvo\\xc3\\xa05f\\xc3\\xae',\n",
       "  'SoStVa*?',\n",
       "  '*\\xc2\\xb0K?141?*',\n",
       "  'confll?t-',\n",
       "  'Chinese',\n",
       "  'soldiers'],\n",
       " [';s',\n",
       "  'dvinn-do4r',\n",
       "  ',',\n",
       "  'S',\n",
       "  '8After',\n",
       "  '9a.m.',\n",
       "  'noise',\n",
       "  'of',\n",
       "  'fusillades'],\n",
       " [''],\n",
       " ['hat',\n",
       "  'Japanes\\'\\'\"',\n",
       "  'r,?*\\xc2\\xb0:',\n",
       "  'P^dence',\n",
       "  'our',\n",
       "  'General',\n",
       "  'Consulate',\n",
       "  'ordered'],\n",
       " ['ithin',\n",
       "  'the',\n",
       "  'latter',\n",
       "  'stilx',\n",
       "  'outsiae',\n",
       "  'the',\n",
       "  'concession',\n",
       "  'should',\n",
       "  'bebrought'],\n",
       " [''],\n",
       " ['SAMADA.'],\n",
       " ['']]"
      ]
     },
     "execution_count": 25,
     "metadata": {},
     "output_type": "execute_result"
    }
   ],
   "source": [
    "cleaner_lines"
   ]
  },
  {
   "cell_type": "code",
   "execution_count": 26,
   "metadata": {
    "collapsed": true
   },
   "outputs": [],
   "source": [
    "all_words_mvp1 = []\n",
    "\n",
    "for line in cleaner_lines:\n",
    "    for word in line:\n",
    "        all_words_mvp1.append(word)"
   ]
  },
  {
   "cell_type": "code",
   "execution_count": 27,
   "metadata": {
    "collapsed": false
   },
   "outputs": [
    {
     "data": {
      "text/plain": [
       "538"
      ]
     },
     "execution_count": 27,
     "metadata": {},
     "output_type": "execute_result"
    }
   ],
   "source": [
    "len(all_words_mvp1)"
   ]
  },
  {
   "cell_type": "code",
   "execution_count": 29,
   "metadata": {
    "collapsed": true
   },
   "outputs": [],
   "source": [
    "with open('big.txt', 'r') as text_file:\n",
    "    big = text_file.read()"
   ]
  },
  {
   "cell_type": "code",
   "execution_count": 35,
   "metadata": {
    "collapsed": false
   },
   "outputs": [],
   "source": [
    "big_set = set([w for w in big.translate(None, punctuation).translate(None, digits).lower().split()])"
   ]
  },
  {
   "cell_type": "code",
   "execution_count": 36,
   "metadata": {
    "collapsed": true
   },
   "outputs": [],
   "source": [
    "score = 0\n",
    "\n",
    "for word in all_words_mvp1:\n",
    "    if word in big_set:\n",
    "        score += 1"
   ]
  },
  {
   "cell_type": "code",
   "execution_count": 37,
   "metadata": {
    "collapsed": false
   },
   "outputs": [
    {
     "data": {
      "text/plain": [
       "295"
      ]
     },
     "execution_count": 37,
     "metadata": {},
     "output_type": "execute_result"
    }
   ],
   "source": [
    "score"
   ]
  },
  {
   "cell_type": "code",
   "execution_count": 42,
   "metadata": {
    "collapsed": false
   },
   "outputs": [
    {
     "data": {
      "text/plain": [
       "int"
      ]
     },
     "execution_count": 42,
     "metadata": {},
     "output_type": "execute_result"
    }
   ],
   "source": [
    "type(score)"
   ]
  },
  {
   "cell_type": "code",
   "execution_count": 43,
   "metadata": {
    "collapsed": false
   },
   "outputs": [
    {
     "data": {
      "text/plain": [
       "int"
      ]
     },
     "execution_count": 43,
     "metadata": {},
     "output_type": "execute_result"
    }
   ],
   "source": [
    "type(len(all_words_mvp1))"
   ]
  },
  {
   "cell_type": "code",
   "execution_count": 47,
   "metadata": {
    "collapsed": false
   },
   "outputs": [
    {
     "data": {
      "text/plain": [
       "0.5483271375464684"
      ]
     },
     "execution_count": 47,
     "metadata": {},
     "output_type": "execute_result"
    }
   ],
   "source": [
    "(score)/float(len(all_words_mvp1))"
   ]
  },
  {
   "cell_type": "code",
   "execution_count": 57,
   "metadata": {
    "collapsed": false
   },
   "outputs": [
    {
     "data": {
      "text/plain": [
       "0.5483271375464684"
      ]
     },
     "execution_count": 57,
     "metadata": {},
     "output_type": "execute_result"
    }
   ],
   "source": [
    "295/538.0"
   ]
  },
  {
   "cell_type": "code",
   "execution_count": null,
   "metadata": {
    "collapsed": true
   },
   "outputs": [],
   "source": [
    "base_score = 0\n",
    "\n",
    "for line in lines:\n",
    "    for word in line.split():\n",
    "        "
   ]
  },
  {
   "cell_type": "code",
   "execution_count": 49,
   "metadata": {
    "collapsed": false
   },
   "outputs": [],
   "source": [
    "base_score = 0\n",
    "\n",
    "for line in lines:\n",
    "    for word in line.split():\n",
    "        if len(word) == 1:\n",
    "            pass\n",
    "        else:\n",
    "            if word in big_set:\n",
    "                base_score += 1"
   ]
  },
  {
   "cell_type": "code",
   "execution_count": 50,
   "metadata": {
    "collapsed": false
   },
   "outputs": [
    {
     "data": {
      "text/plain": [
       "36"
      ]
     },
     "execution_count": 50,
     "metadata": {},
     "output_type": "execute_result"
    }
   ],
   "source": [
    "base_score"
   ]
  },
  {
   "cell_type": "markdown",
   "metadata": {},
   "source": [
    "## complete and incomplete words in a string"
   ]
  },
  {
   "cell_type": "code",
   "execution_count": 51,
   "metadata": {
    "collapsed": false
   },
   "outputs": [
    {
     "data": {
      "text/plain": [
       "'contrary t o  t h e  p r o v i s i o n s  o f  t h e  C h i n e s e  C r i m i n a l  Code w h ich  d e a l'"
      ]
     },
     "execution_count": 51,
     "metadata": {},
     "output_type": "execute_result"
    }
   ],
   "source": [
    "text"
   ]
  },
  {
   "cell_type": "code",
   "execution_count": 52,
   "metadata": {
    "collapsed": true
   },
   "outputs": [],
   "source": [
    "space2 = text.split('  ')"
   ]
  },
  {
   "cell_type": "code",
   "execution_count": 53,
   "metadata": {
    "collapsed": false
   },
   "outputs": [
    {
     "data": {
      "text/plain": [
       "['contrary t o',\n",
       " 't h e',\n",
       " 'p r o v i s i o n s',\n",
       " 'o f',\n",
       " 't h e',\n",
       " 'C h i n e s e',\n",
       " 'C r i m i n a l',\n",
       " 'Code w h ich',\n",
       " 'd e a l']"
      ]
     },
     "execution_count": 53,
     "metadata": {},
     "output_type": "execute_result"
    }
   ],
   "source": [
    "space2"
   ]
  },
  {
   "cell_type": "code",
   "execution_count": 54,
   "metadata": {
    "collapsed": false
   },
   "outputs": [
    {
     "data": {
      "text/plain": [
       "'contrary t o'"
      ]
     },
     "execution_count": 54,
     "metadata": {},
     "output_type": "execute_result"
    }
   ],
   "source": [
    "space2[0]"
   ]
  },
  {
   "cell_type": "code",
   "execution_count": 55,
   "metadata": {
    "collapsed": true
   },
   "outputs": [],
   "source": [
    "word_fix = space2[0].split()"
   ]
  },
  {
   "cell_type": "code",
   "execution_count": 56,
   "metadata": {
    "collapsed": false
   },
   "outputs": [
    {
     "data": {
      "text/plain": [
       "['contrary', 't', 'o']"
      ]
     },
     "execution_count": 56,
     "metadata": {},
     "output_type": "execute_result"
    }
   ],
   "source": [
    "word_fix"
   ]
  },
  {
   "cell_type": "code",
   "execution_count": null,
   "metadata": {
    "collapsed": true
   },
   "outputs": [],
   "source": [
    "fixed= []\n",
    "\n",
    "for w in len(word_fix)-1:\n",
    "    if word_fix[w] in big_set:\n",
    "        fixed.append(word_fix[w])\n",
    "    else:\n",
    "        x = "
   ]
  },
  {
   "cell_type": "raw",
   "metadata": {},
   "source": [
    "# save cleaner lines as an example to improve\n",
    "import pickle\n",
    "\n",
    "with open('cleaner_lines.pk1', 'w') as picklefile:\n",
    "    pickle.dump(cleaner_lines, picklefile)"
   ]
  },
  {
   "cell_type": "code",
   "execution_count": null,
   "metadata": {
    "collapsed": true
   },
   "outputs": [],
   "source": []
  }
 ],
 "metadata": {
  "kernelspec": {
   "display_name": "Python 2",
   "language": "python",
   "name": "python2"
  },
  "language_info": {
   "codemirror_mode": {
    "name": "ipython",
    "version": 2
   },
   "file_extension": ".py",
   "mimetype": "text/x-python",
   "name": "python",
   "nbconvert_exporter": "python",
   "pygments_lexer": "ipython2",
   "version": "2.7.10"
  }
 },
 "nbformat": 4,
 "nbformat_minor": 0
}
